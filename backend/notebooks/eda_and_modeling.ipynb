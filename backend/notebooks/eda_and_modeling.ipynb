{
 "cells": [
  {
   "cell_type": "code",
   "execution_count": null,
   "metadata": {},
   "outputs": [
    {
     "name": "stdout",
     "output_type": "stream",
     "text": [
      "Requirement already satisfied: prophet in /Users/adharshrajendran/projects/real-estate-forecaster/real-estate/lib/python3.12/site-packages (1.1.6)\n",
      "Collecting nbformat\n",
      "  Obtaining dependency information for nbformat from https://files.pythonhosted.org/packages/a9/82/0340caa499416c78e5d8f5f05947ae4bc3cba53c9f038ab6e9ed964e22f1/nbformat-5.10.4-py3-none-any.whl.metadata\n",
      "  Using cached nbformat-5.10.4-py3-none-any.whl.metadata (3.6 kB)\n",
      "Requirement already satisfied: cmdstanpy>=1.0.4 in /Users/adharshrajendran/projects/real-estate-forecaster/real-estate/lib/python3.12/site-packages (from prophet) (1.2.5)\n",
      "Requirement already satisfied: numpy>=1.15.4 in /Users/adharshrajendran/projects/real-estate-forecaster/real-estate/lib/python3.12/site-packages (from prophet) (2.2.4)\n",
      "Requirement already satisfied: matplotlib>=2.0.0 in /Users/adharshrajendran/projects/real-estate-forecaster/real-estate/lib/python3.12/site-packages (from prophet) (3.10.1)\n",
      "Requirement already satisfied: pandas>=1.0.4 in /Users/adharshrajendran/projects/real-estate-forecaster/real-estate/lib/python3.12/site-packages (from prophet) (2.2.3)\n",
      "Requirement already satisfied: holidays<1,>=0.25 in /Users/adharshrajendran/projects/real-estate-forecaster/real-estate/lib/python3.12/site-packages (from prophet) (0.69)\n",
      "Requirement already satisfied: tqdm>=4.36.1 in /Users/adharshrajendran/projects/real-estate-forecaster/real-estate/lib/python3.12/site-packages (from prophet) (4.67.1)\n",
      "Requirement already satisfied: importlib-resources in /Users/adharshrajendran/projects/real-estate-forecaster/real-estate/lib/python3.12/site-packages (from prophet) (6.5.2)\n",
      "Collecting fastjsonschema>=2.15 (from nbformat)\n",
      "  Obtaining dependency information for fastjsonschema>=2.15 from https://files.pythonhosted.org/packages/90/2b/0817a2b257fe88725c25589d89aec060581aabf668707a8d03b2e9e0cb2a/fastjsonschema-2.21.1-py3-none-any.whl.metadata\n",
      "  Downloading fastjsonschema-2.21.1-py3-none-any.whl.metadata (2.2 kB)\n",
      "Collecting jsonschema>=2.6 (from nbformat)\n",
      "  Obtaining dependency information for jsonschema>=2.6 from https://files.pythonhosted.org/packages/69/4a/4f9dbeb84e8850557c02365a0eee0649abe5eb1d84af92a25731c6c0f922/jsonschema-4.23.0-py3-none-any.whl.metadata\n",
      "  Using cached jsonschema-4.23.0-py3-none-any.whl.metadata (7.9 kB)\n",
      "Requirement already satisfied: jupyter-core!=5.0.*,>=4.12 in /Users/adharshrajendran/projects/real-estate-forecaster/real-estate/lib/python3.12/site-packages (from nbformat) (5.7.2)\n",
      "Requirement already satisfied: traitlets>=5.1 in /Users/adharshrajendran/projects/real-estate-forecaster/real-estate/lib/python3.12/site-packages (from nbformat) (5.14.3)\n",
      "Requirement already satisfied: stanio<2.0.0,>=0.4.0 in /Users/adharshrajendran/projects/real-estate-forecaster/real-estate/lib/python3.12/site-packages (from cmdstanpy>=1.0.4->prophet) (0.5.1)\n",
      "Requirement already satisfied: python-dateutil in /Users/adharshrajendran/projects/real-estate-forecaster/real-estate/lib/python3.12/site-packages (from holidays<1,>=0.25->prophet) (2.9.0.post0)\n",
      "Collecting attrs>=22.2.0 (from jsonschema>=2.6->nbformat)\n",
      "  Obtaining dependency information for attrs>=22.2.0 from https://files.pythonhosted.org/packages/77/06/bb80f5f86020c4551da315d78b3ab75e8228f89f0162f2c3a819e407941a/attrs-25.3.0-py3-none-any.whl.metadata\n",
      "  Downloading attrs-25.3.0-py3-none-any.whl.metadata (10 kB)\n",
      "Collecting jsonschema-specifications>=2023.03.6 (from jsonschema>=2.6->nbformat)\n",
      "  Obtaining dependency information for jsonschema-specifications>=2023.03.6 from https://files.pythonhosted.org/packages/d1/0f/8910b19ac0670a0f80ce1008e5e751c4a57e14d2c4c13a482aa6079fa9d6/jsonschema_specifications-2024.10.1-py3-none-any.whl.metadata\n",
      "  Using cached jsonschema_specifications-2024.10.1-py3-none-any.whl.metadata (3.0 kB)\n",
      "Collecting referencing>=0.28.4 (from jsonschema>=2.6->nbformat)\n",
      "  Obtaining dependency information for referencing>=0.28.4 from https://files.pythonhosted.org/packages/c1/b1/3baf80dc6d2b7bc27a95a67752d0208e410351e3feb4eb78de5f77454d8d/referencing-0.36.2-py3-none-any.whl.metadata\n",
      "  Downloading referencing-0.36.2-py3-none-any.whl.metadata (2.8 kB)\n",
      "Collecting rpds-py>=0.7.1 (from jsonschema>=2.6->nbformat)\n",
      "  Obtaining dependency information for rpds-py>=0.7.1 from https://files.pythonhosted.org/packages/39/1b/a3501574fbf29118164314dbc800d568b8c1c7b3258b505360e8abb3902c/rpds_py-0.24.0-cp312-cp312-macosx_11_0_arm64.whl.metadata\n",
      "  Downloading rpds_py-0.24.0-cp312-cp312-macosx_11_0_arm64.whl.metadata (4.1 kB)\n",
      "Requirement already satisfied: platformdirs>=2.5 in /Users/adharshrajendran/projects/real-estate-forecaster/real-estate/lib/python3.12/site-packages (from jupyter-core!=5.0.*,>=4.12->nbformat) (4.3.7)\n",
      "Requirement already satisfied: contourpy>=1.0.1 in /Users/adharshrajendran/projects/real-estate-forecaster/real-estate/lib/python3.12/site-packages (from matplotlib>=2.0.0->prophet) (1.3.1)\n",
      "Requirement already satisfied: cycler>=0.10 in /Users/adharshrajendran/projects/real-estate-forecaster/real-estate/lib/python3.12/site-packages (from matplotlib>=2.0.0->prophet) (0.12.1)\n",
      "Requirement already satisfied: fonttools>=4.22.0 in /Users/adharshrajendran/projects/real-estate-forecaster/real-estate/lib/python3.12/site-packages (from matplotlib>=2.0.0->prophet) (4.56.0)\n",
      "Requirement already satisfied: kiwisolver>=1.3.1 in /Users/adharshrajendran/projects/real-estate-forecaster/real-estate/lib/python3.12/site-packages (from matplotlib>=2.0.0->prophet) (1.4.8)\n",
      "Requirement already satisfied: packaging>=20.0 in /Users/adharshrajendran/projects/real-estate-forecaster/real-estate/lib/python3.12/site-packages (from matplotlib>=2.0.0->prophet) (24.2)\n",
      "Requirement already satisfied: pillow>=8 in /Users/adharshrajendran/projects/real-estate-forecaster/real-estate/lib/python3.12/site-packages (from matplotlib>=2.0.0->prophet) (11.1.0)\n",
      "Requirement already satisfied: pyparsing>=2.3.1 in /Users/adharshrajendran/projects/real-estate-forecaster/real-estate/lib/python3.12/site-packages (from matplotlib>=2.0.0->prophet) (3.2.3)\n",
      "Requirement already satisfied: pytz>=2020.1 in /Users/adharshrajendran/projects/real-estate-forecaster/real-estate/lib/python3.12/site-packages (from pandas>=1.0.4->prophet) (2025.2)\n",
      "Requirement already satisfied: tzdata>=2022.7 in /Users/adharshrajendran/projects/real-estate-forecaster/real-estate/lib/python3.12/site-packages (from pandas>=1.0.4->prophet) (2025.2)\n",
      "Requirement already satisfied: six>=1.5 in /Users/adharshrajendran/projects/real-estate-forecaster/real-estate/lib/python3.12/site-packages (from python-dateutil->holidays<1,>=0.25->prophet) (1.17.0)\n",
      "Collecting typing-extensions>=4.4.0 (from referencing>=0.28.4->jsonschema>=2.6->nbformat)\n",
      "  Obtaining dependency information for typing-extensions>=4.4.0 from https://files.pythonhosted.org/packages/e0/86/39b65d676ec5732de17b7e3c476e45bb80ec64eb50737a8dce1a4178aba1/typing_extensions-4.13.0-py3-none-any.whl.metadata\n",
      "  Downloading typing_extensions-4.13.0-py3-none-any.whl.metadata (3.0 kB)\n",
      "Using cached nbformat-5.10.4-py3-none-any.whl (78 kB)\n",
      "Downloading fastjsonschema-2.21.1-py3-none-any.whl (23 kB)\n",
      "Using cached jsonschema-4.23.0-py3-none-any.whl (88 kB)\n",
      "Downloading attrs-25.3.0-py3-none-any.whl (63 kB)\n",
      "\u001b[2K   \u001b[38;2;114;156;31m━━━━━━━━━━━━━━━━━━━━━━━━━━━━━━━━━━━━━━━━\u001b[0m \u001b[32m63.8/63.8 kB\u001b[0m \u001b[31m2.0 MB/s\u001b[0m eta \u001b[36m0:00:00\u001b[0m\n",
      "\u001b[?25hUsing cached jsonschema_specifications-2024.10.1-py3-none-any.whl (18 kB)\n",
      "Downloading referencing-0.36.2-py3-none-any.whl (26 kB)\n",
      "Downloading rpds_py-0.24.0-cp312-cp312-macosx_11_0_arm64.whl (351 kB)\n",
      "\u001b[2K   \u001b[38;2;114;156;31m━━━━━━━━━━━━━━━━━━━━━━━━━━━━━━━━━━━━━━━━\u001b[0m \u001b[32m351.9/351.9 kB\u001b[0m \u001b[31m7.3 MB/s\u001b[0m eta \u001b[36m0:00:00\u001b[0m5 MB/s\u001b[0m eta \u001b[36m0:00:01\u001b[0m\n",
      "\u001b[?25hDownloading typing_extensions-4.13.0-py3-none-any.whl (45 kB)\n",
      "\u001b[2K   \u001b[38;2;114;156;31m━━━━━━━━━━━━━━━━━━━━━━━━━━━━━━━━━━━━━━━━\u001b[0m \u001b[32m45.7/45.7 kB\u001b[0m \u001b[31m2.8 MB/s\u001b[0m eta \u001b[36m0:00:00\u001b[0m\n",
      "\u001b[?25hInstalling collected packages: fastjsonschema, typing-extensions, rpds-py, attrs, referencing, jsonschema-specifications, jsonschema, nbformat\n",
      "Successfully installed attrs-25.3.0 fastjsonschema-2.21.1 jsonschema-4.23.0 jsonschema-specifications-2024.10.1 nbformat-5.10.4 referencing-0.36.2 rpds-py-0.24.0 typing-extensions-4.13.0\n",
      "\n",
      "\u001b[1m[\u001b[0m\u001b[34;49mnotice\u001b[0m\u001b[1;39;49m]\u001b[0m\u001b[39;49m A new release of pip is available: \u001b[0m\u001b[31;49m23.2.1\u001b[0m\u001b[39;49m -> \u001b[0m\u001b[32;49m25.0.1\u001b[0m\n",
      "\u001b[1m[\u001b[0m\u001b[34;49mnotice\u001b[0m\u001b[1;39;49m]\u001b[0m\u001b[39;49m To update, run: \u001b[0m\u001b[32;49mpip install --upgrade pip\u001b[0m\n",
      "Note: you may need to restart the kernel to use updated packages.\n"
     ]
    }
   ],
   "source": [
    "pip install prophet nbformat"
   ]
  },
  {
   "cell_type": "code",
   "execution_count": 1,
   "metadata": {},
   "outputs": [],
   "source": [
    "import pandas as pd\n",
    "import matplotlib.pyplot as plt"
   ]
  },
  {
   "cell_type": "markdown",
   "metadata": {},
   "source": [
    "## Data Wrangling"
   ]
  },
  {
   "cell_type": "code",
   "execution_count": 2,
   "metadata": {},
   "outputs": [],
   "source": [
    "df = pd.read_csv(\"../data/Metro_zhvi_uc_sfrcondo_tier_0.33_0.67_sm_sa_month.csv\")"
   ]
  },
  {
   "cell_type": "code",
   "execution_count": 3,
   "metadata": {},
   "outputs": [
    {
     "name": "stdout",
     "output_type": "stream",
     "text": [
      "(895, 307)\n"
     ]
    },
    {
     "data": {
      "text/html": [
       "<div>\n",
       "<style scoped>\n",
       "    .dataframe tbody tr th:only-of-type {\n",
       "        vertical-align: middle;\n",
       "    }\n",
       "\n",
       "    .dataframe tbody tr th {\n",
       "        vertical-align: top;\n",
       "    }\n",
       "\n",
       "    .dataframe thead th {\n",
       "        text-align: right;\n",
       "    }\n",
       "</style>\n",
       "<table border=\"1\" class=\"dataframe\">\n",
       "  <thead>\n",
       "    <tr style=\"text-align: right;\">\n",
       "      <th></th>\n",
       "      <th>RegionID</th>\n",
       "      <th>SizeRank</th>\n",
       "      <th>RegionName</th>\n",
       "      <th>RegionType</th>\n",
       "      <th>StateName</th>\n",
       "      <th>2000-01-31</th>\n",
       "      <th>2000-02-29</th>\n",
       "      <th>2000-03-31</th>\n",
       "      <th>2000-04-30</th>\n",
       "      <th>2000-05-31</th>\n",
       "      <th>...</th>\n",
       "      <th>2024-05-31</th>\n",
       "      <th>2024-06-30</th>\n",
       "      <th>2024-07-31</th>\n",
       "      <th>2024-08-31</th>\n",
       "      <th>2024-09-30</th>\n",
       "      <th>2024-10-31</th>\n",
       "      <th>2024-11-30</th>\n",
       "      <th>2024-12-31</th>\n",
       "      <th>2025-01-31</th>\n",
       "      <th>2025-02-28</th>\n",
       "    </tr>\n",
       "  </thead>\n",
       "  <tbody>\n",
       "    <tr>\n",
       "      <th>0</th>\n",
       "      <td>102001</td>\n",
       "      <td>0</td>\n",
       "      <td>United States</td>\n",
       "      <td>country</td>\n",
       "      <td>NaN</td>\n",
       "      <td>120187.291338</td>\n",
       "      <td>120398.739312</td>\n",
       "      <td>120660.965935</td>\n",
       "      <td>121223.390567</td>\n",
       "      <td>121870.673889</td>\n",
       "      <td>...</td>\n",
       "      <td>352914.638679</td>\n",
       "      <td>353466.996967</td>\n",
       "      <td>353612.598368</td>\n",
       "      <td>353851.962049</td>\n",
       "      <td>354295.143248</td>\n",
       "      <td>354873.991396</td>\n",
       "      <td>355358.916720</td>\n",
       "      <td>356067.058847</td>\n",
       "      <td>356686.351705</td>\n",
       "      <td>357138.132256</td>\n",
       "    </tr>\n",
       "    <tr>\n",
       "      <th>1</th>\n",
       "      <td>394913</td>\n",
       "      <td>1</td>\n",
       "      <td>New York, NY</td>\n",
       "      <td>msa</td>\n",
       "      <td>NY</td>\n",
       "      <td>215997.979545</td>\n",
       "      <td>216915.849088</td>\n",
       "      <td>217842.219756</td>\n",
       "      <td>219719.405192</td>\n",
       "      <td>221663.295718</td>\n",
       "      <td>...</td>\n",
       "      <td>655775.193541</td>\n",
       "      <td>658849.712644</td>\n",
       "      <td>661590.751300</td>\n",
       "      <td>665325.900420</td>\n",
       "      <td>669344.302493</td>\n",
       "      <td>672861.282874</td>\n",
       "      <td>675626.194374</td>\n",
       "      <td>677406.746915</td>\n",
       "      <td>678476.263587</td>\n",
       "      <td>679755.746376</td>\n",
       "    </tr>\n",
       "    <tr>\n",
       "      <th>2</th>\n",
       "      <td>753899</td>\n",
       "      <td>2</td>\n",
       "      <td>Los Angeles, CA</td>\n",
       "      <td>msa</td>\n",
       "      <td>CA</td>\n",
       "      <td>223845.478204</td>\n",
       "      <td>224678.467396</td>\n",
       "      <td>225788.001055</td>\n",
       "      <td>227995.600317</td>\n",
       "      <td>230410.021823</td>\n",
       "      <td>...</td>\n",
       "      <td>939338.772106</td>\n",
       "      <td>943348.163884</td>\n",
       "      <td>947786.830884</td>\n",
       "      <td>953046.620772</td>\n",
       "      <td>959562.454127</td>\n",
       "      <td>964859.346450</td>\n",
       "      <td>969423.172391</td>\n",
       "      <td>973502.535403</td>\n",
       "      <td>974045.970345</td>\n",
       "      <td>971995.753941</td>\n",
       "    </tr>\n",
       "    <tr>\n",
       "      <th>3</th>\n",
       "      <td>394463</td>\n",
       "      <td>3</td>\n",
       "      <td>Chicago, IL</td>\n",
       "      <td>msa</td>\n",
       "      <td>IL</td>\n",
       "      <td>150668.753070</td>\n",
       "      <td>150808.228444</td>\n",
       "      <td>151073.861750</td>\n",
       "      <td>151734.691403</td>\n",
       "      <td>152529.589990</td>\n",
       "      <td>...</td>\n",
       "      <td>314546.393299</td>\n",
       "      <td>315749.091850</td>\n",
       "      <td>316472.773117</td>\n",
       "      <td>317379.333016</td>\n",
       "      <td>318365.905134</td>\n",
       "      <td>319327.319692</td>\n",
       "      <td>320348.475962</td>\n",
       "      <td>321575.006711</td>\n",
       "      <td>322895.868446</td>\n",
       "      <td>324218.209834</td>\n",
       "    </tr>\n",
       "    <tr>\n",
       "      <th>4</th>\n",
       "      <td>394514</td>\n",
       "      <td>4</td>\n",
       "      <td>Dallas, TX</td>\n",
       "      <td>msa</td>\n",
       "      <td>TX</td>\n",
       "      <td>126168.387128</td>\n",
       "      <td>126224.582968</td>\n",
       "      <td>126289.185839</td>\n",
       "      <td>126456.952710</td>\n",
       "      <td>126678.148736</td>\n",
       "      <td>...</td>\n",
       "      <td>375056.853849</td>\n",
       "      <td>374392.029934</td>\n",
       "      <td>373452.807103</td>\n",
       "      <td>372801.133481</td>\n",
       "      <td>372603.234747</td>\n",
       "      <td>372497.321500</td>\n",
       "      <td>372208.925541</td>\n",
       "      <td>371684.816971</td>\n",
       "      <td>371161.901269</td>\n",
       "      <td>370383.507210</td>\n",
       "    </tr>\n",
       "  </tbody>\n",
       "</table>\n",
       "<p>5 rows × 307 columns</p>\n",
       "</div>"
      ],
      "text/plain": [
       "   RegionID  SizeRank       RegionName RegionType StateName     2000-01-31  \\\n",
       "0    102001         0    United States    country       NaN  120187.291338   \n",
       "1    394913         1     New York, NY        msa        NY  215997.979545   \n",
       "2    753899         2  Los Angeles, CA        msa        CA  223845.478204   \n",
       "3    394463         3      Chicago, IL        msa        IL  150668.753070   \n",
       "4    394514         4       Dallas, TX        msa        TX  126168.387128   \n",
       "\n",
       "      2000-02-29     2000-03-31     2000-04-30     2000-05-31  ...  \\\n",
       "0  120398.739312  120660.965935  121223.390567  121870.673889  ...   \n",
       "1  216915.849088  217842.219756  219719.405192  221663.295718  ...   \n",
       "2  224678.467396  225788.001055  227995.600317  230410.021823  ...   \n",
       "3  150808.228444  151073.861750  151734.691403  152529.589990  ...   \n",
       "4  126224.582968  126289.185839  126456.952710  126678.148736  ...   \n",
       "\n",
       "      2024-05-31     2024-06-30     2024-07-31     2024-08-31     2024-09-30  \\\n",
       "0  352914.638679  353466.996967  353612.598368  353851.962049  354295.143248   \n",
       "1  655775.193541  658849.712644  661590.751300  665325.900420  669344.302493   \n",
       "2  939338.772106  943348.163884  947786.830884  953046.620772  959562.454127   \n",
       "3  314546.393299  315749.091850  316472.773117  317379.333016  318365.905134   \n",
       "4  375056.853849  374392.029934  373452.807103  372801.133481  372603.234747   \n",
       "\n",
       "      2024-10-31     2024-11-30     2024-12-31     2025-01-31     2025-02-28  \n",
       "0  354873.991396  355358.916720  356067.058847  356686.351705  357138.132256  \n",
       "1  672861.282874  675626.194374  677406.746915  678476.263587  679755.746376  \n",
       "2  964859.346450  969423.172391  973502.535403  974045.970345  971995.753941  \n",
       "3  319327.319692  320348.475962  321575.006711  322895.868446  324218.209834  \n",
       "4  372497.321500  372208.925541  371684.816971  371161.901269  370383.507210  \n",
       "\n",
       "[5 rows x 307 columns]"
      ]
     },
     "execution_count": 3,
     "metadata": {},
     "output_type": "execute_result"
    }
   ],
   "source": [
    "print(df.shape)\n",
    "df.head()"
   ]
  },
  {
   "cell_type": "code",
   "execution_count": 4,
   "metadata": {},
   "outputs": [],
   "source": [
    "df.columns = df.columns.str.strip().str.lower().str.replace(' ', '_')"
   ]
  },
  {
   "cell_type": "code",
   "execution_count": 5,
   "metadata": {},
   "outputs": [],
   "source": [
    "df_melted = df.melt(\n",
    "    id_vars=['regionid', 'sizerank', 'regionname', 'regiontype', 'statename'],        # keep this column intact\n",
    "    var_name='date',               # name of the new \"column name\" column\n",
    "    value_name='zhvi_price'        # name of the new \"value\" column\n",
    ")"
   ]
  },
  {
   "cell_type": "code",
   "execution_count": 6,
   "metadata": {},
   "outputs": [],
   "source": [
    "df_melted['date'] = pd.to_datetime(df_melted['date'])"
   ]
  },
  {
   "cell_type": "code",
   "execution_count": 7,
   "metadata": {},
   "outputs": [],
   "source": [
    "df_melted['zhvi_price'] = pd.to_numeric(df_melted['zhvi_price'], errors='coerce')"
   ]
  },
  {
   "cell_type": "code",
   "execution_count": 8,
   "metadata": {},
   "outputs": [],
   "source": [
    "df_melted = df_melted.dropna(subset=['zhvi_price', 'regionid', 'sizerank', 'regionname', 'regiontype', 'statename'])"
   ]
  },
  {
   "cell_type": "code",
   "execution_count": 9,
   "metadata": {},
   "outputs": [
    {
     "name": "stdout",
     "output_type": "stream",
     "text": [
      "['New York, NY' 'Los Angeles, CA' 'Chicago, IL' 'Dallas, TX' 'Houston, TX'\n",
      " 'Washington, DC' 'Philadelphia, PA' 'Miami, FL' 'Atlanta, GA'\n",
      " 'Boston, MA' 'Phoenix, AZ' 'San Francisco, CA' 'Riverside, CA'\n",
      " 'Detroit, MI' 'Seattle, WA' 'Minneapolis, MN' 'San Diego, CA' 'Tampa, FL'\n",
      " 'Denver, CO' 'Baltimore, MD' 'St. Louis, MO' 'Orlando, FL'\n",
      " 'Charlotte, NC' 'San Antonio, TX' 'Portland, OR' 'Sacramento, CA'\n",
      " 'Pittsburgh, PA' 'Cincinnati, OH' 'Austin, TX' 'Las Vegas, NV'\n",
      " 'Kansas City, MO' 'Columbus, OH' 'Cleveland, OH' 'San Jose, CA'\n",
      " 'Nashville, TN' 'Virginia Beach, VA' 'Providence, RI' 'Jacksonville, FL'\n",
      " 'Milwaukee, WI' 'Oklahoma City, OK' 'Raleigh, NC' 'Memphis, TN'\n",
      " 'Richmond, VA' 'Louisville, KY' 'New Orleans, LA' 'Salt Lake City, UT'\n",
      " 'Hartford, CT' 'Buffalo, NY' 'Birmingham, AL' 'Rochester, NY'\n",
      " 'Grand Rapids, MI' 'Tucson, AZ' 'Urban Honolulu, HI' 'Tulsa, OK'\n",
      " 'Fresno, CA' 'Worcester, MA' 'Omaha, NE' 'Bridgeport, CT'\n",
      " 'Greenville, SC' 'Bakersfield, CA' 'Albany, NY' 'Knoxville, TN'\n",
      " 'New Haven, CT' 'El Paso, TX' 'Allentown, PA' 'Oxnard, CA' 'Columbia, SC'\n",
      " 'North Port, FL' 'Charleston, SC' 'Greensboro, NC' 'Stockton, CA'\n",
      " 'Cape Coral, FL' 'Colorado Springs, CO' 'Little Rock, AR' 'Lakeland, FL'\n",
      " 'Akron, OH' 'Des Moines, IA' 'Springfield, MA' 'Ogden, UT' 'Madison, WI'\n",
      " 'Winston, NC' 'Deltona, FL' 'Syracuse, NY' 'Toledo, OH' 'Durham, NC'\n",
      " 'Augusta, GA' 'Palm Bay, FL' 'Harrisburg, PA' 'Spokane, WA'\n",
      " 'Scranton, PA' 'Chattanooga, TN' 'Modesto, CA' 'Portland, ME'\n",
      " 'Youngstown, OH' 'Lansing, MI' 'Fayetteville, AR' 'Fayetteville, NC'\n",
      " 'Lexington, KY' 'Pensacola, FL' 'Santa Rosa, CA' 'Reno, NV'\n",
      " 'Port St. Lucie, FL' 'Visalia, CA' 'Asheville, NC' 'York, PA'\n",
      " 'Vallejo, CA' 'Santa Maria, CA' 'Salinas, CA' 'Salem, OR' 'Mobile, AL'\n",
      " 'Reading, PA' 'Manchester, NH' 'Salisbury, MD' 'Flint, MI' 'Canton, OH'\n",
      " 'Savannah, GA' 'Anchorage, AK' 'Trenton, NJ' 'Montgomery, AL'\n",
      " 'Tallahassee, FL' 'Eugene, OR' 'Naples, FL' 'Ann Arbor, MI' 'Hickory, NC'\n",
      " 'Huntington, WV' 'Fort Collins, CO' 'Rockford, IL' 'Lincoln, NE'\n",
      " 'Gainesville, FL' 'Boulder, CO' 'Columbus, GA' 'Greeley, CO'\n",
      " 'Lubbock, TX' 'Clarksville, TN' 'Evansville, IN' 'Kingsport, TN'\n",
      " 'Kennewick, WA' 'Utica, NY' 'Hagerstown, MD' 'Olympia, WA' 'Longview, TX'\n",
      " 'San Luis Obispo, CA' 'Crestview, FL' 'Cedar Rapids, IA'\n",
      " 'Atlantic City, NJ' 'Bremerton, WA' 'Santa Cruz, CA' 'Erie, PA'\n",
      " 'Norwich, CT' 'Tuscaloosa, AL' 'Kalamazoo, MI' 'Lynchburg, VA'\n",
      " 'Charleston, WV' 'Binghamton, NY' 'Fort Smith, AR' 'Topeka, KS'\n",
      " 'Macon, GA' 'Barnstable Town, MA' 'Daphne, AL' 'Burlington, VT'\n",
      " 'Rochester, MN' 'Lafayette, IN' 'Medford, OR' 'Charlottesville, VA'\n",
      " 'Hilton Head Island, SC' 'Athens, GA' 'Lake Havasu City, AZ' 'Monroe, LA'\n",
      " 'Johnson City, TN' 'Gainesville, GA' 'Bend, OR' 'Saginaw, MI'\n",
      " 'Warner Robins, GA' 'Torrington, CT' 'Punta Gorda, FL' 'Redding, CA'\n",
      " 'Kingston, NY' 'Panama City, FL' 'Jackson, TN' 'Bowling Green, KY'\n",
      " 'Muskegon, MI' 'Auburn, AL' 'Bloomington, IL' 'Pueblo, CO'\n",
      " 'Blacksburg, VA' 'Kahului, HI' 'Sebastian, FL' 'Vineland, NJ'\n",
      " 'Idaho Falls, ID' 'Grand Junction, CO' 'Elizabethtown, KY' 'Niles, MI'\n",
      " 'Monroe, MI' 'Concord, NH' 'Alexandria, LA' 'Traverse City, MI'\n",
      " 'Bangor, ME' 'Homosassa Springs, FL' 'London, KY' 'Albany, GA'\n",
      " 'Sioux City, IA' 'Texarkana, TX' 'Valdosta, GA' 'Flagstaff, AZ'\n",
      " 'Rocky Mount, NC' 'Dalton, GA' 'Morristown, TN' 'Winchester, VA'\n",
      " 'Wheeling, WV' 'Morgantown, WV' 'Napa, CA' 'Springfield, OH'\n",
      " 'Battle Creek, MI' 'Jonesboro, AR' 'Pittsfield, MA' 'Mount Vernon, WA'\n",
      " 'Jamestown, NY' 'The Villages, FL' 'Glens Falls, NY' 'Lawton, OK'\n",
      " 'Cleveland, TN' 'Mansfield, OH' 'Augusta, ME' 'Altoona, PA'\n",
      " 'New Bern, NC' 'Owensboro, KY' 'Holland, MI' 'Goldsboro, NC'\n",
      " 'Watertown, NY' 'Beckley, WV' 'Williamsport, PA' 'Brunswick, GA'\n",
      " 'California, MD' 'Cookeville, TN' 'Roseburg, OR' 'Lewiston, ME'\n",
      " 'Ogdensburg, NY' 'Bluefield, WV' 'Show Low, AZ' 'Richmond, KY'\n",
      " 'Tullahoma, TN' 'Ithaca, NY' 'Decatur, IL' 'LaGrange, GA' 'Bay City, MI'\n",
      " 'Gettysburg, PA' 'Danville, VA' 'Lima, OH' 'Salem, OH' 'Hot Springs, AR'\n",
      " 'Adrian, MI' 'Shelby, NC' 'Paducah, KY' 'Rome, GA' 'Sevierville, TN'\n",
      " 'Ashtabula, OH' 'Cumberland, MD' 'Ocean City, NJ' 'Corvallis, OR'\n",
      " 'Corning, NY' 'New Philadelphia, OH' 'Clarksburg, WV' 'Parkersburg, WV'\n",
      " 'Pine Bluff, AR' 'Grants Pass, OR' 'Lufkin, TX' 'Zanesville, OH'\n",
      " 'Meadville, PA' 'Elmira, NY' 'Russellville, AR' 'Midland, MI'\n",
      " 'Bloomsburg, PA' 'Stillwater, OK' 'Manitowoc, WI' 'Hinesville, GA'\n",
      " 'DuBois, PA' 'Warsaw, IN' 'Plattsburgh, NY' 'Glenwood Springs, CO'\n",
      " 'Olean, NY' 'Chillicothe, OH' 'Searcy, AR' 'Auburn, NY' 'Keene, NH'\n",
      " 'Sandusky, OH' 'Findlay, OH' 'Frankfort, KY' 'Danville, IL' 'Kapaa, HI'\n",
      " 'Shawnee, OK' 'Greeneville, TN' 'Greenwood, SC' 'Lake City, FL'\n",
      " 'Klamath Falls, OR' 'Morehead City, NC' 'Roanoke Rapids, NC'\n",
      " 'Muskogee, OK' 'Marquette, MI' 'North Wilkesboro, NC' 'Marinette, WI'\n",
      " 'Dublin, GA' 'Somerset, KY' 'Forest City, NC' 'Martinsville, VA'\n",
      " 'Laconia, NH' 'Sanford, NC' 'Enid, OK' 'Walla Walla, WA' 'Hudson, NY'\n",
      " 'Sturgis, MI' 'Rutland, VT' 'Crossville, TN' 'Marietta, OH' 'Barre, VT'\n",
      " 'Fremont, OH' 'Oneonta, NY' 'Norwalk, OH' 'Batavia, NY' 'Ardmore, OK'\n",
      " 'Carson City, NV' 'Ontario, OR' 'Waycross, GA' 'Edwards, CO' 'Tiffin, OH'\n",
      " 'Batesville, AR' 'Point Pleasant, WV' 'Danville, KY' 'Glasgow, KY'\n",
      " 'St. Marys, GA' 'Boone, NC' 'Gloversville, NY' 'Payson, AZ'\n",
      " 'Bartlesville, OK' 'Greenville, OH' 'Douglas, GA' 'Oil City, PA'\n",
      " 'Newport, OR' 'Shelbyville, TN' 'Amsterdam, NY'\n",
      " 'Gardnerville Ranchos, NV' 'Ruston, LA' 'Sidney, OH' 'Malone, NY'\n",
      " 'Nogales, AZ' 'Tahlequah, OK' 'Montrose, CO' 'Cortland, NY'\n",
      " 'Mount Sterling, KY' 'Bardstown, KY' 'Plymouth, IN' 'Durant, OK'\n",
      " 'Moultrie, GA' 'Thomasville, GA' 'Paragould, AR' 'Madisonville, KY'\n",
      " 'Washington, NC' 'Harrison, AR' 'Coldwater, MI' 'Ponca City, OK'\n",
      " 'Lawrenceburg, TN' 'McAlester, OK' 'Duncan, OK' 'Sedalia, MO'\n",
      " 'Cedartown, GA' 'Henderson, NC' 'Mountain Home, AR' 'Tifton, GA'\n",
      " 'Blytheville, AR' 'McMinnville, TN' 'Austin, MN' 'Okeechobee, FL'\n",
      " 'Houghton, MI' 'Clewiston, FL' 'Selma, AL' 'Urbana, OH' 'Cambridge, OH'\n",
      " 'Defiance, OH' 'Safford, AZ' 'Ada, OK' 'Easton, MD' 'Murray, KY'\n",
      " 'Bennington, VT' 'Dyersburg, TN' 'Pontiac, IL' 'Newport, TN'\n",
      " 'Vidalia, GA' 'Laurinburg, NC' 'Americus, GA' 'Columbus, NE'\n",
      " 'Arcadia, FL' 'Lewisburg, TN' 'Seneca Falls, NY' 'Malvern, AR'\n",
      " 'Martin, TN' 'Dayton, TN' 'Jackson, OH' 'Cambridge, MD' 'Paris, TN'\n",
      " 'Berlin, NH' 'Union City, TN' 'Miami, OK' 'Jesup, GA' 'Ludington, MI'\n",
      " 'Bainbridge, GA' 'Alpena, MI' 'Washington Court House, OH' 'Van Wert, OH'\n",
      " 'Weatherford, OK' 'Macomb, IL' 'Camden, AR' 'Thomaston, GA' 'Toccoa, GA'\n",
      " 'Wauchula, FL' 'Altus, OK' 'Steamboat Springs, CO' 'Summerville, GA'\n",
      " 'Woodward, OK' 'Prineville, OR' 'Hood River, OR' 'Forrest City, AR'\n",
      " 'Brookings, OR' 'Magnolia, AR' 'Elk City, OK' 'Sterling, CO'\n",
      " 'Arkadelphia, AR' 'Storm Lake, IA' 'Cordele, GA' 'Vineyard Haven, MA'\n",
      " 'Fitzgerald, GA' 'Craig, CO' 'Jefferson, GA' 'Frankfort, IN'\n",
      " 'Cullman, AL' 'Kill Devil Hills, NC' 'Provo, UT' 'Yakima, WA'\n",
      " 'Poplar Bluff, MO' 'Whitewater, WI' 'Huntsville, AL' 'Champaign, IL'\n",
      " 'Talladega, AL' 'Faribault, MN' 'Red Wing, MN' 'Bellingham, WA'\n",
      " 'Boise City, ID' 'Brownsville, TX' 'Merced, CA' 'Chico, CA'\n",
      " 'El Centro, CA' 'Hanford, CA' 'Eureka, CA' 'Truckee, CA'\n",
      " 'Bellefontaine, OH' 'North Vernon, IN' 'Chambersburg, PA' 'Columbus, IN'\n",
      " 'Wenatchee, WA' 'Green Bay, WI' 'Myrtle Beach, SC' 'Dothan, AL'\n",
      " 'Marion, IN' 'Baton Rouge, LA' 'Wichita, KS' 'Peoria, IL'\n",
      " 'Las Cruces, NM' 'Yuma, AZ' 'Cheyenne, WY' 'Santa Fe, NM' 'La Crosse, WI'\n",
      " 'Gadsden, AL' 'Albuquerque, NM' 'Lancaster, PA' 'Jackson, MI'\n",
      " 'Madera, CA' 'Ukiah, CA' 'El Dorado, AR' 'Spartanburg, SC' 'Ozark, AL'\n",
      " 'Jackson, MS' 'Wilmington, NC' 'Breckenridge, CO' 'Indianapolis, IN'\n",
      " 'Wilmington, OH' 'Mankato, MN' 'Norfolk, NE' 'Mayfield, KY'\n",
      " 'Hastings, NE' 'Fort Wayne, IN' 'Bloomington, IN' 'Lafayette, LA'\n",
      " 'Astoria, OR' 'St. Joseph, MO' 'Alexandria, MN' 'Ocala, FL'\n",
      " 'Yuba City, CA' 'Sebring, FL' 'Palatka, FL' 'Orangeburg, SC'\n",
      " 'Rockingham, NC' 'Mexico, MO' 'Grand Island, NE' 'Davenport, IA'\n",
      " 'Fairmont, WV' 'Hutchinson, MN' 'Duluth, MN' 'Lawrence, KS'\n",
      " 'Corpus Christi, TX' 'Roanoke, VA' 'Johnstown, PA' 'Beaumont, TX'\n",
      " 'Elkhart, IN' 'Logan, UT' 'Missoula, MT' 'Fairbanks, AK'\n",
      " 'Jacksonville, IL' 'Juneau, AK' 'Shreveport, LA' 'Lebanon, PA'\n",
      " 'Appleton, WI' 'Twin Falls, ID' 'Ketchikan, AK' 'St. Cloud, MN'\n",
      " 'Ottawa, KS' 'East Stroudsburg, PA' 'State College, PA' 'Columbia, MO'\n",
      " 'Jacksonville, NC' 'Watertown, WI' 'Florence, SC' 'Willmar, MN'\n",
      " 'New Castle, PA' 'Kerrville, TX' 'Freeport, IL' 'Dixon, IL' 'Pullman, WA'\n",
      " 'Mountain Home, ID' 'Beatrice, NE' 'Springfield, IL' 'Oak Harbor, WA'\n",
      " 'Decatur, AL' 'Beaver Dam, WI' 'Sioux Falls, SD' 'Kearney, NE'\n",
      " 'Kinston, NC' 'McAllen, TX' 'Clearlake, CA' 'North Platte, NE'\n",
      " 'Susanville, CA' 'Crescent City, CA' 'Fernley, NV' 'Waterloo, IA'\n",
      " 'Jasper, IN' 'Natchez, MS' 'Great Falls, MT' \"Coeur d'Alene, ID\"\n",
      " 'Springfield, MO' 'South Bend, IN' 'Hammond, LA' 'Shelton, WA'\n",
      " 'Port Angeles, WA' 'Big Rapids, MI' 'Albany, OR' 'Coos Bay, OR'\n",
      " 'Elizabeth City, NC' 'Greenville, NC' 'Sierra Vista, AZ' 'Hillsdale, MI'\n",
      " 'Joplin, MO' 'Sheboygan, WI' 'Pinehurst, NC' 'Lexington, NE'\n",
      " 'Jefferson City, MO' 'Carbondale, IL' 'Brainerd, MN' 'Rapid City, SD'\n",
      " 'Weirton, WV' 'Sumter, SC' 'Cadillac, MI' 'Racine, WI' 'Centralia, WA'\n",
      " 'Seymour, IN' 'Killeen, TX' 'Angola, IN' 'Fond du Lac, WI' 'Cornelia, GA'\n",
      " 'St. George, UT' 'Manhattan, KS' 'Statesboro, GA' 'Calhoun, GA'\n",
      " 'Milledgeville, GA' 'Waco, TX' 'Amarillo, TX' 'Laredo, TX'\n",
      " 'College Station, TX' 'Fargo, ND' 'Tyler, TX' 'Houma, LA'\n",
      " 'Terre Haute, IN' 'Billings, MT' 'Abilene, TX' 'Iowa City, IA'\n",
      " 'Midland, TX' 'Oshkosh, WI' 'Eau Claire, WI' 'Wausau, WI' 'Odessa, TX'\n",
      " 'Wichita Falls, TX' 'Pottsville, PA' 'Bismarck, ND' 'Bozeman, MT'\n",
      " 'Longview, WA' 'Kankakee, IL' 'Moses Lake, WA' 'Albertville, AL'\n",
      " 'Pocatello, ID' 'Sunbury, PA' 'Hermiston, OR' 'Kokomo, IN'\n",
      " 'Opelousas, LA' 'Athens, TX' 'Wilson, NC' 'Quincy, IL' 'Aberdeen, WA'\n",
      " 'Somerset, PA' 'Wisconsin Rapids, WI' 'Mount Airy, NC' 'Baraboo, WI'\n",
      " 'Roswell, NM' 'Sayre, PA' 'Cullowhee, NC' 'Gaffney, SC' 'Sterling, IL'\n",
      " 'Cedar City, UT' 'Durango, CO' 'Elko, NV' 'Warrensburg, MO'\n",
      " 'Rochelle, IL' 'Galesburg, IL' 'Pahrump, NV' 'Menomonie, WI'\n",
      " 'Ellensburg, WA' 'Muscatine, IA' 'Auburn, IN' 'Owatonna, MN'\n",
      " 'Fremont, NE' 'Taylorville, IL' 'Muncie, IN' 'Michigan City, IN'\n",
      " 'Dubuque, IA' 'Cape Girardeau, MO' 'Indiana, PA' 'Helena, MT'\n",
      " 'Huntsville, TX' 'Heber, UT' 'Richmond, IN' 'Marion, OH'\n",
      " 'Nacogdoches, TX' 'Athens, OH' 'Mount Vernon, OH' 'Gillette, WY'\n",
      " 'Fort Madison, IA' 'Eagle Pass, TX' 'Branson, MO' 'Mason City, IA'\n",
      " 'New Castle, IN' 'Del Rio, TX' 'Sandpoint, ID' 'Bemidji, MN'\n",
      " 'Burlington, IA' 'Shawano, WI' 'Aberdeen, SD' 'Stephenville, TX'\n",
      " 'Marshalltown, IA' 'West Plains, MO' 'Pittsburg, KS' 'Brownwood, TX'\n",
      " 'Lock Haven, PA' 'Mount Vernon, IL' 'Sault Ste. Marie, MI'\n",
      " 'Huntington, IN' 'Lebanon, MO' 'Effingham, IL' 'Plainview, TX'\n",
      " 'The Dalles, OR' 'Fallon, NV' 'Hailey, ID' 'Spencer, IA' 'Ames, IA'\n",
      " 'Minot, ND' 'Lewiston, ID' 'Palestine, TX' 'Charleston, IL' 'Ashland, OH'\n",
      " 'Platteville, WI' 'Corsicana, TX' 'Jacksonville, TX' 'Paris, TX'\n",
      " 'Alice, TX' 'Clinton, IA' 'Wapakoneta, OH' 'Huntingdon, PA'\n",
      " 'Garden City, KS' 'Celina, OH' 'Gainesville, TX' 'Bradford, PA'\n",
      " 'McComb, MS' 'Big Stone Gap, VA' 'Crawfordsville, IN' 'Scottsbluff, NE'\n",
      " 'Laramie, WY' 'Campbellsville, KY' 'Coshocton, OH' 'Peru, IN'\n",
      " 'Vernal, UT' 'Ottumwa, IA' 'Brevard, NC' 'Kingsville, TX'\n",
      " 'Mineral Wells, TX' 'Oskaloosa, IA' 'Levelland, TX' 'Borger, TX'\n",
      " 'Pierre, SD' 'Evanston, WY' 'Othello, WA' 'Los Alamos, NM'\n",
      " 'Spirit Lake, IA' 'Snyder, TX' 'Starkville, MS' 'Burley, ID' 'Moscow, ID'\n",
      " 'Williston, ND' 'Bay City, TX' 'Decatur, IN' 'Brenham, TX' 'Wabash, IN'\n",
      " 'Kennett, MO' 'Fredericksburg, TX' 'La Grande, OR' 'Yankton, SD'\n",
      " 'Kalispell, MT' 'Rio Grande City, TX' 'Mount Pleasant, TX' 'El Campo, TX'\n",
      " 'Jackson, WY' 'Port Lavaca, TX' 'Andrews, TX' 'Fairfield, IA'\n",
      " 'Sweetwater, TX' 'Staunton, VA' 'Oxford, MS' 'Hannibal, MO' 'Uvalde, TX'\n",
      " 'Vernon, TX' 'Dover, DE' 'Rexburg, ID' 'Dickinson, ND'\n",
      " 'Middlesborough, KY' 'Wahpeton, ND' 'Pampa, TX' 'Newberry, SC'\n",
      " 'Portales, NM' 'Harrisonburg, VA' 'Zapata, TX' 'Farmington, NM'\n",
      " 'Fort Leonard Wood, MO' 'Riverton, WY' 'Scottsboro, AL' 'Florence, AL'\n",
      " 'Portsmouth, OH' 'Bogalusa, LA' 'Stevens Point, WI' 'Emporia, KS'\n",
      " 'Coffeyville, KS' 'Bedford, IN' 'Connersville, IN' 'Maysville, KY'\n",
      " 'Gulfport, MS' 'Hutchinson, KS' 'Casper, WY' 'Seneca, SC' 'Alma, MI'\n",
      " 'Selinsgrove, PA' 'Iron Mountain, MI' 'Anniston, AL'\n",
      " 'Fort Polk South, LA' 'Marshall, MN' 'Winona, MN' 'Farmington, MO'\n",
      " 'Bucyrus, OH' 'Lamesa, TX' 'Escanaba, MI' 'Athens, TN' 'Hattiesburg, MS'\n",
      " 'Janesville, WI' 'Tupelo, MS' 'Sherman, TX' 'Meridian, MS' 'Laurel, MS'\n",
      " 'Gallup, NM' 'Mount Pleasant, MI' 'Red Bluff, CA' 'Salina, KS'\n",
      " 'Fergus Falls, MN' 'Columbus, MS' 'Picayune, MS' 'Kendallville, IN'\n",
      " 'Vicksburg, MS' 'Lewisburg, PA' 'Rock Springs, WY' 'Espa-¦ola, NM'\n",
      " 'Logansport, IN' 'Vincennes, IN' 'Butte, MT' 'Corinth, MS'\n",
      " 'Big Spring, TX' 'Taos, NM' 'Brookings, SD' 'Washington, IN'\n",
      " 'Madison, IN' 'Las Vegas, NM' 'Beeville, TX' 'Albert Lea, MN'\n",
      " 'Sheridan, WY' 'Kirksville, MO' 'Fort Morgan, CO' 'Greensburg, IN'\n",
      " 'New Ulm, MN' 'Deming, NM' 'Moberly, MO' 'Marshall, MO' 'Maryville, MO'\n",
      " 'Dumas, TX' 'Hereford, TX' 'Atchison, KS' 'DeRidder, LA' 'Greenwood, MS'\n",
      " 'Georgetown, SC' 'Spearfish, SD' 'Enterprise, AL' 'Silver City, NM'\n",
      " 'Raymondville, TX' 'Lewistown, PA' 'Hobbs, NM' 'Grand Forks, ND'\n",
      " 'Helena, AR' 'Brookhaven, MS' 'Blackfoot, ID' 'Worthington, MN'\n",
      " 'McPherson, KS' 'Lincoln, IL' 'Bennettsville, SC' 'Mitchell, SD'\n",
      " 'Natchitoches, LA' 'San Angelo, TX' 'Hilo, HI' 'Winnemucca, NV'\n",
      " 'Morgan City, LA' 'Watertown, SD' 'Marion, NC' 'Jamestown, ND'\n",
      " 'Lake Charles, LA' 'Burlington, NC' 'Lumberton, NC' 'Victoria, TX'\n",
      " 'Key West, FL' 'Alamogordo, NM' 'Albemarle, NC' 'Carlsbad, NM'\n",
      " 'Sonora, CA' 'Ca-¦on City, CO' 'Clovis, NM' 'Rolla, MO' 'Warren, PA'\n",
      " 'Sikeston, MO' 'Centralia, IL' 'Sulphur Springs, TX' 'Dodge City, KS'\n",
      " 'Troy, AL' 'Cleveland, MS' 'Hays, KS' 'Elkins, WV' 'Grants, NM'\n",
      " 'Indianola, MS' 'Great Bend, KS' 'Liberal, KS' 'Clarksdale, MS'\n",
      " 'Grenada, MS' 'Guymon, OK' 'Huron, SD' 'Parsons, KS' 'Price, UT'\n",
      " 'Vermillion, SD' 'Pecos, TX' 'Greenville, MS']\n"
     ]
    }
   ],
   "source": [
    "unique_cities = df_melted['regionname'].unique()\n",
    "print(unique_cities)"
   ]
  },
  {
   "cell_type": "code",
   "execution_count": 10,
   "metadata": {},
   "outputs": [],
   "source": [
    "df_melted[[\"city\", \"state\"]] = df_melted[\"regionname\"].str.split(\",\", expand=True).apply(lambda x: x.str.strip())"
   ]
  },
  {
   "cell_type": "code",
   "execution_count": 11,
   "metadata": {},
   "outputs": [],
   "source": [
    "locations = df_melted.groupby(\"state\")[\"city\"].apply(lambda x: sorted(x.unique())).to_dict()"
   ]
  },
  {
   "cell_type": "code",
   "execution_count": 12,
   "metadata": {},
   "outputs": [
    {
     "data": {
      "text/html": [
       "<div>\n",
       "<style scoped>\n",
       "    .dataframe tbody tr th:only-of-type {\n",
       "        vertical-align: middle;\n",
       "    }\n",
       "\n",
       "    .dataframe tbody tr th {\n",
       "        vertical-align: top;\n",
       "    }\n",
       "\n",
       "    .dataframe thead th {\n",
       "        text-align: right;\n",
       "    }\n",
       "</style>\n",
       "<table border=\"1\" class=\"dataframe\">\n",
       "  <thead>\n",
       "    <tr style=\"text-align: right;\">\n",
       "      <th></th>\n",
       "      <th>regionid</th>\n",
       "      <th>sizerank</th>\n",
       "      <th>regionname</th>\n",
       "      <th>regiontype</th>\n",
       "      <th>statename</th>\n",
       "      <th>date</th>\n",
       "      <th>zhvi_price</th>\n",
       "      <th>city</th>\n",
       "      <th>state</th>\n",
       "    </tr>\n",
       "  </thead>\n",
       "  <tbody>\n",
       "    <tr>\n",
       "      <th>1</th>\n",
       "      <td>394913</td>\n",
       "      <td>1</td>\n",
       "      <td>New York, NY</td>\n",
       "      <td>msa</td>\n",
       "      <td>NY</td>\n",
       "      <td>2000-01-31</td>\n",
       "      <td>215997.979545</td>\n",
       "      <td>New York</td>\n",
       "      <td>NY</td>\n",
       "    </tr>\n",
       "    <tr>\n",
       "      <th>2</th>\n",
       "      <td>753899</td>\n",
       "      <td>2</td>\n",
       "      <td>Los Angeles, CA</td>\n",
       "      <td>msa</td>\n",
       "      <td>CA</td>\n",
       "      <td>2000-01-31</td>\n",
       "      <td>223845.478204</td>\n",
       "      <td>Los Angeles</td>\n",
       "      <td>CA</td>\n",
       "    </tr>\n",
       "    <tr>\n",
       "      <th>3</th>\n",
       "      <td>394463</td>\n",
       "      <td>3</td>\n",
       "      <td>Chicago, IL</td>\n",
       "      <td>msa</td>\n",
       "      <td>IL</td>\n",
       "      <td>2000-01-31</td>\n",
       "      <td>150668.753070</td>\n",
       "      <td>Chicago</td>\n",
       "      <td>IL</td>\n",
       "    </tr>\n",
       "    <tr>\n",
       "      <th>4</th>\n",
       "      <td>394514</td>\n",
       "      <td>4</td>\n",
       "      <td>Dallas, TX</td>\n",
       "      <td>msa</td>\n",
       "      <td>TX</td>\n",
       "      <td>2000-01-31</td>\n",
       "      <td>126168.387128</td>\n",
       "      <td>Dallas</td>\n",
       "      <td>TX</td>\n",
       "    </tr>\n",
       "    <tr>\n",
       "      <th>5</th>\n",
       "      <td>394692</td>\n",
       "      <td>5</td>\n",
       "      <td>Houston, TX</td>\n",
       "      <td>msa</td>\n",
       "      <td>TX</td>\n",
       "      <td>2000-01-31</td>\n",
       "      <td>121804.562749</td>\n",
       "      <td>Houston</td>\n",
       "      <td>TX</td>\n",
       "    </tr>\n",
       "    <tr>\n",
       "      <th>...</th>\n",
       "      <td>...</td>\n",
       "      <td>...</td>\n",
       "      <td>...</td>\n",
       "      <td>...</td>\n",
       "      <td>...</td>\n",
       "      <td>...</td>\n",
       "      <td>...</td>\n",
       "      <td>...</td>\n",
       "      <td>...</td>\n",
       "    </tr>\n",
       "    <tr>\n",
       "      <th>270285</th>\n",
       "      <td>753929</td>\n",
       "      <td>935</td>\n",
       "      <td>Zapata, TX</td>\n",
       "      <td>msa</td>\n",
       "      <td>TX</td>\n",
       "      <td>2025-02-28</td>\n",
       "      <td>128708.596263</td>\n",
       "      <td>Zapata</td>\n",
       "      <td>TX</td>\n",
       "    </tr>\n",
       "    <tr>\n",
       "      <th>270286</th>\n",
       "      <td>394743</td>\n",
       "      <td>936</td>\n",
       "      <td>Ketchikan, AK</td>\n",
       "      <td>msa</td>\n",
       "      <td>AK</td>\n",
       "      <td>2025-02-28</td>\n",
       "      <td>386337.628339</td>\n",
       "      <td>Ketchikan</td>\n",
       "      <td>AK</td>\n",
       "    </tr>\n",
       "    <tr>\n",
       "      <th>270287</th>\n",
       "      <td>753874</td>\n",
       "      <td>937</td>\n",
       "      <td>Craig, CO</td>\n",
       "      <td>msa</td>\n",
       "      <td>CO</td>\n",
       "      <td>2025-02-28</td>\n",
       "      <td>283361.480437</td>\n",
       "      <td>Craig</td>\n",
       "      <td>CO</td>\n",
       "    </tr>\n",
       "    <tr>\n",
       "      <th>270288</th>\n",
       "      <td>395188</td>\n",
       "      <td>938</td>\n",
       "      <td>Vernon, TX</td>\n",
       "      <td>msa</td>\n",
       "      <td>TX</td>\n",
       "      <td>2025-02-28</td>\n",
       "      <td>81560.597125</td>\n",
       "      <td>Vernon</td>\n",
       "      <td>TX</td>\n",
       "    </tr>\n",
       "    <tr>\n",
       "      <th>270289</th>\n",
       "      <td>394767</td>\n",
       "      <td>939</td>\n",
       "      <td>Lamesa, TX</td>\n",
       "      <td>msa</td>\n",
       "      <td>TX</td>\n",
       "      <td>2025-02-28</td>\n",
       "      <td>94232.871852</td>\n",
       "      <td>Lamesa</td>\n",
       "      <td>TX</td>\n",
       "    </tr>\n",
       "  </tbody>\n",
       "</table>\n",
       "<p>220722 rows × 9 columns</p>\n",
       "</div>"
      ],
      "text/plain": [
       "        regionid  sizerank       regionname regiontype statename       date  \\\n",
       "1         394913         1     New York, NY        msa        NY 2000-01-31   \n",
       "2         753899         2  Los Angeles, CA        msa        CA 2000-01-31   \n",
       "3         394463         3      Chicago, IL        msa        IL 2000-01-31   \n",
       "4         394514         4       Dallas, TX        msa        TX 2000-01-31   \n",
       "5         394692         5      Houston, TX        msa        TX 2000-01-31   \n",
       "...          ...       ...              ...        ...       ...        ...   \n",
       "270285    753929       935       Zapata, TX        msa        TX 2025-02-28   \n",
       "270286    394743       936    Ketchikan, AK        msa        AK 2025-02-28   \n",
       "270287    753874       937        Craig, CO        msa        CO 2025-02-28   \n",
       "270288    395188       938       Vernon, TX        msa        TX 2025-02-28   \n",
       "270289    394767       939       Lamesa, TX        msa        TX 2025-02-28   \n",
       "\n",
       "           zhvi_price         city state  \n",
       "1       215997.979545     New York    NY  \n",
       "2       223845.478204  Los Angeles    CA  \n",
       "3       150668.753070      Chicago    IL  \n",
       "4       126168.387128       Dallas    TX  \n",
       "5       121804.562749      Houston    TX  \n",
       "...               ...          ...   ...  \n",
       "270285  128708.596263       Zapata    TX  \n",
       "270286  386337.628339    Ketchikan    AK  \n",
       "270287  283361.480437        Craig    CO  \n",
       "270288   81560.597125       Vernon    TX  \n",
       "270289   94232.871852       Lamesa    TX  \n",
       "\n",
       "[220722 rows x 9 columns]"
      ]
     },
     "execution_count": 12,
     "metadata": {},
     "output_type": "execute_result"
    }
   ],
   "source": [
    "df_melted"
   ]
  },
  {
   "cell_type": "markdown",
   "metadata": {},
   "source": [
    "## Visualization"
   ]
  },
  {
   "cell_type": "code",
   "execution_count": 14,
   "metadata": {},
   "outputs": [],
   "source": [
    "cities_to_plot = ['Portland, OR' , 'Seattle, WA', 'Dallas, TX' ]"
   ]
  },
  {
   "cell_type": "code",
   "execution_count": 15,
   "metadata": {},
   "outputs": [
    {
     "data": {
      "text/html": [
       "<div>\n",
       "<style scoped>\n",
       "    .dataframe tbody tr th:only-of-type {\n",
       "        vertical-align: middle;\n",
       "    }\n",
       "\n",
       "    .dataframe tbody tr th {\n",
       "        vertical-align: top;\n",
       "    }\n",
       "\n",
       "    .dataframe thead th {\n",
       "        text-align: right;\n",
       "    }\n",
       "</style>\n",
       "<table border=\"1\" class=\"dataframe\">\n",
       "  <thead>\n",
       "    <tr style=\"text-align: right;\">\n",
       "      <th></th>\n",
       "      <th>regionid</th>\n",
       "      <th>sizerank</th>\n",
       "      <th>regionname</th>\n",
       "      <th>regiontype</th>\n",
       "      <th>statename</th>\n",
       "      <th>date</th>\n",
       "      <th>zhvi_price</th>\n",
       "      <th>city</th>\n",
       "      <th>state</th>\n",
       "    </tr>\n",
       "  </thead>\n",
       "  <tbody>\n",
       "    <tr>\n",
       "      <th>4</th>\n",
       "      <td>394514</td>\n",
       "      <td>4</td>\n",
       "      <td>Dallas, TX</td>\n",
       "      <td>msa</td>\n",
       "      <td>TX</td>\n",
       "      <td>2000-01-31</td>\n",
       "      <td>126168.387128</td>\n",
       "      <td>Dallas</td>\n",
       "      <td>TX</td>\n",
       "    </tr>\n",
       "    <tr>\n",
       "      <th>15</th>\n",
       "      <td>395078</td>\n",
       "      <td>15</td>\n",
       "      <td>Seattle, WA</td>\n",
       "      <td>msa</td>\n",
       "      <td>WA</td>\n",
       "      <td>2000-01-31</td>\n",
       "      <td>219843.553594</td>\n",
       "      <td>Seattle</td>\n",
       "      <td>WA</td>\n",
       "    </tr>\n",
       "    <tr>\n",
       "      <th>25</th>\n",
       "      <td>394998</td>\n",
       "      <td>25</td>\n",
       "      <td>Portland, OR</td>\n",
       "      <td>msa</td>\n",
       "      <td>OR</td>\n",
       "      <td>2000-01-31</td>\n",
       "      <td>172050.077644</td>\n",
       "      <td>Portland</td>\n",
       "      <td>OR</td>\n",
       "    </tr>\n",
       "    <tr>\n",
       "      <th>899</th>\n",
       "      <td>394514</td>\n",
       "      <td>4</td>\n",
       "      <td>Dallas, TX</td>\n",
       "      <td>msa</td>\n",
       "      <td>TX</td>\n",
       "      <td>2000-02-29</td>\n",
       "      <td>126224.582968</td>\n",
       "      <td>Dallas</td>\n",
       "      <td>TX</td>\n",
       "    </tr>\n",
       "    <tr>\n",
       "      <th>910</th>\n",
       "      <td>395078</td>\n",
       "      <td>15</td>\n",
       "      <td>Seattle, WA</td>\n",
       "      <td>msa</td>\n",
       "      <td>WA</td>\n",
       "      <td>2000-02-29</td>\n",
       "      <td>220544.278351</td>\n",
       "      <td>Seattle</td>\n",
       "      <td>WA</td>\n",
       "    </tr>\n",
       "    <tr>\n",
       "      <th>...</th>\n",
       "      <td>...</td>\n",
       "      <td>...</td>\n",
       "      <td>...</td>\n",
       "      <td>...</td>\n",
       "      <td>...</td>\n",
       "      <td>...</td>\n",
       "      <td>...</td>\n",
       "      <td>...</td>\n",
       "      <td>...</td>\n",
       "    </tr>\n",
       "    <tr>\n",
       "      <th>268515</th>\n",
       "      <td>395078</td>\n",
       "      <td>15</td>\n",
       "      <td>Seattle, WA</td>\n",
       "      <td>msa</td>\n",
       "      <td>WA</td>\n",
       "      <td>2025-01-31</td>\n",
       "      <td>750148.870682</td>\n",
       "      <td>Seattle</td>\n",
       "      <td>WA</td>\n",
       "    </tr>\n",
       "    <tr>\n",
       "      <th>268525</th>\n",
       "      <td>394998</td>\n",
       "      <td>25</td>\n",
       "      <td>Portland, OR</td>\n",
       "      <td>msa</td>\n",
       "      <td>OR</td>\n",
       "      <td>2025-01-31</td>\n",
       "      <td>548618.062109</td>\n",
       "      <td>Portland</td>\n",
       "      <td>OR</td>\n",
       "    </tr>\n",
       "    <tr>\n",
       "      <th>269399</th>\n",
       "      <td>394514</td>\n",
       "      <td>4</td>\n",
       "      <td>Dallas, TX</td>\n",
       "      <td>msa</td>\n",
       "      <td>TX</td>\n",
       "      <td>2025-02-28</td>\n",
       "      <td>370383.507210</td>\n",
       "      <td>Dallas</td>\n",
       "      <td>TX</td>\n",
       "    </tr>\n",
       "    <tr>\n",
       "      <th>269410</th>\n",
       "      <td>395078</td>\n",
       "      <td>15</td>\n",
       "      <td>Seattle, WA</td>\n",
       "      <td>msa</td>\n",
       "      <td>WA</td>\n",
       "      <td>2025-02-28</td>\n",
       "      <td>751241.204396</td>\n",
       "      <td>Seattle</td>\n",
       "      <td>WA</td>\n",
       "    </tr>\n",
       "    <tr>\n",
       "      <th>269420</th>\n",
       "      <td>394998</td>\n",
       "      <td>25</td>\n",
       "      <td>Portland, OR</td>\n",
       "      <td>msa</td>\n",
       "      <td>OR</td>\n",
       "      <td>2025-02-28</td>\n",
       "      <td>548695.172798</td>\n",
       "      <td>Portland</td>\n",
       "      <td>OR</td>\n",
       "    </tr>\n",
       "  </tbody>\n",
       "</table>\n",
       "<p>905 rows × 9 columns</p>\n",
       "</div>"
      ],
      "text/plain": [
       "        regionid  sizerank    regionname regiontype statename       date  \\\n",
       "4         394514         4    Dallas, TX        msa        TX 2000-01-31   \n",
       "15        395078        15   Seattle, WA        msa        WA 2000-01-31   \n",
       "25        394998        25  Portland, OR        msa        OR 2000-01-31   \n",
       "899       394514         4    Dallas, TX        msa        TX 2000-02-29   \n",
       "910       395078        15   Seattle, WA        msa        WA 2000-02-29   \n",
       "...          ...       ...           ...        ...       ...        ...   \n",
       "268515    395078        15   Seattle, WA        msa        WA 2025-01-31   \n",
       "268525    394998        25  Portland, OR        msa        OR 2025-01-31   \n",
       "269399    394514         4    Dallas, TX        msa        TX 2025-02-28   \n",
       "269410    395078        15   Seattle, WA        msa        WA 2025-02-28   \n",
       "269420    394998        25  Portland, OR        msa        OR 2025-02-28   \n",
       "\n",
       "           zhvi_price      city state  \n",
       "4       126168.387128    Dallas    TX  \n",
       "15      219843.553594   Seattle    WA  \n",
       "25      172050.077644  Portland    OR  \n",
       "899     126224.582968    Dallas    TX  \n",
       "910     220544.278351   Seattle    WA  \n",
       "...               ...       ...   ...  \n",
       "268515  750148.870682   Seattle    WA  \n",
       "268525  548618.062109  Portland    OR  \n",
       "269399  370383.507210    Dallas    TX  \n",
       "269410  751241.204396   Seattle    WA  \n",
       "269420  548695.172798  Portland    OR  \n",
       "\n",
       "[905 rows x 9 columns]"
      ]
     },
     "execution_count": 15,
     "metadata": {},
     "output_type": "execute_result"
    }
   ],
   "source": [
    "filtered = df_melted[df_melted['regionname'].isin(cities_to_plot)]\n",
    "filtered"
   ]
  },
  {
   "cell_type": "code",
   "execution_count": 16,
   "metadata": {},
   "outputs": [
    {
     "data": {
      "image/png": "[encoded data removed]",
      "text/plain": [
       "<Figure size 1400x600 with 1 Axes>"
      ]
     },
     "metadata": {},
     "output_type": "display_data"
    }
   ],
   "source": [
    "plt.figure(figsize=(14, 6))\n",
    "\n",
    "for city in cities_to_plot:\n",
    "    city_data = filtered[filtered['regionname'] == city]\n",
    "    plt.plot(city_data['date'], city_data['zhvi_price'], label=city)\n",
    "\n",
    "plt.title(\"Zillow Home Value Trends by City\")\n",
    "plt.xlabel(\"Date\")\n",
    "plt.ylabel(\"ZHVI Price ($)\")\n",
    "plt.legend()\n",
    "plt.grid(True)\n",
    "plt.tight_layout()\n",
    "plt.show()"
   ]
  },
  {
   "cell_type": "markdown",
   "metadata": {},
   "source": [
    "## Forecasting"
   ]
  },
  {
   "cell_type": "code",
   "execution_count": 17,
   "metadata": {},
   "outputs": [],
   "source": [
    "city = 'Seattle'\n",
    "state = 'WA'\n",
    "df_city = df_melted[(df_melted['city'] == city) & (df_melted['state'] == state)][['date', 'zhvi_price']]\n",
    "df_city = df_city.rename(columns={'date': 'ds', 'zhvi_price': 'y'}) # this data set is meant for prophet to make predictions on"
   ]
  },
  {
   "cell_type": "code",
   "execution_count": 18,
   "metadata": {},
   "outputs": [
    {
     "data": {
      "text/plain": [
       "regionid               int64\n",
       "sizerank               int64\n",
       "regionname            object\n",
       "regiontype            object\n",
       "statename             object\n",
       "date          datetime64[ns]\n",
       "zhvi_price           float64\n",
       "city                  object\n",
       "state                 object\n",
       "dtype: object"
      ]
     },
     "execution_count": 18,
     "metadata": {},
     "output_type": "execute_result"
    }
   ],
   "source": [
    "df_melted.shape\n",
    "df_melted.dtypes"
   ]
  },
  {
   "cell_type": "code",
   "execution_count": 19,
   "metadata": {},
   "outputs": [
    {
     "data": {
      "text/plain": [
       "ds    datetime64[ns]\n",
       "y            float64\n",
       "dtype: object"
      ]
     },
     "execution_count": 19,
     "metadata": {},
     "output_type": "execute_result"
    }
   ],
   "source": [
    "df_city.shape\n",
    "df_city.dtypes"
   ]
  },
  {
   "cell_type": "code",
   "execution_count": 21,
   "metadata": {},
   "outputs": [
    {
     "data": {
      "text/plain": [
       "Timestamp('2025-02-28 00:00:00')"
      ]
     },
     "execution_count": 21,
     "metadata": {},
     "output_type": "execute_result"
    }
   ],
   "source": [
    "last_date = df_city['ds'].max()\n",
    "last_date"
   ]
  },
  {
   "cell_type": "code",
   "execution_count": 24,
   "metadata": {},
   "outputs": [
    {
     "name": "stderr",
     "output_type": "stream",
     "text": [
      "/home/adharshrajendran/projects/real-estate-forecaster/backend/real-estate/lib/python3.12/site-packages/tqdm/auto.py:21: TqdmWarning: IProgress not found. Please update jupyter and ipywidgets. See https://ipywidgets.readthedocs.io/en/stable/user_install.html\n",
      "  from .autonotebook import tqdm as notebook_tqdm\n",
      "17:03:30 - cmdstanpy - INFO - Chain [1] start processing\n",
      "17:03:30 - cmdstanpy - INFO - Chain [1] done processing\n"
     ]
    },
    {
     "data": {
      "text/plain": [
       "<prophet.forecaster.Prophet at 0x79b4e57d2f60>"
      ]
     },
     "execution_count": 24,
     "metadata": {},
     "output_type": "execute_result"
    }
   ],
   "source": [
    "from prophet import Prophet\n",
    "\n",
    "model = Prophet()\n",
    "model.fit(df_city)"
   ]
  },
  {
   "cell_type": "code",
   "execution_count": 25,
   "metadata": {},
   "outputs": [],
   "source": [
    "future = model.make_future_dataframe(periods=12, freq='ME')  # Forecast next 12 months\n",
    "forecast = model.predict(future)"
   ]
  },
  {
   "cell_type": "code",
   "execution_count": 29,
   "metadata": {},
   "outputs": [
    {
     "data": {
      "text/plain": [
       "(314, 1)"
      ]
     },
     "execution_count": 29,
     "metadata": {},
     "output_type": "execute_result"
    }
   ],
   "source": [
    "future.shape"
   ]
  },
  {
   "cell_type": "code",
   "execution_count": 28,
   "metadata": {},
   "outputs": [
    {
     "data": {
      "text/plain": [
       "ds    datetime64[ns]\n",
       "dtype: object"
      ]
     },
     "execution_count": 28,
     "metadata": {},
     "output_type": "execute_result"
    }
   ],
   "source": [
    "future.dtypes"
   ]
  },
  {
   "cell_type": "code",
   "execution_count": 27,
   "metadata": {},
   "outputs": [
    {
     "data": {
      "text/plain": [
       "(314, 16)"
      ]
     },
     "execution_count": 27,
     "metadata": {},
     "output_type": "execute_result"
    }
   ],
   "source": [
    "forecast.shape"
   ]
  },
  {
   "cell_type": "code",
   "execution_count": 33,
   "metadata": {},
   "outputs": [
    {
     "data": {
      "text/plain": [
       "ds                            datetime64[ns]\n",
       "trend                                float64\n",
       "yhat_lower                           float64\n",
       "yhat_upper                           float64\n",
       "trend_lower                          float64\n",
       "trend_upper                          float64\n",
       "additive_terms                       float64\n",
       "additive_terms_lower                 float64\n",
       "additive_terms_upper                 float64\n",
       "yearly                               float64\n",
       "yearly_lower                         float64\n",
       "yearly_upper                         float64\n",
       "multiplicative_terms                 float64\n",
       "multiplicative_terms_lower           float64\n",
       "multiplicative_terms_upper           float64\n",
       "yhat                                 float64\n",
       "dtype: object"
      ]
     },
     "execution_count": 33,
     "metadata": {},
     "output_type": "execute_result"
    }
   ],
   "source": [
    "forecast.dtypes"
   ]
  },
  {
   "cell_type": "code",
   "execution_count": 32,
   "metadata": {},
   "outputs": [
    {
     "data": {
      "application/vnd.plotly.v1+json": {
       "config": {
        "plotlyServerURL": "https://plot.ly"
       },
       "data": [
        {
         "marker": {
          "color": "black",
          "size": 4
         },
         "mode": "markers",
         "name": "Actual",
         "type": "scatter",
         "x": [
          "2000-01-31T00:00:00.000000000",
          "2000-02-29T00:00:00.000000000",
          "2000-03-31T00:00:00.000000000",
          "2000-04-30T00:00:00.000000000",
          "2000-05-31T00:00:00.000000000",
          "2000-06-30T00:00:00.000000000",
          "2000-07-31T00:00:00.000000000",
          "2000-08-31T00:00:00.000000000",
          "2000-09-30T00:00:00.000000000",
          "2000-10-31T00:00:00.000000000",
          "2000-11-30T00:00:00.000000000",
          "2000-12-31T00:00:00.000000000",
          "2001-01-31T00:00:00.000000000",
          "2001-02-28T00:00:00.000000000",
          "2001-03-31T00:00:00.000000000",
          "2001-04-30T00:00:00.000000000",
          "2001-05-31T00:00:00.000000000",
          "2001-06-30T00:00:00.000000000",
          "2001-07-31T00:00:00.000000000",
          "2001-08-31T00:00:00.000000000",
          "2001-09-30T00:00:00.000000000",
          "2001-10-31T00:00:00.000000000",
          "2001-11-30T00:00:00.000000000",
          "2001-12-31T00:00:00.000000000",
          "2002-01-31T00:00:00.000000000",
          "2002-02-28T00:00:00.000000000",
          "2002-03-31T00:00:00.000000000",
          "2002-04-30T00:00:00.000000000",
          "2002-05-31T00:00:00.000000000",
          "2002-06-30T00:00:00.000000000",
          "2002-07-31T00:00:00.000000000",
          "2002-08-31T00:00:00.000000000",
          "2002-09-30T00:00:00.000000000",
          "2002-10-31T00:00:00.000000000",
          "2002-11-30T00:00:00.000000000",
          "2002-12-31T00:00:00.000000000",
          "2003-01-31T00:00:00.000000000",
          "2003-02-28T00:00:00.000000000",
          "2003-03-31T00:00:00.000000000",
          "2003-04-30T00:00:00.000000000",
          "2003-05-31T00:00:00.000000000",
          "2003-06-30T00:00:00.000000000",
          "2003-07-31T00:00:00.000000000",
          "2003-08-31T00:00:00.000000000",
          "2003-09-30T00:00:00.000000000",
          "2003-10-31T00:00:00.000000000",
          "2003-11-30T00:00:00.000000000",
          "2003-12-31T00:00:00.000000000",
          "2004-01-31T00:00:00.000000000",
          "2004-02-29T00:00:00.000000000",
          "2004-03-31T00:00:00.000000000",
          "2004-04-30T00:00:00.000000000",
          "2004-05-31T00:00:00.000000000",
          "2004-06-30T00:00:00.000000000",
          "2004-07-31T00:00:00.000000000",
          "2004-08-31T00:00:00.000000000",
          "2004-09-30T00:00:00.000000000",
          "2004-10-31T00:00:00.000000000",
          "2004-11-30T00:00:00.000000000",
          "2004-12-31T00:00:00.000000000",
          "2005-01-31T00:00:00.000000000",
          "2005-02-28T00:00:00.000000000",
          "2005-03-31T00:00:00.000000000",
          "2005-04-30T00:00:00.000000000",
          "2005-05-31T00:00:00.000000000",
          "2005-06-30T00:00:00.000000000",
          "2005-07-31T00:00:00.000000000",
          "2005-08-31T00:00:00.000000000",
          "2005-09-30T00:00:00.000000000",
          "2005-10-31T00:00:00.000000000",
          "2005-11-30T00:00:00.000000000",
          "2005-12-31T00:00:00.000000000",
          "2006-01-31T00:00:00.000000000",
          "2006-02-28T00:00:00.000000000",
          "2006-03-31T00:00:00.000000000",
          "2006-04-30T00:00:00.000000000",
          "2006-05-31T00:00:00.000000000",
          "2006-06-30T00:00:00.000000000",
          "2006-07-31T00:00:00.000000000",
          "2006-08-31T00:00:00.000000000",
          "2006-09-30T00:00:00.000000000",
          "2006-10-31T00:00:00.000000000",
          "2006-11-30T00:00:00.000000000",
          "2006-12-31T00:00:00.000000000",
          "2007-01-31T00:00:00.000000000",
          "2007-02-28T00:00:00.000000000",
          "2007-03-31T00:00:00.000000000",
          "2007-04-30T00:00:00.000000000",
          "2007-05-31T00:00:00.000000000",
          "2007-06-30T00:00:00.000000000",
          "2007-07-31T00:00:00.000000000",
          "2007-08-31T00:00:00.000000000",
          "2007-09-30T00:00:00.000000000",
          "2007-10-31T00:00:00.000000000",
          "2007-11-30T00:00:00.000000000",
          "2007-12-31T00:00:00.000000000",
          "2008-01-31T00:00:00.000000000",
          "2008-02-29T00:00:00.000000000",
          "2008-03-31T00:00:00.000000000",
          "2008-04-30T00:00:00.000000000",
          "2008-05-31T00:00:00.000000000",
          "2008-06-30T00:00:00.000000000",
          "2008-07-31T00:00:00.000000000",
          "2008-08-31T00:00:00.000000000",
          "2008-09-30T00:00:00.000000000",
          "2008-10-31T00:00:00.000000000",
          "2008-11-30T00:00:00.000000000",
          "2008-12-31T00:00:00.000000000",
          "2009-01-31T00:00:00.000000000",
          "2009-02-28T00:00:00.000000000",
          "2009-03-31T00:00:00.000000000",
          "2009-04-30T00:00:00.000000000",
          "2009-05-31T00:00:00.000000000",
          "2009-06-30T00:00:00.000000000",
          "2009-07-31T00:00:00.000000000",
          "2009-08-31T00:00:00.000000000",
          "2009-09-30T00:00:00.000000000",
          "2009-10-31T00:00:00.000000000",
          "2009-11-30T00:00:00.000000000",
          "2009-12-31T00:00:00.000000000",
          "2010-01-31T00:00:00.000000000",
          "2010-02-28T00:00:00.000000000",
          "2010-03-31T00:00:00.000000000",
          "2010-04-30T00:00:00.000000000",
          "2010-05-31T00:00:00.000000000",
          "2010-06-30T00:00:00.000000000",
          "2010-07-31T00:00:00.000000000",
          "2010-08-31T00:00:00.000000000",
          "2010-09-30T00:00:00.000000000",
          "2010-10-31T00:00:00.000000000",
          "2010-11-30T00:00:00.000000000",
          "2010-12-31T00:00:00.000000000",
          "2011-01-31T00:00:00.000000000",
          "2011-02-28T00:00:00.000000000",
          "2011-03-31T00:00:00.000000000",
          "2011-04-30T00:00:00.000000000",
          "2011-05-31T00:00:00.000000000",
          "2011-06-30T00:00:00.000000000",
          "2011-07-31T00:00:00.000000000",
          "2011-08-31T00:00:00.000000000",
          "2011-09-30T00:00:00.000000000",
          "2011-10-31T00:00:00.000000000",
          "2011-11-30T00:00:00.000000000",
          "2011-12-31T00:00:00.000000000",
          "2012-01-31T00:00:00.000000000",
          "2012-02-29T00:00:00.000000000",
          "2012-03-31T00:00:00.000000000",
          "2012-04-30T00:00:00.000000000",
          "2012-05-31T00:00:00.000000000",
          "2012-06-30T00:00:00.000000000",
          "2012-07-31T00:00:00.000000000",
          "2012-08-31T00:00:00.000000000",
          "2012-09-30T00:00:00.000000000",
          "2012-10-31T00:00:00.000000000",
          "2012-11-30T00:00:00.000000000",
          "2012-12-31T00:00:00.000000000",
          "2013-01-31T00:00:00.000000000",
          "2013-02-28T00:00:00.000000000",
          "2013-03-31T00:00:00.000000000",
          "2013-04-30T00:00:00.000000000",
          "2013-05-31T00:00:00.000000000",
          "2013-06-30T00:00:00.000000000",
          "2013-07-31T00:00:00.000000000",
          "2013-08-31T00:00:00.000000000",
          "2013-09-30T00:00:00.000000000",
          "2013-10-31T00:00:00.000000000",
          "2013-11-30T00:00:00.000000000",
          "2013-12-31T00:00:00.000000000",
          "2014-01-31T00:00:00.000000000",
          "2014-02-28T00:00:00.000000000",
          "2014-03-31T00:00:00.000000000",
          "2014-04-30T00:00:00.000000000",
          "2014-05-31T00:00:00.000000000",
          "2014-06-30T00:00:00.000000000",
          "2014-07-31T00:00:00.000000000",
          "2014-08-31T00:00:00.000000000",
          "2014-09-30T00:00:00.000000000",
          "2014-10-31T00:00:00.000000000",
          "2014-11-30T00:00:00.000000000",
          "2014-12-31T00:00:00.000000000",
          "2015-01-31T00:00:00.000000000",
          "2015-02-28T00:00:00.000000000",
          "2015-03-31T00:00:00.000000000",
          "2015-04-30T00:00:00.000000000",
          "2015-05-31T00:00:00.000000000",
          "2015-06-30T00:00:00.000000000",
          "2015-07-31T00:00:00.000000000",
          "2015-08-31T00:00:00.000000000",
          "2015-09-30T00:00:00.000000000",
          "2015-10-31T00:00:00.000000000",
          "2015-11-30T00:00:00.000000000",
          "2015-12-31T00:00:00.000000000",
          "2016-01-31T00:00:00.000000000",
          "2016-02-29T00:00:00.000000000",
          "2016-03-31T00:00:00.000000000",
          "2016-04-30T00:00:00.000000000",
          "2016-05-31T00:00:00.000000000",
          "2016-06-30T00:00:00.000000000",
          "2016-07-31T00:00:00.000000000",
          "2016-08-31T00:00:00.000000000",
          "2016-09-30T00:00:00.000000000",
          "2016-10-31T00:00:00.000000000",
          "2016-11-30T00:00:00.000000000",
          "2016-12-31T00:00:00.000000000",
          "2017-01-31T00:00:00.000000000",
          "2017-02-28T00:00:00.000000000",
          "2017-03-31T00:00:00.000000000",
          "2017-04-30T00:00:00.000000000",
          "2017-05-31T00:00:00.000000000",
          "2017-06-30T00:00:00.000000000",
          "2017-07-31T00:00:00.000000000",
          "2017-08-31T00:00:00.000000000",
          "2017-09-30T00:00:00.000000000",
          "2017-10-31T00:00:00.000000000",
          "2017-11-30T00:00:00.000000000",
          "2017-12-31T00:00:00.000000000",
          "2018-01-31T00:00:00.000000000",
          "2018-02-28T00:00:00.000000000",
          "2018-03-31T00:00:00.000000000",
          "2018-04-30T00:00:00.000000000",
          "2018-05-31T00:00:00.000000000",
          "2018-06-30T00:00:00.000000000",
          "2018-07-31T00:00:00.000000000",
          "2018-08-31T00:00:00.000000000",
          "2018-09-30T00:00:00.000000000",
          "2018-10-31T00:00:00.000000000",
          "2018-11-30T00:00:00.000000000",
          "2018-12-31T00:00:00.000000000",
          "2019-01-31T00:00:00.000000000",
          "2019-02-28T00:00:00.000000000",
          "2019-03-31T00:00:00.000000000",
          "2019-04-30T00:00:00.000000000",
          "2019-05-31T00:00:00.000000000",
          "2019-06-30T00:00:00.000000000",
          "2019-07-31T00:00:00.000000000",
          "2019-08-31T00:00:00.000000000",
          "2019-09-30T00:00:00.000000000",
          "2019-10-31T00:00:00.000000000",
          "2019-11-30T00:00:00.000000000",
          "2019-12-31T00:00:00.000000000",
          "2020-01-31T00:00:00.000000000",
          "2020-02-29T00:00:00.000000000",
          "2020-03-31T00:00:00.000000000",
          "2020-04-30T00:00:00.000000000",
          "2020-05-31T00:00:00.000000000",
          "2020-06-30T00:00:00.000000000",
          "2020-07-31T00:00:00.000000000",
          "2020-08-31T00:00:00.000000000",
          "2020-09-30T00:00:00.000000000",
          "2020-10-31T00:00:00.000000000",
          "2020-11-30T00:00:00.000000000",
          "2020-12-31T00:00:00.000000000",
          "2021-01-31T00:00:00.000000000",
          "2021-02-28T00:00:00.000000000",
          "2021-03-31T00:00:00.000000000",
          "2021-04-30T00:00:00.000000000",
          "2021-05-31T00:00:00.000000000",
          "2021-06-30T00:00:00.000000000",
          "2021-07-31T00:00:00.000000000",
          "2021-08-31T00:00:00.000000000",
          "2021-09-30T00:00:00.000000000",
          "2021-10-31T00:00:00.000000000",
          "2021-11-30T00:00:00.000000000",
          "2021-12-31T00:00:00.000000000",
          "2022-01-31T00:00:00.000000000",
          "2022-02-28T00:00:00.000000000",
          "2022-03-31T00:00:00.000000000",
          "2022-04-30T00:00:00.000000000",
          "2022-05-31T00:00:00.000000000",
          "2022-06-30T00:00:00.000000000",
          "2022-07-31T00:00:00.000000000",
          "2022-08-31T00:00:00.000000000",
          "2022-09-30T00:00:00.000000000",
          "2022-10-31T00:00:00.000000000",
          "2022-11-30T00:00:00.000000000",
          "2022-12-31T00:00:00.000000000",
          "2023-01-31T00:00:00.000000000",
          "2023-02-28T00:00:00.000000000",
          "2023-03-31T00:00:00.000000000",
          "2023-04-30T00:00:00.000000000",
          "2023-05-31T00:00:00.000000000",
          "2023-06-30T00:00:00.000000000",
          "2023-07-31T00:00:00.000000000",
          "2023-08-31T00:00:00.000000000",
          "2023-09-30T00:00:00.000000000",
          "2023-10-31T00:00:00.000000000",
          "2023-11-30T00:00:00.000000000",
          "2023-12-31T00:00:00.000000000",
          "2024-01-31T00:00:00.000000000",
          "2024-02-29T00:00:00.000000000",
          "2024-03-31T00:00:00.000000000",
          "2024-04-30T00:00:00.000000000",
          "2024-05-31T00:00:00.000000000",
          "2024-06-30T00:00:00.000000000",
          "2024-07-31T00:00:00.000000000",
          "2024-08-31T00:00:00.000000000",
          "2024-09-30T00:00:00.000000000",
          "2024-10-31T00:00:00.000000000",
          "2024-11-30T00:00:00.000000000",
          "2024-12-31T00:00:00.000000000",
          "2025-01-31T00:00:00.000000000",
          "2025-02-28T00:00:00.000000000"
         ],
         "y": {
          "bdata": "juXCbRzWCkETSRA6AuwKQTNij0KHAQtBDP7WzRktC0H9O9HMI14LQfUcPfzWiwtBLQRRCOW7C0FciOMjmOILQehCF9pABAxBeLUEKCggDEFbF8I//TwMQclORWzgXwxB/5blHkaHDEHbAQS+07AMQZyKzQBR2wxBZ5woCS0CDUHHpVoQNyENQbygm/3sPg1B+A49zvRZDUF4oZGUbHsNQczHNOfnlg1Br/wNa1i2DUGJn+CFcdENQW9jhLmG9A1BmyurD4MSDkFy1cA8AjEOQUyXTZbXTA5BCadYYjFnDkEoAgr7on0OQak5sUExjg5BAv7+ouGfDkG8y49QmLYOQXaJkeDGzQ5Bq2SLUzHlDkGVQFxDhvkOQVAphULRAw9BvMWOMlAWD0E9oENR9CgPQVM3RggWTg9Bme6m0YFyD0GpfGuESqIPQZUk3xCFzw9Bi2DFWof7D0GFfDZLFxUQQfiRy/V3KxBBIS7zXo5BEEEss+o6wlEQQZW/biwlZRBBpgVf6tF8EEGJiP+6f5cQQRR6iGMTsRBBb6ReEwTOEEFltvaRevMQQXPZKRCTIRFBZ22L3zJOEUHHbNBhjHcRQW71yFfYnRFBKcqAio3CEUERCb4lt+gRQWzQ593EEhJBw2Ssxo1CEkFAYuQgy2wSQfyEmZprnBJB4uVEmQjSEkEk5HGZ+RETQXaPhKWXXBNBJIc+MPquE0FPT1WEAAwUQZMf0YZ5YBRByIzFtlKtFEF9/hRj7vQUQa1MVD26OxVBfvmRFG92FUHNjrHaGLoVQaFvR4EtABZB45JzYGZVFkHbdB47DKkWQVwMzFiw+RZBHKaSghRHF0FjrQCcso0XQV/HLZzayxdBKMJfckIDGEH/e1lhCCoYQe2iQVjOQRhBxVJGUNdOGEH0leOfoGQYQfPSz0OqjxhBlnWEj4HJGEEvR8Z2vPkYQfga6xvbFhlB0Z+oIuEgGUFz1ZVWYy0ZQXd/Ib7eMxlBjXVmvmolGUGIm60hLQIZQRmtCkK33BhBCdtVmsK8GEEV3FvjopgYQY1feETfbhhBmE9lFBs3GEEEasr5R/gXQQWijRYFsRdBAzk0hzhwF0EP9IEbmiUXQcBcPxlv2hZB0Zoung6SFkFiztHV21EWQaZc98E5DRZBn7j9fATNFUHtMc9kk4kVQS9bF+RvRxVBxrztF8PyFEFNclvsBKQUQdEXdUMcXhRBe+xxscYvFEFc9PuhVwoUQTPN64tn7RNBx1Bq5CbaE0EtYLuCJ9ITQfU8AON5zhNB+alt4lS5E0H1odaMB6ATQdeMeAh7gxNB6/hRGRZ/E0H1fkUEhoITQWfOAHhTeRNB3geuOzdYE0GbJ9gO5iITQY+meRnB7xJBaFuIp4m1EkFvOk1BQn4SQfD6u0lsShJBqZfhOeoiEkFLysehXgYSQZXD0h2y4xFB/4K0c/q9EUFNzBFCtYARQfM3LhMCSxFB6YO6PTEUEUHscH9VzeoQQfXNnWJvwBBBqCmRDKOYEEFgiRVJiHYQQfS+nT6vVxBBgY5hA9pAEEEkAJRtnyQQQUqVM/2jAhBBqa2/I4m1D0GpSOhbH3UPQVOyMEfKWw9BMUQv35FfD0EsbJeAyH0PQZFc636usA9Bs6YQkk32D0G7uySNvCcQQVPpI3D4VxBB3K12JQ6QEEHjS9nFS8UQQWejz4W29RBB0odrbxAgEUE56xSL7UsRQV2ZGGcjehFB1dej3uKnEUHiB37jftQRQWOQdxfBARJBZIvDPeovEkG2kTLLnlsSQVOxX45EiBJBVnXwVXi0EkEv/1qLld0SQVOqgd5hARNBnB/G74cfE0GsQYsD6DsTQXhw0d8xTxNBu27i+TFcE0G0M+cyIGUTQaui2gaLdBNB5tALFD6JE0HJDZZMNKgTQcU1+gsZ0RNBFfbtjRcHFEGQQYFrzkIUQaTF32A2ehRBgaS1muanFEFYxxcoX9AUQfNWlNSO9RRBrJwFt0McFUFoHvRTG0YVQXMwzu1WdxVBZB/LhB6wFUGrZyFJc/AVQRl6IjCZOBZBO7oZ+PqJFkGjLnbMGdkWQet8lvV7HhdBQAvW2aBYF0FZ6Gv+oosXQUxsHAPfuRdBlNogZv/eF0HrkD8Ww/8XQc1RVeSgIBhBcCYziQFMGEEAcS5ou4IYQQMmhP3AyBhBEzhO/mQWGUFyOp2KR2sZQV4zLYNbwhlBMdPUGZYYGkFQ0fYefGQaQZOpm5JCqhpBtJ2xWg/nGkG8KywiSSEbQXmr4TBUVhtBi4PKivmKG0Hk6BnEI8UbQdS2gbjWDRxBx4laEYxkHEHtSKvR8MQcQYUc8f1iLh1BHCjUktaSHUG/UHExlvAdQTtuZAz/LB5BtHaKNM5jHkG8HQheaoAeQSYU8Flmih5BrOoeN2p7HkFTSA5XgGgeQXgYNygQVx5B5ZAaa1hHHkEJRmRxwUIeQUyIahXCUx5BmFzT6nhqHkHk9YTwwHseQZTIElW/hB5BRQrFejyHHkHESKd+SIoeQfhPirOZix5BoN931lGdHkGVOpleIr8eQTCMFWj58R5BMac+3qUrH0EfUZrbpnEfQSl0BTaJxB9BZW3eSnQOIEFYGxSr9ScgQWtIw9z9MSBBee3hZao3IEFPvt8kz1EgQWleTfvqhiBBPbc3YGDLIEHo0ZZWdRkhQb0fVUFaYiFByGNrDlSoIUHkdpHFcfEhQdS7UUBJRyJBGDp04UyuIkHXXazB1hwjQW2GE2hdgiNBFPC8ClDLI0G7GwOa+u0jQd1LHrXO+SNB2Tz1fDkFJEH0wyHhmiMkQQ3wOCldWSRBxShqmFu+JEETckVG6EolQaUiG6Ah+iVBV+USQSGdJkHfpiYKvxInQQBlhWKFPCdBxPfo+OMOJ0FjgZr3q6cmQZ/EmJ/yLiZBZzYI7O/XJUHZgFhyg6MlQcVZ6IHggSVBHLmBo5tUJUEE5SRutyklQdCNYWYIBiVBdxHkbEz4JEFETiLNBvskQZ1DEI3jDyVBaHHyP5wwJUHHE9RBsFclQRxo1hBueiVBBDxIiCCWJUELNql6/qclQQ86of1PsyVB1NwjOkO8JUH82tYxkM0lQXw48dRs8SVBNX+4XOEfJkEnuMBBB0gmQbjL/8SIWSZBdPbR4bRgJkEYaulTcmcmQTe6YcOgeyZBCzU4/2eXJkEJxyKxnbUmQQDiCcL80CZBO/zJvYnkJkF/nqZoEu0mQQ==",
          "dtype": "f8"
         }
        },
        {
         "hoverinfo": "skip",
         "line": {
          "width": 0
         },
         "mode": "lines",
         "type": "scatter",
         "x": [
          "2000-01-31T00:00:00.000000000",
          "2000-02-29T00:00:00.000000000",
          "2000-03-31T00:00:00.000000000",
          "2000-04-30T00:00:00.000000000",
          "2000-05-31T00:00:00.000000000",
          "2000-06-30T00:00:00.000000000",
          "2000-07-31T00:00:00.000000000",
          "2000-08-31T00:00:00.000000000",
          "2000-09-30T00:00:00.000000000",
          "2000-10-31T00:00:00.000000000",
          "2000-11-30T00:00:00.000000000",
          "2000-12-31T00:00:00.000000000",
          "2001-01-31T00:00:00.000000000",
          "2001-02-28T00:00:00.000000000",
          "2001-03-31T00:00:00.000000000",
          "2001-04-30T00:00:00.000000000",
          "2001-05-31T00:00:00.000000000",
          "2001-06-30T00:00:00.000000000",
          "2001-07-31T00:00:00.000000000",
          "2001-08-31T00:00:00.000000000",
          "2001-09-30T00:00:00.000000000",
          "2001-10-31T00:00:00.000000000",
          "2001-11-30T00:00:00.000000000",
          "2001-12-31T00:00:00.000000000",
          "2002-01-31T00:00:00.000000000",
          "2002-02-28T00:00:00.000000000",
          "2002-03-31T00:00:00.000000000",
          "2002-04-30T00:00:00.000000000",
          "2002-05-31T00:00:00.000000000",
          "2002-06-30T00:00:00.000000000",
          "2002-07-31T00:00:00.000000000",
          "2002-08-31T00:00:00.000000000",
          "2002-09-30T00:00:00.000000000",
          "2002-10-31T00:00:00.000000000",
          "2002-11-30T00:00:00.000000000",
          "2002-12-31T00:00:00.000000000",
          "2003-01-31T00:00:00.000000000",
          "2003-02-28T00:00:00.000000000",
          "2003-03-31T00:00:00.000000000",
          "2003-04-30T00:00:00.000000000",
          "2003-05-31T00:00:00.000000000",
          "2003-06-30T00:00:00.000000000",
          "2003-07-31T00:00:00.000000000",
          "2003-08-31T00:00:00.000000000",
          "2003-09-30T00:00:00.000000000",
          "2003-10-31T00:00:00.000000000",
          "2003-11-30T00:00:00.000000000",
          "2003-12-31T00:00:00.000000000",
          "2004-01-31T00:00:00.000000000",
          "2004-02-29T00:00:00.000000000",
          "2004-03-31T00:00:00.000000000",
          "2004-04-30T00:00:00.000000000",
          "2004-05-31T00:00:00.000000000",
          "2004-06-30T00:00:00.000000000",
          "2004-07-31T00:00:00.000000000",
          "2004-08-31T00:00:00.000000000",
          "2004-09-30T00:00:00.000000000",
          "2004-10-31T00:00:00.000000000",
          "2004-11-30T00:00:00.000000000",
          "2004-12-31T00:00:00.000000000",
          "2005-01-31T00:00:00.000000000",
          "2005-02-28T00:00:00.000000000",
          "2005-03-31T00:00:00.000000000",
          "2005-04-30T00:00:00.000000000",
          "2005-05-31T00:00:00.000000000",
          "2005-06-30T00:00:00.000000000",
          "2005-07-31T00:00:00.000000000",
          "2005-08-31T00:00:00.000000000",
          "2005-09-30T00:00:00.000000000",
          "2005-10-31T00:00:00.000000000",
          "2005-11-30T00:00:00.000000000",
          "2005-12-31T00:00:00.000000000",
          "2006-01-31T00:00:00.000000000",
          "2006-02-28T00:00:00.000000000",
          "2006-03-31T00:00:00.000000000",
          "2006-04-30T00:00:00.000000000",
          "2006-05-31T00:00:00.000000000",
          "2006-06-30T00:00:00.000000000",
          "2006-07-31T00:00:00.000000000",
          "2006-08-31T00:00:00.000000000",
          "2006-09-30T00:00:00.000000000",
          "2006-10-31T00:00:00.000000000",
          "2006-11-30T00:00:00.000000000",
          "2006-12-31T00:00:00.000000000",
          "2007-01-31T00:00:00.000000000",
          "2007-02-28T00:00:00.000000000",
          "2007-03-31T00:00:00.000000000",
          "2007-04-30T00:00:00.000000000",
          "2007-05-31T00:00:00.000000000",
          "2007-06-30T00:00:00.000000000",
          "2007-07-31T00:00:00.000000000",
          "2007-08-31T00:00:00.000000000",
          "2007-09-30T00:00:00.000000000",
          "2007-10-31T00:00:00.000000000",
          "2007-11-30T00:00:00.000000000",
          "2007-12-31T00:00:00.000000000",
          "2008-01-31T00:00:00.000000000",
          "2008-02-29T00:00:00.000000000",
          "2008-03-31T00:00:00.000000000",
          "2008-04-30T00:00:00.000000000",
          "2008-05-31T00:00:00.000000000",
          "2008-06-30T00:00:00.000000000",
          "2008-07-31T00:00:00.000000000",
          "2008-08-31T00:00:00.000000000",
          "2008-09-30T00:00:00.000000000",
          "2008-10-31T00:00:00.000000000",
          "2008-11-30T00:00:00.000000000",
          "2008-12-31T00:00:00.000000000",
          "2009-01-31T00:00:00.000000000",
          "2009-02-28T00:00:00.000000000",
          "2009-03-31T00:00:00.000000000",
          "2009-04-30T00:00:00.000000000",
          "2009-05-31T00:00:00.000000000",
          "2009-06-30T00:00:00.000000000",
          "2009-07-31T00:00:00.000000000",
          "2009-08-31T00:00:00.000000000",
          "2009-09-30T00:00:00.000000000",
          "2009-10-31T00:00:00.000000000",
          "2009-11-30T00:00:00.000000000",
          "2009-12-31T00:00:00.000000000",
          "2010-01-31T00:00:00.000000000",
          "2010-02-28T00:00:00.000000000",
          "2010-03-31T00:00:00.000000000",
          "2010-04-30T00:00:00.000000000",
          "2010-05-31T00:00:00.000000000",
          "2010-06-30T00:00:00.000000000",
          "2010-07-31T00:00:00.000000000",
          "2010-08-31T00:00:00.000000000",
          "2010-09-30T00:00:00.000000000",
          "2010-10-31T00:00:00.000000000",
          "2010-11-30T00:00:00.000000000",
          "2010-12-31T00:00:00.000000000",
          "2011-01-31T00:00:00.000000000",
          "2011-02-28T00:00:00.000000000",
          "2011-03-31T00:00:00.000000000",
          "2011-04-30T00:00:00.000000000",
          "2011-05-31T00:00:00.000000000",
          "2011-06-30T00:00:00.000000000",
          "2011-07-31T00:00:00.000000000",
          "2011-08-31T00:00:00.000000000",
          "2011-09-30T00:00:00.000000000",
          "2011-10-31T00:00:00.000000000",
          "2011-11-30T00:00:00.000000000",
          "2011-12-31T00:00:00.000000000",
          "2012-01-31T00:00:00.000000000",
          "2012-02-29T00:00:00.000000000",
          "2012-03-31T00:00:00.000000000",
          "2012-04-30T00:00:00.000000000",
          "2012-05-31T00:00:00.000000000",
          "2012-06-30T00:00:00.000000000",
          "2012-07-31T00:00:00.000000000",
          "2012-08-31T00:00:00.000000000",
          "2012-09-30T00:00:00.000000000",
          "2012-10-31T00:00:00.000000000",
          "2012-11-30T00:00:00.000000000",
          "2012-12-31T00:00:00.000000000",
          "2013-01-31T00:00:00.000000000",
          "2013-02-28T00:00:00.000000000",
          "2013-03-31T00:00:00.000000000",
          "2013-04-30T00:00:00.000000000",
          "2013-05-31T00:00:00.000000000",
          "2013-06-30T00:00:00.000000000",
          "2013-07-31T00:00:00.000000000",
          "2013-08-31T00:00:00.000000000",
          "2013-09-30T00:00:00.000000000",
          "2013-10-31T00:00:00.000000000",
          "2013-11-30T00:00:00.000000000",
          "2013-12-31T00:00:00.000000000",
          "2014-01-31T00:00:00.000000000",
          "2014-02-28T00:00:00.000000000",
          "2014-03-31T00:00:00.000000000",
          "2014-04-30T00:00:00.000000000",
          "2014-05-31T00:00:00.000000000",
          "2014-06-30T00:00:00.000000000",
          "2014-07-31T00:00:00.000000000",
          "2014-08-31T00:00:00.000000000",
          "2014-09-30T00:00:00.000000000",
          "2014-10-31T00:00:00.000000000",
          "2014-11-30T00:00:00.000000000",
          "2014-12-31T00:00:00.000000000",
          "2015-01-31T00:00:00.000000000",
          "2015-02-28T00:00:00.000000000",
          "2015-03-31T00:00:00.000000000",
          "2015-04-30T00:00:00.000000000",
          "2015-05-31T00:00:00.000000000",
          "2015-06-30T00:00:00.000000000",
          "2015-07-31T00:00:00.000000000",
          "2015-08-31T00:00:00.000000000",
          "2015-09-30T00:00:00.000000000",
          "2015-10-31T00:00:00.000000000",
          "2015-11-30T00:00:00.000000000",
          "2015-12-31T00:00:00.000000000",
          "2016-01-31T00:00:00.000000000",
          "2016-02-29T00:00:00.000000000",
          "2016-03-31T00:00:00.000000000",
          "2016-04-30T00:00:00.000000000",
          "2016-05-31T00:00:00.000000000",
          "2016-06-30T00:00:00.000000000",
          "2016-07-31T00:00:00.000000000",
          "2016-08-31T00:00:00.000000000",
          "2016-09-30T00:00:00.000000000",
          "2016-10-31T00:00:00.000000000",
          "2016-11-30T00:00:00.000000000",
          "2016-12-31T00:00:00.000000000",
          "2017-01-31T00:00:00.000000000",
          "2017-02-28T00:00:00.000000000",
          "2017-03-31T00:00:00.000000000",
          "2017-04-30T00:00:00.000000000",
          "2017-05-31T00:00:00.000000000",
          "2017-06-30T00:00:00.000000000",
          "2017-07-31T00:00:00.000000000",
          "2017-08-31T00:00:00.000000000",
          "2017-09-30T00:00:00.000000000",
          "2017-10-31T00:00:00.000000000",
          "2017-11-30T00:00:00.000000000",
          "2017-12-31T00:00:00.000000000",
          "2018-01-31T00:00:00.000000000",
          "2018-02-28T00:00:00.000000000",
          "2018-03-31T00:00:00.000000000",
          "2018-04-30T00:00:00.000000000",
          "2018-05-31T00:00:00.000000000",
          "2018-06-30T00:00:00.000000000",
          "2018-07-31T00:00:00.000000000",
          "2018-08-31T00:00:00.000000000",
          "2018-09-30T00:00:00.000000000",
          "2018-10-31T00:00:00.000000000",
          "2018-11-30T00:00:00.000000000",
          "2018-12-31T00:00:00.000000000",
          "2019-01-31T00:00:00.000000000",
          "2019-02-28T00:00:00.000000000",
          "2019-03-31T00:00:00.000000000",
          "2019-04-30T00:00:00.000000000",
          "2019-05-31T00:00:00.000000000",
          "2019-06-30T00:00:00.000000000",
          "2019-07-31T00:00:00.000000000",
          "2019-08-31T00:00:00.000000000",
          "2019-09-30T00:00:00.000000000",
          "2019-10-31T00:00:00.000000000",
          "2019-11-30T00:00:00.000000000",
          "2019-12-31T00:00:00.000000000",
          "2020-01-31T00:00:00.000000000",
          "2020-02-29T00:00:00.000000000",
          "2020-03-31T00:00:00.000000000",
          "2020-04-30T00:00:00.000000000",
          "2020-05-31T00:00:00.000000000",
          "2020-06-30T00:00:00.000000000",
          "2020-07-31T00:00:00.000000000",
          "2020-08-31T00:00:00.000000000",
          "2020-09-30T00:00:00.000000000",
          "2020-10-31T00:00:00.000000000",
          "2020-11-30T00:00:00.000000000",
          "2020-12-31T00:00:00.000000000",
          "2021-01-31T00:00:00.000000000",
          "2021-02-28T00:00:00.000000000",
          "2021-03-31T00:00:00.000000000",
          "2021-04-30T00:00:00.000000000",
          "2021-05-31T00:00:00.000000000",
          "2021-06-30T00:00:00.000000000",
          "2021-07-31T00:00:00.000000000",
          "2021-08-31T00:00:00.000000000",
          "2021-09-30T00:00:00.000000000",
          "2021-10-31T00:00:00.000000000",
          "2021-11-30T00:00:00.000000000",
          "2021-12-31T00:00:00.000000000",
          "2022-01-31T00:00:00.000000000",
          "2022-02-28T00:00:00.000000000",
          "2022-03-31T00:00:00.000000000",
          "2022-04-30T00:00:00.000000000",
          "2022-05-31T00:00:00.000000000",
          "2022-06-30T00:00:00.000000000",
          "2022-07-31T00:00:00.000000000",
          "2022-08-31T00:00:00.000000000",
          "2022-09-30T00:00:00.000000000",
          "2022-10-31T00:00:00.000000000",
          "2022-11-30T00:00:00.000000000",
          "2022-12-31T00:00:00.000000000",
          "2023-01-31T00:00:00.000000000",
          "2023-02-28T00:00:00.000000000",
          "2023-03-31T00:00:00.000000000",
          "2023-04-30T00:00:00.000000000",
          "2023-05-31T00:00:00.000000000",
          "2023-06-30T00:00:00.000000000",
          "2023-07-31T00:00:00.000000000",
          "2023-08-31T00:00:00.000000000",
          "2023-09-30T00:00:00.000000000",
          "2023-10-31T00:00:00.000000000",
          "2023-11-30T00:00:00.000000000",
          "2023-12-31T00:00:00.000000000",
          "2024-01-31T00:00:00.000000000",
          "2024-02-29T00:00:00.000000000",
          "2024-03-31T00:00:00.000000000",
          "2024-04-30T00:00:00.000000000",
          "2024-05-31T00:00:00.000000000",
          "2024-06-30T00:00:00.000000000",
          "2024-07-31T00:00:00.000000000",
          "2024-08-31T00:00:00.000000000",
          "2024-09-30T00:00:00.000000000",
          "2024-10-31T00:00:00.000000000",
          "2024-11-30T00:00:00.000000000",
          "2024-12-31T00:00:00.000000000",
          "2025-01-31T00:00:00.000000000",
          "2025-02-28T00:00:00.000000000",
          "2025-03-31T00:00:00.000000000",
          "2025-04-30T00:00:00.000000000",
          "2025-05-31T00:00:00.000000000",
          "2025-06-30T00:00:00.000000000",
          "2025-07-31T00:00:00.000000000",
          "2025-08-31T00:00:00.000000000",
          "2025-09-30T00:00:00.000000000",
          "2025-10-31T00:00:00.000000000",
          "2025-11-30T00:00:00.000000000",
          "2025-12-31T00:00:00.000000000",
          "2026-01-31T00:00:00.000000000",
          "2026-02-28T00:00:00.000000000"
         ],
         "y": {
          "bdata": "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",
          "dtype": "f8"
         }
        },
        {
         "fill": "tonexty",
         "fillcolor": "rgba(0, 114, 178, 0.2)",
         "line": {
          "color": "#0072B2",
          "width": 2
         },
         "mode": "lines",
         "name": "Predicted",
         "type": "scatter",
         "x": [
          "2000-01-31T00:00:00.000000000",
          "2000-02-29T00:00:00.000000000",
          "2000-03-31T00:00:00.000000000",
          "2000-04-30T00:00:00.000000000",
          "2000-05-31T00:00:00.000000000",
          "2000-06-30T00:00:00.000000000",
          "2000-07-31T00:00:00.000000000",
          "2000-08-31T00:00:00.000000000",
          "2000-09-30T00:00:00.000000000",
          "2000-10-31T00:00:00.000000000",
          "2000-11-30T00:00:00.000000000",
          "2000-12-31T00:00:00.000000000",
          "2001-01-31T00:00:00.000000000",
          "2001-02-28T00:00:00.000000000",
          "2001-03-31T00:00:00.000000000",
          "2001-04-30T00:00:00.000000000",
          "2001-05-31T00:00:00.000000000",
          "2001-06-30T00:00:00.000000000",
          "2001-07-31T00:00:00.000000000",
          "2001-08-31T00:00:00.000000000",
          "2001-09-30T00:00:00.000000000",
          "2001-10-31T00:00:00.000000000",
          "2001-11-30T00:00:00.000000000",
          "2001-12-31T00:00:00.000000000",
          "2002-01-31T00:00:00.000000000",
          "2002-02-28T00:00:00.000000000",
          "2002-03-31T00:00:00.000000000",
          "2002-04-30T00:00:00.000000000",
          "2002-05-31T00:00:00.000000000",
          "2002-06-30T00:00:00.000000000",
          "2002-07-31T00:00:00.000000000",
          "2002-08-31T00:00:00.000000000",
          "2002-09-30T00:00:00.000000000",
          "2002-10-31T00:00:00.000000000",
          "2002-11-30T00:00:00.000000000",
          "2002-12-31T00:00:00.000000000",
          "2003-01-31T00:00:00.000000000",
          "2003-02-28T00:00:00.000000000",
          "2003-03-31T00:00:00.000000000",
          "2003-04-30T00:00:00.000000000",
          "2003-05-31T00:00:00.000000000",
          "2003-06-30T00:00:00.000000000",
          "2003-07-31T00:00:00.000000000",
          "2003-08-31T00:00:00.000000000",
          "2003-09-30T00:00:00.000000000",
          "2003-10-31T00:00:00.000000000",
          "2003-11-30T00:00:00.000000000",
          "2003-12-31T00:00:00.000000000",
          "2004-01-31T00:00:00.000000000",
          "2004-02-29T00:00:00.000000000",
          "2004-03-31T00:00:00.000000000",
          "2004-04-30T00:00:00.000000000",
          "2004-05-31T00:00:00.000000000",
          "2004-06-30T00:00:00.000000000",
          "2004-07-31T00:00:00.000000000",
          "2004-08-31T00:00:00.000000000",
          "2004-09-30T00:00:00.000000000",
          "2004-10-31T00:00:00.000000000",
          "2004-11-30T00:00:00.000000000",
          "2004-12-31T00:00:00.000000000",
          "2005-01-31T00:00:00.000000000",
          "2005-02-28T00:00:00.000000000",
          "2005-03-31T00:00:00.000000000",
          "2005-04-30T00:00:00.000000000",
          "2005-05-31T00:00:00.000000000",
          "2005-06-30T00:00:00.000000000",
          "2005-07-31T00:00:00.000000000",
          "2005-08-31T00:00:00.000000000",
          "2005-09-30T00:00:00.000000000",
          "2005-10-31T00:00:00.000000000",
          "2005-11-30T00:00:00.000000000",
          "2005-12-31T00:00:00.000000000",
          "2006-01-31T00:00:00.000000000",
          "2006-02-28T00:00:00.000000000",
          "2006-03-31T00:00:00.000000000",
          "2006-04-30T00:00:00.000000000",
          "2006-05-31T00:00:00.000000000",
          "2006-06-30T00:00:00.000000000",
          "2006-07-31T00:00:00.000000000",
          "2006-08-31T00:00:00.000000000",
          "2006-09-30T00:00:00.000000000",
          "2006-10-31T00:00:00.000000000",
          "2006-11-30T00:00:00.000000000",
          "2006-12-31T00:00:00.000000000",
          "2007-01-31T00:00:00.000000000",
          "2007-02-28T00:00:00.000000000",
          "2007-03-31T00:00:00.000000000",
          "2007-04-30T00:00:00.000000000",
          "2007-05-31T00:00:00.000000000",
          "2007-06-30T00:00:00.000000000",
          "2007-07-31T00:00:00.000000000",
          "2007-08-31T00:00:00.000000000",
          "2007-09-30T00:00:00.000000000",
          "2007-10-31T00:00:00.000000000",
          "2007-11-30T00:00:00.000000000",
          "2007-12-31T00:00:00.000000000",
          "2008-01-31T00:00:00.000000000",
          "2008-02-29T00:00:00.000000000",
          "2008-03-31T00:00:00.000000000",
          "2008-04-30T00:00:00.000000000",
          "2008-05-31T00:00:00.000000000",
          "2008-06-30T00:00:00.000000000",
          "2008-07-31T00:00:00.000000000",
          "2008-08-31T00:00:00.000000000",
          "2008-09-30T00:00:00.000000000",
          "2008-10-31T00:00:00.000000000",
          "2008-11-30T00:00:00.000000000",
          "2008-12-31T00:00:00.000000000",
          "2009-01-31T00:00:00.000000000",
          "2009-02-28T00:00:00.000000000",
          "2009-03-31T00:00:00.000000000",
          "2009-04-30T00:00:00.000000000",
          "2009-05-31T00:00:00.000000000",
          "2009-06-30T00:00:00.000000000",
          "2009-07-31T00:00:00.000000000",
          "2009-08-31T00:00:00.000000000",
          "2009-09-30T00:00:00.000000000",
          "2009-10-31T00:00:00.000000000",
          "2009-11-30T00:00:00.000000000",
          "2009-12-31T00:00:00.000000000",
          "2010-01-31T00:00:00.000000000",
          "2010-02-28T00:00:00.000000000",
          "2010-03-31T00:00:00.000000000",
          "2010-04-30T00:00:00.000000000",
          "2010-05-31T00:00:00.000000000",
          "2010-06-30T00:00:00.000000000",
          "2010-07-31T00:00:00.000000000",
          "2010-08-31T00:00:00.000000000",
          "2010-09-30T00:00:00.000000000",
          "2010-10-31T00:00:00.000000000",
          "2010-11-30T00:00:00.000000000",
          "2010-12-31T00:00:00.000000000",
          "2011-01-31T00:00:00.000000000",
          "2011-02-28T00:00:00.000000000",
          "2011-03-31T00:00:00.000000000",
          "2011-04-30T00:00:00.000000000",
          "2011-05-31T00:00:00.000000000",
          "2011-06-30T00:00:00.000000000",
          "2011-07-31T00:00:00.000000000",
          "2011-08-31T00:00:00.000000000",
          "2011-09-30T00:00:00.000000000",
          "2011-10-31T00:00:00.000000000",
          "2011-11-30T00:00:00.000000000",
          "2011-12-31T00:00:00.000000000",
          "2012-01-31T00:00:00.000000000",
          "2012-02-29T00:00:00.000000000",
          "2012-03-31T00:00:00.000000000",
          "2012-04-30T00:00:00.000000000",
          "2012-05-31T00:00:00.000000000",
          "2012-06-30T00:00:00.000000000",
          "2012-07-31T00:00:00.000000000",
          "2012-08-31T00:00:00.000000000",
          "2012-09-30T00:00:00.000000000",
          "2012-10-31T00:00:00.000000000",
          "2012-11-30T00:00:00.000000000",
          "2012-12-31T00:00:00.000000000",
          "2013-01-31T00:00:00.000000000",
          "2013-02-28T00:00:00.000000000",
          "2013-03-31T00:00:00.000000000",
          "2013-04-30T00:00:00.000000000",
          "2013-05-31T00:00:00.000000000",
          "2013-06-30T00:00:00.000000000",
          "2013-07-31T00:00:00.000000000",
          "2013-08-31T00:00:00.000000000",
          "2013-09-30T00:00:00.000000000",
          "2013-10-31T00:00:00.000000000",
          "2013-11-30T00:00:00.000000000",
          "2013-12-31T00:00:00.000000000",
          "2014-01-31T00:00:00.000000000",
          "2014-02-28T00:00:00.000000000",
          "2014-03-31T00:00:00.000000000",
          "2014-04-30T00:00:00.000000000",
          "2014-05-31T00:00:00.000000000",
          "2014-06-30T00:00:00.000000000",
          "2014-07-31T00:00:00.000000000",
          "2014-08-31T00:00:00.000000000",
          "2014-09-30T00:00:00.000000000",
          "2014-10-31T00:00:00.000000000",
          "2014-11-30T00:00:00.000000000",
          "2014-12-31T00:00:00.000000000",
          "2015-01-31T00:00:00.000000000",
          "2015-02-28T00:00:00.000000000",
          "2015-03-31T00:00:00.000000000",
          "2015-04-30T00:00:00.000000000",
          "2015-05-31T00:00:00.000000000",
          "2015-06-30T00:00:00.000000000",
          "2015-07-31T00:00:00.000000000",
          "2015-08-31T00:00:00.000000000",
          "2015-09-30T00:00:00.000000000",
          "2015-10-31T00:00:00.000000000",
          "2015-11-30T00:00:00.000000000",
          "2015-12-31T00:00:00.000000000",
          "2016-01-31T00:00:00.000000000",
          "2016-02-29T00:00:00.000000000",
          "2016-03-31T00:00:00.000000000",
          "2016-04-30T00:00:00.000000000",
          "2016-05-31T00:00:00.000000000",
          "2016-06-30T00:00:00.000000000",
          "2016-07-31T00:00:00.000000000",
          "2016-08-31T00:00:00.000000000",
          "2016-09-30T00:00:00.000000000",
          "2016-10-31T00:00:00.000000000",
          "2016-11-30T00:00:00.000000000",
          "2016-12-31T00:00:00.000000000",
          "2017-01-31T00:00:00.000000000",
          "2017-02-28T00:00:00.000000000",
          "2017-03-31T00:00:00.000000000",
          "2017-04-30T00:00:00.000000000",
          "2017-05-31T00:00:00.000000000",
          "2017-06-30T00:00:00.000000000",
          "2017-07-31T00:00:00.000000000",
          "2017-08-31T00:00:00.000000000",
          "2017-09-30T00:00:00.000000000",
          "2017-10-31T00:00:00.000000000",
          "2017-11-30T00:00:00.000000000",
          "2017-12-31T00:00:00.000000000",
          "2018-01-31T00:00:00.000000000",
          "2018-02-28T00:00:00.000000000",
          "2018-03-31T00:00:00.000000000",
          "2018-04-30T00:00:00.000000000",
          "2018-05-31T00:00:00.000000000",
          "2018-06-30T00:00:00.000000000",
          "2018-07-31T00:00:00.000000000",
          "2018-08-31T00:00:00.000000000",
          "2018-09-30T00:00:00.000000000",
          "2018-10-31T00:00:00.000000000",
          "2018-11-30T00:00:00.000000000",
          "2018-12-31T00:00:00.000000000",
          "2019-01-31T00:00:00.000000000",
          "2019-02-28T00:00:00.000000000",
          "2019-03-31T00:00:00.000000000",
          "2019-04-30T00:00:00.000000000",
          "2019-05-31T00:00:00.000000000",
          "2019-06-30T00:00:00.000000000",
          "2019-07-31T00:00:00.000000000",
          "2019-08-31T00:00:00.000000000",
          "2019-09-30T00:00:00.000000000",
          "2019-10-31T00:00:00.000000000",
          "2019-11-30T00:00:00.000000000",
          "2019-12-31T00:00:00.000000000",
          "2020-01-31T00:00:00.000000000",
          "2020-02-29T00:00:00.000000000",
          "2020-03-31T00:00:00.000000000",
          "2020-04-30T00:00:00.000000000",
          "2020-05-31T00:00:00.000000000",
          "2020-06-30T00:00:00.000000000",
          "2020-07-31T00:00:00.000000000",
          "2020-08-31T00:00:00.000000000",
          "2020-09-30T00:00:00.000000000",
          "2020-10-31T00:00:00.000000000",
          "2020-11-30T00:00:00.000000000",
          "2020-12-31T00:00:00.000000000",
          "2021-01-31T00:00:00.000000000",
          "2021-02-28T00:00:00.000000000",
          "2021-03-31T00:00:00.000000000",
          "2021-04-30T00:00:00.000000000",
          "2021-05-31T00:00:00.000000000",
          "2021-06-30T00:00:00.000000000",
          "2021-07-31T00:00:00.000000000",
          "2021-08-31T00:00:00.000000000",
          "2021-09-30T00:00:00.000000000",
          "2021-10-31T00:00:00.000000000",
          "2021-11-30T00:00:00.000000000",
          "2021-12-31T00:00:00.000000000",
          "2022-01-31T00:00:00.000000000",
          "2022-02-28T00:00:00.000000000",
          "2022-03-31T00:00:00.000000000",
          "2022-04-30T00:00:00.000000000",
          "2022-05-31T00:00:00.000000000",
          "2022-06-30T00:00:00.000000000",
          "2022-07-31T00:00:00.000000000",
          "2022-08-31T00:00:00.000000000",
          "2022-09-30T00:00:00.000000000",
          "2022-10-31T00:00:00.000000000",
          "2022-11-30T00:00:00.000000000",
          "2022-12-31T00:00:00.000000000",
          "2023-01-31T00:00:00.000000000",
          "2023-02-28T00:00:00.000000000",
          "2023-03-31T00:00:00.000000000",
          "2023-04-30T00:00:00.000000000",
          "2023-05-31T00:00:00.000000000",
          "2023-06-30T00:00:00.000000000",
          "2023-07-31T00:00:00.000000000",
          "2023-08-31T00:00:00.000000000",
          "2023-09-30T00:00:00.000000000",
          "2023-10-31T00:00:00.000000000",
          "2023-11-30T00:00:00.000000000",
          "2023-12-31T00:00:00.000000000",
          "2024-01-31T00:00:00.000000000",
          "2024-02-29T00:00:00.000000000",
          "2024-03-31T00:00:00.000000000",
          "2024-04-30T00:00:00.000000000",
          "2024-05-31T00:00:00.000000000",
          "2024-06-30T00:00:00.000000000",
          "2024-07-31T00:00:00.000000000",
          "2024-08-31T00:00:00.000000000",
          "2024-09-30T00:00:00.000000000",
          "2024-10-31T00:00:00.000000000",
          "2024-11-30T00:00:00.000000000",
          "2024-12-31T00:00:00.000000000",
          "2025-01-31T00:00:00.000000000",
          "2025-02-28T00:00:00.000000000",
          "2025-03-31T00:00:00.000000000",
          "2025-04-30T00:00:00.000000000",
          "2025-05-31T00:00:00.000000000",
          "2025-06-30T00:00:00.000000000",
          "2025-07-31T00:00:00.000000000",
          "2025-08-31T00:00:00.000000000",
          "2025-09-30T00:00:00.000000000",
          "2025-10-31T00:00:00.000000000",
          "2025-11-30T00:00:00.000000000",
          "2025-12-31T00:00:00.000000000",
          "2026-01-31T00:00:00.000000000",
          "2026-02-28T00:00:00.000000000"
         ],
         "y": {
          "bdata": "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",
          "dtype": "f8"
         }
        },
        {
         "fill": "tonexty",
         "fillcolor": "rgba(0, 114, 178, 0.2)",
         "hoverinfo": "skip",
         "line": {
          "width": 0
         },
         "mode": "lines",
         "type": "scatter",
         "x": [
          "2000-01-31T00:00:00.000000000",
          "2000-02-29T00:00:00.000000000",
          "2000-03-31T00:00:00.000000000",
          "2000-04-30T00:00:00.000000000",
          "2000-05-31T00:00:00.000000000",
          "2000-06-30T00:00:00.000000000",
          "2000-07-31T00:00:00.000000000",
          "2000-08-31T00:00:00.000000000",
          "2000-09-30T00:00:00.000000000",
          "2000-10-31T00:00:00.000000000",
          "2000-11-30T00:00:00.000000000",
          "2000-12-31T00:00:00.000000000",
          "2001-01-31T00:00:00.000000000",
          "2001-02-28T00:00:00.000000000",
          "2001-03-31T00:00:00.000000000",
          "2001-04-30T00:00:00.000000000",
          "2001-05-31T00:00:00.000000000",
          "2001-06-30T00:00:00.000000000",
          "2001-07-31T00:00:00.000000000",
          "2001-08-31T00:00:00.000000000",
          "2001-09-30T00:00:00.000000000",
          "2001-10-31T00:00:00.000000000",
          "2001-11-30T00:00:00.000000000",
          "2001-12-31T00:00:00.000000000",
          "2002-01-31T00:00:00.000000000",
          "2002-02-28T00:00:00.000000000",
          "2002-03-31T00:00:00.000000000",
          "2002-04-30T00:00:00.000000000",
          "2002-05-31T00:00:00.000000000",
          "2002-06-30T00:00:00.000000000",
          "2002-07-31T00:00:00.000000000",
          "2002-08-31T00:00:00.000000000",
          "2002-09-30T00:00:00.000000000",
          "2002-10-31T00:00:00.000000000",
          "2002-11-30T00:00:00.000000000",
          "2002-12-31T00:00:00.000000000",
          "2003-01-31T00:00:00.000000000",
          "2003-02-28T00:00:00.000000000",
          "2003-03-31T00:00:00.000000000",
          "2003-04-30T00:00:00.000000000",
          "2003-05-31T00:00:00.000000000",
          "2003-06-30T00:00:00.000000000",
          "2003-07-31T00:00:00.000000000",
          "2003-08-31T00:00:00.000000000",
          "2003-09-30T00:00:00.000000000",
          "2003-10-31T00:00:00.000000000",
          "2003-11-30T00:00:00.000000000",
          "2003-12-31T00:00:00.000000000",
          "2004-01-31T00:00:00.000000000",
          "2004-02-29T00:00:00.000000000",
          "2004-03-31T00:00:00.000000000",
          "2004-04-30T00:00:00.000000000",
          "2004-05-31T00:00:00.000000000",
          "2004-06-30T00:00:00.000000000",
          "2004-07-31T00:00:00.000000000",
          "2004-08-31T00:00:00.000000000",
          "2004-09-30T00:00:00.000000000",
          "2004-10-31T00:00:00.000000000",
          "2004-11-30T00:00:00.000000000",
          "2004-12-31T00:00:00.000000000",
          "2005-01-31T00:00:00.000000000",
          "2005-02-28T00:00:00.000000000",
          "2005-03-31T00:00:00.000000000",
          "2005-04-30T00:00:00.000000000",
          "2005-05-31T00:00:00.000000000",
          "2005-06-30T00:00:00.000000000",
          "2005-07-31T00:00:00.000000000",
          "2005-08-31T00:00:00.000000000",
          "2005-09-30T00:00:00.000000000",
          "2005-10-31T00:00:00.000000000",
          "2005-11-30T00:00:00.000000000",
          "2005-12-31T00:00:00.000000000",
          "2006-01-31T00:00:00.000000000",
          "2006-02-28T00:00:00.000000000",
          "2006-03-31T00:00:00.000000000",
          "2006-04-30T00:00:00.000000000",
          "2006-05-31T00:00:00.000000000",
          "2006-06-30T00:00:00.000000000",
          "2006-07-31T00:00:00.000000000",
          "2006-08-31T00:00:00.000000000",
          "2006-09-30T00:00:00.000000000",
          "2006-10-31T00:00:00.000000000",
          "2006-11-30T00:00:00.000000000",
          "2006-12-31T00:00:00.000000000",
          "2007-01-31T00:00:00.000000000",
          "2007-02-28T00:00:00.000000000",
          "2007-03-31T00:00:00.000000000",
          "2007-04-30T00:00:00.000000000",
          "2007-05-31T00:00:00.000000000",
          "2007-06-30T00:00:00.000000000",
          "2007-07-31T00:00:00.000000000",
          "2007-08-31T00:00:00.000000000",
          "2007-09-30T00:00:00.000000000",
          "2007-10-31T00:00:00.000000000",
          "2007-11-30T00:00:00.000000000",
          "2007-12-31T00:00:00.000000000",
          "2008-01-31T00:00:00.000000000",
          "2008-02-29T00:00:00.000000000",
          "2008-03-31T00:00:00.000000000",
          "2008-04-30T00:00:00.000000000",
          "2008-05-31T00:00:00.000000000",
          "2008-06-30T00:00:00.000000000",
          "2008-07-31T00:00:00.000000000",
          "2008-08-31T00:00:00.000000000",
          "2008-09-30T00:00:00.000000000",
          "2008-10-31T00:00:00.000000000",
          "2008-11-30T00:00:00.000000000",
          "2008-12-31T00:00:00.000000000",
          "2009-01-31T00:00:00.000000000",
          "2009-02-28T00:00:00.000000000",
          "2009-03-31T00:00:00.000000000",
          "2009-04-30T00:00:00.000000000",
          "2009-05-31T00:00:00.000000000",
          "2009-06-30T00:00:00.000000000",
          "2009-07-31T00:00:00.000000000",
          "2009-08-31T00:00:00.000000000",
          "2009-09-30T00:00:00.000000000",
          "2009-10-31T00:00:00.000000000",
          "2009-11-30T00:00:00.000000000",
          "2009-12-31T00:00:00.000000000",
          "2010-01-31T00:00:00.000000000",
          "2010-02-28T00:00:00.000000000",
          "2010-03-31T00:00:00.000000000",
          "2010-04-30T00:00:00.000000000",
          "2010-05-31T00:00:00.000000000",
          "2010-06-30T00:00:00.000000000",
          "2010-07-31T00:00:00.000000000",
          "2010-08-31T00:00:00.000000000",
          "2010-09-30T00:00:00.000000000",
          "2010-10-31T00:00:00.000000000",
          "2010-11-30T00:00:00.000000000",
          "2010-12-31T00:00:00.000000000",
          "2011-01-31T00:00:00.000000000",
          "2011-02-28T00:00:00.000000000",
          "2011-03-31T00:00:00.000000000",
          "2011-04-30T00:00:00.000000000",
          "2011-05-31T00:00:00.000000000",
          "2011-06-30T00:00:00.000000000",
          "2011-07-31T00:00:00.000000000",
          "2011-08-31T00:00:00.000000000",
          "2011-09-30T00:00:00.000000000",
          "2011-10-31T00:00:00.000000000",
          "2011-11-30T00:00:00.000000000",
          "2011-12-31T00:00:00.000000000",
          "2012-01-31T00:00:00.000000000",
          "2012-02-29T00:00:00.000000000",
          "2012-03-31T00:00:00.000000000",
          "2012-04-30T00:00:00.000000000",
          "2012-05-31T00:00:00.000000000",
          "2012-06-30T00:00:00.000000000",
          "2012-07-31T00:00:00.000000000",
          "2012-08-31T00:00:00.000000000",
          "2012-09-30T00:00:00.000000000",
          "2012-10-31T00:00:00.000000000",
          "2012-11-30T00:00:00.000000000",
          "2012-12-31T00:00:00.000000000",
          "2013-01-31T00:00:00.000000000",
          "2013-02-28T00:00:00.000000000",
          "2013-03-31T00:00:00.000000000",
          "2013-04-30T00:00:00.000000000",
          "2013-05-31T00:00:00.000000000",
          "2013-06-30T00:00:00.000000000",
          "2013-07-31T00:00:00.000000000",
          "2013-08-31T00:00:00.000000000",
          "2013-09-30T00:00:00.000000000",
          "2013-10-31T00:00:00.000000000",
          "2013-11-30T00:00:00.000000000",
          "2013-12-31T00:00:00.000000000",
          "2014-01-31T00:00:00.000000000",
          "2014-02-28T00:00:00.000000000",
          "2014-03-31T00:00:00.000000000",
          "2014-04-30T00:00:00.000000000",
          "2014-05-31T00:00:00.000000000",
          "2014-06-30T00:00:00.000000000",
          "2014-07-31T00:00:00.000000000",
          "2014-08-31T00:00:00.000000000",
          "2014-09-30T00:00:00.000000000",
          "2014-10-31T00:00:00.000000000",
          "2014-11-30T00:00:00.000000000",
          "2014-12-31T00:00:00.000000000",
          "2015-01-31T00:00:00.000000000",
          "2015-02-28T00:00:00.000000000",
          "2015-03-31T00:00:00.000000000",
          "2015-04-30T00:00:00.000000000",
          "2015-05-31T00:00:00.000000000",
          "2015-06-30T00:00:00.000000000",
          "2015-07-31T00:00:00.000000000",
          "2015-08-31T00:00:00.000000000",
          "2015-09-30T00:00:00.000000000",
          "2015-10-31T00:00:00.000000000",
          "2015-11-30T00:00:00.000000000",
          "2015-12-31T00:00:00.000000000",
          "2016-01-31T00:00:00.000000000",
          "2016-02-29T00:00:00.000000000",
          "2016-03-31T00:00:00.000000000",
          "2016-04-30T00:00:00.000000000",
          "2016-05-31T00:00:00.000000000",
          "2016-06-30T00:00:00.000000000",
          "2016-07-31T00:00:00.000000000",
          "2016-08-31T00:00:00.000000000",
          "2016-09-30T00:00:00.000000000",
          "2016-10-31T00:00:00.000000000",
          "2016-11-30T00:00:00.000000000",
          "2016-12-31T00:00:00.000000000",
          "2017-01-31T00:00:00.000000000",
          "2017-02-28T00:00:00.000000000",
          "2017-03-31T00:00:00.000000000",
          "2017-04-30T00:00:00.000000000",
          "2017-05-31T00:00:00.000000000",
          "2017-06-30T00:00:00.000000000",
          "2017-07-31T00:00:00.000000000",
          "2017-08-31T00:00:00.000000000",
          "2017-09-30T00:00:00.000000000",
          "2017-10-31T00:00:00.000000000",
          "2017-11-30T00:00:00.000000000",
          "2017-12-31T00:00:00.000000000",
          "2018-01-31T00:00:00.000000000",
          "2018-02-28T00:00:00.000000000",
          "2018-03-31T00:00:00.000000000",
          "2018-04-30T00:00:00.000000000",
          "2018-05-31T00:00:00.000000000",
          "2018-06-30T00:00:00.000000000",
          "2018-07-31T00:00:00.000000000",
          "2018-08-31T00:00:00.000000000",
          "2018-09-30T00:00:00.000000000",
          "2018-10-31T00:00:00.000000000",
          "2018-11-30T00:00:00.000000000",
          "2018-12-31T00:00:00.000000000",
          "2019-01-31T00:00:00.000000000",
          "2019-02-28T00:00:00.000000000",
          "2019-03-31T00:00:00.000000000",
          "2019-04-30T00:00:00.000000000",
          "2019-05-31T00:00:00.000000000",
          "2019-06-30T00:00:00.000000000",
          "2019-07-31T00:00:00.000000000",
          "2019-08-31T00:00:00.000000000",
          "2019-09-30T00:00:00.000000000",
          "2019-10-31T00:00:00.000000000",
          "2019-11-30T00:00:00.000000000",
          "2019-12-31T00:00:00.000000000",
          "2020-01-31T00:00:00.000000000",
          "2020-02-29T00:00:00.000000000",
          "2020-03-31T00:00:00.000000000",
          "2020-04-30T00:00:00.000000000",
          "2020-05-31T00:00:00.000000000",
          "2020-06-30T00:00:00.000000000",
          "2020-07-31T00:00:00.000000000",
          "2020-08-31T00:00:00.000000000",
          "2020-09-30T00:00:00.000000000",
          "2020-10-31T00:00:00.000000000",
          "2020-11-30T00:00:00.000000000",
          "2020-12-31T00:00:00.000000000",
          "2021-01-31T00:00:00.000000000",
          "2021-02-28T00:00:00.000000000",
          "2021-03-31T00:00:00.000000000",
          "2021-04-30T00:00:00.000000000",
          "2021-05-31T00:00:00.000000000",
          "2021-06-30T00:00:00.000000000",
          "2021-07-31T00:00:00.000000000",
          "2021-08-31T00:00:00.000000000",
          "2021-09-30T00:00:00.000000000",
          "2021-10-31T00:00:00.000000000",
          "2021-11-30T00:00:00.000000000",
          "2021-12-31T00:00:00.000000000",
          "2022-01-31T00:00:00.000000000",
          "2022-02-28T00:00:00.000000000",
          "2022-03-31T00:00:00.000000000",
          "2022-04-30T00:00:00.000000000",
          "2022-05-31T00:00:00.000000000",
          "2022-06-30T00:00:00.000000000",
          "2022-07-31T00:00:00.000000000",
          "2022-08-31T00:00:00.000000000",
          "2022-09-30T00:00:00.000000000",
          "2022-10-31T00:00:00.000000000",
          "2022-11-30T00:00:00.000000000",
          "2022-12-31T00:00:00.000000000",
          "2023-01-31T00:00:00.000000000",
          "2023-02-28T00:00:00.000000000",
          "2023-03-31T00:00:00.000000000",
          "2023-04-30T00:00:00.000000000",
          "2023-05-31T00:00:00.000000000",
          "2023-06-30T00:00:00.000000000",
          "2023-07-31T00:00:00.000000000",
          "2023-08-31T00:00:00.000000000",
          "2023-09-30T00:00:00.000000000",
          "2023-10-31T00:00:00.000000000",
          "2023-11-30T00:00:00.000000000",
          "2023-12-31T00:00:00.000000000",
          "2024-01-31T00:00:00.000000000",
          "2024-02-29T00:00:00.000000000",
          "2024-03-31T00:00:00.000000000",
          "2024-04-30T00:00:00.000000000",
          "2024-05-31T00:00:00.000000000",
          "2024-06-30T00:00:00.000000000",
          "2024-07-31T00:00:00.000000000",
          "2024-08-31T00:00:00.000000000",
          "2024-09-30T00:00:00.000000000",
          "2024-10-31T00:00:00.000000000",
          "2024-11-30T00:00:00.000000000",
          "2024-12-31T00:00:00.000000000",
          "2025-01-31T00:00:00.000000000",
          "2025-02-28T00:00:00.000000000",
          "2025-03-31T00:00:00.000000000",
          "2025-04-30T00:00:00.000000000",
          "2025-05-31T00:00:00.000000000",
          "2025-06-30T00:00:00.000000000",
          "2025-07-31T00:00:00.000000000",
          "2025-08-31T00:00:00.000000000",
          "2025-09-30T00:00:00.000000000",
          "2025-10-31T00:00:00.000000000",
          "2025-11-30T00:00:00.000000000",
          "2025-12-31T00:00:00.000000000",
          "2026-01-31T00:00:00.000000000",
          "2026-02-28T00:00:00.000000000"
         ],
         "y": {
          "bdata": "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",
          "dtype": "f8"
         }
        }
       ],
       "layout": {
        "height": 600,
        "showlegend": false,
        "template": {
         "data": {
          "bar": [
           {
            "error_x": {
             "color": "#2a3f5f"
            },
            "error_y": {
             "color": "#2a3f5f"
            },
            "marker": {
             "line": {
              "color": "#E5ECF6",
              "width": 0.5
             },
             "pattern": {
              "fillmode": "overlay",
              "size": 10,
              "solidity": 0.2
             }
            },
            "type": "bar"
           }
          ],
          "barpolar": [
           {
            "marker": {
             "line": {
              "color": "#E5ECF6",
              "width": 0.5
             },
             "pattern": {
              "fillmode": "overlay",
              "size": 10,
              "solidity": 0.2
             }
            },
            "type": "barpolar"
           }
          ],
          "carpet": [
           {
            "aaxis": {
             "endlinecolor": "#2a3f5f",
             "gridcolor": "white",
             "linecolor": "white",
             "minorgridcolor": "white",
             "startlinecolor": "#2a3f5f"
            },
            "baxis": {
             "endlinecolor": "#2a3f5f",
             "gridcolor": "white",
             "linecolor": "white",
             "minorgridcolor": "white",
             "startlinecolor": "#2a3f5f"
            },
            "type": "carpet"
           }
          ],
          "choropleth": [
           {
            "colorbar": {
             "outlinewidth": 0,
             "ticks": ""
            },
            "type": "choropleth"
           }
          ],
          "contour": [
           {
            "colorbar": {
             "outlinewidth": 0,
             "ticks": ""
            },
            "colorscale": [
             [
              0,
              "#0d0887"
             ],
             [
              0.1111111111111111,
              "#46039f"
             ],
             [
              0.2222222222222222,
              "#7201a8"
             ],
             [
              0.3333333333333333,
              "#9c179e"
             ],
             [
              0.4444444444444444,
              "#bd3786"
             ],
             [
              0.5555555555555556,
              "#d8576b"
             ],
             [
              0.6666666666666666,
              "#ed7953"
             ],
             [
              0.7777777777777778,
              "#fb9f3a"
             ],
             [
              0.8888888888888888,
              "#fdca26"
             ],
             [
              1,
              "#f0f921"
             ]
            ],
            "type": "contour"
           }
          ],
          "contourcarpet": [
           {
            "colorbar": {
             "outlinewidth": 0,
             "ticks": ""
            },
            "type": "contourcarpet"
           }
          ],
          "heatmap": [
           {
            "colorbar": {
             "outlinewidth": 0,
             "ticks": ""
            },
            "colorscale": [
             [
              0,
              "#0d0887"
             ],
             [
              0.1111111111111111,
              "#46039f"
             ],
             [
              0.2222222222222222,
              "#7201a8"
             ],
             [
              0.3333333333333333,
              "#9c179e"
             ],
             [
              0.4444444444444444,
              "#bd3786"
             ],
             [
              0.5555555555555556,
              "#d8576b"
             ],
             [
              0.6666666666666666,
              "#ed7953"
             ],
             [
              0.7777777777777778,
              "#fb9f3a"
             ],
             [
              0.8888888888888888,
              "#fdca26"
             ],
             [
              1,
              "#f0f921"
             ]
            ],
            "type": "heatmap"
           }
          ],
          "histogram": [
           {
            "marker": {
             "pattern": {
              "fillmode": "overlay",
              "size": 10,
              "solidity": 0.2
             }
            },
            "type": "histogram"
           }
          ],
          "histogram2d": [
           {
            "colorbar": {
             "outlinewidth": 0,
             "ticks": ""
            },
            "colorscale": [
             [
              0,
              "#0d0887"
             ],
             [
              0.1111111111111111,
              "#46039f"
             ],
             [
              0.2222222222222222,
              "#7201a8"
             ],
             [
              0.3333333333333333,
              "#9c179e"
             ],
             [
              0.4444444444444444,
              "#bd3786"
             ],
             [
              0.5555555555555556,
              "#d8576b"
             ],
             [
              0.6666666666666666,
              "#ed7953"
             ],
             [
              0.7777777777777778,
              "#fb9f3a"
             ],
             [
              0.8888888888888888,
              "#fdca26"
             ],
             [
              1,
              "#f0f921"
             ]
            ],
            "type": "histogram2d"
           }
          ],
          "histogram2dcontour": [
           {
            "colorbar": {
             "outlinewidth": 0,
             "ticks": ""
            },
            "colorscale": [
             [
              0,
              "#0d0887"
             ],
             [
              0.1111111111111111,
              "#46039f"
             ],
             [
              0.2222222222222222,
              "#7201a8"
             ],
             [
              0.3333333333333333,
              "#9c179e"
             ],
             [
              0.4444444444444444,
              "#bd3786"
             ],
             [
              0.5555555555555556,
              "#d8576b"
             ],
             [
              0.6666666666666666,
              "#ed7953"
             ],
             [
              0.7777777777777778,
              "#fb9f3a"
             ],
             [
              0.8888888888888888,
              "#fdca26"
             ],
             [
              1,
              "#f0f921"
             ]
            ],
            "type": "histogram2dcontour"
           }
          ],
          "mesh3d": [
           {
            "colorbar": {
             "outlinewidth": 0,
             "ticks": ""
            },
            "type": "mesh3d"
           }
          ],
          "parcoords": [
           {
            "line": {
             "colorbar": {
              "outlinewidth": 0,
              "ticks": ""
             }
            },
            "type": "parcoords"
           }
          ],
          "pie": [
           {
            "automargin": true,
            "type": "pie"
           }
          ],
          "scatter": [
           {
            "fillpattern": {
             "fillmode": "overlay",
             "size": 10,
             "solidity": 0.2
            },
            "type": "scatter"
           }
          ],
          "scatter3d": [
           {
            "line": {
             "colorbar": {
              "outlinewidth": 0,
              "ticks": ""
             }
            },
            "marker": {
             "colorbar": {
              "outlinewidth": 0,
              "ticks": ""
             }
            },
            "type": "scatter3d"
           }
          ],
          "scattercarpet": [
           {
            "marker": {
             "colorbar": {
              "outlinewidth": 0,
              "ticks": ""
             }
            },
            "type": "scattercarpet"
           }
          ],
          "scattergeo": [
           {
            "marker": {
             "colorbar": {
              "outlinewidth": 0,
              "ticks": ""
             }
            },
            "type": "scattergeo"
           }
          ],
          "scattergl": [
           {
            "marker": {
             "colorbar": {
              "outlinewidth": 0,
              "ticks": ""
             }
            },
            "type": "scattergl"
           }
          ],
          "scattermap": [
           {
            "marker": {
             "colorbar": {
              "outlinewidth": 0,
              "ticks": ""
             }
            },
            "type": "scattermap"
           }
          ],
          "scattermapbox": [
           {
            "marker": {
             "colorbar": {
              "outlinewidth": 0,
              "ticks": ""
             }
            },
            "type": "scattermapbox"
           }
          ],
          "scatterpolar": [
           {
            "marker": {
             "colorbar": {
              "outlinewidth": 0,
              "ticks": ""
             }
            },
            "type": "scatterpolar"
           }
          ],
          "scatterpolargl": [
           {
            "marker": {
             "colorbar": {
              "outlinewidth": 0,
              "ticks": ""
             }
            },
            "type": "scatterpolargl"
           }
          ],
          "scatterternary": [
           {
            "marker": {
             "colorbar": {
              "outlinewidth": 0,
              "ticks": ""
             }
            },
            "type": "scatterternary"
           }
          ],
          "surface": [
           {
            "colorbar": {
             "outlinewidth": 0,
             "ticks": ""
            },
            "colorscale": [
             [
              0,
              "#0d0887"
             ],
             [
              0.1111111111111111,
              "#46039f"
             ],
             [
              0.2222222222222222,
              "#7201a8"
             ],
             [
              0.3333333333333333,
              "#9c179e"
             ],
             [
              0.4444444444444444,
              "#bd3786"
             ],
             [
              0.5555555555555556,
              "#d8576b"
             ],
             [
              0.6666666666666666,
              "#ed7953"
             ],
             [
              0.7777777777777778,
              "#fb9f3a"
             ],
             [
              0.8888888888888888,
              "#fdca26"
             ],
             [
              1,
              "#f0f921"
             ]
            ],
            "type": "surface"
           }
          ],
          "table": [
           {
            "cells": {
             "fill": {
              "color": "#EBF0F8"
             },
             "line": {
              "color": "white"
             }
            },
            "header": {
             "fill": {
              "color": "#C8D4E3"
             },
             "line": {
              "color": "white"
             }
            },
            "type": "table"
           }
          ]
         },
         "layout": {
          "annotationdefaults": {
           "arrowcolor": "#2a3f5f",
           "arrowhead": 0,
           "arrowwidth": 1
          },
          "autotypenumbers": "strict",
          "coloraxis": {
           "colorbar": {
            "outlinewidth": 0,
            "ticks": ""
           }
          },
          "colorscale": {
           "diverging": [
            [
             0,
             "#8e0152"
            ],
            [
             0.1,
             "#c51b7d"
            ],
            [
             0.2,
             "#de77ae"
            ],
            [
             0.3,
             "#f1b6da"
            ],
            [
             0.4,
             "#fde0ef"
            ],
            [
             0.5,
             "#f7f7f7"
            ],
            [
             0.6,
             "#e6f5d0"
            ],
            [
             0.7,
             "#b8e186"
            ],
            [
             0.8,
             "#7fbc41"
            ],
            [
             0.9,
             "#4d9221"
            ],
            [
             1,
             "#276419"
            ]
           ],
           "sequential": [
            [
             0,
             "#0d0887"
            ],
            [
             0.1111111111111111,
             "#46039f"
            ],
            [
             0.2222222222222222,
             "#7201a8"
            ],
            [
             0.3333333333333333,
             "#9c179e"
            ],
            [
             0.4444444444444444,
             "#bd3786"
            ],
            [
             0.5555555555555556,
             "#d8576b"
            ],
            [
             0.6666666666666666,
             "#ed7953"
            ],
            [
             0.7777777777777778,
             "#fb9f3a"
            ],
            [
             0.8888888888888888,
             "#fdca26"
            ],
            [
             1,
             "#f0f921"
            ]
           ],
           "sequentialminus": [
            [
             0,
             "#0d0887"
            ],
            [
             0.1111111111111111,
             "#46039f"
            ],
            [
             0.2222222222222222,
             "#7201a8"
            ],
            [
             0.3333333333333333,
             "#9c179e"
            ],
            [
             0.4444444444444444,
             "#bd3786"
            ],
            [
             0.5555555555555556,
             "#d8576b"
            ],
            [
             0.6666666666666666,
             "#ed7953"
            ],
            [
             0.7777777777777778,
             "#fb9f3a"
            ],
            [
             0.8888888888888888,
             "#fdca26"
            ],
            [
             1,
             "#f0f921"
            ]
           ]
          },
          "colorway": [
           "#636efa",
           "#EF553B",
           "#00cc96",
           "#ab63fa",
           "#FFA15A",
           "#19d3f3",
           "#FF6692",
           "#B6E880",
           "#FF97FF",
           "#FECB52"
          ],
          "font": {
           "color": "#2a3f5f"
          },
          "geo": {
           "bgcolor": "white",
           "lakecolor": "white",
           "landcolor": "#E5ECF6",
           "showlakes": true,
           "showland": true,
           "subunitcolor": "white"
          },
          "hoverlabel": {
           "align": "left"
          },
          "hovermode": "closest",
          "mapbox": {
           "style": "light"
          },
          "paper_bgcolor": "white",
          "plot_bgcolor": "#E5ECF6",
          "polar": {
           "angularaxis": {
            "gridcolor": "white",
            "linecolor": "white",
            "ticks": ""
           },
           "bgcolor": "#E5ECF6",
           "radialaxis": {
            "gridcolor": "white",
            "linecolor": "white",
            "ticks": ""
           }
          },
          "scene": {
           "xaxis": {
            "backgroundcolor": "#E5ECF6",
            "gridcolor": "white",
            "gridwidth": 2,
            "linecolor": "white",
            "showbackground": true,
            "ticks": "",
            "zerolinecolor": "white"
           },
           "yaxis": {
            "backgroundcolor": "#E5ECF6",
            "gridcolor": "white",
            "gridwidth": 2,
            "linecolor": "white",
            "showbackground": true,
            "ticks": "",
            "zerolinecolor": "white"
           },
           "zaxis": {
            "backgroundcolor": "#E5ECF6",
            "gridcolor": "white",
            "gridwidth": 2,
            "linecolor": "white",
            "showbackground": true,
            "ticks": "",
            "zerolinecolor": "white"
           }
          },
          "shapedefaults": {
           "line": {
            "color": "#2a3f5f"
           }
          },
          "ternary": {
           "aaxis": {
            "gridcolor": "white",
            "linecolor": "white",
            "ticks": ""
           },
           "baxis": {
            "gridcolor": "white",
            "linecolor": "white",
            "ticks": ""
           },
           "bgcolor": "#E5ECF6",
           "caxis": {
            "gridcolor": "white",
            "linecolor": "white",
            "ticks": ""
           }
          },
          "title": {
           "x": 0.05
          },
          "xaxis": {
           "automargin": true,
           "gridcolor": "white",
           "linecolor": "white",
           "ticks": "",
           "title": {
            "standoff": 15
           },
           "zerolinecolor": "white",
           "zerolinewidth": 2
          },
          "yaxis": {
           "automargin": true,
           "gridcolor": "white",
           "linecolor": "white",
           "ticks": "",
           "title": {
            "standoff": 15
           },
           "zerolinecolor": "white",
           "zerolinewidth": 2
          }
         }
        },
        "width": 900,
        "xaxis": {
         "rangeselector": {
          "buttons": [
           {
            "count": 7,
            "label": "1w",
            "step": "day",
            "stepmode": "backward"
           },
           {
            "count": 1,
            "label": "1m",
            "step": "month",
            "stepmode": "backward"
           },
           {
            "count": 6,
            "label": "6m",
            "step": "month",
            "stepmode": "backward"
           },
           {
            "count": 1,
            "label": "1y",
            "step": "year",
            "stepmode": "backward"
           },
           {
            "step": "all"
           }
          ]
         },
         "rangeslider": {
          "visible": true
         },
         "title": {
          "text": "ds"
         },
         "type": "date"
        },
        "yaxis": {
         "title": {
          "text": "y"
         }
        }
       }
      }
     },
     "metadata": {},
     "output_type": "display_data"
    }
   ],
   "source": [
    "from prophet.plot import plot_plotly\n",
    "plot_plotly(m=model, fcst=forecast)"
   ]
  },
  {
   "cell_type": "code",
   "execution_count": null,
   "metadata": {},
   "outputs": [],
   "source": [
    "actual = forecast[forecast['ds'] <= last_date].copy()\n",
    "predicted = forecast[forecast['ds'] > last_date].copy()"
   ]
  },
  {
   "cell_type": "code",
   "execution_count": 35,
   "metadata": {},
   "outputs": [
    {
     "data": {
      "application/vnd.plotly.v1+json": {
       "config": {
        "plotlyServerURL": "https://plot.ly"
       },
       "data": [
        {
         "marker": {
          "color": "black",
          "size": 4
         },
         "mode": "markers",
         "name": "Actual",
         "type": "scatter",
         "x": [
          "2000-01-31T00:00:00.000000000",
          "2000-02-29T00:00:00.000000000",
          "2000-03-31T00:00:00.000000000",
          "2000-04-30T00:00:00.000000000",
          "2000-05-31T00:00:00.000000000",
          "2000-06-30T00:00:00.000000000",
          "2000-07-31T00:00:00.000000000",
          "2000-08-31T00:00:00.000000000",
          "2000-09-30T00:00:00.000000000",
          "2000-10-31T00:00:00.000000000",
          "2000-11-30T00:00:00.000000000",
          "2000-12-31T00:00:00.000000000",
          "2001-01-31T00:00:00.000000000",
          "2001-02-28T00:00:00.000000000",
          "2001-03-31T00:00:00.000000000",
          "2001-04-30T00:00:00.000000000",
          "2001-05-31T00:00:00.000000000",
          "2001-06-30T00:00:00.000000000",
          "2001-07-31T00:00:00.000000000",
          "2001-08-31T00:00:00.000000000",
          "2001-09-30T00:00:00.000000000",
          "2001-10-31T00:00:00.000000000",
          "2001-11-30T00:00:00.000000000",
          "2001-12-31T00:00:00.000000000",
          "2002-01-31T00:00:00.000000000",
          "2002-02-28T00:00:00.000000000",
          "2002-03-31T00:00:00.000000000",
          "2002-04-30T00:00:00.000000000",
          "2002-05-31T00:00:00.000000000",
          "2002-06-30T00:00:00.000000000",
          "2002-07-31T00:00:00.000000000",
          "2002-08-31T00:00:00.000000000",
          "2002-09-30T00:00:00.000000000",
          "2002-10-31T00:00:00.000000000",
          "2002-11-30T00:00:00.000000000",
          "2002-12-31T00:00:00.000000000",
          "2003-01-31T00:00:00.000000000",
          "2003-02-28T00:00:00.000000000",
          "2003-03-31T00:00:00.000000000",
          "2003-04-30T00:00:00.000000000",
          "2003-05-31T00:00:00.000000000",
          "2003-06-30T00:00:00.000000000",
          "2003-07-31T00:00:00.000000000",
          "2003-08-31T00:00:00.000000000",
          "2003-09-30T00:00:00.000000000",
          "2003-10-31T00:00:00.000000000",
          "2003-11-30T00:00:00.000000000",
          "2003-12-31T00:00:00.000000000",
          "2004-01-31T00:00:00.000000000",
          "2004-02-29T00:00:00.000000000",
          "2004-03-31T00:00:00.000000000",
          "2004-04-30T00:00:00.000000000",
          "2004-05-31T00:00:00.000000000",
          "2004-06-30T00:00:00.000000000",
          "2004-07-31T00:00:00.000000000",
          "2004-08-31T00:00:00.000000000",
          "2004-09-30T00:00:00.000000000",
          "2004-10-31T00:00:00.000000000",
          "2004-11-30T00:00:00.000000000",
          "2004-12-31T00:00:00.000000000",
          "2005-01-31T00:00:00.000000000",
          "2005-02-28T00:00:00.000000000",
          "2005-03-31T00:00:00.000000000",
          "2005-04-30T00:00:00.000000000",
          "2005-05-31T00:00:00.000000000",
          "2005-06-30T00:00:00.000000000",
          "2005-07-31T00:00:00.000000000",
          "2005-08-31T00:00:00.000000000",
          "2005-09-30T00:00:00.000000000",
          "2005-10-31T00:00:00.000000000",
          "2005-11-30T00:00:00.000000000",
          "2005-12-31T00:00:00.000000000",
          "2006-01-31T00:00:00.000000000",
          "2006-02-28T00:00:00.000000000",
          "2006-03-31T00:00:00.000000000",
          "2006-04-30T00:00:00.000000000",
          "2006-05-31T00:00:00.000000000",
          "2006-06-30T00:00:00.000000000",
          "2006-07-31T00:00:00.000000000",
          "2006-08-31T00:00:00.000000000",
          "2006-09-30T00:00:00.000000000",
          "2006-10-31T00:00:00.000000000",
          "2006-11-30T00:00:00.000000000",
          "2006-12-31T00:00:00.000000000",
          "2007-01-31T00:00:00.000000000",
          "2007-02-28T00:00:00.000000000",
          "2007-03-31T00:00:00.000000000",
          "2007-04-30T00:00:00.000000000",
          "2007-05-31T00:00:00.000000000",
          "2007-06-30T00:00:00.000000000",
          "2007-07-31T00:00:00.000000000",
          "2007-08-31T00:00:00.000000000",
          "2007-09-30T00:00:00.000000000",
          "2007-10-31T00:00:00.000000000",
          "2007-11-30T00:00:00.000000000",
          "2007-12-31T00:00:00.000000000",
          "2008-01-31T00:00:00.000000000",
          "2008-02-29T00:00:00.000000000",
          "2008-03-31T00:00:00.000000000",
          "2008-04-30T00:00:00.000000000",
          "2008-05-31T00:00:00.000000000",
          "2008-06-30T00:00:00.000000000",
          "2008-07-31T00:00:00.000000000",
          "2008-08-31T00:00:00.000000000",
          "2008-09-30T00:00:00.000000000",
          "2008-10-31T00:00:00.000000000",
          "2008-11-30T00:00:00.000000000",
          "2008-12-31T00:00:00.000000000",
          "2009-01-31T00:00:00.000000000",
          "2009-02-28T00:00:00.000000000",
          "2009-03-31T00:00:00.000000000",
          "2009-04-30T00:00:00.000000000",
          "2009-05-31T00:00:00.000000000",
          "2009-06-30T00:00:00.000000000",
          "2009-07-31T00:00:00.000000000",
          "2009-08-31T00:00:00.000000000",
          "2009-09-30T00:00:00.000000000",
          "2009-10-31T00:00:00.000000000",
          "2009-11-30T00:00:00.000000000",
          "2009-12-31T00:00:00.000000000",
          "2010-01-31T00:00:00.000000000",
          "2010-02-28T00:00:00.000000000",
          "2010-03-31T00:00:00.000000000",
          "2010-04-30T00:00:00.000000000",
          "2010-05-31T00:00:00.000000000",
          "2010-06-30T00:00:00.000000000",
          "2010-07-31T00:00:00.000000000",
          "2010-08-31T00:00:00.000000000",
          "2010-09-30T00:00:00.000000000",
          "2010-10-31T00:00:00.000000000",
          "2010-11-30T00:00:00.000000000",
          "2010-12-31T00:00:00.000000000",
          "2011-01-31T00:00:00.000000000",
          "2011-02-28T00:00:00.000000000",
          "2011-03-31T00:00:00.000000000",
          "2011-04-30T00:00:00.000000000",
          "2011-05-31T00:00:00.000000000",
          "2011-06-30T00:00:00.000000000",
          "2011-07-31T00:00:00.000000000",
          "2011-08-31T00:00:00.000000000",
          "2011-09-30T00:00:00.000000000",
          "2011-10-31T00:00:00.000000000",
          "2011-11-30T00:00:00.000000000",
          "2011-12-31T00:00:00.000000000",
          "2012-01-31T00:00:00.000000000",
          "2012-02-29T00:00:00.000000000",
          "2012-03-31T00:00:00.000000000",
          "2012-04-30T00:00:00.000000000",
          "2012-05-31T00:00:00.000000000",
          "2012-06-30T00:00:00.000000000",
          "2012-07-31T00:00:00.000000000",
          "2012-08-31T00:00:00.000000000",
          "2012-09-30T00:00:00.000000000",
          "2012-10-31T00:00:00.000000000",
          "2012-11-30T00:00:00.000000000",
          "2012-12-31T00:00:00.000000000",
          "2013-01-31T00:00:00.000000000",
          "2013-02-28T00:00:00.000000000",
          "2013-03-31T00:00:00.000000000",
          "2013-04-30T00:00:00.000000000",
          "2013-05-31T00:00:00.000000000",
          "2013-06-30T00:00:00.000000000",
          "2013-07-31T00:00:00.000000000",
          "2013-08-31T00:00:00.000000000",
          "2013-09-30T00:00:00.000000000",
          "2013-10-31T00:00:00.000000000",
          "2013-11-30T00:00:00.000000000",
          "2013-12-31T00:00:00.000000000",
          "2014-01-31T00:00:00.000000000",
          "2014-02-28T00:00:00.000000000",
          "2014-03-31T00:00:00.000000000",
          "2014-04-30T00:00:00.000000000",
          "2014-05-31T00:00:00.000000000",
          "2014-06-30T00:00:00.000000000",
          "2014-07-31T00:00:00.000000000",
          "2014-08-31T00:00:00.000000000",
          "2014-09-30T00:00:00.000000000",
          "2014-10-31T00:00:00.000000000",
          "2014-11-30T00:00:00.000000000",
          "2014-12-31T00:00:00.000000000",
          "2015-01-31T00:00:00.000000000",
          "2015-02-28T00:00:00.000000000",
          "2015-03-31T00:00:00.000000000",
          "2015-04-30T00:00:00.000000000",
          "2015-05-31T00:00:00.000000000",
          "2015-06-30T00:00:00.000000000",
          "2015-07-31T00:00:00.000000000",
          "2015-08-31T00:00:00.000000000",
          "2015-09-30T00:00:00.000000000",
          "2015-10-31T00:00:00.000000000",
          "2015-11-30T00:00:00.000000000",
          "2015-12-31T00:00:00.000000000",
          "2016-01-31T00:00:00.000000000",
          "2016-02-29T00:00:00.000000000",
          "2016-03-31T00:00:00.000000000",
          "2016-04-30T00:00:00.000000000",
          "2016-05-31T00:00:00.000000000",
          "2016-06-30T00:00:00.000000000",
          "2016-07-31T00:00:00.000000000",
          "2016-08-31T00:00:00.000000000",
          "2016-09-30T00:00:00.000000000",
          "2016-10-31T00:00:00.000000000",
          "2016-11-30T00:00:00.000000000",
          "2016-12-31T00:00:00.000000000",
          "2017-01-31T00:00:00.000000000",
          "2017-02-28T00:00:00.000000000",
          "2017-03-31T00:00:00.000000000",
          "2017-04-30T00:00:00.000000000",
          "2017-05-31T00:00:00.000000000",
          "2017-06-30T00:00:00.000000000",
          "2017-07-31T00:00:00.000000000",
          "2017-08-31T00:00:00.000000000",
          "2017-09-30T00:00:00.000000000",
          "2017-10-31T00:00:00.000000000",
          "2017-11-30T00:00:00.000000000",
          "2017-12-31T00:00:00.000000000",
          "2018-01-31T00:00:00.000000000",
          "2018-02-28T00:00:00.000000000",
          "2018-03-31T00:00:00.000000000",
          "2018-04-30T00:00:00.000000000",
          "2018-05-31T00:00:00.000000000",
          "2018-06-30T00:00:00.000000000",
          "2018-07-31T00:00:00.000000000",
          "2018-08-31T00:00:00.000000000",
          "2018-09-30T00:00:00.000000000",
          "2018-10-31T00:00:00.000000000",
          "2018-11-30T00:00:00.000000000",
          "2018-12-31T00:00:00.000000000",
          "2019-01-31T00:00:00.000000000",
          "2019-02-28T00:00:00.000000000",
          "2019-03-31T00:00:00.000000000",
          "2019-04-30T00:00:00.000000000",
          "2019-05-31T00:00:00.000000000",
          "2019-06-30T00:00:00.000000000",
          "2019-07-31T00:00:00.000000000",
          "2019-08-31T00:00:00.000000000",
          "2019-09-30T00:00:00.000000000",
          "2019-10-31T00:00:00.000000000",
          "2019-11-30T00:00:00.000000000",
          "2019-12-31T00:00:00.000000000",
          "2020-01-31T00:00:00.000000000",
          "2020-02-29T00:00:00.000000000",
          "2020-03-31T00:00:00.000000000",
          "2020-04-30T00:00:00.000000000",
          "2020-05-31T00:00:00.000000000",
          "2020-06-30T00:00:00.000000000",
          "2020-07-31T00:00:00.000000000",
          "2020-08-31T00:00:00.000000000",
          "2020-09-30T00:00:00.000000000",
          "2020-10-31T00:00:00.000000000",
          "2020-11-30T00:00:00.000000000",
          "2020-12-31T00:00:00.000000000",
          "2021-01-31T00:00:00.000000000",
          "2021-02-28T00:00:00.000000000",
          "2021-03-31T00:00:00.000000000",
          "2021-04-30T00:00:00.000000000",
          "2021-05-31T00:00:00.000000000",
          "2021-06-30T00:00:00.000000000",
          "2021-07-31T00:00:00.000000000",
          "2021-08-31T00:00:00.000000000",
          "2021-09-30T00:00:00.000000000",
          "2021-10-31T00:00:00.000000000",
          "2021-11-30T00:00:00.000000000",
          "2021-12-31T00:00:00.000000000",
          "2022-01-31T00:00:00.000000000",
          "2022-02-28T00:00:00.000000000",
          "2022-03-31T00:00:00.000000000",
          "2022-04-30T00:00:00.000000000",
          "2022-05-31T00:00:00.000000000",
          "2022-06-30T00:00:00.000000000",
          "2022-07-31T00:00:00.000000000",
          "2022-08-31T00:00:00.000000000",
          "2022-09-30T00:00:00.000000000",
          "2022-10-31T00:00:00.000000000",
          "2022-11-30T00:00:00.000000000",
          "2022-12-31T00:00:00.000000000",
          "2023-01-31T00:00:00.000000000",
          "2023-02-28T00:00:00.000000000",
          "2023-03-31T00:00:00.000000000",
          "2023-04-30T00:00:00.000000000",
          "2023-05-31T00:00:00.000000000",
          "2023-06-30T00:00:00.000000000",
          "2023-07-31T00:00:00.000000000",
          "2023-08-31T00:00:00.000000000",
          "2023-09-30T00:00:00.000000000",
          "2023-10-31T00:00:00.000000000",
          "2023-11-30T00:00:00.000000000",
          "2023-12-31T00:00:00.000000000",
          "2024-01-31T00:00:00.000000000",
          "2024-02-29T00:00:00.000000000",
          "2024-03-31T00:00:00.000000000",
          "2024-04-30T00:00:00.000000000",
          "2024-05-31T00:00:00.000000000",
          "2024-06-30T00:00:00.000000000",
          "2024-07-31T00:00:00.000000000",
          "2024-08-31T00:00:00.000000000",
          "2024-09-30T00:00:00.000000000",
          "2024-10-31T00:00:00.000000000",
          "2024-11-30T00:00:00.000000000",
          "2024-12-31T00:00:00.000000000",
          "2025-01-31T00:00:00.000000000",
          "2025-02-28T00:00:00.000000000"
         ],
         "y": {
          "bdata": "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",
          "dtype": "f8"
         }
        },
        {
         "hoverinfo": "skip",
         "line": {
          "width": 0
         },
         "mode": "lines",
         "type": "scatter",
         "x": [
          "2000-01-31T00:00:00.000000000",
          "2000-02-29T00:00:00.000000000",
          "2000-03-31T00:00:00.000000000",
          "2000-04-30T00:00:00.000000000",
          "2000-05-31T00:00:00.000000000",
          "2000-06-30T00:00:00.000000000",
          "2000-07-31T00:00:00.000000000",
          "2000-08-31T00:00:00.000000000",
          "2000-09-30T00:00:00.000000000",
          "2000-10-31T00:00:00.000000000",
          "2000-11-30T00:00:00.000000000",
          "2000-12-31T00:00:00.000000000",
          "2001-01-31T00:00:00.000000000",
          "2001-02-28T00:00:00.000000000",
          "2001-03-31T00:00:00.000000000",
          "2001-04-30T00:00:00.000000000",
          "2001-05-31T00:00:00.000000000",
          "2001-06-30T00:00:00.000000000",
          "2001-07-31T00:00:00.000000000",
          "2001-08-31T00:00:00.000000000",
          "2001-09-30T00:00:00.000000000",
          "2001-10-31T00:00:00.000000000",
          "2001-11-30T00:00:00.000000000",
          "2001-12-31T00:00:00.000000000",
          "2002-01-31T00:00:00.000000000",
          "2002-02-28T00:00:00.000000000",
          "2002-03-31T00:00:00.000000000",
          "2002-04-30T00:00:00.000000000",
          "2002-05-31T00:00:00.000000000",
          "2002-06-30T00:00:00.000000000",
          "2002-07-31T00:00:00.000000000",
          "2002-08-31T00:00:00.000000000",
          "2002-09-30T00:00:00.000000000",
          "2002-10-31T00:00:00.000000000",
          "2002-11-30T00:00:00.000000000",
          "2002-12-31T00:00:00.000000000",
          "2003-01-31T00:00:00.000000000",
          "2003-02-28T00:00:00.000000000",
          "2003-03-31T00:00:00.000000000",
          "2003-04-30T00:00:00.000000000",
          "2003-05-31T00:00:00.000000000",
          "2003-06-30T00:00:00.000000000",
          "2003-07-31T00:00:00.000000000",
          "2003-08-31T00:00:00.000000000",
          "2003-09-30T00:00:00.000000000",
          "2003-10-31T00:00:00.000000000",
          "2003-11-30T00:00:00.000000000",
          "2003-12-31T00:00:00.000000000",
          "2004-01-31T00:00:00.000000000",
          "2004-02-29T00:00:00.000000000",
          "2004-03-31T00:00:00.000000000",
          "2004-04-30T00:00:00.000000000",
          "2004-05-31T00:00:00.000000000",
          "2004-06-30T00:00:00.000000000",
          "2004-07-31T00:00:00.000000000",
          "2004-08-31T00:00:00.000000000",
          "2004-09-30T00:00:00.000000000",
          "2004-10-31T00:00:00.000000000",
          "2004-11-30T00:00:00.000000000",
          "2004-12-31T00:00:00.000000000",
          "2005-01-31T00:00:00.000000000",
          "2005-02-28T00:00:00.000000000",
          "2005-03-31T00:00:00.000000000",
          "2005-04-30T00:00:00.000000000",
          "2005-05-31T00:00:00.000000000",
          "2005-06-30T00:00:00.000000000",
          "2005-07-31T00:00:00.000000000",
          "2005-08-31T00:00:00.000000000",
          "2005-09-30T00:00:00.000000000",
          "2005-10-31T00:00:00.000000000",
          "2005-11-30T00:00:00.000000000",
          "2005-12-31T00:00:00.000000000",
          "2006-01-31T00:00:00.000000000",
          "2006-02-28T00:00:00.000000000",
          "2006-03-31T00:00:00.000000000",
          "2006-04-30T00:00:00.000000000",
          "2006-05-31T00:00:00.000000000",
          "2006-06-30T00:00:00.000000000",
          "2006-07-31T00:00:00.000000000",
          "2006-08-31T00:00:00.000000000",
          "2006-09-30T00:00:00.000000000",
          "2006-10-31T00:00:00.000000000",
          "2006-11-30T00:00:00.000000000",
          "2006-12-31T00:00:00.000000000",
          "2007-01-31T00:00:00.000000000",
          "2007-02-28T00:00:00.000000000",
          "2007-03-31T00:00:00.000000000",
          "2007-04-30T00:00:00.000000000",
          "2007-05-31T00:00:00.000000000",
          "2007-06-30T00:00:00.000000000",
          "2007-07-31T00:00:00.000000000",
          "2007-08-31T00:00:00.000000000",
          "2007-09-30T00:00:00.000000000",
          "2007-10-31T00:00:00.000000000",
          "2007-11-30T00:00:00.000000000",
          "2007-12-31T00:00:00.000000000",
          "2008-01-31T00:00:00.000000000",
          "2008-02-29T00:00:00.000000000",
          "2008-03-31T00:00:00.000000000",
          "2008-04-30T00:00:00.000000000",
          "2008-05-31T00:00:00.000000000",
          "2008-06-30T00:00:00.000000000",
          "2008-07-31T00:00:00.000000000",
          "2008-08-31T00:00:00.000000000",
          "2008-09-30T00:00:00.000000000",
          "2008-10-31T00:00:00.000000000",
          "2008-11-30T00:00:00.000000000",
          "2008-12-31T00:00:00.000000000",
          "2009-01-31T00:00:00.000000000",
          "2009-02-28T00:00:00.000000000",
          "2009-03-31T00:00:00.000000000",
          "2009-04-30T00:00:00.000000000",
          "2009-05-31T00:00:00.000000000",
          "2009-06-30T00:00:00.000000000",
          "2009-07-31T00:00:00.000000000",
          "2009-08-31T00:00:00.000000000",
          "2009-09-30T00:00:00.000000000",
          "2009-10-31T00:00:00.000000000",
          "2009-11-30T00:00:00.000000000",
          "2009-12-31T00:00:00.000000000",
          "2010-01-31T00:00:00.000000000",
          "2010-02-28T00:00:00.000000000",
          "2010-03-31T00:00:00.000000000",
          "2010-04-30T00:00:00.000000000",
          "2010-05-31T00:00:00.000000000",
          "2010-06-30T00:00:00.000000000",
          "2010-07-31T00:00:00.000000000",
          "2010-08-31T00:00:00.000000000",
          "2010-09-30T00:00:00.000000000",
          "2010-10-31T00:00:00.000000000",
          "2010-11-30T00:00:00.000000000",
          "2010-12-31T00:00:00.000000000",
          "2011-01-31T00:00:00.000000000",
          "2011-02-28T00:00:00.000000000",
          "2011-03-31T00:00:00.000000000",
          "2011-04-30T00:00:00.000000000",
          "2011-05-31T00:00:00.000000000",
          "2011-06-30T00:00:00.000000000",
          "2011-07-31T00:00:00.000000000",
          "2011-08-31T00:00:00.000000000",
          "2011-09-30T00:00:00.000000000",
          "2011-10-31T00:00:00.000000000",
          "2011-11-30T00:00:00.000000000",
          "2011-12-31T00:00:00.000000000",
          "2012-01-31T00:00:00.000000000",
          "2012-02-29T00:00:00.000000000",
          "2012-03-31T00:00:00.000000000",
          "2012-04-30T00:00:00.000000000",
          "2012-05-31T00:00:00.000000000",
          "2012-06-30T00:00:00.000000000",
          "2012-07-31T00:00:00.000000000",
          "2012-08-31T00:00:00.000000000",
          "2012-09-30T00:00:00.000000000",
          "2012-10-31T00:00:00.000000000",
          "2012-11-30T00:00:00.000000000",
          "2012-12-31T00:00:00.000000000",
          "2013-01-31T00:00:00.000000000",
          "2013-02-28T00:00:00.000000000",
          "2013-03-31T00:00:00.000000000",
          "2013-04-30T00:00:00.000000000",
          "2013-05-31T00:00:00.000000000",
          "2013-06-30T00:00:00.000000000",
          "2013-07-31T00:00:00.000000000",
          "2013-08-31T00:00:00.000000000",
          "2013-09-30T00:00:00.000000000",
          "2013-10-31T00:00:00.000000000",
          "2013-11-30T00:00:00.000000000",
          "2013-12-31T00:00:00.000000000",
          "2014-01-31T00:00:00.000000000",
          "2014-02-28T00:00:00.000000000",
          "2014-03-31T00:00:00.000000000",
          "2014-04-30T00:00:00.000000000",
          "2014-05-31T00:00:00.000000000",
          "2014-06-30T00:00:00.000000000",
          "2014-07-31T00:00:00.000000000",
          "2014-08-31T00:00:00.000000000",
          "2014-09-30T00:00:00.000000000",
          "2014-10-31T00:00:00.000000000",
          "2014-11-30T00:00:00.000000000",
          "2014-12-31T00:00:00.000000000",
          "2015-01-31T00:00:00.000000000",
          "2015-02-28T00:00:00.000000000",
          "2015-03-31T00:00:00.000000000",
          "2015-04-30T00:00:00.000000000",
          "2015-05-31T00:00:00.000000000",
          "2015-06-30T00:00:00.000000000",
          "2015-07-31T00:00:00.000000000",
          "2015-08-31T00:00:00.000000000",
          "2015-09-30T00:00:00.000000000",
          "2015-10-31T00:00:00.000000000",
          "2015-11-30T00:00:00.000000000",
          "2015-12-31T00:00:00.000000000",
          "2016-01-31T00:00:00.000000000",
          "2016-02-29T00:00:00.000000000",
          "2016-03-31T00:00:00.000000000",
          "2016-04-30T00:00:00.000000000",
          "2016-05-31T00:00:00.000000000",
          "2016-06-30T00:00:00.000000000",
          "2016-07-31T00:00:00.000000000",
          "2016-08-31T00:00:00.000000000",
          "2016-09-30T00:00:00.000000000",
          "2016-10-31T00:00:00.000000000",
          "2016-11-30T00:00:00.000000000",
          "2016-12-31T00:00:00.000000000",
          "2017-01-31T00:00:00.000000000",
          "2017-02-28T00:00:00.000000000",
          "2017-03-31T00:00:00.000000000",
          "2017-04-30T00:00:00.000000000",
          "2017-05-31T00:00:00.000000000",
          "2017-06-30T00:00:00.000000000",
          "2017-07-31T00:00:00.000000000",
          "2017-08-31T00:00:00.000000000",
          "2017-09-30T00:00:00.000000000",
          "2017-10-31T00:00:00.000000000",
          "2017-11-30T00:00:00.000000000",
          "2017-12-31T00:00:00.000000000",
          "2018-01-31T00:00:00.000000000",
          "2018-02-28T00:00:00.000000000",
          "2018-03-31T00:00:00.000000000",
          "2018-04-30T00:00:00.000000000",
          "2018-05-31T00:00:00.000000000",
          "2018-06-30T00:00:00.000000000",
          "2018-07-31T00:00:00.000000000",
          "2018-08-31T00:00:00.000000000",
          "2018-09-30T00:00:00.000000000",
          "2018-10-31T00:00:00.000000000",
          "2018-11-30T00:00:00.000000000",
          "2018-12-31T00:00:00.000000000",
          "2019-01-31T00:00:00.000000000",
          "2019-02-28T00:00:00.000000000",
          "2019-03-31T00:00:00.000000000",
          "2019-04-30T00:00:00.000000000",
          "2019-05-31T00:00:00.000000000",
          "2019-06-30T00:00:00.000000000",
          "2019-07-31T00:00:00.000000000",
          "2019-08-31T00:00:00.000000000",
          "2019-09-30T00:00:00.000000000",
          "2019-10-31T00:00:00.000000000",
          "2019-11-30T00:00:00.000000000",
          "2019-12-31T00:00:00.000000000",
          "2020-01-31T00:00:00.000000000",
          "2020-02-29T00:00:00.000000000",
          "2020-03-31T00:00:00.000000000",
          "2020-04-30T00:00:00.000000000",
          "2020-05-31T00:00:00.000000000",
          "2020-06-30T00:00:00.000000000",
          "2020-07-31T00:00:00.000000000",
          "2020-08-31T00:00:00.000000000",
          "2020-09-30T00:00:00.000000000",
          "2020-10-31T00:00:00.000000000",
          "2020-11-30T00:00:00.000000000",
          "2020-12-31T00:00:00.000000000",
          "2021-01-31T00:00:00.000000000",
          "2021-02-28T00:00:00.000000000",
          "2021-03-31T00:00:00.000000000",
          "2021-04-30T00:00:00.000000000",
          "2021-05-31T00:00:00.000000000",
          "2021-06-30T00:00:00.000000000",
          "2021-07-31T00:00:00.000000000",
          "2021-08-31T00:00:00.000000000",
          "2021-09-30T00:00:00.000000000",
          "2021-10-31T00:00:00.000000000",
          "2021-11-30T00:00:00.000000000",
          "2021-12-31T00:00:00.000000000",
          "2022-01-31T00:00:00.000000000",
          "2022-02-28T00:00:00.000000000",
          "2022-03-31T00:00:00.000000000",
          "2022-04-30T00:00:00.000000000",
          "2022-05-31T00:00:00.000000000",
          "2022-06-30T00:00:00.000000000",
          "2022-07-31T00:00:00.000000000",
          "2022-08-31T00:00:00.000000000",
          "2022-09-30T00:00:00.000000000",
          "2022-10-31T00:00:00.000000000",
          "2022-11-30T00:00:00.000000000",
          "2022-12-31T00:00:00.000000000",
          "2023-01-31T00:00:00.000000000",
          "2023-02-28T00:00:00.000000000",
          "2023-03-31T00:00:00.000000000",
          "2023-04-30T00:00:00.000000000",
          "2023-05-31T00:00:00.000000000",
          "2023-06-30T00:00:00.000000000",
          "2023-07-31T00:00:00.000000000",
          "2023-08-31T00:00:00.000000000",
          "2023-09-30T00:00:00.000000000",
          "2023-10-31T00:00:00.000000000",
          "2023-11-30T00:00:00.000000000",
          "2023-12-31T00:00:00.000000000",
          "2024-01-31T00:00:00.000000000",
          "2024-02-29T00:00:00.000000000",
          "2024-03-31T00:00:00.000000000",
          "2024-04-30T00:00:00.000000000",
          "2024-05-31T00:00:00.000000000",
          "2024-06-30T00:00:00.000000000",
          "2024-07-31T00:00:00.000000000",
          "2024-08-31T00:00:00.000000000",
          "2024-09-30T00:00:00.000000000",
          "2024-10-31T00:00:00.000000000",
          "2024-11-30T00:00:00.000000000",
          "2024-12-31T00:00:00.000000000",
          "2025-01-31T00:00:00.000000000",
          "2025-02-28T00:00:00.000000000"
         ],
         "y": {
          "bdata": "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",
          "dtype": "f8"
         }
        },
        {
         "fill": "tonexty",
         "fillcolor": "rgba(0, 114, 178, 0.2)",
         "line": {
          "color": "#0072B2",
          "width": 2
         },
         "mode": "lines",
         "name": "Predicted",
         "type": "scatter",
         "x": [
          "2000-01-31T00:00:00.000000000",
          "2000-02-29T00:00:00.000000000",
          "2000-03-31T00:00:00.000000000",
          "2000-04-30T00:00:00.000000000",
          "2000-05-31T00:00:00.000000000",
          "2000-06-30T00:00:00.000000000",
          "2000-07-31T00:00:00.000000000",
          "2000-08-31T00:00:00.000000000",
          "2000-09-30T00:00:00.000000000",
          "2000-10-31T00:00:00.000000000",
          "2000-11-30T00:00:00.000000000",
          "2000-12-31T00:00:00.000000000",
          "2001-01-31T00:00:00.000000000",
          "2001-02-28T00:00:00.000000000",
          "2001-03-31T00:00:00.000000000",
          "2001-04-30T00:00:00.000000000",
          "2001-05-31T00:00:00.000000000",
          "2001-06-30T00:00:00.000000000",
          "2001-07-31T00:00:00.000000000",
          "2001-08-31T00:00:00.000000000",
          "2001-09-30T00:00:00.000000000",
          "2001-10-31T00:00:00.000000000",
          "2001-11-30T00:00:00.000000000",
          "2001-12-31T00:00:00.000000000",
          "2002-01-31T00:00:00.000000000",
          "2002-02-28T00:00:00.000000000",
          "2002-03-31T00:00:00.000000000",
          "2002-04-30T00:00:00.000000000",
          "2002-05-31T00:00:00.000000000",
          "2002-06-30T00:00:00.000000000",
          "2002-07-31T00:00:00.000000000",
          "2002-08-31T00:00:00.000000000",
          "2002-09-30T00:00:00.000000000",
          "2002-10-31T00:00:00.000000000",
          "2002-11-30T00:00:00.000000000",
          "2002-12-31T00:00:00.000000000",
          "2003-01-31T00:00:00.000000000",
          "2003-02-28T00:00:00.000000000",
          "2003-03-31T00:00:00.000000000",
          "2003-04-30T00:00:00.000000000",
          "2003-05-31T00:00:00.000000000",
          "2003-06-30T00:00:00.000000000",
          "2003-07-31T00:00:00.000000000",
          "2003-08-31T00:00:00.000000000",
          "2003-09-30T00:00:00.000000000",
          "2003-10-31T00:00:00.000000000",
          "2003-11-30T00:00:00.000000000",
          "2003-12-31T00:00:00.000000000",
          "2004-01-31T00:00:00.000000000",
          "2004-02-29T00:00:00.000000000",
          "2004-03-31T00:00:00.000000000",
          "2004-04-30T00:00:00.000000000",
          "2004-05-31T00:00:00.000000000",
          "2004-06-30T00:00:00.000000000",
          "2004-07-31T00:00:00.000000000",
          "2004-08-31T00:00:00.000000000",
          "2004-09-30T00:00:00.000000000",
          "2004-10-31T00:00:00.000000000",
          "2004-11-30T00:00:00.000000000",
          "2004-12-31T00:00:00.000000000",
          "2005-01-31T00:00:00.000000000",
          "2005-02-28T00:00:00.000000000",
          "2005-03-31T00:00:00.000000000",
          "2005-04-30T00:00:00.000000000",
          "2005-05-31T00:00:00.000000000",
          "2005-06-30T00:00:00.000000000",
          "2005-07-31T00:00:00.000000000",
          "2005-08-31T00:00:00.000000000",
          "2005-09-30T00:00:00.000000000",
          "2005-10-31T00:00:00.000000000",
          "2005-11-30T00:00:00.000000000",
          "2005-12-31T00:00:00.000000000",
          "2006-01-31T00:00:00.000000000",
          "2006-02-28T00:00:00.000000000",
          "2006-03-31T00:00:00.000000000",
          "2006-04-30T00:00:00.000000000",
          "2006-05-31T00:00:00.000000000",
          "2006-06-30T00:00:00.000000000",
          "2006-07-31T00:00:00.000000000",
          "2006-08-31T00:00:00.000000000",
          "2006-09-30T00:00:00.000000000",
          "2006-10-31T00:00:00.000000000",
          "2006-11-30T00:00:00.000000000",
          "2006-12-31T00:00:00.000000000",
          "2007-01-31T00:00:00.000000000",
          "2007-02-28T00:00:00.000000000",
          "2007-03-31T00:00:00.000000000",
          "2007-04-30T00:00:00.000000000",
          "2007-05-31T00:00:00.000000000",
          "2007-06-30T00:00:00.000000000",
          "2007-07-31T00:00:00.000000000",
          "2007-08-31T00:00:00.000000000",
          "2007-09-30T00:00:00.000000000",
          "2007-10-31T00:00:00.000000000",
          "2007-11-30T00:00:00.000000000",
          "2007-12-31T00:00:00.000000000",
          "2008-01-31T00:00:00.000000000",
          "2008-02-29T00:00:00.000000000",
          "2008-03-31T00:00:00.000000000",
          "2008-04-30T00:00:00.000000000",
          "2008-05-31T00:00:00.000000000",
          "2008-06-30T00:00:00.000000000",
          "2008-07-31T00:00:00.000000000",
          "2008-08-31T00:00:00.000000000",
          "2008-09-30T00:00:00.000000000",
          "2008-10-31T00:00:00.000000000",
          "2008-11-30T00:00:00.000000000",
          "2008-12-31T00:00:00.000000000",
          "2009-01-31T00:00:00.000000000",
          "2009-02-28T00:00:00.000000000",
          "2009-03-31T00:00:00.000000000",
          "2009-04-30T00:00:00.000000000",
          "2009-05-31T00:00:00.000000000",
          "2009-06-30T00:00:00.000000000",
          "2009-07-31T00:00:00.000000000",
          "2009-08-31T00:00:00.000000000",
          "2009-09-30T00:00:00.000000000",
          "2009-10-31T00:00:00.000000000",
          "2009-11-30T00:00:00.000000000",
          "2009-12-31T00:00:00.000000000",
          "2010-01-31T00:00:00.000000000",
          "2010-02-28T00:00:00.000000000",
          "2010-03-31T00:00:00.000000000",
          "2010-04-30T00:00:00.000000000",
          "2010-05-31T00:00:00.000000000",
          "2010-06-30T00:00:00.000000000",
          "2010-07-31T00:00:00.000000000",
          "2010-08-31T00:00:00.000000000",
          "2010-09-30T00:00:00.000000000",
          "2010-10-31T00:00:00.000000000",
          "2010-11-30T00:00:00.000000000",
          "2010-12-31T00:00:00.000000000",
          "2011-01-31T00:00:00.000000000",
          "2011-02-28T00:00:00.000000000",
          "2011-03-31T00:00:00.000000000",
          "2011-04-30T00:00:00.000000000",
          "2011-05-31T00:00:00.000000000",
          "2011-06-30T00:00:00.000000000",
          "2011-07-31T00:00:00.000000000",
          "2011-08-31T00:00:00.000000000",
          "2011-09-30T00:00:00.000000000",
          "2011-10-31T00:00:00.000000000",
          "2011-11-30T00:00:00.000000000",
          "2011-12-31T00:00:00.000000000",
          "2012-01-31T00:00:00.000000000",
          "2012-02-29T00:00:00.000000000",
          "2012-03-31T00:00:00.000000000",
          "2012-04-30T00:00:00.000000000",
          "2012-05-31T00:00:00.000000000",
          "2012-06-30T00:00:00.000000000",
          "2012-07-31T00:00:00.000000000",
          "2012-08-31T00:00:00.000000000",
          "2012-09-30T00:00:00.000000000",
          "2012-10-31T00:00:00.000000000",
          "2012-11-30T00:00:00.000000000",
          "2012-12-31T00:00:00.000000000",
          "2013-01-31T00:00:00.000000000",
          "2013-02-28T00:00:00.000000000",
          "2013-03-31T00:00:00.000000000",
          "2013-04-30T00:00:00.000000000",
          "2013-05-31T00:00:00.000000000",
          "2013-06-30T00:00:00.000000000",
          "2013-07-31T00:00:00.000000000",
          "2013-08-31T00:00:00.000000000",
          "2013-09-30T00:00:00.000000000",
          "2013-10-31T00:00:00.000000000",
          "2013-11-30T00:00:00.000000000",
          "2013-12-31T00:00:00.000000000",
          "2014-01-31T00:00:00.000000000",
          "2014-02-28T00:00:00.000000000",
          "2014-03-31T00:00:00.000000000",
          "2014-04-30T00:00:00.000000000",
          "2014-05-31T00:00:00.000000000",
          "2014-06-30T00:00:00.000000000",
          "2014-07-31T00:00:00.000000000",
          "2014-08-31T00:00:00.000000000",
          "2014-09-30T00:00:00.000000000",
          "2014-10-31T00:00:00.000000000",
          "2014-11-30T00:00:00.000000000",
          "2014-12-31T00:00:00.000000000",
          "2015-01-31T00:00:00.000000000",
          "2015-02-28T00:00:00.000000000",
          "2015-03-31T00:00:00.000000000",
          "2015-04-30T00:00:00.000000000",
          "2015-05-31T00:00:00.000000000",
          "2015-06-30T00:00:00.000000000",
          "2015-07-31T00:00:00.000000000",
          "2015-08-31T00:00:00.000000000",
          "2015-09-30T00:00:00.000000000",
          "2015-10-31T00:00:00.000000000",
          "2015-11-30T00:00:00.000000000",
          "2015-12-31T00:00:00.000000000",
          "2016-01-31T00:00:00.000000000",
          "2016-02-29T00:00:00.000000000",
          "2016-03-31T00:00:00.000000000",
          "2016-04-30T00:00:00.000000000",
          "2016-05-31T00:00:00.000000000",
          "2016-06-30T00:00:00.000000000",
          "2016-07-31T00:00:00.000000000",
          "2016-08-31T00:00:00.000000000",
          "2016-09-30T00:00:00.000000000",
          "2016-10-31T00:00:00.000000000",
          "2016-11-30T00:00:00.000000000",
          "2016-12-31T00:00:00.000000000",
          "2017-01-31T00:00:00.000000000",
          "2017-02-28T00:00:00.000000000",
          "2017-03-31T00:00:00.000000000",
          "2017-04-30T00:00:00.000000000",
          "2017-05-31T00:00:00.000000000",
          "2017-06-30T00:00:00.000000000",
          "2017-07-31T00:00:00.000000000",
          "2017-08-31T00:00:00.000000000",
          "2017-09-30T00:00:00.000000000",
          "2017-10-31T00:00:00.000000000",
          "2017-11-30T00:00:00.000000000",
          "2017-12-31T00:00:00.000000000",
          "2018-01-31T00:00:00.000000000",
          "2018-02-28T00:00:00.000000000",
          "2018-03-31T00:00:00.000000000",
          "2018-04-30T00:00:00.000000000",
          "2018-05-31T00:00:00.000000000",
          "2018-06-30T00:00:00.000000000",
          "2018-07-31T00:00:00.000000000",
          "2018-08-31T00:00:00.000000000",
          "2018-09-30T00:00:00.000000000",
          "2018-10-31T00:00:00.000000000",
          "2018-11-30T00:00:00.000000000",
          "2018-12-31T00:00:00.000000000",
          "2019-01-31T00:00:00.000000000",
          "2019-02-28T00:00:00.000000000",
          "2019-03-31T00:00:00.000000000",
          "2019-04-30T00:00:00.000000000",
          "2019-05-31T00:00:00.000000000",
          "2019-06-30T00:00:00.000000000",
          "2019-07-31T00:00:00.000000000",
          "2019-08-31T00:00:00.000000000",
          "2019-09-30T00:00:00.000000000",
          "2019-10-31T00:00:00.000000000",
          "2019-11-30T00:00:00.000000000",
          "2019-12-31T00:00:00.000000000",
          "2020-01-31T00:00:00.000000000",
          "2020-02-29T00:00:00.000000000",
          "2020-03-31T00:00:00.000000000",
          "2020-04-30T00:00:00.000000000",
          "2020-05-31T00:00:00.000000000",
          "2020-06-30T00:00:00.000000000",
          "2020-07-31T00:00:00.000000000",
          "2020-08-31T00:00:00.000000000",
          "2020-09-30T00:00:00.000000000",
          "2020-10-31T00:00:00.000000000",
          "2020-11-30T00:00:00.000000000",
          "2020-12-31T00:00:00.000000000",
          "2021-01-31T00:00:00.000000000",
          "2021-02-28T00:00:00.000000000",
          "2021-03-31T00:00:00.000000000",
          "2021-04-30T00:00:00.000000000",
          "2021-05-31T00:00:00.000000000",
          "2021-06-30T00:00:00.000000000",
          "2021-07-31T00:00:00.000000000",
          "2021-08-31T00:00:00.000000000",
          "2021-09-30T00:00:00.000000000",
          "2021-10-31T00:00:00.000000000",
          "2021-11-30T00:00:00.000000000",
          "2021-12-31T00:00:00.000000000",
          "2022-01-31T00:00:00.000000000",
          "2022-02-28T00:00:00.000000000",
          "2022-03-31T00:00:00.000000000",
          "2022-04-30T00:00:00.000000000",
          "2022-05-31T00:00:00.000000000",
          "2022-06-30T00:00:00.000000000",
          "2022-07-31T00:00:00.000000000",
          "2022-08-31T00:00:00.000000000",
          "2022-09-30T00:00:00.000000000",
          "2022-10-31T00:00:00.000000000",
          "2022-11-30T00:00:00.000000000",
          "2022-12-31T00:00:00.000000000",
          "2023-01-31T00:00:00.000000000",
          "2023-02-28T00:00:00.000000000",
          "2023-03-31T00:00:00.000000000",
          "2023-04-30T00:00:00.000000000",
          "2023-05-31T00:00:00.000000000",
          "2023-06-30T00:00:00.000000000",
          "2023-07-31T00:00:00.000000000",
          "2023-08-31T00:00:00.000000000",
          "2023-09-30T00:00:00.000000000",
          "2023-10-31T00:00:00.000000000",
          "2023-11-30T00:00:00.000000000",
          "2023-12-31T00:00:00.000000000",
          "2024-01-31T00:00:00.000000000",
          "2024-02-29T00:00:00.000000000",
          "2024-03-31T00:00:00.000000000",
          "2024-04-30T00:00:00.000000000",
          "2024-05-31T00:00:00.000000000",
          "2024-06-30T00:00:00.000000000",
          "2024-07-31T00:00:00.000000000",
          "2024-08-31T00:00:00.000000000",
          "2024-09-30T00:00:00.000000000",
          "2024-10-31T00:00:00.000000000",
          "2024-11-30T00:00:00.000000000",
          "2024-12-31T00:00:00.000000000",
          "2025-01-31T00:00:00.000000000",
          "2025-02-28T00:00:00.000000000"
         ],
         "y": {
          "bdata": "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",
          "dtype": "f8"
         }
        },
        {
         "fill": "tonexty",
         "fillcolor": "rgba(0, 114, 178, 0.2)",
         "hoverinfo": "skip",
         "line": {
          "width": 0
         },
         "mode": "lines",
         "type": "scatter",
         "x": [
          "2000-01-31T00:00:00.000000000",
          "2000-02-29T00:00:00.000000000",
          "2000-03-31T00:00:00.000000000",
          "2000-04-30T00:00:00.000000000",
          "2000-05-31T00:00:00.000000000",
          "2000-06-30T00:00:00.000000000",
          "2000-07-31T00:00:00.000000000",
          "2000-08-31T00:00:00.000000000",
          "2000-09-30T00:00:00.000000000",
          "2000-10-31T00:00:00.000000000",
          "2000-11-30T00:00:00.000000000",
          "2000-12-31T00:00:00.000000000",
          "2001-01-31T00:00:00.000000000",
          "2001-02-28T00:00:00.000000000",
          "2001-03-31T00:00:00.000000000",
          "2001-04-30T00:00:00.000000000",
          "2001-05-31T00:00:00.000000000",
          "2001-06-30T00:00:00.000000000",
          "2001-07-31T00:00:00.000000000",
          "2001-08-31T00:00:00.000000000",
          "2001-09-30T00:00:00.000000000",
          "2001-10-31T00:00:00.000000000",
          "2001-11-30T00:00:00.000000000",
          "2001-12-31T00:00:00.000000000",
          "2002-01-31T00:00:00.000000000",
          "2002-02-28T00:00:00.000000000",
          "2002-03-31T00:00:00.000000000",
          "2002-04-30T00:00:00.000000000",
          "2002-05-31T00:00:00.000000000",
          "2002-06-30T00:00:00.000000000",
          "2002-07-31T00:00:00.000000000",
          "2002-08-31T00:00:00.000000000",
          "2002-09-30T00:00:00.000000000",
          "2002-10-31T00:00:00.000000000",
          "2002-11-30T00:00:00.000000000",
          "2002-12-31T00:00:00.000000000",
          "2003-01-31T00:00:00.000000000",
          "2003-02-28T00:00:00.000000000",
          "2003-03-31T00:00:00.000000000",
          "2003-04-30T00:00:00.000000000",
          "2003-05-31T00:00:00.000000000",
          "2003-06-30T00:00:00.000000000",
          "2003-07-31T00:00:00.000000000",
          "2003-08-31T00:00:00.000000000",
          "2003-09-30T00:00:00.000000000",
          "2003-10-31T00:00:00.000000000",
          "2003-11-30T00:00:00.000000000",
          "2003-12-31T00:00:00.000000000",
          "2004-01-31T00:00:00.000000000",
          "2004-02-29T00:00:00.000000000",
          "2004-03-31T00:00:00.000000000",
          "2004-04-30T00:00:00.000000000",
          "2004-05-31T00:00:00.000000000",
          "2004-06-30T00:00:00.000000000",
          "2004-07-31T00:00:00.000000000",
          "2004-08-31T00:00:00.000000000",
          "2004-09-30T00:00:00.000000000",
          "2004-10-31T00:00:00.000000000",
          "2004-11-30T00:00:00.000000000",
          "2004-12-31T00:00:00.000000000",
          "2005-01-31T00:00:00.000000000",
          "2005-02-28T00:00:00.000000000",
          "2005-03-31T00:00:00.000000000",
          "2005-04-30T00:00:00.000000000",
          "2005-05-31T00:00:00.000000000",
          "2005-06-30T00:00:00.000000000",
          "2005-07-31T00:00:00.000000000",
          "2005-08-31T00:00:00.000000000",
          "2005-09-30T00:00:00.000000000",
          "2005-10-31T00:00:00.000000000",
          "2005-11-30T00:00:00.000000000",
          "2005-12-31T00:00:00.000000000",
          "2006-01-31T00:00:00.000000000",
          "2006-02-28T00:00:00.000000000",
          "2006-03-31T00:00:00.000000000",
          "2006-04-30T00:00:00.000000000",
          "2006-05-31T00:00:00.000000000",
          "2006-06-30T00:00:00.000000000",
          "2006-07-31T00:00:00.000000000",
          "2006-08-31T00:00:00.000000000",
          "2006-09-30T00:00:00.000000000",
          "2006-10-31T00:00:00.000000000",
          "2006-11-30T00:00:00.000000000",
          "2006-12-31T00:00:00.000000000",
          "2007-01-31T00:00:00.000000000",
          "2007-02-28T00:00:00.000000000",
          "2007-03-31T00:00:00.000000000",
          "2007-04-30T00:00:00.000000000",
          "2007-05-31T00:00:00.000000000",
          "2007-06-30T00:00:00.000000000",
          "2007-07-31T00:00:00.000000000",
          "2007-08-31T00:00:00.000000000",
          "2007-09-30T00:00:00.000000000",
          "2007-10-31T00:00:00.000000000",
          "2007-11-30T00:00:00.000000000",
          "2007-12-31T00:00:00.000000000",
          "2008-01-31T00:00:00.000000000",
          "2008-02-29T00:00:00.000000000",
          "2008-03-31T00:00:00.000000000",
          "2008-04-30T00:00:00.000000000",
          "2008-05-31T00:00:00.000000000",
          "2008-06-30T00:00:00.000000000",
          "2008-07-31T00:00:00.000000000",
          "2008-08-31T00:00:00.000000000",
          "2008-09-30T00:00:00.000000000",
          "2008-10-31T00:00:00.000000000",
          "2008-11-30T00:00:00.000000000",
          "2008-12-31T00:00:00.000000000",
          "2009-01-31T00:00:00.000000000",
          "2009-02-28T00:00:00.000000000",
          "2009-03-31T00:00:00.000000000",
          "2009-04-30T00:00:00.000000000",
          "2009-05-31T00:00:00.000000000",
          "2009-06-30T00:00:00.000000000",
          "2009-07-31T00:00:00.000000000",
          "2009-08-31T00:00:00.000000000",
          "2009-09-30T00:00:00.000000000",
          "2009-10-31T00:00:00.000000000",
          "2009-11-30T00:00:00.000000000",
          "2009-12-31T00:00:00.000000000",
          "2010-01-31T00:00:00.000000000",
          "2010-02-28T00:00:00.000000000",
          "2010-03-31T00:00:00.000000000",
          "2010-04-30T00:00:00.000000000",
          "2010-05-31T00:00:00.000000000",
          "2010-06-30T00:00:00.000000000",
          "2010-07-31T00:00:00.000000000",
          "2010-08-31T00:00:00.000000000",
          "2010-09-30T00:00:00.000000000",
          "2010-10-31T00:00:00.000000000",
          "2010-11-30T00:00:00.000000000",
          "2010-12-31T00:00:00.000000000",
          "2011-01-31T00:00:00.000000000",
          "2011-02-28T00:00:00.000000000",
          "2011-03-31T00:00:00.000000000",
          "2011-04-30T00:00:00.000000000",
          "2011-05-31T00:00:00.000000000",
          "2011-06-30T00:00:00.000000000",
          "2011-07-31T00:00:00.000000000",
          "2011-08-31T00:00:00.000000000",
          "2011-09-30T00:00:00.000000000",
          "2011-10-31T00:00:00.000000000",
          "2011-11-30T00:00:00.000000000",
          "2011-12-31T00:00:00.000000000",
          "2012-01-31T00:00:00.000000000",
          "2012-02-29T00:00:00.000000000",
          "2012-03-31T00:00:00.000000000",
          "2012-04-30T00:00:00.000000000",
          "2012-05-31T00:00:00.000000000",
          "2012-06-30T00:00:00.000000000",
          "2012-07-31T00:00:00.000000000",
          "2012-08-31T00:00:00.000000000",
          "2012-09-30T00:00:00.000000000",
          "2012-10-31T00:00:00.000000000",
          "2012-11-30T00:00:00.000000000",
          "2012-12-31T00:00:00.000000000",
          "2013-01-31T00:00:00.000000000",
          "2013-02-28T00:00:00.000000000",
          "2013-03-31T00:00:00.000000000",
          "2013-04-30T00:00:00.000000000",
          "2013-05-31T00:00:00.000000000",
          "2013-06-30T00:00:00.000000000",
          "2013-07-31T00:00:00.000000000",
          "2013-08-31T00:00:00.000000000",
          "2013-09-30T00:00:00.000000000",
          "2013-10-31T00:00:00.000000000",
          "2013-11-30T00:00:00.000000000",
          "2013-12-31T00:00:00.000000000",
          "2014-01-31T00:00:00.000000000",
          "2014-02-28T00:00:00.000000000",
          "2014-03-31T00:00:00.000000000",
          "2014-04-30T00:00:00.000000000",
          "2014-05-31T00:00:00.000000000",
          "2014-06-30T00:00:00.000000000",
          "2014-07-31T00:00:00.000000000",
          "2014-08-31T00:00:00.000000000",
          "2014-09-30T00:00:00.000000000",
          "2014-10-31T00:00:00.000000000",
          "2014-11-30T00:00:00.000000000",
          "2014-12-31T00:00:00.000000000",
          "2015-01-31T00:00:00.000000000",
          "2015-02-28T00:00:00.000000000",
          "2015-03-31T00:00:00.000000000",
          "2015-04-30T00:00:00.000000000",
          "2015-05-31T00:00:00.000000000",
          "2015-06-30T00:00:00.000000000",
          "2015-07-31T00:00:00.000000000",
          "2015-08-31T00:00:00.000000000",
          "2015-09-30T00:00:00.000000000",
          "2015-10-31T00:00:00.000000000",
          "2015-11-30T00:00:00.000000000",
          "2015-12-31T00:00:00.000000000",
          "2016-01-31T00:00:00.000000000",
          "2016-02-29T00:00:00.000000000",
          "2016-03-31T00:00:00.000000000",
          "2016-04-30T00:00:00.000000000",
          "2016-05-31T00:00:00.000000000",
          "2016-06-30T00:00:00.000000000",
          "2016-07-31T00:00:00.000000000",
          "2016-08-31T00:00:00.000000000",
          "2016-09-30T00:00:00.000000000",
          "2016-10-31T00:00:00.000000000",
          "2016-11-30T00:00:00.000000000",
          "2016-12-31T00:00:00.000000000",
          "2017-01-31T00:00:00.000000000",
          "2017-02-28T00:00:00.000000000",
          "2017-03-31T00:00:00.000000000",
          "2017-04-30T00:00:00.000000000",
          "2017-05-31T00:00:00.000000000",
          "2017-06-30T00:00:00.000000000",
          "2017-07-31T00:00:00.000000000",
          "2017-08-31T00:00:00.000000000",
          "2017-09-30T00:00:00.000000000",
          "2017-10-31T00:00:00.000000000",
          "2017-11-30T00:00:00.000000000",
          "2017-12-31T00:00:00.000000000",
          "2018-01-31T00:00:00.000000000",
          "2018-02-28T00:00:00.000000000",
          "2018-03-31T00:00:00.000000000",
          "2018-04-30T00:00:00.000000000",
          "2018-05-31T00:00:00.000000000",
          "2018-06-30T00:00:00.000000000",
          "2018-07-31T00:00:00.000000000",
          "2018-08-31T00:00:00.000000000",
          "2018-09-30T00:00:00.000000000",
          "2018-10-31T00:00:00.000000000",
          "2018-11-30T00:00:00.000000000",
          "2018-12-31T00:00:00.000000000",
          "2019-01-31T00:00:00.000000000",
          "2019-02-28T00:00:00.000000000",
          "2019-03-31T00:00:00.000000000",
          "2019-04-30T00:00:00.000000000",
          "2019-05-31T00:00:00.000000000",
          "2019-06-30T00:00:00.000000000",
          "2019-07-31T00:00:00.000000000",
          "2019-08-31T00:00:00.000000000",
          "2019-09-30T00:00:00.000000000",
          "2019-10-31T00:00:00.000000000",
          "2019-11-30T00:00:00.000000000",
          "2019-12-31T00:00:00.000000000",
          "2020-01-31T00:00:00.000000000",
          "2020-02-29T00:00:00.000000000",
          "2020-03-31T00:00:00.000000000",
          "2020-04-30T00:00:00.000000000",
          "2020-05-31T00:00:00.000000000",
          "2020-06-30T00:00:00.000000000",
          "2020-07-31T00:00:00.000000000",
          "2020-08-31T00:00:00.000000000",
          "2020-09-30T00:00:00.000000000",
          "2020-10-31T00:00:00.000000000",
          "2020-11-30T00:00:00.000000000",
          "2020-12-31T00:00:00.000000000",
          "2021-01-31T00:00:00.000000000",
          "2021-02-28T00:00:00.000000000",
          "2021-03-31T00:00:00.000000000",
          "2021-04-30T00:00:00.000000000",
          "2021-05-31T00:00:00.000000000",
          "2021-06-30T00:00:00.000000000",
          "2021-07-31T00:00:00.000000000",
          "2021-08-31T00:00:00.000000000",
          "2021-09-30T00:00:00.000000000",
          "2021-10-31T00:00:00.000000000",
          "2021-11-30T00:00:00.000000000",
          "2021-12-31T00:00:00.000000000",
          "2022-01-31T00:00:00.000000000",
          "2022-02-28T00:00:00.000000000",
          "2022-03-31T00:00:00.000000000",
          "2022-04-30T00:00:00.000000000",
          "2022-05-31T00:00:00.000000000",
          "2022-06-30T00:00:00.000000000",
          "2022-07-31T00:00:00.000000000",
          "2022-08-31T00:00:00.000000000",
          "2022-09-30T00:00:00.000000000",
          "2022-10-31T00:00:00.000000000",
          "2022-11-30T00:00:00.000000000",
          "2022-12-31T00:00:00.000000000",
          "2023-01-31T00:00:00.000000000",
          "2023-02-28T00:00:00.000000000",
          "2023-03-31T00:00:00.000000000",
          "2023-04-30T00:00:00.000000000",
          "2023-05-31T00:00:00.000000000",
          "2023-06-30T00:00:00.000000000",
          "2023-07-31T00:00:00.000000000",
          "2023-08-31T00:00:00.000000000",
          "2023-09-30T00:00:00.000000000",
          "2023-10-31T00:00:00.000000000",
          "2023-11-30T00:00:00.000000000",
          "2023-12-31T00:00:00.000000000",
          "2024-01-31T00:00:00.000000000",
          "2024-02-29T00:00:00.000000000",
          "2024-03-31T00:00:00.000000000",
          "2024-04-30T00:00:00.000000000",
          "2024-05-31T00:00:00.000000000",
          "2024-06-30T00:00:00.000000000",
          "2024-07-31T00:00:00.000000000",
          "2024-08-31T00:00:00.000000000",
          "2024-09-30T00:00:00.000000000",
          "2024-10-31T00:00:00.000000000",
          "2024-11-30T00:00:00.000000000",
          "2024-12-31T00:00:00.000000000",
          "2025-01-31T00:00:00.000000000",
          "2025-02-28T00:00:00.000000000"
         ],
         "y": {
          "bdata": "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",
          "dtype": "f8"
         }
        }
       ],
       "layout": {
        "height": 600,
        "showlegend": false,
        "template": {
         "data": {
          "bar": [
           {
            "error_x": {
             "color": "#2a3f5f"
            },
            "error_y": {
             "color": "#2a3f5f"
            },
            "marker": {
             "line": {
              "color": "#E5ECF6",
              "width": 0.5
             },
             "pattern": {
              "fillmode": "overlay",
              "size": 10,
              "solidity": 0.2
             }
            },
            "type": "bar"
           }
          ],
          "barpolar": [
           {
            "marker": {
             "line": {
              "color": "#E5ECF6",
              "width": 0.5
             },
             "pattern": {
              "fillmode": "overlay",
              "size": 10,
              "solidity": 0.2
             }
            },
            "type": "barpolar"
           }
          ],
          "carpet": [
           {
            "aaxis": {
             "endlinecolor": "#2a3f5f",
             "gridcolor": "white",
             "linecolor": "white",
             "minorgridcolor": "white",
             "startlinecolor": "#2a3f5f"
            },
            "baxis": {
             "endlinecolor": "#2a3f5f",
             "gridcolor": "white",
             "linecolor": "white",
             "minorgridcolor": "white",
             "startlinecolor": "#2a3f5f"
            },
            "type": "carpet"
           }
          ],
          "choropleth": [
           {
            "colorbar": {
             "outlinewidth": 0,
             "ticks": ""
            },
            "type": "choropleth"
           }
          ],
          "contour": [
           {
            "colorbar": {
             "outlinewidth": 0,
             "ticks": ""
            },
            "colorscale": [
             [
              0,
              "#0d0887"
             ],
             [
              0.1111111111111111,
              "#46039f"
             ],
             [
              0.2222222222222222,
              "#7201a8"
             ],
             [
              0.3333333333333333,
              "#9c179e"
             ],
             [
              0.4444444444444444,
              "#bd3786"
             ],
             [
              0.5555555555555556,
              "#d8576b"
             ],
             [
              0.6666666666666666,
              "#ed7953"
             ],
             [
              0.7777777777777778,
              "#fb9f3a"
             ],
             [
              0.8888888888888888,
              "#fdca26"
             ],
             [
              1,
              "#f0f921"
             ]
            ],
            "type": "contour"
           }
          ],
          "contourcarpet": [
           {
            "colorbar": {
             "outlinewidth": 0,
             "ticks": ""
            },
            "type": "contourcarpet"
           }
          ],
          "heatmap": [
           {
            "colorbar": {
             "outlinewidth": 0,
             "ticks": ""
            },
            "colorscale": [
             [
              0,
              "#0d0887"
             ],
             [
              0.1111111111111111,
              "#46039f"
             ],
             [
              0.2222222222222222,
              "#7201a8"
             ],
             [
              0.3333333333333333,
              "#9c179e"
             ],
             [
              0.4444444444444444,
              "#bd3786"
             ],
             [
              0.5555555555555556,
              "#d8576b"
             ],
             [
              0.6666666666666666,
              "#ed7953"
             ],
             [
              0.7777777777777778,
              "#fb9f3a"
             ],
             [
              0.8888888888888888,
              "#fdca26"
             ],
             [
              1,
              "#f0f921"
             ]
            ],
            "type": "heatmap"
           }
          ],
          "histogram": [
           {
            "marker": {
             "pattern": {
              "fillmode": "overlay",
              "size": 10,
              "solidity": 0.2
             }
            },
            "type": "histogram"
           }
          ],
          "histogram2d": [
           {
            "colorbar": {
             "outlinewidth": 0,
             "ticks": ""
            },
            "colorscale": [
             [
              0,
              "#0d0887"
             ],
             [
              0.1111111111111111,
              "#46039f"
             ],
             [
              0.2222222222222222,
              "#7201a8"
             ],
             [
              0.3333333333333333,
              "#9c179e"
             ],
             [
              0.4444444444444444,
              "#bd3786"
             ],
             [
              0.5555555555555556,
              "#d8576b"
             ],
             [
              0.6666666666666666,
              "#ed7953"
             ],
             [
              0.7777777777777778,
              "#fb9f3a"
             ],
             [
              0.8888888888888888,
              "#fdca26"
             ],
             [
              1,
              "#f0f921"
             ]
            ],
            "type": "histogram2d"
           }
          ],
          "histogram2dcontour": [
           {
            "colorbar": {
             "outlinewidth": 0,
             "ticks": ""
            },
            "colorscale": [
             [
              0,
              "#0d0887"
             ],
             [
              0.1111111111111111,
              "#46039f"
             ],
             [
              0.2222222222222222,
              "#7201a8"
             ],
             [
              0.3333333333333333,
              "#9c179e"
             ],
             [
              0.4444444444444444,
              "#bd3786"
             ],
             [
              0.5555555555555556,
              "#d8576b"
             ],
             [
              0.6666666666666666,
              "#ed7953"
             ],
             [
              0.7777777777777778,
              "#fb9f3a"
             ],
             [
              0.8888888888888888,
              "#fdca26"
             ],
             [
              1,
              "#f0f921"
             ]
            ],
            "type": "histogram2dcontour"
           }
          ],
          "mesh3d": [
           {
            "colorbar": {
             "outlinewidth": 0,
             "ticks": ""
            },
            "type": "mesh3d"
           }
          ],
          "parcoords": [
           {
            "line": {
             "colorbar": {
              "outlinewidth": 0,
              "ticks": ""
             }
            },
            "type": "parcoords"
           }
          ],
          "pie": [
           {
            "automargin": true,
            "type": "pie"
           }
          ],
          "scatter": [
           {
            "fillpattern": {
             "fillmode": "overlay",
             "size": 10,
             "solidity": 0.2
            },
            "type": "scatter"
           }
          ],
          "scatter3d": [
           {
            "line": {
             "colorbar": {
              "outlinewidth": 0,
              "ticks": ""
             }
            },
            "marker": {
             "colorbar": {
              "outlinewidth": 0,
              "ticks": ""
             }
            },
            "type": "scatter3d"
           }
          ],
          "scattercarpet": [
           {
            "marker": {
             "colorbar": {
              "outlinewidth": 0,
              "ticks": ""
             }
            },
            "type": "scattercarpet"
           }
          ],
          "scattergeo": [
           {
            "marker": {
             "colorbar": {
              "outlinewidth": 0,
              "ticks": ""
             }
            },
            "type": "scattergeo"
           }
          ],
          "scattergl": [
           {
            "marker": {
             "colorbar": {
              "outlinewidth": 0,
              "ticks": ""
             }
            },
            "type": "scattergl"
           }
          ],
          "scattermap": [
           {
            "marker": {
             "colorbar": {
              "outlinewidth": 0,
              "ticks": ""
             }
            },
            "type": "scattermap"
           }
          ],
          "scattermapbox": [
           {
            "marker": {
             "colorbar": {
              "outlinewidth": 0,
              "ticks": ""
             }
            },
            "type": "scattermapbox"
           }
          ],
          "scatterpolar": [
           {
            "marker": {
             "colorbar": {
              "outlinewidth": 0,
              "ticks": ""
             }
            },
            "type": "scatterpolar"
           }
          ],
          "scatterpolargl": [
           {
            "marker": {
             "colorbar": {
              "outlinewidth": 0,
              "ticks": ""
             }
            },
            "type": "scatterpolargl"
           }
          ],
          "scatterternary": [
           {
            "marker": {
             "colorbar": {
              "outlinewidth": 0,
              "ticks": ""
             }
            },
            "type": "scatterternary"
           }
          ],
          "surface": [
           {
            "colorbar": {
             "outlinewidth": 0,
             "ticks": ""
            },
            "colorscale": [
             [
              0,
              "#0d0887"
             ],
             [
              0.1111111111111111,
              "#46039f"
             ],
             [
              0.2222222222222222,
              "#7201a8"
             ],
             [
              0.3333333333333333,
              "#9c179e"
             ],
             [
              0.4444444444444444,
              "#bd3786"
             ],
             [
              0.5555555555555556,
              "#d8576b"
             ],
             [
              0.6666666666666666,
              "#ed7953"
             ],
             [
              0.7777777777777778,
              "#fb9f3a"
             ],
             [
              0.8888888888888888,
              "#fdca26"
             ],
             [
              1,
              "#f0f921"
             ]
            ],
            "type": "surface"
           }
          ],
          "table": [
           {
            "cells": {
             "fill": {
              "color": "#EBF0F8"
             },
             "line": {
              "color": "white"
             }
            },
            "header": {
             "fill": {
              "color": "#C8D4E3"
             },
             "line": {
              "color": "white"
             }
            },
            "type": "table"
           }
          ]
         },
         "layout": {
          "annotationdefaults": {
           "arrowcolor": "#2a3f5f",
           "arrowhead": 0,
           "arrowwidth": 1
          },
          "autotypenumbers": "strict",
          "coloraxis": {
           "colorbar": {
            "outlinewidth": 0,
            "ticks": ""
           }
          },
          "colorscale": {
           "diverging": [
            [
             0,
             "#8e0152"
            ],
            [
             0.1,
             "#c51b7d"
            ],
            [
             0.2,
             "#de77ae"
            ],
            [
             0.3,
             "#f1b6da"
            ],
            [
             0.4,
             "#fde0ef"
            ],
            [
             0.5,
             "#f7f7f7"
            ],
            [
             0.6,
             "#e6f5d0"
            ],
            [
             0.7,
             "#b8e186"
            ],
            [
             0.8,
             "#7fbc41"
            ],
            [
             0.9,
             "#4d9221"
            ],
            [
             1,
             "#276419"
            ]
           ],
           "sequential": [
            [
             0,
             "#0d0887"
            ],
            [
             0.1111111111111111,
             "#46039f"
            ],
            [
             0.2222222222222222,
             "#7201a8"
            ],
            [
             0.3333333333333333,
             "#9c179e"
            ],
            [
             0.4444444444444444,
             "#bd3786"
            ],
            [
             0.5555555555555556,
             "#d8576b"
            ],
            [
             0.6666666666666666,
             "#ed7953"
            ],
            [
             0.7777777777777778,
             "#fb9f3a"
            ],
            [
             0.8888888888888888,
             "#fdca26"
            ],
            [
             1,
             "#f0f921"
            ]
           ],
           "sequentialminus": [
            [
             0,
             "#0d0887"
            ],
            [
             0.1111111111111111,
             "#46039f"
            ],
            [
             0.2222222222222222,
             "#7201a8"
            ],
            [
             0.3333333333333333,
             "#9c179e"
            ],
            [
             0.4444444444444444,
             "#bd3786"
            ],
            [
             0.5555555555555556,
             "#d8576b"
            ],
            [
             0.6666666666666666,
             "#ed7953"
            ],
            [
             0.7777777777777778,
             "#fb9f3a"
            ],
            [
             0.8888888888888888,
             "#fdca26"
            ],
            [
             1,
             "#f0f921"
            ]
           ]
          },
          "colorway": [
           "#636efa",
           "#EF553B",
           "#00cc96",
           "#ab63fa",
           "#FFA15A",
           "#19d3f3",
           "#FF6692",
           "#B6E880",
           "#FF97FF",
           "#FECB52"
          ],
          "font": {
           "color": "#2a3f5f"
          },
          "geo": {
           "bgcolor": "white",
           "lakecolor": "white",
           "landcolor": "#E5ECF6",
           "showlakes": true,
           "showland": true,
           "subunitcolor": "white"
          },
          "hoverlabel": {
           "align": "left"
          },
          "hovermode": "closest",
          "mapbox": {
           "style": "light"
          },
          "paper_bgcolor": "white",
          "plot_bgcolor": "#E5ECF6",
          "polar": {
           "angularaxis": {
            "gridcolor": "white",
            "linecolor": "white",
            "ticks": ""
           },
           "bgcolor": "#E5ECF6",
           "radialaxis": {
            "gridcolor": "white",
            "linecolor": "white",
            "ticks": ""
           }
          },
          "scene": {
           "xaxis": {
            "backgroundcolor": "#E5ECF6",
            "gridcolor": "white",
            "gridwidth": 2,
            "linecolor": "white",
            "showbackground": true,
            "ticks": "",
            "zerolinecolor": "white"
           },
           "yaxis": {
            "backgroundcolor": "#E5ECF6",
            "gridcolor": "white",
            "gridwidth": 2,
            "linecolor": "white",
            "showbackground": true,
            "ticks": "",
            "zerolinecolor": "white"
           },
           "zaxis": {
            "backgroundcolor": "#E5ECF6",
            "gridcolor": "white",
            "gridwidth": 2,
            "linecolor": "white",
            "showbackground": true,
            "ticks": "",
            "zerolinecolor": "white"
           }
          },
          "shapedefaults": {
           "line": {
            "color": "#2a3f5f"
           }
          },
          "ternary": {
           "aaxis": {
            "gridcolor": "white",
            "linecolor": "white",
            "ticks": ""
           },
           "baxis": {
            "gridcolor": "white",
            "linecolor": "white",
            "ticks": ""
           },
           "bgcolor": "#E5ECF6",
           "caxis": {
            "gridcolor": "white",
            "linecolor": "white",
            "ticks": ""
           }
          },
          "title": {
           "x": 0.05
          },
          "xaxis": {
           "automargin": true,
           "gridcolor": "white",
           "linecolor": "white",
           "ticks": "",
           "title": {
            "standoff": 15
           },
           "zerolinecolor": "white",
           "zerolinewidth": 2
          },
          "yaxis": {
           "automargin": true,
           "gridcolor": "white",
           "linecolor": "white",
           "ticks": "",
           "title": {
            "standoff": 15
           },
           "zerolinecolor": "white",
           "zerolinewidth": 2
          }
         }
        },
        "width": 900,
        "xaxis": {
         "rangeselector": {
          "buttons": [
           {
            "count": 7,
            "label": "1w",
            "step": "day",
            "stepmode": "backward"
           },
           {
            "count": 1,
            "label": "1m",
            "step": "month",
            "stepmode": "backward"
           },
           {
            "count": 6,
            "label": "6m",
            "step": "month",
            "stepmode": "backward"
           },
           {
            "count": 1,
            "label": "1y",
            "step": "year",
            "stepmode": "backward"
           },
           {
            "step": "all"
           }
          ]
         },
         "rangeslider": {
          "visible": true
         },
         "title": {
          "text": "ds"
         },
         "type": "date"
        },
        "yaxis": {
         "title": {
          "text": "y"
         }
        }
       }
      }
     },
     "metadata": {},
     "output_type": "display_data"
    }
   ],
   "source": [
    "plot_plotly(model, actual)"
   ]
  },
  {
   "cell_type": "code",
   "execution_count": 36,
   "metadata": {},
   "outputs": [],
   "source": [
    "df1, df2 = df, df"
   ]
  },
  {
   "cell_type": "code",
   "execution_count": 37,
   "metadata": {},
   "outputs": [],
   "source": [
    "def test_function(df1, df2):\n",
    "    return df1, df2"
   ]
  },
  {
   "cell_type": "code",
   "execution_count": 38,
   "metadata": {},
   "outputs": [
    {
     "data": {
      "text/plain": [
       "(     regionid  sizerank       regionname regiontype statename     2000-01-31  \\\n",
       " 0      102001         0    United States    country       NaN  120187.291338   \n",
       " 1      394913         1     New York, NY        msa        NY  215997.979545   \n",
       " 2      753899         2  Los Angeles, CA        msa        CA  223845.478204   \n",
       " 3      394463         3      Chicago, IL        msa        IL  150668.753070   \n",
       " 4      394514         4       Dallas, TX        msa        TX  126168.387128   \n",
       " ..        ...       ...              ...        ...       ...            ...   \n",
       " 890    753929       935       Zapata, TX        msa        TX            NaN   \n",
       " 891    394743       936    Ketchikan, AK        msa        AK            NaN   \n",
       " 892    753874       937        Craig, CO        msa        CO   95266.136956   \n",
       " 893    395188       938       Vernon, TX        msa        TX            NaN   \n",
       " 894    394767       939       Lamesa, TX        msa        TX            NaN   \n",
       " \n",
       "         2000-02-29     2000-03-31     2000-04-30     2000-05-31  ...  \\\n",
       " 0    120398.739312  120660.965935  121223.390567  121870.673889  ...   \n",
       " 1    216915.849088  217842.219756  219719.405192  221663.295718  ...   \n",
       " 2    224678.467396  225788.001055  227995.600317  230410.021823  ...   \n",
       " 3    150808.228444  151073.861750  151734.691403  152529.589990  ...   \n",
       " 4    126224.582968  126289.185839  126456.952710  126678.148736  ...   \n",
       " ..             ...            ...            ...            ...  ...   \n",
       " 890            NaN            NaN            NaN            NaN  ...   \n",
       " 891            NaN            NaN            NaN            NaN  ...   \n",
       " 892   95509.739130   95963.262565   96609.121827   97359.654502  ...   \n",
       " 893            NaN            NaN            NaN            NaN  ...   \n",
       " 894            NaN            NaN            NaN            NaN  ...   \n",
       " \n",
       "         2024-05-31     2024-06-30     2024-07-31     2024-08-31  \\\n",
       " 0    352914.638679  353466.996967  353612.598368  353851.962049   \n",
       " 1    655775.193541  658849.712644  661590.751300  665325.900420   \n",
       " 2    939338.772106  943348.163884  947786.830884  953046.620772   \n",
       " 3    314546.393299  315749.091850  316472.773117  317379.333016   \n",
       " 4    375056.853849  374392.029934  373452.807103  372801.133481   \n",
       " ..             ...            ...            ...            ...   \n",
       " 890  131531.654866  132688.523619  132912.456958  132558.177145   \n",
       " 891  381309.331422  381376.980337  380627.574986  380578.025969   \n",
       " 892  276333.773450  276661.013369  276973.040290  277193.293552   \n",
       " 893   89532.227728   89785.258302   89590.056750   89124.396435   \n",
       " 894   89821.118489   91125.165281   92973.967602   94626.178003   \n",
       " \n",
       "         2024-09-30     2024-10-31     2024-11-30     2024-12-31  \\\n",
       " 0    354295.143248  354873.991396  355358.916720  356067.058847   \n",
       " 1    669344.302493  672861.282874  675626.194374  677406.746915   \n",
       " 2    959562.454127  964859.346450  969423.172391  973502.535403   \n",
       " 3    318365.905134  319327.319692  320348.475962  321575.006711   \n",
       " 4    372603.234747  372497.321500  372208.925541  371684.816971   \n",
       " ..             ...            ...            ...            ...   \n",
       " 890  131910.399644  131007.461037  130221.680939  129654.261794   \n",
       " 891  381875.990992  383744.854024  384246.890480  384626.243407   \n",
       " 892  278505.525864  280142.587789  281322.412229  282345.620428   \n",
       " 893   87904.754411   86367.487077   84515.512263   83281.780126   \n",
       " 894   95342.951468   95352.720131   94853.527542   94525.356703   \n",
       " \n",
       "         2025-01-31     2025-02-28  \n",
       " 0    356686.351705  357138.132256  \n",
       " 1    678476.263587  679755.746376  \n",
       " 2    974045.970345  971995.753941  \n",
       " 3    322895.868446  324218.209834  \n",
       " 4    371161.901269  370383.507210  \n",
       " ..             ...            ...  \n",
       " 890  129200.065580  128708.596263  \n",
       " 891  385103.593785  386337.628339  \n",
       " 892  282617.554129  283361.480437  \n",
       " 893   82381.336309   81560.597125  \n",
       " 894   93915.017024   94232.871852  \n",
       " \n",
       " [895 rows x 307 columns],\n",
       "      regionid  sizerank       regionname regiontype statename     2000-01-31  \\\n",
       " 0      102001         0    United States    country       NaN  120187.291338   \n",
       " 1      394913         1     New York, NY        msa        NY  215997.979545   \n",
       " 2      753899         2  Los Angeles, CA        msa        CA  223845.478204   \n",
       " 3      394463         3      Chicago, IL        msa        IL  150668.753070   \n",
       " 4      394514         4       Dallas, TX        msa        TX  126168.387128   \n",
       " ..        ...       ...              ...        ...       ...            ...   \n",
       " 890    753929       935       Zapata, TX        msa        TX            NaN   \n",
       " 891    394743       936    Ketchikan, AK        msa        AK            NaN   \n",
       " 892    753874       937        Craig, CO        msa        CO   95266.136956   \n",
       " 893    395188       938       Vernon, TX        msa        TX            NaN   \n",
       " 894    394767       939       Lamesa, TX        msa        TX            NaN   \n",
       " \n",
       "         2000-02-29     2000-03-31     2000-04-30     2000-05-31  ...  \\\n",
       " 0    120398.739312  120660.965935  121223.390567  121870.673889  ...   \n",
       " 1    216915.849088  217842.219756  219719.405192  221663.295718  ...   \n",
       " 2    224678.467396  225788.001055  227995.600317  230410.021823  ...   \n",
       " 3    150808.228444  151073.861750  151734.691403  152529.589990  ...   \n",
       " 4    126224.582968  126289.185839  126456.952710  126678.148736  ...   \n",
       " ..             ...            ...            ...            ...  ...   \n",
       " 890            NaN            NaN            NaN            NaN  ...   \n",
       " 891            NaN            NaN            NaN            NaN  ...   \n",
       " 892   95509.739130   95963.262565   96609.121827   97359.654502  ...   \n",
       " 893            NaN            NaN            NaN            NaN  ...   \n",
       " 894            NaN            NaN            NaN            NaN  ...   \n",
       " \n",
       "         2024-05-31     2024-06-30     2024-07-31     2024-08-31  \\\n",
       " 0    352914.638679  353466.996967  353612.598368  353851.962049   \n",
       " 1    655775.193541  658849.712644  661590.751300  665325.900420   \n",
       " 2    939338.772106  943348.163884  947786.830884  953046.620772   \n",
       " 3    314546.393299  315749.091850  316472.773117  317379.333016   \n",
       " 4    375056.853849  374392.029934  373452.807103  372801.133481   \n",
       " ..             ...            ...            ...            ...   \n",
       " 890  131531.654866  132688.523619  132912.456958  132558.177145   \n",
       " 891  381309.331422  381376.980337  380627.574986  380578.025969   \n",
       " 892  276333.773450  276661.013369  276973.040290  277193.293552   \n",
       " 893   89532.227728   89785.258302   89590.056750   89124.396435   \n",
       " 894   89821.118489   91125.165281   92973.967602   94626.178003   \n",
       " \n",
       "         2024-09-30     2024-10-31     2024-11-30     2024-12-31  \\\n",
       " 0    354295.143248  354873.991396  355358.916720  356067.058847   \n",
       " 1    669344.302493  672861.282874  675626.194374  677406.746915   \n",
       " 2    959562.454127  964859.346450  969423.172391  973502.535403   \n",
       " 3    318365.905134  319327.319692  320348.475962  321575.006711   \n",
       " 4    372603.234747  372497.321500  372208.925541  371684.816971   \n",
       " ..             ...            ...            ...            ...   \n",
       " 890  131910.399644  131007.461037  130221.680939  129654.261794   \n",
       " 891  381875.990992  383744.854024  384246.890480  384626.243407   \n",
       " 892  278505.525864  280142.587789  281322.412229  282345.620428   \n",
       " 893   87904.754411   86367.487077   84515.512263   83281.780126   \n",
       " 894   95342.951468   95352.720131   94853.527542   94525.356703   \n",
       " \n",
       "         2025-01-31     2025-02-28  \n",
       " 0    356686.351705  357138.132256  \n",
       " 1    678476.263587  679755.746376  \n",
       " 2    974045.970345  971995.753941  \n",
       " 3    322895.868446  324218.209834  \n",
       " 4    371161.901269  370383.507210  \n",
       " ..             ...            ...  \n",
       " 890  129200.065580  128708.596263  \n",
       " 891  385103.593785  386337.628339  \n",
       " 892  282617.554129  283361.480437  \n",
       " 893   82381.336309   81560.597125  \n",
       " 894   93915.017024   94232.871852  \n",
       " \n",
       " [895 rows x 307 columns])"
      ]
     },
     "execution_count": 38,
     "metadata": {},
     "output_type": "execute_result"
    }
   ],
   "source": [
    "test_function(df1,df2)"
   ]
  }
 ],
 "metadata": {
  "kernelspec": {
   "display_name": "real-estate",
   "language": "python",
   "name": "python3"
  },
  "language_info": {
   "codemirror_mode": {
    "name": "ipython",
    "version": 3
   },
   "file_extension": ".py",
   "mimetype": "text/x-python",
   "name": "python",
   "nbconvert_exporter": "python",
   "pygments_lexer": "ipython3",
   "version": "3.12.2"
  }
 },
 "nbformat": 4,
 "nbformat_minor": 2
}
