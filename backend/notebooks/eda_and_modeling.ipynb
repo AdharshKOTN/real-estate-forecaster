{
 "cells": [
  {
   "cell_type": "code",
   "execution_count": null,
   "metadata": {},
   "outputs": [
    {
     "name": "stdout",
     "output_type": "stream",
     "text": [
      "Requirement already satisfied: prophet in /Users/adharshrajendran/projects/real-estate-forecaster/real-estate/lib/python3.12/site-packages (1.1.6)\n",
      "Collecting nbformat\n",
      "  Obtaining dependency information for nbformat from https://files.pythonhosted.org/packages/a9/82/0340caa499416c78e5d8f5f05947ae4bc3cba53c9f038ab6e9ed964e22f1/nbformat-5.10.4-py3-none-any.whl.metadata\n",
      "  Using cached nbformat-5.10.4-py3-none-any.whl.metadata (3.6 kB)\n",
      "Requirement already satisfied: cmdstanpy>=1.0.4 in /Users/adharshrajendran/projects/real-estate-forecaster/real-estate/lib/python3.12/site-packages (from prophet) (1.2.5)\n",
      "Requirement already satisfied: numpy>=1.15.4 in /Users/adharshrajendran/projects/real-estate-forecaster/real-estate/lib/python3.12/site-packages (from prophet) (2.2.4)\n",
      "Requirement already satisfied: matplotlib>=2.0.0 in /Users/adharshrajendran/projects/real-estate-forecaster/real-estate/lib/python3.12/site-packages (from prophet) (3.10.1)\n",
      "Requirement already satisfied: pandas>=1.0.4 in /Users/adharshrajendran/projects/real-estate-forecaster/real-estate/lib/python3.12/site-packages (from prophet) (2.2.3)\n",
      "Requirement already satisfied: holidays<1,>=0.25 in /Users/adharshrajendran/projects/real-estate-forecaster/real-estate/lib/python3.12/site-packages (from prophet) (0.69)\n",
      "Requirement already satisfied: tqdm>=4.36.1 in /Users/adharshrajendran/projects/real-estate-forecaster/real-estate/lib/python3.12/site-packages (from prophet) (4.67.1)\n",
      "Requirement already satisfied: importlib-resources in /Users/adharshrajendran/projects/real-estate-forecaster/real-estate/lib/python3.12/site-packages (from prophet) (6.5.2)\n",
      "Collecting fastjsonschema>=2.15 (from nbformat)\n",
      "  Obtaining dependency information for fastjsonschema>=2.15 from https://files.pythonhosted.org/packages/90/2b/0817a2b257fe88725c25589d89aec060581aabf668707a8d03b2e9e0cb2a/fastjsonschema-2.21.1-py3-none-any.whl.metadata\n",
      "  Downloading fastjsonschema-2.21.1-py3-none-any.whl.metadata (2.2 kB)\n",
      "Collecting jsonschema>=2.6 (from nbformat)\n",
      "  Obtaining dependency information for jsonschema>=2.6 from https://files.pythonhosted.org/packages/69/4a/4f9dbeb84e8850557c02365a0eee0649abe5eb1d84af92a25731c6c0f922/jsonschema-4.23.0-py3-none-any.whl.metadata\n",
      "  Using cached jsonschema-4.23.0-py3-none-any.whl.metadata (7.9 kB)\n",
      "Requirement already satisfied: jupyter-core!=5.0.*,>=4.12 in /Users/adharshrajendran/projects/real-estate-forecaster/real-estate/lib/python3.12/site-packages (from nbformat) (5.7.2)\n",
      "Requirement already satisfied: traitlets>=5.1 in /Users/adharshrajendran/projects/real-estate-forecaster/real-estate/lib/python3.12/site-packages (from nbformat) (5.14.3)\n",
      "Requirement already satisfied: stanio<2.0.0,>=0.4.0 in /Users/adharshrajendran/projects/real-estate-forecaster/real-estate/lib/python3.12/site-packages (from cmdstanpy>=1.0.4->prophet) (0.5.1)\n",
      "Requirement already satisfied: python-dateutil in /Users/adharshrajendran/projects/real-estate-forecaster/real-estate/lib/python3.12/site-packages (from holidays<1,>=0.25->prophet) (2.9.0.post0)\n",
      "Collecting attrs>=22.2.0 (from jsonschema>=2.6->nbformat)\n",
      "  Obtaining dependency information for attrs>=22.2.0 from https://files.pythonhosted.org/packages/77/06/bb80f5f86020c4551da315d78b3ab75e8228f89f0162f2c3a819e407941a/attrs-25.3.0-py3-none-any.whl.metadata\n",
      "  Downloading attrs-25.3.0-py3-none-any.whl.metadata (10 kB)\n",
      "Collecting jsonschema-specifications>=2023.03.6 (from jsonschema>=2.6->nbformat)\n",
      "  Obtaining dependency information for jsonschema-specifications>=2023.03.6 from https://files.pythonhosted.org/packages/d1/0f/8910b19ac0670a0f80ce1008e5e751c4a57e14d2c4c13a482aa6079fa9d6/jsonschema_specifications-2024.10.1-py3-none-any.whl.metadata\n",
      "  Using cached jsonschema_specifications-2024.10.1-py3-none-any.whl.metadata (3.0 kB)\n",
      "Collecting referencing>=0.28.4 (from jsonschema>=2.6->nbformat)\n",
      "  Obtaining dependency information for referencing>=0.28.4 from https://files.pythonhosted.org/packages/c1/b1/3baf80dc6d2b7bc27a95a67752d0208e410351e3feb4eb78de5f77454d8d/referencing-0.36.2-py3-none-any.whl.metadata\n",
      "  Downloading referencing-0.36.2-py3-none-any.whl.metadata (2.8 kB)\n",
      "Collecting rpds-py>=0.7.1 (from jsonschema>=2.6->nbformat)\n",
      "  Obtaining dependency information for rpds-py>=0.7.1 from https://files.pythonhosted.org/packages/39/1b/a3501574fbf29118164314dbc800d568b8c1c7b3258b505360e8abb3902c/rpds_py-0.24.0-cp312-cp312-macosx_11_0_arm64.whl.metadata\n",
      "  Downloading rpds_py-0.24.0-cp312-cp312-macosx_11_0_arm64.whl.metadata (4.1 kB)\n",
      "Requirement already satisfied: platformdirs>=2.5 in /Users/adharshrajendran/projects/real-estate-forecaster/real-estate/lib/python3.12/site-packages (from jupyter-core!=5.0.*,>=4.12->nbformat) (4.3.7)\n",
      "Requirement already satisfied: contourpy>=1.0.1 in /Users/adharshrajendran/projects/real-estate-forecaster/real-estate/lib/python3.12/site-packages (from matplotlib>=2.0.0->prophet) (1.3.1)\n",
      "Requirement already satisfied: cycler>=0.10 in /Users/adharshrajendran/projects/real-estate-forecaster/real-estate/lib/python3.12/site-packages (from matplotlib>=2.0.0->prophet) (0.12.1)\n",
      "Requirement already satisfied: fonttools>=4.22.0 in /Users/adharshrajendran/projects/real-estate-forecaster/real-estate/lib/python3.12/site-packages (from matplotlib>=2.0.0->prophet) (4.56.0)\n",
      "Requirement already satisfied: kiwisolver>=1.3.1 in /Users/adharshrajendran/projects/real-estate-forecaster/real-estate/lib/python3.12/site-packages (from matplotlib>=2.0.0->prophet) (1.4.8)\n",
      "Requirement already satisfied: packaging>=20.0 in /Users/adharshrajendran/projects/real-estate-forecaster/real-estate/lib/python3.12/site-packages (from matplotlib>=2.0.0->prophet) (24.2)\n",
      "Requirement already satisfied: pillow>=8 in /Users/adharshrajendran/projects/real-estate-forecaster/real-estate/lib/python3.12/site-packages (from matplotlib>=2.0.0->prophet) (11.1.0)\n",
      "Requirement already satisfied: pyparsing>=2.3.1 in /Users/adharshrajendran/projects/real-estate-forecaster/real-estate/lib/python3.12/site-packages (from matplotlib>=2.0.0->prophet) (3.2.3)\n",
      "Requirement already satisfied: pytz>=2020.1 in /Users/adharshrajendran/projects/real-estate-forecaster/real-estate/lib/python3.12/site-packages (from pandas>=1.0.4->prophet) (2025.2)\n",
      "Requirement already satisfied: tzdata>=2022.7 in /Users/adharshrajendran/projects/real-estate-forecaster/real-estate/lib/python3.12/site-packages (from pandas>=1.0.4->prophet) (2025.2)\n",
      "Requirement already satisfied: six>=1.5 in /Users/adharshrajendran/projects/real-estate-forecaster/real-estate/lib/python3.12/site-packages (from python-dateutil->holidays<1,>=0.25->prophet) (1.17.0)\n",
      "Collecting typing-extensions>=4.4.0 (from referencing>=0.28.4->jsonschema>=2.6->nbformat)\n",
      "  Obtaining dependency information for typing-extensions>=4.4.0 from https://files.pythonhosted.org/packages/e0/86/39b65d676ec5732de17b7e3c476e45bb80ec64eb50737a8dce1a4178aba1/typing_extensions-4.13.0-py3-none-any.whl.metadata\n",
      "  Downloading typing_extensions-4.13.0-py3-none-any.whl.metadata (3.0 kB)\n",
      "Using cached nbformat-5.10.4-py3-none-any.whl (78 kB)\n",
      "Downloading fastjsonschema-2.21.1-py3-none-any.whl (23 kB)\n",
      "Using cached jsonschema-4.23.0-py3-none-any.whl (88 kB)\n",
      "Downloading attrs-25.3.0-py3-none-any.whl (63 kB)\n",
      "\u001b[2K   \u001b[38;2;114;156;31m━━━━━━━━━━━━━━━━━━━━━━━━━━━━━━━━━━━━━━━━\u001b[0m \u001b[32m63.8/63.8 kB\u001b[0m \u001b[31m2.0 MB/s\u001b[0m eta \u001b[36m0:00:00\u001b[0m\n",
      "\u001b[?25hUsing cached jsonschema_specifications-2024.10.1-py3-none-any.whl (18 kB)\n",
      "Downloading referencing-0.36.2-py3-none-any.whl (26 kB)\n",
      "Downloading rpds_py-0.24.0-cp312-cp312-macosx_11_0_arm64.whl (351 kB)\n",
      "\u001b[2K   \u001b[38;2;114;156;31m━━━━━━━━━━━━━━━━━━━━━━━━━━━━━━━━━━━━━━━━\u001b[0m \u001b[32m351.9/351.9 kB\u001b[0m \u001b[31m7.3 MB/s\u001b[0m eta \u001b[36m0:00:00\u001b[0m5 MB/s\u001b[0m eta \u001b[36m0:00:01\u001b[0m\n",
      "\u001b[?25hDownloading typing_extensions-4.13.0-py3-none-any.whl (45 kB)\n",
      "\u001b[2K   \u001b[38;2;114;156;31m━━━━━━━━━━━━━━━━━━━━━━━━━━━━━━━━━━━━━━━━\u001b[0m \u001b[32m45.7/45.7 kB\u001b[0m \u001b[31m2.8 MB/s\u001b[0m eta \u001b[36m0:00:00\u001b[0m\n",
      "\u001b[?25hInstalling collected packages: fastjsonschema, typing-extensions, rpds-py, attrs, referencing, jsonschema-specifications, jsonschema, nbformat\n",
      "Successfully installed attrs-25.3.0 fastjsonschema-2.21.1 jsonschema-4.23.0 jsonschema-specifications-2024.10.1 nbformat-5.10.4 referencing-0.36.2 rpds-py-0.24.0 typing-extensions-4.13.0\n",
      "\n",
      "\u001b[1m[\u001b[0m\u001b[34;49mnotice\u001b[0m\u001b[1;39;49m]\u001b[0m\u001b[39;49m A new release of pip is available: \u001b[0m\u001b[31;49m23.2.1\u001b[0m\u001b[39;49m -> \u001b[0m\u001b[32;49m25.0.1\u001b[0m\n",
      "\u001b[1m[\u001b[0m\u001b[34;49mnotice\u001b[0m\u001b[1;39;49m]\u001b[0m\u001b[39;49m To update, run: \u001b[0m\u001b[32;49mpip install --upgrade pip\u001b[0m\n",
      "Note: you may need to restart the kernel to use updated packages.\n"
     ]
    }
   ],
   "source": [
    "pip install prophet nbformat"
   ]
  },
  {
   "cell_type": "code",
   "execution_count": 1,
   "metadata": {},
   "outputs": [],
   "source": [
    "import pandas as pd\n",
    "import matplotlib.pyplot as plt"
   ]
  },
  {
   "cell_type": "markdown",
   "metadata": {},
   "source": [
    "## Data Wrangling"
   ]
  },
  {
   "cell_type": "code",
   "execution_count": 2,
   "metadata": {},
   "outputs": [],
   "source": [
    "df = pd.read_csv(\"../data/Metro_zhvi_uc_sfrcondo_tier_0.33_0.67_sm_sa_month.csv\")"
   ]
  },
  {
   "cell_type": "code",
   "execution_count": 3,
   "metadata": {},
   "outputs": [
    {
     "name": "stdout",
     "output_type": "stream",
     "text": [
      "(895, 307)\n"
     ]
    },
    {
     "data": {
      "application/vnd.microsoft.datawrangler.viewer.v0+json": {
       "columns": [
        {
         "name": "index",
         "rawType": "int64",
         "type": "integer"
        },
        {
         "name": "RegionID",
         "rawType": "int64",
         "type": "integer"
        },
        {
         "name": "SizeRank",
         "rawType": "int64",
         "type": "integer"
        },
        {
         "name": "RegionName",
         "rawType": "object",
         "type": "string"
        },
        {
         "name": "RegionType",
         "rawType": "object",
         "type": "string"
        },
        {
         "name": "StateName",
         "rawType": "object",
         "type": "unknown"
        },
        {
         "name": "2000-01-31",
         "rawType": "float64",
         "type": "float"
        },
        {
         "name": "2000-02-29",
         "rawType": "float64",
         "type": "float"
        },
        {
         "name": "2000-03-31",
         "rawType": "float64",
         "type": "float"
        },
        {
         "name": "2000-04-30",
         "rawType": "float64",
         "type": "float"
        },
        {
         "name": "2000-05-31",
         "rawType": "float64",
         "type": "float"
        },
        {
         "name": "2000-06-30",
         "rawType": "float64",
         "type": "float"
        },
        {
         "name": "2000-07-31",
         "rawType": "float64",
         "type": "float"
        },
        {
         "name": "2000-08-31",
         "rawType": "float64",
         "type": "float"
        },
        {
         "name": "2000-09-30",
         "rawType": "float64",
         "type": "float"
        },
        {
         "name": "2000-10-31",
         "rawType": "float64",
         "type": "float"
        },
        {
         "name": "2000-11-30",
         "rawType": "float64",
         "type": "float"
        },
        {
         "name": "2000-12-31",
         "rawType": "float64",
         "type": "float"
        },
        {
         "name": "2001-01-31",
         "rawType": "float64",
         "type": "float"
        },
        {
         "name": "2001-02-28",
         "rawType": "float64",
         "type": "float"
        },
        {
         "name": "2001-03-31",
         "rawType": "float64",
         "type": "float"
        },
        {
         "name": "2001-04-30",
         "rawType": "float64",
         "type": "float"
        },
        {
         "name": "2001-05-31",
         "rawType": "float64",
         "type": "float"
        },
        {
         "name": "2001-06-30",
         "rawType": "float64",
         "type": "float"
        },
        {
         "name": "2001-07-31",
         "rawType": "float64",
         "type": "float"
        },
        {
         "name": "2001-08-31",
         "rawType": "float64",
         "type": "float"
        },
        {
         "name": "2001-09-30",
         "rawType": "float64",
         "type": "float"
        },
        {
         "name": "2001-10-31",
         "rawType": "float64",
         "type": "float"
        },
        {
         "name": "2001-11-30",
         "rawType": "float64",
         "type": "float"
        },
        {
         "name": "2001-12-31",
         "rawType": "float64",
         "type": "float"
        },
        {
         "name": "2002-01-31",
         "rawType": "float64",
         "type": "float"
        },
        {
         "name": "2002-02-28",
         "rawType": "float64",
         "type": "float"
        },
        {
         "name": "2002-03-31",
         "rawType": "float64",
         "type": "float"
        },
        {
         "name": "2002-04-30",
         "rawType": "float64",
         "type": "float"
        },
        {
         "name": "2002-05-31",
         "rawType": "float64",
         "type": "float"
        },
        {
         "name": "2002-06-30",
         "rawType": "float64",
         "type": "float"
        },
        {
         "name": "2002-07-31",
         "rawType": "float64",
         "type": "float"
        },
        {
         "name": "2002-08-31",
         "rawType": "float64",
         "type": "float"
        },
        {
         "name": "2002-09-30",
         "rawType": "float64",
         "type": "float"
        },
        {
         "name": "2002-10-31",
         "rawType": "float64",
         "type": "float"
        },
        {
         "name": "2002-11-30",
         "rawType": "float64",
         "type": "float"
        },
        {
         "name": "2002-12-31",
         "rawType": "float64",
         "type": "float"
        },
        {
         "name": "2003-01-31",
         "rawType": "float64",
         "type": "float"
        },
        {
         "name": "2003-02-28",
         "rawType": "float64",
         "type": "float"
        },
        {
         "name": "2003-03-31",
         "rawType": "float64",
         "type": "float"
        },
        {
         "name": "2003-04-30",
         "rawType": "float64",
         "type": "float"
        },
        {
         "name": "2003-05-31",
         "rawType": "float64",
         "type": "float"
        },
        {
         "name": "2003-06-30",
         "rawType": "float64",
         "type": "float"
        },
        {
         "name": "2003-07-31",
         "rawType": "float64",
         "type": "float"
        },
        {
         "name": "2003-08-31",
         "rawType": "float64",
         "type": "float"
        },
        {
         "name": "2003-09-30",
         "rawType": "float64",
         "type": "float"
        },
        {
         "name": "2003-10-31",
         "rawType": "float64",
         "type": "float"
        },
        {
         "name": "2003-11-30",
         "rawType": "float64",
         "type": "float"
        },
        {
         "name": "2003-12-31",
         "rawType": "float64",
         "type": "float"
        },
        {
         "name": "2004-01-31",
         "rawType": "float64",
         "type": "float"
        },
        {
         "name": "2004-02-29",
         "rawType": "float64",
         "type": "float"
        },
        {
         "name": "2004-03-31",
         "rawType": "float64",
         "type": "float"
        },
        {
         "name": "2004-04-30",
         "rawType": "float64",
         "type": "float"
        },
        {
         "name": "2004-05-31",
         "rawType": "float64",
         "type": "float"
        },
        {
         "name": "2004-06-30",
         "rawType": "float64",
         "type": "float"
        },
        {
         "name": "2004-07-31",
         "rawType": "float64",
         "type": "float"
        },
        {
         "name": "2004-08-31",
         "rawType": "float64",
         "type": "float"
        },
        {
         "name": "2004-09-30",
         "rawType": "float64",
         "type": "float"
        },
        {
         "name": "2004-10-31",
         "rawType": "float64",
         "type": "float"
        },
        {
         "name": "2004-11-30",
         "rawType": "float64",
         "type": "float"
        },
        {
         "name": "2004-12-31",
         "rawType": "float64",
         "type": "float"
        },
        {
         "name": "2005-01-31",
         "rawType": "float64",
         "type": "float"
        },
        {
         "name": "2005-02-28",
         "rawType": "float64",
         "type": "float"
        },
        {
         "name": "2005-03-31",
         "rawType": "float64",
         "type": "float"
        },
        {
         "name": "2005-04-30",
         "rawType": "float64",
         "type": "float"
        },
        {
         "name": "2005-05-31",
         "rawType": "float64",
         "type": "float"
        },
        {
         "name": "2005-06-30",
         "rawType": "float64",
         "type": "float"
        },
        {
         "name": "2005-07-31",
         "rawType": "float64",
         "type": "float"
        },
        {
         "name": "2005-08-31",
         "rawType": "float64",
         "type": "float"
        },
        {
         "name": "2005-09-30",
         "rawType": "float64",
         "type": "float"
        },
        {
         "name": "2005-10-31",
         "rawType": "float64",
         "type": "float"
        },
        {
         "name": "2005-11-30",
         "rawType": "float64",
         "type": "float"
        },
        {
         "name": "2005-12-31",
         "rawType": "float64",
         "type": "float"
        },
        {
         "name": "2006-01-31",
         "rawType": "float64",
         "type": "float"
        },
        {
         "name": "2006-02-28",
         "rawType": "float64",
         "type": "float"
        },
        {
         "name": "2006-03-31",
         "rawType": "float64",
         "type": "float"
        },
        {
         "name": "2006-04-30",
         "rawType": "float64",
         "type": "float"
        },
        {
         "name": "2006-05-31",
         "rawType": "float64",
         "type": "float"
        },
        {
         "name": "2006-06-30",
         "rawType": "float64",
         "type": "float"
        },
        {
         "name": "2006-07-31",
         "rawType": "float64",
         "type": "float"
        },
        {
         "name": "2006-08-31",
         "rawType": "float64",
         "type": "float"
        },
        {
         "name": "2006-09-30",
         "rawType": "float64",
         "type": "float"
        },
        {
         "name": "2006-10-31",
         "rawType": "float64",
         "type": "float"
        },
        {
         "name": "2006-11-30",
         "rawType": "float64",
         "type": "float"
        },
        {
         "name": "2006-12-31",
         "rawType": "float64",
         "type": "float"
        },
        {
         "name": "2007-01-31",
         "rawType": "float64",
         "type": "float"
        },
        {
         "name": "2007-02-28",
         "rawType": "float64",
         "type": "float"
        },
        {
         "name": "2007-03-31",
         "rawType": "float64",
         "type": "float"
        },
        {
         "name": "2007-04-30",
         "rawType": "float64",
         "type": "float"
        },
        {
         "name": "2007-05-31",
         "rawType": "float64",
         "type": "float"
        },
        {
         "name": "2007-06-30",
         "rawType": "float64",
         "type": "float"
        },
        {
         "name": "2007-07-31",
         "rawType": "float64",
         "type": "float"
        },
        {
         "name": "2007-08-31",
         "rawType": "float64",
         "type": "float"
        },
        {
         "name": "2007-09-30",
         "rawType": "float64",
         "type": "float"
        },
        {
         "name": "2007-10-31",
         "rawType": "float64",
         "type": "float"
        },
        {
         "name": "2007-11-30",
         "rawType": "float64",
         "type": "float"
        },
        {
         "name": "2007-12-31",
         "rawType": "float64",
         "type": "float"
        },
        {
         "name": "2008-01-31",
         "rawType": "float64",
         "type": "float"
        },
        {
         "name": "2008-02-29",
         "rawType": "float64",
         "type": "float"
        },
        {
         "name": "2008-03-31",
         "rawType": "float64",
         "type": "float"
        },
        {
         "name": "2008-04-30",
         "rawType": "float64",
         "type": "float"
        },
        {
         "name": "2008-05-31",
         "rawType": "float64",
         "type": "float"
        },
        {
         "name": "2008-06-30",
         "rawType": "float64",
         "type": "float"
        },
        {
         "name": "2008-07-31",
         "rawType": "float64",
         "type": "float"
        },
        {
         "name": "2008-08-31",
         "rawType": "float64",
         "type": "float"
        },
        {
         "name": "2008-09-30",
         "rawType": "float64",
         "type": "float"
        },
        {
         "name": "2008-10-31",
         "rawType": "float64",
         "type": "float"
        },
        {
         "name": "2008-11-30",
         "rawType": "float64",
         "type": "float"
        },
        {
         "name": "2008-12-31",
         "rawType": "float64",
         "type": "float"
        },
        {
         "name": "2009-01-31",
         "rawType": "float64",
         "type": "float"
        },
        {
         "name": "2009-02-28",
         "rawType": "float64",
         "type": "float"
        },
        {
         "name": "2009-03-31",
         "rawType": "float64",
         "type": "float"
        },
        {
         "name": "2009-04-30",
         "rawType": "float64",
         "type": "float"
        },
        {
         "name": "2009-05-31",
         "rawType": "float64",
         "type": "float"
        },
        {
         "name": "2009-06-30",
         "rawType": "float64",
         "type": "float"
        },
        {
         "name": "2009-07-31",
         "rawType": "float64",
         "type": "float"
        },
        {
         "name": "2009-08-31",
         "rawType": "float64",
         "type": "float"
        },
        {
         "name": "2009-09-30",
         "rawType": "float64",
         "type": "float"
        },
        {
         "name": "2009-10-31",
         "rawType": "float64",
         "type": "float"
        },
        {
         "name": "2009-11-30",
         "rawType": "float64",
         "type": "float"
        },
        {
         "name": "2009-12-31",
         "rawType": "float64",
         "type": "float"
        },
        {
         "name": "2010-01-31",
         "rawType": "float64",
         "type": "float"
        },
        {
         "name": "2010-02-28",
         "rawType": "float64",
         "type": "float"
        },
        {
         "name": "2010-03-31",
         "rawType": "float64",
         "type": "float"
        },
        {
         "name": "2010-04-30",
         "rawType": "float64",
         "type": "float"
        },
        {
         "name": "2010-05-31",
         "rawType": "float64",
         "type": "float"
        },
        {
         "name": "2010-06-30",
         "rawType": "float64",
         "type": "float"
        },
        {
         "name": "2010-07-31",
         "rawType": "float64",
         "type": "float"
        },
        {
         "name": "2010-08-31",
         "rawType": "float64",
         "type": "float"
        },
        {
         "name": "2010-09-30",
         "rawType": "float64",
         "type": "float"
        },
        {
         "name": "2010-10-31",
         "rawType": "float64",
         "type": "float"
        },
        {
         "name": "2010-11-30",
         "rawType": "float64",
         "type": "float"
        },
        {
         "name": "2010-12-31",
         "rawType": "float64",
         "type": "float"
        },
        {
         "name": "2011-01-31",
         "rawType": "float64",
         "type": "float"
        },
        {
         "name": "2011-02-28",
         "rawType": "float64",
         "type": "float"
        },
        {
         "name": "2011-03-31",
         "rawType": "float64",
         "type": "float"
        },
        {
         "name": "2011-04-30",
         "rawType": "float64",
         "type": "float"
        },
        {
         "name": "2011-05-31",
         "rawType": "float64",
         "type": "float"
        },
        {
         "name": "2011-06-30",
         "rawType": "float64",
         "type": "float"
        },
        {
         "name": "2011-07-31",
         "rawType": "float64",
         "type": "float"
        },
        {
         "name": "2011-08-31",
         "rawType": "float64",
         "type": "float"
        },
        {
         "name": "2011-09-30",
         "rawType": "float64",
         "type": "float"
        },
        {
         "name": "2011-10-31",
         "rawType": "float64",
         "type": "float"
        },
        {
         "name": "2011-11-30",
         "rawType": "float64",
         "type": "float"
        },
        {
         "name": "2011-12-31",
         "rawType": "float64",
         "type": "float"
        },
        {
         "name": "2012-01-31",
         "rawType": "float64",
         "type": "float"
        },
        {
         "name": "2012-02-29",
         "rawType": "float64",
         "type": "float"
        },
        {
         "name": "2012-03-31",
         "rawType": "float64",
         "type": "float"
        },
        {
         "name": "2012-04-30",
         "rawType": "float64",
         "type": "float"
        },
        {
         "name": "2012-05-31",
         "rawType": "float64",
         "type": "float"
        },
        {
         "name": "2012-06-30",
         "rawType": "float64",
         "type": "float"
        },
        {
         "name": "2012-07-31",
         "rawType": "float64",
         "type": "float"
        },
        {
         "name": "2012-08-31",
         "rawType": "float64",
         "type": "float"
        },
        {
         "name": "2012-09-30",
         "rawType": "float64",
         "type": "float"
        },
        {
         "name": "2012-10-31",
         "rawType": "float64",
         "type": "float"
        },
        {
         "name": "2012-11-30",
         "rawType": "float64",
         "type": "float"
        },
        {
         "name": "2012-12-31",
         "rawType": "float64",
         "type": "float"
        },
        {
         "name": "2013-01-31",
         "rawType": "float64",
         "type": "float"
        },
        {
         "name": "2013-02-28",
         "rawType": "float64",
         "type": "float"
        },
        {
         "name": "2013-03-31",
         "rawType": "float64",
         "type": "float"
        },
        {
         "name": "2013-04-30",
         "rawType": "float64",
         "type": "float"
        },
        {
         "name": "2013-05-31",
         "rawType": "float64",
         "type": "float"
        },
        {
         "name": "2013-06-30",
         "rawType": "float64",
         "type": "float"
        },
        {
         "name": "2013-07-31",
         "rawType": "float64",
         "type": "float"
        },
        {
         "name": "2013-08-31",
         "rawType": "float64",
         "type": "float"
        },
        {
         "name": "2013-09-30",
         "rawType": "float64",
         "type": "float"
        },
        {
         "name": "2013-10-31",
         "rawType": "float64",
         "type": "float"
        },
        {
         "name": "2013-11-30",
         "rawType": "float64",
         "type": "float"
        },
        {
         "name": "2013-12-31",
         "rawType": "float64",
         "type": "float"
        },
        {
         "name": "2014-01-31",
         "rawType": "float64",
         "type": "float"
        },
        {
         "name": "2014-02-28",
         "rawType": "float64",
         "type": "float"
        },
        {
         "name": "2014-03-31",
         "rawType": "float64",
         "type": "float"
        },
        {
         "name": "2014-04-30",
         "rawType": "float64",
         "type": "float"
        },
        {
         "name": "2014-05-31",
         "rawType": "float64",
         "type": "float"
        },
        {
         "name": "2014-06-30",
         "rawType": "float64",
         "type": "float"
        },
        {
         "name": "2014-07-31",
         "rawType": "float64",
         "type": "float"
        },
        {
         "name": "2014-08-31",
         "rawType": "float64",
         "type": "float"
        },
        {
         "name": "2014-09-30",
         "rawType": "float64",
         "type": "float"
        },
        {
         "name": "2014-10-31",
         "rawType": "float64",
         "type": "float"
        },
        {
         "name": "2014-11-30",
         "rawType": "float64",
         "type": "float"
        },
        {
         "name": "2014-12-31",
         "rawType": "float64",
         "type": "float"
        },
        {
         "name": "2015-01-31",
         "rawType": "float64",
         "type": "float"
        },
        {
         "name": "2015-02-28",
         "rawType": "float64",
         "type": "float"
        },
        {
         "name": "2015-03-31",
         "rawType": "float64",
         "type": "float"
        },
        {
         "name": "2015-04-30",
         "rawType": "float64",
         "type": "float"
        },
        {
         "name": "2015-05-31",
         "rawType": "float64",
         "type": "float"
        },
        {
         "name": "2015-06-30",
         "rawType": "float64",
         "type": "float"
        },
        {
         "name": "2015-07-31",
         "rawType": "float64",
         "type": "float"
        },
        {
         "name": "2015-08-31",
         "rawType": "float64",
         "type": "float"
        },
        {
         "name": "2015-09-30",
         "rawType": "float64",
         "type": "float"
        },
        {
         "name": "2015-10-31",
         "rawType": "float64",
         "type": "float"
        },
        {
         "name": "2015-11-30",
         "rawType": "float64",
         "type": "float"
        },
        {
         "name": "2015-12-31",
         "rawType": "float64",
         "type": "float"
        },
        {
         "name": "2016-01-31",
         "rawType": "float64",
         "type": "float"
        },
        {
         "name": "2016-02-29",
         "rawType": "float64",
         "type": "float"
        },
        {
         "name": "2016-03-31",
         "rawType": "float64",
         "type": "float"
        },
        {
         "name": "2016-04-30",
         "rawType": "float64",
         "type": "float"
        },
        {
         "name": "2016-05-31",
         "rawType": "float64",
         "type": "float"
        },
        {
         "name": "2016-06-30",
         "rawType": "float64",
         "type": "float"
        },
        {
         "name": "2016-07-31",
         "rawType": "float64",
         "type": "float"
        },
        {
         "name": "2016-08-31",
         "rawType": "float64",
         "type": "float"
        },
        {
         "name": "2016-09-30",
         "rawType": "float64",
         "type": "float"
        },
        {
         "name": "2016-10-31",
         "rawType": "float64",
         "type": "float"
        },
        {
         "name": "2016-11-30",
         "rawType": "float64",
         "type": "float"
        },
        {
         "name": "2016-12-31",
         "rawType": "float64",
         "type": "float"
        },
        {
         "name": "2017-01-31",
         "rawType": "float64",
         "type": "float"
        },
        {
         "name": "2017-02-28",
         "rawType": "float64",
         "type": "float"
        },
        {
         "name": "2017-03-31",
         "rawType": "float64",
         "type": "float"
        },
        {
         "name": "2017-04-30",
         "rawType": "float64",
         "type": "float"
        },
        {
         "name": "2017-05-31",
         "rawType": "float64",
         "type": "float"
        },
        {
         "name": "2017-06-30",
         "rawType": "float64",
         "type": "float"
        },
        {
         "name": "2017-07-31",
         "rawType": "float64",
         "type": "float"
        },
        {
         "name": "2017-08-31",
         "rawType": "float64",
         "type": "float"
        },
        {
         "name": "2017-09-30",
         "rawType": "float64",
         "type": "float"
        },
        {
         "name": "2017-10-31",
         "rawType": "float64",
         "type": "float"
        },
        {
         "name": "2017-11-30",
         "rawType": "float64",
         "type": "float"
        },
        {
         "name": "2017-12-31",
         "rawType": "float64",
         "type": "float"
        },
        {
         "name": "2018-01-31",
         "rawType": "float64",
         "type": "float"
        },
        {
         "name": "2018-02-28",
         "rawType": "float64",
         "type": "float"
        },
        {
         "name": "2018-03-31",
         "rawType": "float64",
         "type": "float"
        },
        {
         "name": "2018-04-30",
         "rawType": "float64",
         "type": "float"
        },
        {
         "name": "2018-05-31",
         "rawType": "float64",
         "type": "float"
        },
        {
         "name": "2018-06-30",
         "rawType": "float64",
         "type": "float"
        },
        {
         "name": "2018-07-31",
         "rawType": "float64",
         "type": "float"
        },
        {
         "name": "2018-08-31",
         "rawType": "float64",
         "type": "float"
        },
        {
         "name": "2018-09-30",
         "rawType": "float64",
         "type": "float"
        },
        {
         "name": "2018-10-31",
         "rawType": "float64",
         "type": "float"
        },
        {
         "name": "2018-11-30",
         "rawType": "float64",
         "type": "float"
        },
        {
         "name": "2018-12-31",
         "rawType": "float64",
         "type": "float"
        },
        {
         "name": "2019-01-31",
         "rawType": "float64",
         "type": "float"
        },
        {
         "name": "2019-02-28",
         "rawType": "float64",
         "type": "float"
        },
        {
         "name": "2019-03-31",
         "rawType": "float64",
         "type": "float"
        },
        {
         "name": "2019-04-30",
         "rawType": "float64",
         "type": "float"
        },
        {
         "name": "2019-05-31",
         "rawType": "float64",
         "type": "float"
        },
        {
         "name": "2019-06-30",
         "rawType": "float64",
         "type": "float"
        },
        {
         "name": "2019-07-31",
         "rawType": "float64",
         "type": "float"
        },
        {
         "name": "2019-08-31",
         "rawType": "float64",
         "type": "float"
        },
        {
         "name": "2019-09-30",
         "rawType": "float64",
         "type": "float"
        },
        {
         "name": "2019-10-31",
         "rawType": "float64",
         "type": "float"
        },
        {
         "name": "2019-11-30",
         "rawType": "float64",
         "type": "float"
        },
        {
         "name": "2019-12-31",
         "rawType": "float64",
         "type": "float"
        },
        {
         "name": "2020-01-31",
         "rawType": "float64",
         "type": "float"
        },
        {
         "name": "2020-02-29",
         "rawType": "float64",
         "type": "float"
        },
        {
         "name": "2020-03-31",
         "rawType": "float64",
         "type": "float"
        },
        {
         "name": "2020-04-30",
         "rawType": "float64",
         "type": "float"
        },
        {
         "name": "2020-05-31",
         "rawType": "float64",
         "type": "float"
        },
        {
         "name": "2020-06-30",
         "rawType": "float64",
         "type": "float"
        },
        {
         "name": "2020-07-31",
         "rawType": "float64",
         "type": "float"
        },
        {
         "name": "2020-08-31",
         "rawType": "float64",
         "type": "float"
        },
        {
         "name": "2020-09-30",
         "rawType": "float64",
         "type": "float"
        },
        {
         "name": "2020-10-31",
         "rawType": "float64",
         "type": "float"
        },
        {
         "name": "2020-11-30",
         "rawType": "float64",
         "type": "float"
        },
        {
         "name": "2020-12-31",
         "rawType": "float64",
         "type": "float"
        },
        {
         "name": "2021-01-31",
         "rawType": "float64",
         "type": "float"
        },
        {
         "name": "2021-02-28",
         "rawType": "float64",
         "type": "float"
        },
        {
         "name": "2021-03-31",
         "rawType": "float64",
         "type": "float"
        },
        {
         "name": "2021-04-30",
         "rawType": "float64",
         "type": "float"
        },
        {
         "name": "2021-05-31",
         "rawType": "float64",
         "type": "float"
        },
        {
         "name": "2021-06-30",
         "rawType": "float64",
         "type": "float"
        },
        {
         "name": "2021-07-31",
         "rawType": "float64",
         "type": "float"
        },
        {
         "name": "2021-08-31",
         "rawType": "float64",
         "type": "float"
        },
        {
         "name": "2021-09-30",
         "rawType": "float64",
         "type": "float"
        },
        {
         "name": "2021-10-31",
         "rawType": "float64",
         "type": "float"
        },
        {
         "name": "2021-11-30",
         "rawType": "float64",
         "type": "float"
        },
        {
         "name": "2021-12-31",
         "rawType": "float64",
         "type": "float"
        },
        {
         "name": "2022-01-31",
         "rawType": "float64",
         "type": "float"
        },
        {
         "name": "2022-02-28",
         "rawType": "float64",
         "type": "float"
        },
        {
         "name": "2022-03-31",
         "rawType": "float64",
         "type": "float"
        },
        {
         "name": "2022-04-30",
         "rawType": "float64",
         "type": "float"
        },
        {
         "name": "2022-05-31",
         "rawType": "float64",
         "type": "float"
        },
        {
         "name": "2022-06-30",
         "rawType": "float64",
         "type": "float"
        },
        {
         "name": "2022-07-31",
         "rawType": "float64",
         "type": "float"
        },
        {
         "name": "2022-08-31",
         "rawType": "float64",
         "type": "float"
        },
        {
         "name": "2022-09-30",
         "rawType": "float64",
         "type": "float"
        },
        {
         "name": "2022-10-31",
         "rawType": "float64",
         "type": "float"
        },
        {
         "name": "2022-11-30",
         "rawType": "float64",
         "type": "float"
        },
        {
         "name": "2022-12-31",
         "rawType": "float64",
         "type": "float"
        },
        {
         "name": "2023-01-31",
         "rawType": "float64",
         "type": "float"
        },
        {
         "name": "2023-02-28",
         "rawType": "float64",
         "type": "float"
        },
        {
         "name": "2023-03-31",
         "rawType": "float64",
         "type": "float"
        },
        {
         "name": "2023-04-30",
         "rawType": "float64",
         "type": "float"
        },
        {
         "name": "2023-05-31",
         "rawType": "float64",
         "type": "float"
        },
        {
         "name": "2023-06-30",
         "rawType": "float64",
         "type": "float"
        },
        {
         "name": "2023-07-31",
         "rawType": "float64",
         "type": "float"
        },
        {
         "name": "2023-08-31",
         "rawType": "float64",
         "type": "float"
        },
        {
         "name": "2023-09-30",
         "rawType": "float64",
         "type": "float"
        },
        {
         "name": "2023-10-31",
         "rawType": "float64",
         "type": "float"
        },
        {
         "name": "2023-11-30",
         "rawType": "float64",
         "type": "float"
        },
        {
         "name": "2023-12-31",
         "rawType": "float64",
         "type": "float"
        },
        {
         "name": "2024-01-31",
         "rawType": "float64",
         "type": "float"
        },
        {
         "name": "2024-02-29",
         "rawType": "float64",
         "type": "float"
        },
        {
         "name": "2024-03-31",
         "rawType": "float64",
         "type": "float"
        },
        {
         "name": "2024-04-30",
         "rawType": "float64",
         "type": "float"
        },
        {
         "name": "2024-05-31",
         "rawType": "float64",
         "type": "float"
        },
        {
         "name": "2024-06-30",
         "rawType": "float64",
         "type": "float"
        },
        {
         "name": "2024-07-31",
         "rawType": "float64",
         "type": "float"
        },
        {
         "name": "2024-08-31",
         "rawType": "float64",
         "type": "float"
        },
        {
         "name": "2024-09-30",
         "rawType": "float64",
         "type": "float"
        },
        {
         "name": "2024-10-31",
         "rawType": "float64",
         "type": "float"
        },
        {
         "name": "2024-11-30",
         "rawType": "float64",
         "type": "float"
        },
        {
         "name": "2024-12-31",
         "rawType": "float64",
         "type": "float"
        },
        {
         "name": "2025-01-31",
         "rawType": "float64",
         "type": "float"
        },
        {
         "name": "2025-02-28",
         "rawType": "float64",
         "type": "float"
        }
       ],
       "conversionMethod": "pd.DataFrame",
       "ref": "26545063-eeb2-4a3b-acf8-fc6f6774b1d0",
       "rows": [
        [
         "0",
         "102001",
         "0",
         "United States",
         "country",
         null,
         "120187.29133751972",
         "120398.73931225397",
         "120660.96593452847",
         "121223.39056723792",
         "121870.6738894984",
         "122564.64885050691",
         "123299.7042628309",
         "124093.12504639088",
         "124918.4235200722",
         "125746.86532889892",
         "126571.33996590812",
         "127396.92822669802",
         "128154.77096281837",
         "128825.92438044438",
         "129473.26248036844",
         "130173.17889890018",
         "130928.49565955505",
         "131703.43442699642",
         "132500.81805022026",
         "133333.84542631183",
         "134174.30401173138",
         "135011.1512693617",
         "135791.13607152225",
         "136522.38729438663",
         "137169.11218227298",
         "137787.6911320984",
         "138418.3045601494",
         "139104.3874972938",
         "139862.179108675",
         "140683.0180623588",
         "141582.89999567403",
         "142543.67611782774",
         "143517.23066357677",
         "144489.31363573563",
         "145415.15522135785",
         "146316.48924269617",
         "147132.1510711806",
         "147912.62312917327",
         "148692.67260528836",
         "149541.89818468902",
         "150476.26416001216",
         "151445.58154288",
         "152465.64797277877",
         "153549.0573415584",
         "154695.46437327875",
         "155852.3075582507",
         "156928.0459071812",
         "157939.6058635721",
         "158905.39517477903",
         "159937.16805522048",
         "161075.47616656314",
         "162348.00894408164",
         "163780.93940327453",
         "165341.45833949797",
         "167023.06337063364",
         "168728.8611211422",
         "170413.05815076717",
         "172026.99944829967",
         "173541.80269662783",
         "175034.18163056448",
         "176478.1677694778",
         "177951.41750473253",
         "179471.17698554773",
         "181183.24661670203",
         "183001.9649023447",
         "184906.90367709703",
         "186826.04003043543",
         "188767.24452106748",
         "190676.24478036384",
         "192484.3338283423",
         "194134.9285159281",
         "195626.3280293599",
         "196903.4742811681",
         "198089.562374078",
         "199284.19646058357",
         "200567.8003949488",
         "201834.71753341265",
         "202952.12746460285",
         "203827.60801516383",
         "204501.15441516825",
         "204942.18144905707",
         "205253.63255942168",
         "205416.8551536185",
         "205515.34753507265",
         "205551.75821193328",
         "205590.51718777147",
         "205618.48311969475",
         "205646.9573481042",
         "205556.21668411267",
         "205295.50350003823",
         "204811.18555421525",
         "204239.1662115469",
         "203555.96030022332",
         "202822.13668656093",
         "201941.2090639562",
         "201011.69203878983",
         "199945.20978671964",
         "198770.4862921299",
         "197449.75092769135",
         "196024.01649958055",
         "194541.2593309787",
         "192981.72100042",
         "191322.1187380322",
         "189481.70574134565",
         "187619.48948809537",
         "185801.80526484217",
         "184023.11757387515",
         "182260.2895749954",
         "180540.4756378848",
         "179074.03610027648",
         "177729.15116151352",
         "176461.704760159",
         "175180.17577863447",
         "173973.0138904436",
         "172879.71007944623",
         "171868.39161051644",
         "170939.19915366624",
         "170180.02481240823",
         "169751.48716221732",
         "169559.3807845673",
         "169496.79661436996",
         "169428.27116758036",
         "169424.8533525352",
         "169526.70665138253",
         "169585.61771735272",
         "169445.75753663518",
         "168916.44315692238",
         "168134.44630674057",
         "167165.051712888",
         "166162.93533317745",
         "165145.58637456925",
         "164198.81524732366",
         "163321.99053421503",
         "162509.74828948043",
         "161736.27845414373",
         "160927.2880164977",
         "160075.02793518442",
         "159239.99177086764",
         "158535.92099046154",
         "157944.3399745725",
         "157436.6789534739",
         "156937.28836117886",
         "156512.68519037298",
         "156143.82179635027",
         "155918.86165886675",
         "155900.6198901527",
         "156107.82337137652",
         "156461.46446519712",
         "156894.54311744662",
         "157413.01558075895",
         "157978.8266387916",
         "158463.91538449956",
         "159017.97330465246",
         "159616.7450561435",
         "160332.0620660055",
         "161080.47675206282",
         "161939.02571589744",
         "162861.32927660047",
         "163823.84246343156",
         "164871.30808943926",
         "166095.61203172372",
         "167455.53442660163",
         "168688.66577624154",
         "169890.6445965666",
         "170988.0087570284",
         "172204.98312170574",
         "173200.94829403868",
         "174112.68497590875",
         "174908.26794615973",
         "175757.19875304945",
         "176614.07012632696",
         "177474.19644861005",
         "178456.56487414034",
         "179327.44109671796",
         "180182.81502701296",
         "180837.7407700958",
         "181451.51151637977",
         "181856.2411239295",
         "182384.62262557485",
         "183030.83843352008",
         "183826.4773986661",
         "184618.43183264096",
         "185423.06128782316",
         "186302.8587779867",
         "187273.41827485824",
         "188205.51565804132",
         "189168.645099258",
         "190178.8261404242",
         "191295.85173126392",
         "192469.81688135595",
         "193524.29025181444",
         "194573.56893862996",
         "195704.37058612728",
         "196829.8897973016",
         "197667.35900592117",
         "198433.06775633324",
         "199202.51298751796",
         "200139.7694540737",
         "200853.05117719155",
         "201523.66602707127",
         "202259.20731648305",
         "203186.0384203178",
         "204212.20887892193",
         "205295.87504269963",
         "206380.9506413479",
         "207516.61998146892",
         "208685.918843323",
         "209956.4193003618",
         "211087.09198038632",
         "212146.71248268647",
         "213050.14888616023",
         "213975.99476360984",
         "214939.9317045946",
         "216039.9900729787",
         "217225.54592753985",
         "218466.25120608296",
         "219693.6911776533",
         "220885.54658922544",
         "222264.24011123707",
         "223519.593725736",
         "224739.08175925695",
         "225623.99196875188",
         "226744.93840576848",
         "227819.8945489178",
         "228907.7189608421",
         "229655.73817713943",
         "230407.53948169187",
         "231210.98707684243",
         "232180.1415606664",
         "233304.93665201872",
         "234493.48592314465",
         "235553.55232865145",
         "236343.8623605934",
         "237038.35665206297",
         "237677.77057534375",
         "238380.5685120843",
         "238999.6026773743",
         "239861.82467801124",
         "241035.24434851363",
         "242415.03363631823",
         "243934.3272439588",
         "245419.0880587816",
         "246963.6990837316",
         "248286.2744863831",
         "249030.7293045482",
         "249449.83002085044",
         "250122.054890451",
         "251733.01108240816",
         "254499.83187844825",
         "257879.50984734084",
         "261701.8037273932",
         "265427.09929748153",
         "269009.97574832384",
         "272672.43195650174",
         "276495.34142494044",
         "280676.380908813",
         "285314.6530716669",
         "290302.99056145624",
         "294780.5802503975",
         "297962.55817402055",
         "299904.639931236",
         "301808.1134272625",
         "304388.59969971696",
         "307568.8762418511",
         "311944.20544758206",
         "317184.5224557482",
         "323345.7651700654",
         "329503.6186817225",
         "335006.2911309797",
         "339605.88587712054",
         "342023.0510580657",
         "342390.9862236851",
         "341134.7594702271",
         "339926.7685777401",
         "338934.94592346903",
         "338034.13778797333",
         "336853.6065270234",
         "335990.8408291328",
         "335929.8606809919",
         "336886.1767925632",
         "338498.3917993821",
         "340419.8427124666",
         "342153.13425161183",
         "343761.554615261",
         "344976.72353189945",
         "345886.0407514556",
         "346530.2207349595",
         "346957.71896962385",
         "347383.1348136048",
         "348162.7426877289",
         "349678.91564441303",
         "351504.49185215886",
         "352914.63867903297",
         "353466.99696650356",
         "353612.59836830565",
         "353851.96204935847",
         "354295.1432477075",
         "354873.991395844",
         "355358.9167201749",
         "356067.0588470425",
         "356686.35170542303",
         "357138.1322562133"
        ],
        [
         "1",
         "394913",
         "1",
         "New York, NY",
         "msa",
         "NY",
         "215997.97954478025",
         "216915.8490875786",
         "217842.2197564184",
         "219719.40519249087",
         "221663.29571849923",
         "223818.38491247813",
         "226172.87361674957",
         "228680.53274774263",
         "231246.8448035037",
         "233806.51037636015",
         "236288.13818747175",
         "238631.65002905056",
         "240864.72515744585",
         "243154.54106756335",
         "245376.7487556578",
         "247623.7427410346",
         "249832.0937220672",
         "252210.39838515688",
         "254634.17758374385",
         "257237.1299770534",
         "259922.7233489482",
         "262815.36345745675",
         "265601.97107854445",
         "268282.4796770205",
         "270938.58223592286",
         "273484.58030914096",
         "275905.0089935817",
         "278204.8043687334",
         "280600.8971485442",
         "283313.14706756757",
         "286313.3532828106",
         "289931.5559082791",
         "293864.8674975697",
         "297883.1286123918",
         "301604.9369616061",
         "305257.1213429537",
         "308893.81861919817",
         "312538.1513765696",
         "316322.6171928222",
         "319935.8819767634",
         "323590.04243401904",
         "327202.47725446435",
         "330987.5505030046",
         "334754.5911677981",
         "338293.4492803753",
         "341601.88654104905",
         "344689.8019929",
         "347652.1461301013",
         "350809.6097281659",
         "353963.41981561173",
         "357226.44444164634",
         "360413.2105940078",
         "364060.8217570484",
         "368088.7572901749",
         "372588.4717072584",
         "377250.91030152375",
         "382086.2155068989",
         "386936.9780931897",
         "391595.9743434501",
         "395923.2021530888",
         "399984.111555216",
         "403929.1485086605",
         "407938.0776393539",
         "412502.6047893962",
         "417450.6538489947",
         "422462.42410771176",
         "427216.0361427685",
         "431912.5031436424",
         "436658.3344098259",
         "441502.95481748786",
         "445973.9011449543",
         "450286.8156098453",
         "454125.8769041139",
         "457946.19941268413",
         "461207.5360135841",
         "464144.0789126607",
         "466681.40981499176",
         "469050.461584269",
         "470782.99454885145",
         "471633.71280862734",
         "471552.7468425696",
         "470645.9213244268",
         "469253.444252938",
         "467612.61002278543",
         "466045.5179927634",
         "464845.22559440526",
         "464577.2531382761",
         "464401.2531953195",
         "464232.353960813",
         "463109.3900976572",
         "461532.6183159515",
         "459824.1394206648",
         "457991.67732344504",
         "456628.8804692738",
         "455256.2825722603",
         "453926.6825141346",
         "452668.4143135328",
         "451328.0157181549",
         "449601.8249942416",
         "447619.0691609429",
         "444793.39166079223",
         "441907.7317023173",
         "438733.31090890506",
         "435764.3505031473",
         "432702.40732156485",
         "429406.5394203116",
         "425953.07751740795",
         "422637.7957219572",
         "419200.3785303392",
         "415863.2153873739",
         "412642.56334461615",
         "409499.8507066549",
         "406787.81826780987",
         "404074.90829825617",
         "401541.3551519167",
         "398852.9382413832",
         "396624.8145976371",
         "394899.1371377047",
         "393796.18424748007",
         "393109.41643420607",
         "392865.96095053974",
         "393028.2187624486",
         "392991.2196178177",
         "392985.3150286425",
         "392809.6716078524",
         "393187.8709999959",
         "393611.2765518981",
         "393804.43425020407",
         "393367.2361345396",
         "392236.3067394091",
         "390665.64411068434",
         "388778.1439894856",
         "387317.6971477936",
         "386173.9591533986",
         "385527.5037231242",
         "384579.1433697696",
         "383487.6180451267",
         "381945.2152288261",
         "380374.0716440238",
         "378771.1727064333",
         "377218.2044934036",
         "375656.6171782001",
         "373991.11294326576",
         "372470.0717409097",
         "371073.1174108402",
         "370213.6965294886",
         "370155.9802739467",
         "370670.01367778535",
         "371523.492767392",
         "372012.10045129625",
         "372366.1220042342",
         "372272.69793819584",
         "372389.20097208925",
         "372343.5333932377",
         "372498.5741475474",
         "372546.3480995745",
         "373241.8042126975",
         "374183.75812923326",
         "375237.4921896605",
         "376179.2965457461",
         "377334.94202649134",
         "378917.18967205746",
         "380633.1644326509",
         "382574.39679355314",
         "384535.9958101152",
         "386543.9577295853",
         "388008.3430681759",
         "389006.3895250874",
         "390171.45681889326",
         "391898.71650230326",
         "394400.34188477806",
         "397127.77416944265",
         "399810.68469966034",
         "401610.119708084",
         "402590.99100160133",
         "403044.6379717851",
         "403815.5953251061",
         "404770.671257403",
         "406004.92564032046",
         "406824.11683710245",
         "407346.3501405911",
         "407544.1418152139",
         "408011.96508123074",
         "408617.70966497535",
         "409829.2145642785",
         "411004.6004500335",
         "412375.1140256962",
         "414124.7034182392",
         "416659.5229174925",
         "419605.2095011274",
         "422232.6937896689",
         "424508.7151192107",
         "426245.4696963133",
         "427577.1703329299",
         "428298.57056740025",
         "429271.0330766327",
         "430528.591913118",
         "432134.8699078564",
         "433362.9560174464",
         "433983.1410690174",
         "434339.4815979888",
         "435098.8139579948",
         "436627.3250279301",
         "439108.4323585853",
         "441549.8818905696",
         "444092.6869706763",
         "446429.54308099026",
         "449375.8301857504",
         "451961.1054185493",
         "454178.74577906105",
         "455735.9148539903",
         "457322.19161079713",
         "458910.5019853784",
         "460700.0686605652",
         "462245.71337514574",
         "463980.2128888828",
         "465700.40307705407",
         "467241.8042322451",
         "469026.5299663366",
         "470895.1344222524",
         "473462.584981498",
         "475652.22065186617",
         "478044.6727273571",
         "480044.0655410892",
         "481871.59170895634",
         "482886.3787977788",
         "483761.08974478085",
         "484371.4541398056",
         "485404.07858659606",
         "486960.63589321944",
         "488947.90288265375",
         "491112.5544764696",
         "492549.4256893145",
         "493815.69471916487",
         "494506.698472294",
         "494993.0725501762",
         "494726.3146162891",
         "494760.8825405007",
         "495728.09919710574",
         "497379.2469907333",
         "499808.9306088483",
         "502042.4376950844",
         "504611.4020766655",
         "506947.1582388852",
         "508798.3796128533",
         "509138.41331994225",
         "508225.7109995773",
         "507543.34620294353",
         "509210.8567967206",
         "512905.759435306",
         "518254.9886277064",
         "524535.3263357142",
         "530512.5582508786",
         "536761.1034072094",
         "542561.6598011347",
         "548375.4063014688",
         "553981.0539891847",
         "559008.3542908345",
         "563199.7872300735",
         "565722.3239212552",
         "567262.3044579184",
         "569434.9959789488",
         "572921.0578596949",
         "576851.7461368315",
         "581030.3877166989",
         "585630.5422029804",
         "591901.8317248669",
         "598500.1854704319",
         "605158.2593093355",
         "611249.7801943726",
         "615126.239471873",
         "615847.0430948256",
         "613344.6416388248",
         "610784.3639146251",
         "608763.5097488003",
         "607336.4976984985",
         "606517.7964790934",
         "605161.847629289",
         "605477.0209757825",
         "607483.5536635842",
         "611511.097840064",
         "615678.0652815005",
         "619277.8594046581",
         "622574.976374786",
         "625299.9242797904",
         "627645.4449939068",
         "629956.2207946328",
         "632718.0210171449",
         "635600.8544721492",
         "639636.4695550754",
         "645029.3628499404",
         "651125.7335721375",
         "655775.1935413281",
         "658849.7126441711",
         "661590.7512995129",
         "665325.9004198798",
         "669344.3024931747",
         "672861.2828735308",
         "675626.194374156",
         "677406.7469154433",
         "678476.2635873092",
         "679755.7463756403"
        ],
        [
         "2",
         "753899",
         "2",
         "Los Angeles, CA",
         "msa",
         "CA",
         "223845.47820412947",
         "224678.46739569496",
         "225788.00105461225",
         "227995.60031669113",
         "230410.02182342636",
         "232807.5348123269",
         "235265.22691360433",
         "237746.33346794732",
         "240083.51513235853",
         "242170.5000484317",
         "244057.3661811561",
         "245945.4416346246",
         "247320.75455907127",
         "248817.40472188103",
         "250517.91497164863",
         "253018.1309322143",
         "255628.80970538547",
         "258123.98568638656",
         "260630.2665057527",
         "263136.40993659524",
         "265642.6146247671",
         "268070.2786036566",
         "270231.83057571267",
         "272382.48718174425",
         "274085.2931938418",
         "276068.2439282338",
         "278525.71806955984",
         "281851.474060062",
         "285680.73462759465",
         "289706.4414634947",
         "294525.11067069555",
         "299650.08511294884",
         "304862.8034956464",
         "309633.77552672685",
         "314236.4815911612",
         "318737.08983257244",
         "322535.5950186926",
         "326093.7435997096",
         "329940.5414299508",
         "334415.14458207786",
         "339761.8452903237",
         "344532.30726216757",
         "350080.4217100356",
         "355954.2801118598",
         "362644.2240082525",
         "368638.2348580708",
         "374296.87914499454",
         "379838.41410977463",
         "385904.7761033547",
         "392789.08148079016",
         "400708.5733259476",
         "410015.2428963783",
         "421075.8532646939",
         "432538.84389972856",
         "443227.1704390605",
         "452416.2862609676",
         "461108.9080716085",
         "469483.18581795646",
         "475759.51264217467",
         "481502.2497222639",
         "486467.7214099567",
         "492693.135751128",
         "499543.1642500966",
         "506886.118006204",
         "513985.9761322301",
         "520738.121629332",
         "528295.5365369936",
         "536571.3432425979",
         "545222.5777671039",
         "554088.5453316104",
         "561020.0253303949",
         "567537.1233071767",
         "573102.6113503814",
         "578266.8739371682",
         "582984.588096257",
         "587140.4634562195",
         "591708.9810689607",
         "595531.8444542828",
         "597359.1029348521",
         "598865.4218740013",
         "598167.920192104",
         "598102.7243519458",
         "597311.7562926329",
         "597126.9366604717",
         "597158.0621219379",
         "596885.1261594625",
         "595943.6371667414",
         "594222.5774634952",
         "591118.9708158168",
         "587795.9260606511",
         "582611.8340542017",
         "576743.1568599129",
         "569745.1917689041",
         "562726.3573247278",
         "556900.0914712758",
         "550455.2105594205",
         "544274.0550033576",
         "535985.0829956826",
         "526421.6944461726",
         "514065.1998655779",
         "500558.8417263835",
         "487481.7648990988",
         "475394.8394604456",
         "464707.5265948603",
         "456516.9765080982",
         "449142.63009137026",
         "441606.12678528",
         "432250.677844948",
         "424351.322100797",
         "419192.8585355326",
         "415617.88749229425",
         "412467.4466399395",
         "409352.5865658257",
         "405816.81404097594",
         "402932.43744110013",
         "400919.7584125789",
         "400362.7224596976",
         "400622.4480183359",
         "402587.5817191382",
         "406314.98047388555",
         "408652.6405847879",
         "408969.7193076517",
         "409204.2857243661",
         "411193.1138959912",
         "414124.1101846943",
         "414342.3186423932",
         "412553.0720093981",
         "408876.1188313919",
         "405053.1005643744",
         "401212.9911704",
         "397612.2556067379",
         "395648.75348612806",
         "394562.7136041612",
         "394481.20794267766",
         "393257.7993808394",
         "391669.60943096905",
         "387784.5435538881",
         "385679.7188688472",
         "384135.1161981582",
         "382372.0339512806",
         "378945.30524002394",
         "375230.3445901712",
         "373804.6290617997",
         "373504.0398092631",
         "372974.80185183184",
         "371388.93633970286",
         "368850.0110255419",
         "366549.0822038271",
         "365445.07624488656",
         "365845.17400863016",
         "367767.81504625647",
         "371852.92429532786",
         "377680.2352835308",
         "384598.3137185331",
         "391815.8652966336",
         "398937.3998084492",
         "404518.5928536849",
         "408104.678781658",
         "410131.2183081058",
         "413177.95375937456",
         "418454.53556815424",
         "425552.6978296178",
         "433360.79165810347",
         "441488.0649988055",
         "450127.0600966391",
         "458810.9645652704",
         "466194.17348734074",
         "472078.15846432705",
         "475184.07464768225",
         "476593.2134828989",
         "477064.826222649",
         "478693.3729151303",
         "480872.1992613521",
         "482927.0675526291",
         "484862.80413008534",
         "487474.92437817965",
         "491970.8534309482",
         "497235.9567203177",
         "502922.0429988708",
         "507882.523143829",
         "511310.74380202155",
         "513092.59988358774",
         "513472.4690958717",
         "513620.87758499663",
         "514258.6542352645",
         "515528.1509764453",
         "516276.7286485568",
         "515123.6662445131",
         "512187.1207847483",
         "508701.7992765953",
         "505020.4737780777",
         "501613.61093444686",
         "504165.33029028965",
         "512933.84047845955",
         "525066.028909227",
         "534258.8245659452",
         "540001.0743617573",
         "544640.7264528234",
         "545221.0621675221",
         "541748.7798638052",
         "535176.7782429786",
         "530550.441676424",
         "529505.1505758364",
         "531317.8650946327",
         "539215.196273517",
         "550892.2095851508",
         "564537.4041342098",
         "574369.1898823248",
         "581076.8483539609",
         "586087.4904353829",
         "587214.43132672",
         "587085.3956368057",
         "586756.0694242447",
         "590102.6606236148",
         "594255.9096862426",
         "599298.4675401399",
         "605906.0404341681",
         "613953.8201728082",
         "621597.2378161078",
         "627417.1784398542",
         "632083.191378326",
         "635584.9105044581",
         "639249.3443872747",
         "644762.723361896",
         "652120.7254608176",
         "659935.866792505",
         "665469.246263801",
         "668418.4655750721",
         "665972.1486935987",
         "659593.6574189592",
         "651824.8151806017",
         "646872.8123216168",
         "644350.8062968225",
         "643073.73031807",
         "643908.9610700017",
         "647722.086754925",
         "653989.8437613341",
         "660699.5941552393",
         "666813.5317559658",
         "672361.3641656915",
         "675620.9590883338",
         "677170.9624304713",
         "677946.7832946534",
         "678923.457125878",
         "677972.2252361279",
         "675111.1150341295",
         "674790.9820562408",
         "679895.0061428942",
         "690836.6987145307",
         "703935.1274952521",
         "718440.5935220128",
         "732279.2923096285",
         "741599.3027910587",
         "747413.7606549229",
         "750645.2269440402",
         "757540.7335626764",
         "767317.1411874095",
         "779398.2085810861",
         "791267.5178840732",
         "800348.8216713223",
         "807386.9269641304",
         "814186.2045257594",
         "822638.9931209428",
         "832795.1116431014",
         "845004.7758833929",
         "859448.8472097302",
         "875683.8372569081",
         "890410.0365289128",
         "901986.3556048722",
         "908512.6847952268",
         "910364.3248847192",
         "907249.5862382356",
         "901513.8845041838",
         "896181.0599785893",
         "892388.6895286163",
         "889223.7822707001",
         "880823.5870591579",
         "869784.6327033289",
         "859896.9451157502",
         "857490.3431167152",
         "861320.2735793376",
         "869213.692312328",
         "880560.8784026685",
         "894289.9946690496",
         "908152.216662716",
         "919685.701988081",
         "928365.2865288348",
         "933815.6466997784",
         "933971.204690674",
         "930980.0448100552",
         "929848.7285511098",
         "933363.5890764468",
         "939338.772105652",
         "943348.1638840244",
         "947786.830883569",
         "953046.6207724502",
         "959562.454126839",
         "964859.3464503906",
         "969423.1723912224",
         "973502.5354027202",
         "974045.9703453288",
         "971995.7539410793"
        ],
        [
         "3",
         "394463",
         "3",
         "Chicago, IL",
         "msa",
         "IL",
         "150668.75306989808",
         "150808.2284439265",
         "151073.86175046235",
         "151734.691403083",
         "152529.5899896589",
         "153421.6812693559",
         "154371.19256312534",
         "155710.9871150644",
         "157284.22188847323",
         "159096.53023264068",
         "160471.34670028297",
         "161594.58617318043",
         "162405.59908512593",
         "163200.71158931605",
         "164036.8471235664",
         "164924.17967711677",
         "165991.8130525571",
         "167104.31531509993",
         "168196.18762709916",
         "169544.4918419132",
         "171055.7107407368",
         "172837.48058369852",
         "174159.70231035238",
         "175181.0954487006",
         "175845.68696210673",
         "176639.11547407406",
         "177570.88683246588",
         "178462.24311577587",
         "179425.73122073885",
         "180399.1596777856",
         "181571.32887640884",
         "183056.293959672",
         "184676.49136488384",
         "186413.8898631668",
         "187588.1637054627",
         "188631.8048989548",
         "189455.04709589103",
         "190491.4686286864",
         "191474.25918171575",
         "192594.5112336259",
         "193635.18578497836",
         "194635.2786967087",
         "195535.496818966",
         "196809.66900500449",
         "198367.49219629425",
         "200101.4775832314",
         "201449.63799041288",
         "202520.69353152075",
         "203509.4111285385",
         "204554.4155789204",
         "205604.4688809188",
         "206799.22935532444",
         "208133.97782156887",
         "209719.89567033373",
         "211231.54659008468",
         "212954.1944159251",
         "214632.09382599127",
         "216477.2829013396",
         "218044.63225333465",
         "219587.4344781303",
         "220897.6446967184",
         "222366.99538220957",
         "223845.67999724168",
         "225484.5661278985",
         "227171.22351433337",
         "228916.6294970022",
         "230564.57225178217",
         "232336.02071559607",
         "234293.8264325033",
         "236435.57239087383",
         "238122.3608086453",
         "239561.2797880401",
         "240759.56188927768",
         "242072.44424676785",
         "243432.3454603095",
         "244675.34121081085",
         "245955.5652181214",
         "246847.14016069903",
         "247523.08958345713",
         "247995.24336621424",
         "248368.2247044552",
         "248654.53670858103",
         "248902.03175702668",
         "249265.2423266276",
         "249836.87135382896",
         "250451.2446870991",
         "250951.86091339655",
         "251144.08748732205",
         "251066.90095553",
         "250785.44869561095",
         "250333.31861781585",
         "249800.2632720862",
         "248978.35070419335",
         "248083.1496255287",
         "247196.2768541296",
         "246192.79352031788",
         "245148.5705874616",
         "243045.59684729425",
         "242149.54534912825",
         "240337.911643647",
         "239766.1567177552",
         "237624.5923371698",
         "236327.30864714223",
         "233789.35566249085",
         "231692.456011544",
         "228754.16261235735",
         "225991.5972745873",
         "222685.70786847023",
         "218986.8175895601",
         "216058.7912530057",
         "213201.3859515858",
         "211578.5552080841",
         "209601.19898325508",
         "208115.94975391633",
         "206551.74160509693",
         "205136.6668317232",
         "203107.6350707746",
         "201148.88665722837",
         "199197.75205058965",
         "198224.9298084655",
         "197278.26997036536",
         "196925.45958794383",
         "195938.965942133",
         "196092.0291479937",
         "195633.2611517364",
         "195997.5164639848",
         "194448.5612391492",
         "193113.1982118149",
         "190972.19894395975",
         "189269.6665228148",
         "186890.0134123885",
         "184583.77633955615",
         "182483.4981966164",
         "180826.7835364669",
         "179689.89976404724",
         "178389.01839522083",
         "177539.02124741022",
         "176346.6203299314",
         "175688.2741127267",
         "174634.42055764966",
         "173610.04566294796",
         "171767.71618386338",
         "170315.5141174662",
         "168445.18312201707",
         "167229.7335253916",
         "165947.1901756661",
         "165181.8766017555",
         "164484.55615913955",
         "163903.88381653483",
         "163753.76469073948",
         "163880.964553875",
         "163965.1554511106",
         "163972.19013899178",
         "163782.0023317103",
         "163458.32887127763",
         "163312.16126991567",
         "163691.9684438494",
         "164779.2508372673",
         "165992.8158269288",
         "167558.5733762588",
         "168913.3653361937",
         "170616.81980870108",
         "172042.36452985278",
         "173708.42220086293",
         "175261.98034659596",
         "177136.39776573985",
         "178917.47919547625",
         "180659.17641663455",
         "182045.70200235888",
         "183441.4986238495",
         "184740.92310855235",
         "185931.93141008585",
         "187114.48915728796",
         "188094.36237242084",
         "189087.62745760215",
         "189830.73293455536",
         "190448.43452087053",
         "190946.14626947057",
         "191471.57425206463",
         "192008.842654685",
         "192489.2405372724",
         "192798.4487368733",
         "193332.18339177343",
         "193855.21924506908",
         "194723.02004609583",
         "195425.3321472933",
         "196214.82213522025",
         "196884.33846503537",
         "197675.90772022583",
         "198760.628396965",
         "199899.7816034246",
         "201072.44734417295",
         "202224.03189757108",
         "203404.6742688349",
         "204191.2756548552",
         "204929.28070291993",
         "205570.90465931688",
         "206344.79936457775",
         "206765.265534166",
         "207141.4765589596",
         "207568.1674348001",
         "208350.6625016214",
         "209268.57656000185",
         "210482.9230251893",
         "211738.72040947832",
         "213107.0208583953",
         "214640.21821011233",
         "215932.20078332315",
         "216962.9638042636",
         "217329.95417188675",
         "217552.03504120983",
         "217736.16737049705",
         "218410.52263524593",
         "219356.8999567734",
         "220529.9726107445",
         "221772.53575254255",
         "223161.8156662568",
         "224494.88583120413",
         "226034.81486398433",
         "227238.381095954",
         "228180.27033301373",
         "228284.6798988968",
         "228325.06050778556",
         "228243.11655572313",
         "228340.4375680421",
         "228480.1248480708",
         "228783.6359113128",
         "229363.349007505",
         "230237.2010110994",
         "231424.3223270768",
         "232545.0415065717",
         "233442.211648835",
         "233849.82310147144",
         "234054.67152278035",
         "233876.1429169513",
         "233663.1204849172",
         "233216.00516429232",
         "233106.8920769119",
         "233302.00432942223",
         "233923.4654834948",
         "235034.7469099081",
         "236358.5283697996",
         "237747.4164954737",
         "238615.10360261184",
         "238707.3839254723",
         "238252.3225511198",
         "237782.5460865959",
         "238105.10908773905",
         "239657.3571919469",
         "242070.77440760063",
         "245060.56502201277",
         "248033.7704681467",
         "250988.12398923936",
         "254198.1132793332",
         "257533.6142275099",
         "260735.4954920976",
         "263672.2536004437",
         "266501.87095668184",
         "268864.3491737386",
         "270247.76944656606",
         "270507.4083174149",
         "270650.4198696205",
         "271311.9428627656",
         "272765.98298679147",
         "275349.6757026698",
         "279113.24750082317",
         "283806.2011140072",
         "288346.4575969902",
         "291512.49534487416",
         "293651.5302845451",
         "294170.69219101756",
         "293562.5602803855",
         "291907.1904779415",
         "290575.93239529576",
         "289814.6860158115",
         "289400.19972395146",
         "288799.8565282148",
         "288648.4018966141",
         "289284.83576110867",
         "290954.94306015613",
         "293118.13120753434",
         "295646.3631699852",
         "298155.23269289586",
         "300577.63671625685",
         "302383.12900196126",
         "303727.36169584875",
         "304628.2080502675",
         "305253.2510540869",
         "305903.38922710245",
         "307267.6396284983",
         "309639.116900247",
         "312461.9970048649",
         "314546.39329853613",
         "315749.09185005794",
         "316472.7731171949",
         "317379.33301579935",
         "318365.905134377",
         "319327.3196919486",
         "320348.47596245405",
         "321575.0067111594",
         "322895.8684460237",
         "324218.2098336365"
        ],
        [
         "4",
         "394514",
         "4",
         "Dallas, TX",
         "msa",
         "TX",
         "126168.3871275248",
         "126224.58296787772",
         "126289.1858392276",
         "126456.95271029008",
         "126678.1487362403",
         "126902.04478639156",
         "127136.79673239296",
         "127488.45320825271",
         "127929.1518410563",
         "128430.53064860062",
         "128902.88277712133",
         "129356.90653272498",
         "129588.23536277632",
         "129398.51243471362",
         "129119.71410906916",
         "128962.73019945926",
         "129075.47447584104",
         "129174.76793208778",
         "129274.20522318082",
         "129524.68489412568",
         "129770.76814297248",
         "129985.36878626376",
         "130073.3160848093",
         "130176.38844283255",
         "130257.5974746918",
         "130445.54077938",
         "130730.0519087356",
         "131195.15003603647",
         "131685.97278653245",
         "132321.81986117712",
         "132950.76282956274",
         "133594.62543582296",
         "134113.2337442207",
         "134555.23482910747",
         "134945.06133999338",
         "135288.3888180322",
         "135534.85502466283",
         "135673.9941063676",
         "135821.63183233314",
         "136009.40338570287",
         "136202.63549833864",
         "136411.89868267762",
         "136537.2653179985",
         "136707.28687037932",
         "136888.18189238603",
         "137130.98856683853",
         "137340.25868551646",
         "137393.278245026",
         "137862.50337493778",
         "138943.4435534296",
         null,
         "142669.6984547451",
         "143956.59445742788",
         "144633.28540877",
         "144985.00108864202",
         "145400.75224064963",
         "145802.56981330205",
         "146207.23126039634",
         "146506.65926255425",
         "146725.431101887",
         "147230.460747277",
         "147550.80416741068",
         "147819.3154108704",
         "147958.80195790157",
         "148287.199168032",
         "148712.75727749348",
         "149033.9875133819",
         "149361.1809771906",
         "149704.1518870581",
         "149830.85409035478",
         "149958.1839876936",
         "149917.9229522917",
         "149888.2152659568",
         "150002.75086699615",
         "150185.310144417",
         "150635.74357483597",
         "151204.67388281235",
         "151827.19356651505",
         "152259.69716765697",
         "152492.10867282862",
         "152747.8255120916",
         "153366.66691702255",
         "153898.73755317566",
         "154425.98635431766",
         "154331.43408581952",
         "153977.30462784055",
         "153494.6611180268",
         "153472.25841376043",
         "153775.20011205072",
         "154176.45108278806",
         "154568.98027583805",
         "154981.6569569819",
         "155523.0110705084",
         "155925.61797561462",
         "156197.43635254927",
         "156405.08078428663",
         "155835.9139369796",
         "154821.61815580772",
         "153432.75061377292",
         "152591.50182919184",
         "152033.11622088405",
         "151680.81474519646",
         "151492.25522653855",
         "151070.22721659552",
         "150356.33017853563",
         "149387.51364267973",
         "148520.21355724605",
         "147886.99432062614",
         "147420.60849218263",
         "147323.37901013406",
         "147375.05221658645",
         "147573.3026855665",
         "147739.00246687423",
         "147761.0364103611",
         "147809.57466512188",
         "147673.93414593572",
         "147624.14906554422",
         "147551.73890357887",
         "147887.86726722514",
         "148257.1741079063",
         "148350.7968664004",
         "148205.17812547868",
         "147974.71248758436",
         "148108.56063717362",
         "148214.0777011675",
         "148290.94593249264",
         "147945.3809436138",
         "147303.71917315657",
         "146418.65562567828",
         "145562.25132210305",
         "144689.14417653772",
         "144089.83594215868",
         "143636.87356748746",
         "143160.16606995463",
         "142653.5536613623",
         "141990.035081982",
         "141499.1616479331",
         "140964.02618282134",
         "140762.39107748758",
         "140620.61238707244",
         "140642.05918650908",
         "140572.00131269448",
         "140447.54763259998",
         "140149.17769807196",
         "139872.96232597617",
         "140040.00993792992",
         "140510.3054220744",
         "141142.48913634525",
         "141713.0641170925",
         "142425.9987408349",
         "143249.17641315015",
         "143951.93772951773",
         "144654.09835649413",
         "145431.64800642137",
         "146300.72573709502",
         "147052.73665104402",
         "147855.25275733313",
         "148761.25461126873",
         "149696.5198595885",
         "150504.16498527603",
         "151416.1929061541",
         "152599.7263369345",
         "153839.07242159758",
         "154940.64172403814",
         "155894.26312218863",
         "156972.04159487522",
         "158074.59224918185",
         "159198.05559785294",
         "160343.31855497055",
         "161502.05222247724",
         "162596.3110952681",
         "163467.69380150465",
         "164370.24460045775",
         "165360.93617584024",
         "166585.25728788972",
         "167704.76723631728",
         "168759.15209347545",
         "169613.15447222142",
         "170740.91786616543",
         "171944.70869052934",
         "173389.9452304873",
         "174901.1097995652",
         "176395.6829621455",
         "177770.23275806473",
         "179208.91292711216",
         "180794.1294265204",
         "182619.3191570196",
         "184453.5222713979",
         "186373.20872685753",
         "188282.1344083177",
         "190172.0491073956",
         "192043.404946954",
         "194021.56081540973",
         "196062.1240493064",
         "197842.6572545191",
         "199661.13445689608",
         "201394.3557003776",
         "203243.98970427553",
         "204825.2505926051",
         "206296.53332185475",
         "207906.13623581603",
         "209631.20619027223",
         "211584.5072241481",
         "213451.23748951688",
         "215342.5239426203",
         "217129.11347183367",
         "219040.5985029535",
         "221117.33486855085",
         "223076.93950274595",
         "224873.49349451007",
         "226250.83847514985",
         "227558.6946971676",
         "228918.85384796828",
         "230459.5800448608",
         "232152.6973519525",
         "233990.4474686641",
         "235880.50260219807",
         "237700.95027672136",
         "239539.26133101035",
         "241178.32319343183",
         "242718.8733567791",
         "243768.4273905075",
         "244847.65416917249",
         "245658.38669793136",
         "246397.05088106528",
         "246829.7491923585",
         "247310.80342252585",
         "248008.49816402196",
         "248919.05909048623",
         "249905.7302362021",
         "250754.3434004958",
         "251220.88087166395",
         "251412.56668092703",
         "251472.22319675548",
         "251567.34624628464",
         "251806.20525015023",
         "252183.63167374572",
         "252867.2946078111",
         "253832.964499631",
         "255028.4849669272",
         "256544.18895551993",
         "258082.19402059427",
         "259544.64415824343",
         "260314.49164869264",
         "260305.24343941855",
         "260091.3451080452",
         "260448.37426290623",
         "261861.04702648308",
         "264313.8542020397",
         "267374.1050417591",
         "270954.0414598032",
         "274571.2959352939",
         "278396.65782591543",
         "282443.7210702373",
         "286954.4478642165",
         "291940.5064903201",
         "297685.26487563405",
         "303699.04216638405",
         "309147.84406985174",
         "313370.75030601706",
         "316674.68009614607",
         "320189.51641686057",
         "324526.4860733478",
         "329504.6687653761",
         "336422.60076475714",
         "344726.5074490852",
         "354149.6475500329",
         "363458.8337522819",
         "371885.7410300218",
         "379109.4960396478",
         "383077.331817721",
         "383736.1650154768",
         "382046.79155535833",
         "379997.9404036564",
         "378096.9927013505",
         "376118.7857024917",
         "373569.8192031751",
         "371297.53204406466",
         "369756.1172426688",
         "369202.8842906677",
         "369489.682773014",
         "370310.4227422188",
         "371290.5431101213",
         "372215.3872202384",
         "372631.7535462173",
         "372746.61730987864",
         "372607.4495492901",
         "372280.4679549913",
         "372302.1804436859",
         "372784.7941827465",
         "373943.52703177417",
         "374912.94060194056",
         "375056.85384865926",
         "374392.0299335891",
         "373452.8071025811",
         "372801.13348098827",
         "372603.2347468094",
         "372497.3214995345",
         "372208.9255414487",
         "371684.81697090744",
         "371161.90126902895",
         "370383.5072095057"
        ]
       ],
       "shape": {
        "columns": 307,
        "rows": 5
       }
      },
      "text/html": [
       "<div>\n",
       "<style scoped>\n",
       "    .dataframe tbody tr th:only-of-type {\n",
       "        vertical-align: middle;\n",
       "    }\n",
       "\n",
       "    .dataframe tbody tr th {\n",
       "        vertical-align: top;\n",
       "    }\n",
       "\n",
       "    .dataframe thead th {\n",
       "        text-align: right;\n",
       "    }\n",
       "</style>\n",
       "<table border=\"1\" class=\"dataframe\">\n",
       "  <thead>\n",
       "    <tr style=\"text-align: right;\">\n",
       "      <th></th>\n",
       "      <th>RegionID</th>\n",
       "      <th>SizeRank</th>\n",
       "      <th>RegionName</th>\n",
       "      <th>RegionType</th>\n",
       "      <th>StateName</th>\n",
       "      <th>2000-01-31</th>\n",
       "      <th>2000-02-29</th>\n",
       "      <th>2000-03-31</th>\n",
       "      <th>2000-04-30</th>\n",
       "      <th>2000-05-31</th>\n",
       "      <th>...</th>\n",
       "      <th>2024-05-31</th>\n",
       "      <th>2024-06-30</th>\n",
       "      <th>2024-07-31</th>\n",
       "      <th>2024-08-31</th>\n",
       "      <th>2024-09-30</th>\n",
       "      <th>2024-10-31</th>\n",
       "      <th>2024-11-30</th>\n",
       "      <th>2024-12-31</th>\n",
       "      <th>2025-01-31</th>\n",
       "      <th>2025-02-28</th>\n",
       "    </tr>\n",
       "  </thead>\n",
       "  <tbody>\n",
       "    <tr>\n",
       "      <th>0</th>\n",
       "      <td>102001</td>\n",
       "      <td>0</td>\n",
       "      <td>United States</td>\n",
       "      <td>country</td>\n",
       "      <td>NaN</td>\n",
       "      <td>120187.291338</td>\n",
       "      <td>120398.739312</td>\n",
       "      <td>120660.965935</td>\n",
       "      <td>121223.390567</td>\n",
       "      <td>121870.673889</td>\n",
       "      <td>...</td>\n",
       "      <td>352914.638679</td>\n",
       "      <td>353466.996967</td>\n",
       "      <td>353612.598368</td>\n",
       "      <td>353851.962049</td>\n",
       "      <td>354295.143248</td>\n",
       "      <td>354873.991396</td>\n",
       "      <td>355358.916720</td>\n",
       "      <td>356067.058847</td>\n",
       "      <td>356686.351705</td>\n",
       "      <td>357138.132256</td>\n",
       "    </tr>\n",
       "    <tr>\n",
       "      <th>1</th>\n",
       "      <td>394913</td>\n",
       "      <td>1</td>\n",
       "      <td>New York, NY</td>\n",
       "      <td>msa</td>\n",
       "      <td>NY</td>\n",
       "      <td>215997.979545</td>\n",
       "      <td>216915.849088</td>\n",
       "      <td>217842.219756</td>\n",
       "      <td>219719.405192</td>\n",
       "      <td>221663.295718</td>\n",
       "      <td>...</td>\n",
       "      <td>655775.193541</td>\n",
       "      <td>658849.712644</td>\n",
       "      <td>661590.751300</td>\n",
       "      <td>665325.900420</td>\n",
       "      <td>669344.302493</td>\n",
       "      <td>672861.282874</td>\n",
       "      <td>675626.194374</td>\n",
       "      <td>677406.746915</td>\n",
       "      <td>678476.263587</td>\n",
       "      <td>679755.746376</td>\n",
       "    </tr>\n",
       "    <tr>\n",
       "      <th>2</th>\n",
       "      <td>753899</td>\n",
       "      <td>2</td>\n",
       "      <td>Los Angeles, CA</td>\n",
       "      <td>msa</td>\n",
       "      <td>CA</td>\n",
       "      <td>223845.478204</td>\n",
       "      <td>224678.467396</td>\n",
       "      <td>225788.001055</td>\n",
       "      <td>227995.600317</td>\n",
       "      <td>230410.021823</td>\n",
       "      <td>...</td>\n",
       "      <td>939338.772106</td>\n",
       "      <td>943348.163884</td>\n",
       "      <td>947786.830884</td>\n",
       "      <td>953046.620772</td>\n",
       "      <td>959562.454127</td>\n",
       "      <td>964859.346450</td>\n",
       "      <td>969423.172391</td>\n",
       "      <td>973502.535403</td>\n",
       "      <td>974045.970345</td>\n",
       "      <td>971995.753941</td>\n",
       "    </tr>\n",
       "    <tr>\n",
       "      <th>3</th>\n",
       "      <td>394463</td>\n",
       "      <td>3</td>\n",
       "      <td>Chicago, IL</td>\n",
       "      <td>msa</td>\n",
       "      <td>IL</td>\n",
       "      <td>150668.753070</td>\n",
       "      <td>150808.228444</td>\n",
       "      <td>151073.861750</td>\n",
       "      <td>151734.691403</td>\n",
       "      <td>152529.589990</td>\n",
       "      <td>...</td>\n",
       "      <td>314546.393299</td>\n",
       "      <td>315749.091850</td>\n",
       "      <td>316472.773117</td>\n",
       "      <td>317379.333016</td>\n",
       "      <td>318365.905134</td>\n",
       "      <td>319327.319692</td>\n",
       "      <td>320348.475962</td>\n",
       "      <td>321575.006711</td>\n",
       "      <td>322895.868446</td>\n",
       "      <td>324218.209834</td>\n",
       "    </tr>\n",
       "    <tr>\n",
       "      <th>4</th>\n",
       "      <td>394514</td>\n",
       "      <td>4</td>\n",
       "      <td>Dallas, TX</td>\n",
       "      <td>msa</td>\n",
       "      <td>TX</td>\n",
       "      <td>126168.387128</td>\n",
       "      <td>126224.582968</td>\n",
       "      <td>126289.185839</td>\n",
       "      <td>126456.952710</td>\n",
       "      <td>126678.148736</td>\n",
       "      <td>...</td>\n",
       "      <td>375056.853849</td>\n",
       "      <td>374392.029934</td>\n",
       "      <td>373452.807103</td>\n",
       "      <td>372801.133481</td>\n",
       "      <td>372603.234747</td>\n",
       "      <td>372497.321500</td>\n",
       "      <td>372208.925541</td>\n",
       "      <td>371684.816971</td>\n",
       "      <td>371161.901269</td>\n",
       "      <td>370383.507210</td>\n",
       "    </tr>\n",
       "  </tbody>\n",
       "</table>\n",
       "<p>5 rows × 307 columns</p>\n",
       "</div>"
      ],
      "text/plain": [
       "   RegionID  SizeRank       RegionName RegionType StateName     2000-01-31  \\\n",
       "0    102001         0    United States    country       NaN  120187.291338   \n",
       "1    394913         1     New York, NY        msa        NY  215997.979545   \n",
       "2    753899         2  Los Angeles, CA        msa        CA  223845.478204   \n",
       "3    394463         3      Chicago, IL        msa        IL  150668.753070   \n",
       "4    394514         4       Dallas, TX        msa        TX  126168.387128   \n",
       "\n",
       "      2000-02-29     2000-03-31     2000-04-30     2000-05-31  ...  \\\n",
       "0  120398.739312  120660.965935  121223.390567  121870.673889  ...   \n",
       "1  216915.849088  217842.219756  219719.405192  221663.295718  ...   \n",
       "2  224678.467396  225788.001055  227995.600317  230410.021823  ...   \n",
       "3  150808.228444  151073.861750  151734.691403  152529.589990  ...   \n",
       "4  126224.582968  126289.185839  126456.952710  126678.148736  ...   \n",
       "\n",
       "      2024-05-31     2024-06-30     2024-07-31     2024-08-31     2024-09-30  \\\n",
       "0  352914.638679  353466.996967  353612.598368  353851.962049  354295.143248   \n",
       "1  655775.193541  658849.712644  661590.751300  665325.900420  669344.302493   \n",
       "2  939338.772106  943348.163884  947786.830884  953046.620772  959562.454127   \n",
       "3  314546.393299  315749.091850  316472.773117  317379.333016  318365.905134   \n",
       "4  375056.853849  374392.029934  373452.807103  372801.133481  372603.234747   \n",
       "\n",
       "      2024-10-31     2024-11-30     2024-12-31     2025-01-31     2025-02-28  \n",
       "0  354873.991396  355358.916720  356067.058847  356686.351705  357138.132256  \n",
       "1  672861.282874  675626.194374  677406.746915  678476.263587  679755.746376  \n",
       "2  964859.346450  969423.172391  973502.535403  974045.970345  971995.753941  \n",
       "3  319327.319692  320348.475962  321575.006711  322895.868446  324218.209834  \n",
       "4  372497.321500  372208.925541  371684.816971  371161.901269  370383.507210  \n",
       "\n",
       "[5 rows x 307 columns]"
      ]
     },
     "execution_count": 3,
     "metadata": {},
     "output_type": "execute_result"
    }
   ],
   "source": [
    "print(df.shape)\n",
    "df.head()"
   ]
  },
  {
   "cell_type": "code",
   "execution_count": 4,
   "metadata": {},
   "outputs": [],
   "source": [
    "df.columns = df.columns.str.strip().str.lower().str.replace(' ', '_')"
   ]
  },
  {
   "cell_type": "code",
   "execution_count": 6,
   "metadata": {},
   "outputs": [],
   "source": [
    "df_melted = df.melt(\n",
    "    id_vars=['regionid', 'sizerank', 'regionname', 'regiontype', 'statename'],        # keep this column intact\n",
    "    var_name='date',               # name of the new \"column name\" column\n",
    "    value_name='zhvi_price'        # name of the new \"value\" column\n",
    ")"
   ]
  },
  {
   "cell_type": "code",
   "execution_count": 7,
   "metadata": {},
   "outputs": [],
   "source": [
    "df_melted['date'] = pd.to_datetime(df_melted['date'])"
   ]
  },
  {
   "cell_type": "code",
   "execution_count": 8,
   "metadata": {},
   "outputs": [],
   "source": [
    "df_melted['zhvi_price'] = pd.to_numeric(df_melted['zhvi_price'], errors='coerce')"
   ]
  },
  {
   "cell_type": "code",
   "execution_count": 9,
   "metadata": {},
   "outputs": [],
   "source": [
    "df_melted = df_melted.dropna(subset=['zhvi_price', 'regionid', 'sizerank', 'regionname', 'regiontype', 'statename'])"
   ]
  },
  {
   "cell_type": "code",
   "execution_count": 10,
   "metadata": {},
   "outputs": [
    {
     "name": "stdout",
     "output_type": "stream",
     "text": [
      "['New York, NY' 'Los Angeles, CA' 'Chicago, IL' 'Dallas, TX' 'Houston, TX'\n",
      " 'Washington, DC' 'Philadelphia, PA' 'Miami, FL' 'Atlanta, GA'\n",
      " 'Boston, MA' 'Phoenix, AZ' 'San Francisco, CA' 'Riverside, CA'\n",
      " 'Detroit, MI' 'Seattle, WA' 'Minneapolis, MN' 'San Diego, CA' 'Tampa, FL'\n",
      " 'Denver, CO' 'Baltimore, MD' 'St. Louis, MO' 'Orlando, FL'\n",
      " 'Charlotte, NC' 'San Antonio, TX' 'Portland, OR' 'Sacramento, CA'\n",
      " 'Pittsburgh, PA' 'Cincinnati, OH' 'Austin, TX' 'Las Vegas, NV'\n",
      " 'Kansas City, MO' 'Columbus, OH' 'Cleveland, OH' 'San Jose, CA'\n",
      " 'Nashville, TN' 'Virginia Beach, VA' 'Providence, RI' 'Jacksonville, FL'\n",
      " 'Milwaukee, WI' 'Oklahoma City, OK' 'Raleigh, NC' 'Memphis, TN'\n",
      " 'Richmond, VA' 'Louisville, KY' 'New Orleans, LA' 'Salt Lake City, UT'\n",
      " 'Hartford, CT' 'Buffalo, NY' 'Birmingham, AL' 'Rochester, NY'\n",
      " 'Grand Rapids, MI' 'Tucson, AZ' 'Urban Honolulu, HI' 'Tulsa, OK'\n",
      " 'Fresno, CA' 'Worcester, MA' 'Omaha, NE' 'Bridgeport, CT'\n",
      " 'Greenville, SC' 'Bakersfield, CA' 'Albany, NY' 'Knoxville, TN'\n",
      " 'New Haven, CT' 'El Paso, TX' 'Allentown, PA' 'Oxnard, CA' 'Columbia, SC'\n",
      " 'North Port, FL' 'Charleston, SC' 'Greensboro, NC' 'Stockton, CA'\n",
      " 'Cape Coral, FL' 'Colorado Springs, CO' 'Little Rock, AR' 'Lakeland, FL'\n",
      " 'Akron, OH' 'Des Moines, IA' 'Springfield, MA' 'Ogden, UT' 'Madison, WI'\n",
      " 'Winston, NC' 'Deltona, FL' 'Syracuse, NY' 'Toledo, OH' 'Durham, NC'\n",
      " 'Augusta, GA' 'Palm Bay, FL' 'Harrisburg, PA' 'Spokane, WA'\n",
      " 'Scranton, PA' 'Chattanooga, TN' 'Modesto, CA' 'Portland, ME'\n",
      " 'Youngstown, OH' 'Lansing, MI' 'Fayetteville, AR' 'Fayetteville, NC'\n",
      " 'Lexington, KY' 'Pensacola, FL' 'Santa Rosa, CA' 'Reno, NV'\n",
      " 'Port St. Lucie, FL' 'Visalia, CA' 'Asheville, NC' 'York, PA'\n",
      " 'Vallejo, CA' 'Santa Maria, CA' 'Salinas, CA' 'Salem, OR' 'Mobile, AL'\n",
      " 'Reading, PA' 'Manchester, NH' 'Salisbury, MD' 'Flint, MI' 'Canton, OH'\n",
      " 'Savannah, GA' 'Anchorage, AK' 'Trenton, NJ' 'Montgomery, AL'\n",
      " 'Tallahassee, FL' 'Eugene, OR' 'Naples, FL' 'Ann Arbor, MI' 'Hickory, NC'\n",
      " 'Huntington, WV' 'Fort Collins, CO' 'Rockford, IL' 'Lincoln, NE'\n",
      " 'Gainesville, FL' 'Boulder, CO' 'Columbus, GA' 'Greeley, CO'\n",
      " 'Lubbock, TX' 'Clarksville, TN' 'Evansville, IN' 'Kingsport, TN'\n",
      " 'Kennewick, WA' 'Utica, NY' 'Hagerstown, MD' 'Olympia, WA' 'Longview, TX'\n",
      " 'San Luis Obispo, CA' 'Crestview, FL' 'Cedar Rapids, IA'\n",
      " 'Atlantic City, NJ' 'Bremerton, WA' 'Santa Cruz, CA' 'Erie, PA'\n",
      " 'Norwich, CT' 'Tuscaloosa, AL' 'Kalamazoo, MI' 'Lynchburg, VA'\n",
      " 'Charleston, WV' 'Binghamton, NY' 'Fort Smith, AR' 'Topeka, KS'\n",
      " 'Macon, GA' 'Barnstable Town, MA' 'Daphne, AL' 'Burlington, VT'\n",
      " 'Rochester, MN' 'Lafayette, IN' 'Medford, OR' 'Charlottesville, VA'\n",
      " 'Hilton Head Island, SC' 'Athens, GA' 'Lake Havasu City, AZ' 'Monroe, LA'\n",
      " 'Johnson City, TN' 'Gainesville, GA' 'Bend, OR' 'Saginaw, MI'\n",
      " 'Warner Robins, GA' 'Torrington, CT' 'Punta Gorda, FL' 'Redding, CA'\n",
      " 'Kingston, NY' 'Panama City, FL' 'Jackson, TN' 'Bowling Green, KY'\n",
      " 'Muskegon, MI' 'Auburn, AL' 'Bloomington, IL' 'Pueblo, CO'\n",
      " 'Blacksburg, VA' 'Kahului, HI' 'Sebastian, FL' 'Vineland, NJ'\n",
      " 'Idaho Falls, ID' 'Grand Junction, CO' 'Elizabethtown, KY' 'Niles, MI'\n",
      " 'Monroe, MI' 'Concord, NH' 'Alexandria, LA' 'Traverse City, MI'\n",
      " 'Bangor, ME' 'Homosassa Springs, FL' 'London, KY' 'Albany, GA'\n",
      " 'Sioux City, IA' 'Texarkana, TX' 'Valdosta, GA' 'Flagstaff, AZ'\n",
      " 'Rocky Mount, NC' 'Dalton, GA' 'Morristown, TN' 'Winchester, VA'\n",
      " 'Wheeling, WV' 'Morgantown, WV' 'Napa, CA' 'Springfield, OH'\n",
      " 'Battle Creek, MI' 'Jonesboro, AR' 'Pittsfield, MA' 'Mount Vernon, WA'\n",
      " 'Jamestown, NY' 'The Villages, FL' 'Glens Falls, NY' 'Lawton, OK'\n",
      " 'Cleveland, TN' 'Mansfield, OH' 'Augusta, ME' 'Altoona, PA'\n",
      " 'New Bern, NC' 'Owensboro, KY' 'Holland, MI' 'Goldsboro, NC'\n",
      " 'Watertown, NY' 'Beckley, WV' 'Williamsport, PA' 'Brunswick, GA'\n",
      " 'California, MD' 'Cookeville, TN' 'Roseburg, OR' 'Lewiston, ME'\n",
      " 'Ogdensburg, NY' 'Bluefield, WV' 'Show Low, AZ' 'Richmond, KY'\n",
      " 'Tullahoma, TN' 'Ithaca, NY' 'Decatur, IL' 'LaGrange, GA' 'Bay City, MI'\n",
      " 'Gettysburg, PA' 'Danville, VA' 'Lima, OH' 'Salem, OH' 'Hot Springs, AR'\n",
      " 'Adrian, MI' 'Shelby, NC' 'Paducah, KY' 'Rome, GA' 'Sevierville, TN'\n",
      " 'Ashtabula, OH' 'Cumberland, MD' 'Ocean City, NJ' 'Corvallis, OR'\n",
      " 'Corning, NY' 'New Philadelphia, OH' 'Clarksburg, WV' 'Parkersburg, WV'\n",
      " 'Pine Bluff, AR' 'Grants Pass, OR' 'Lufkin, TX' 'Zanesville, OH'\n",
      " 'Meadville, PA' 'Elmira, NY' 'Russellville, AR' 'Midland, MI'\n",
      " 'Bloomsburg, PA' 'Stillwater, OK' 'Manitowoc, WI' 'Hinesville, GA'\n",
      " 'DuBois, PA' 'Warsaw, IN' 'Plattsburgh, NY' 'Glenwood Springs, CO'\n",
      " 'Olean, NY' 'Chillicothe, OH' 'Searcy, AR' 'Auburn, NY' 'Keene, NH'\n",
      " 'Sandusky, OH' 'Findlay, OH' 'Frankfort, KY' 'Danville, IL' 'Kapaa, HI'\n",
      " 'Shawnee, OK' 'Greeneville, TN' 'Greenwood, SC' 'Lake City, FL'\n",
      " 'Klamath Falls, OR' 'Morehead City, NC' 'Roanoke Rapids, NC'\n",
      " 'Muskogee, OK' 'Marquette, MI' 'North Wilkesboro, NC' 'Marinette, WI'\n",
      " 'Dublin, GA' 'Somerset, KY' 'Forest City, NC' 'Martinsville, VA'\n",
      " 'Laconia, NH' 'Sanford, NC' 'Enid, OK' 'Walla Walla, WA' 'Hudson, NY'\n",
      " 'Sturgis, MI' 'Rutland, VT' 'Crossville, TN' 'Marietta, OH' 'Barre, VT'\n",
      " 'Fremont, OH' 'Oneonta, NY' 'Norwalk, OH' 'Batavia, NY' 'Ardmore, OK'\n",
      " 'Carson City, NV' 'Ontario, OR' 'Waycross, GA' 'Edwards, CO' 'Tiffin, OH'\n",
      " 'Batesville, AR' 'Point Pleasant, WV' 'Danville, KY' 'Glasgow, KY'\n",
      " 'St. Marys, GA' 'Boone, NC' 'Gloversville, NY' 'Payson, AZ'\n",
      " 'Bartlesville, OK' 'Greenville, OH' 'Douglas, GA' 'Oil City, PA'\n",
      " 'Newport, OR' 'Shelbyville, TN' 'Amsterdam, NY'\n",
      " 'Gardnerville Ranchos, NV' 'Ruston, LA' 'Sidney, OH' 'Malone, NY'\n",
      " 'Nogales, AZ' 'Tahlequah, OK' 'Montrose, CO' 'Cortland, NY'\n",
      " 'Mount Sterling, KY' 'Bardstown, KY' 'Plymouth, IN' 'Durant, OK'\n",
      " 'Moultrie, GA' 'Thomasville, GA' 'Paragould, AR' 'Madisonville, KY'\n",
      " 'Washington, NC' 'Harrison, AR' 'Coldwater, MI' 'Ponca City, OK'\n",
      " 'Lawrenceburg, TN' 'McAlester, OK' 'Duncan, OK' 'Sedalia, MO'\n",
      " 'Cedartown, GA' 'Henderson, NC' 'Mountain Home, AR' 'Tifton, GA'\n",
      " 'Blytheville, AR' 'McMinnville, TN' 'Austin, MN' 'Okeechobee, FL'\n",
      " 'Houghton, MI' 'Clewiston, FL' 'Selma, AL' 'Urbana, OH' 'Cambridge, OH'\n",
      " 'Defiance, OH' 'Safford, AZ' 'Ada, OK' 'Easton, MD' 'Murray, KY'\n",
      " 'Bennington, VT' 'Dyersburg, TN' 'Pontiac, IL' 'Newport, TN'\n",
      " 'Vidalia, GA' 'Laurinburg, NC' 'Americus, GA' 'Columbus, NE'\n",
      " 'Arcadia, FL' 'Lewisburg, TN' 'Seneca Falls, NY' 'Malvern, AR'\n",
      " 'Martin, TN' 'Dayton, TN' 'Jackson, OH' 'Cambridge, MD' 'Paris, TN'\n",
      " 'Berlin, NH' 'Union City, TN' 'Miami, OK' 'Jesup, GA' 'Ludington, MI'\n",
      " 'Bainbridge, GA' 'Alpena, MI' 'Washington Court House, OH' 'Van Wert, OH'\n",
      " 'Weatherford, OK' 'Macomb, IL' 'Camden, AR' 'Thomaston, GA' 'Toccoa, GA'\n",
      " 'Wauchula, FL' 'Altus, OK' 'Steamboat Springs, CO' 'Summerville, GA'\n",
      " 'Woodward, OK' 'Prineville, OR' 'Hood River, OR' 'Forrest City, AR'\n",
      " 'Brookings, OR' 'Magnolia, AR' 'Elk City, OK' 'Sterling, CO'\n",
      " 'Arkadelphia, AR' 'Storm Lake, IA' 'Cordele, GA' 'Vineyard Haven, MA'\n",
      " 'Fitzgerald, GA' 'Craig, CO' 'Jefferson, GA' 'Frankfort, IN'\n",
      " 'Cullman, AL' 'Kill Devil Hills, NC' 'Provo, UT' 'Yakima, WA'\n",
      " 'Poplar Bluff, MO' 'Whitewater, WI' 'Huntsville, AL' 'Champaign, IL'\n",
      " 'Talladega, AL' 'Faribault, MN' 'Red Wing, MN' 'Bellingham, WA'\n",
      " 'Boise City, ID' 'Brownsville, TX' 'Merced, CA' 'Chico, CA'\n",
      " 'El Centro, CA' 'Hanford, CA' 'Eureka, CA' 'Truckee, CA'\n",
      " 'Bellefontaine, OH' 'North Vernon, IN' 'Chambersburg, PA' 'Columbus, IN'\n",
      " 'Wenatchee, WA' 'Green Bay, WI' 'Myrtle Beach, SC' 'Dothan, AL'\n",
      " 'Marion, IN' 'Baton Rouge, LA' 'Wichita, KS' 'Peoria, IL'\n",
      " 'Las Cruces, NM' 'Yuma, AZ' 'Cheyenne, WY' 'Santa Fe, NM' 'La Crosse, WI'\n",
      " 'Gadsden, AL' 'Albuquerque, NM' 'Lancaster, PA' 'Jackson, MI'\n",
      " 'Madera, CA' 'Ukiah, CA' 'El Dorado, AR' 'Spartanburg, SC' 'Ozark, AL'\n",
      " 'Jackson, MS' 'Wilmington, NC' 'Breckenridge, CO' 'Indianapolis, IN'\n",
      " 'Wilmington, OH' 'Mankato, MN' 'Norfolk, NE' 'Mayfield, KY'\n",
      " 'Hastings, NE' 'Fort Wayne, IN' 'Bloomington, IN' 'Lafayette, LA'\n",
      " 'Astoria, OR' 'St. Joseph, MO' 'Alexandria, MN' 'Ocala, FL'\n",
      " 'Yuba City, CA' 'Sebring, FL' 'Palatka, FL' 'Orangeburg, SC'\n",
      " 'Rockingham, NC' 'Mexico, MO' 'Grand Island, NE' 'Davenport, IA'\n",
      " 'Fairmont, WV' 'Hutchinson, MN' 'Duluth, MN' 'Lawrence, KS'\n",
      " 'Corpus Christi, TX' 'Roanoke, VA' 'Johnstown, PA' 'Beaumont, TX'\n",
      " 'Elkhart, IN' 'Logan, UT' 'Missoula, MT' 'Fairbanks, AK'\n",
      " 'Jacksonville, IL' 'Juneau, AK' 'Shreveport, LA' 'Lebanon, PA'\n",
      " 'Appleton, WI' 'Twin Falls, ID' 'Ketchikan, AK' 'St. Cloud, MN'\n",
      " 'Ottawa, KS' 'East Stroudsburg, PA' 'State College, PA' 'Columbia, MO'\n",
      " 'Jacksonville, NC' 'Watertown, WI' 'Florence, SC' 'Willmar, MN'\n",
      " 'New Castle, PA' 'Kerrville, TX' 'Freeport, IL' 'Dixon, IL' 'Pullman, WA'\n",
      " 'Mountain Home, ID' 'Beatrice, NE' 'Springfield, IL' 'Oak Harbor, WA'\n",
      " 'Decatur, AL' 'Beaver Dam, WI' 'Sioux Falls, SD' 'Kearney, NE'\n",
      " 'Kinston, NC' 'McAllen, TX' 'Clearlake, CA' 'North Platte, NE'\n",
      " 'Susanville, CA' 'Crescent City, CA' 'Fernley, NV' 'Waterloo, IA'\n",
      " 'Jasper, IN' 'Natchez, MS' 'Great Falls, MT' \"Coeur d'Alene, ID\"\n",
      " 'Springfield, MO' 'South Bend, IN' 'Hammond, LA' 'Shelton, WA'\n",
      " 'Port Angeles, WA' 'Big Rapids, MI' 'Albany, OR' 'Coos Bay, OR'\n",
      " 'Elizabeth City, NC' 'Greenville, NC' 'Sierra Vista, AZ' 'Hillsdale, MI'\n",
      " 'Joplin, MO' 'Sheboygan, WI' 'Pinehurst, NC' 'Lexington, NE'\n",
      " 'Jefferson City, MO' 'Carbondale, IL' 'Brainerd, MN' 'Rapid City, SD'\n",
      " 'Weirton, WV' 'Sumter, SC' 'Cadillac, MI' 'Racine, WI' 'Centralia, WA'\n",
      " 'Seymour, IN' 'Killeen, TX' 'Angola, IN' 'Fond du Lac, WI' 'Cornelia, GA'\n",
      " 'St. George, UT' 'Manhattan, KS' 'Statesboro, GA' 'Calhoun, GA'\n",
      " 'Milledgeville, GA' 'Waco, TX' 'Amarillo, TX' 'Laredo, TX'\n",
      " 'College Station, TX' 'Fargo, ND' 'Tyler, TX' 'Houma, LA'\n",
      " 'Terre Haute, IN' 'Billings, MT' 'Abilene, TX' 'Iowa City, IA'\n",
      " 'Midland, TX' 'Oshkosh, WI' 'Eau Claire, WI' 'Wausau, WI' 'Odessa, TX'\n",
      " 'Wichita Falls, TX' 'Pottsville, PA' 'Bismarck, ND' 'Bozeman, MT'\n",
      " 'Longview, WA' 'Kankakee, IL' 'Moses Lake, WA' 'Albertville, AL'\n",
      " 'Pocatello, ID' 'Sunbury, PA' 'Hermiston, OR' 'Kokomo, IN'\n",
      " 'Opelousas, LA' 'Athens, TX' 'Wilson, NC' 'Quincy, IL' 'Aberdeen, WA'\n",
      " 'Somerset, PA' 'Wisconsin Rapids, WI' 'Mount Airy, NC' 'Baraboo, WI'\n",
      " 'Roswell, NM' 'Sayre, PA' 'Cullowhee, NC' 'Gaffney, SC' 'Sterling, IL'\n",
      " 'Cedar City, UT' 'Durango, CO' 'Elko, NV' 'Warrensburg, MO'\n",
      " 'Rochelle, IL' 'Galesburg, IL' 'Pahrump, NV' 'Menomonie, WI'\n",
      " 'Ellensburg, WA' 'Muscatine, IA' 'Auburn, IN' 'Owatonna, MN'\n",
      " 'Fremont, NE' 'Taylorville, IL' 'Muncie, IN' 'Michigan City, IN'\n",
      " 'Dubuque, IA' 'Cape Girardeau, MO' 'Indiana, PA' 'Helena, MT'\n",
      " 'Huntsville, TX' 'Heber, UT' 'Richmond, IN' 'Marion, OH'\n",
      " 'Nacogdoches, TX' 'Athens, OH' 'Mount Vernon, OH' 'Gillette, WY'\n",
      " 'Fort Madison, IA' 'Eagle Pass, TX' 'Branson, MO' 'Mason City, IA'\n",
      " 'New Castle, IN' 'Del Rio, TX' 'Sandpoint, ID' 'Bemidji, MN'\n",
      " 'Burlington, IA' 'Shawano, WI' 'Aberdeen, SD' 'Stephenville, TX'\n",
      " 'Marshalltown, IA' 'West Plains, MO' 'Pittsburg, KS' 'Brownwood, TX'\n",
      " 'Lock Haven, PA' 'Mount Vernon, IL' 'Sault Ste. Marie, MI'\n",
      " 'Huntington, IN' 'Lebanon, MO' 'Effingham, IL' 'Plainview, TX'\n",
      " 'The Dalles, OR' 'Fallon, NV' 'Hailey, ID' 'Spencer, IA' 'Ames, IA'\n",
      " 'Minot, ND' 'Lewiston, ID' 'Palestine, TX' 'Charleston, IL' 'Ashland, OH'\n",
      " 'Platteville, WI' 'Corsicana, TX' 'Jacksonville, TX' 'Paris, TX'\n",
      " 'Alice, TX' 'Clinton, IA' 'Wapakoneta, OH' 'Huntingdon, PA'\n",
      " 'Garden City, KS' 'Celina, OH' 'Gainesville, TX' 'Bradford, PA'\n",
      " 'McComb, MS' 'Big Stone Gap, VA' 'Crawfordsville, IN' 'Scottsbluff, NE'\n",
      " 'Laramie, WY' 'Campbellsville, KY' 'Coshocton, OH' 'Peru, IN'\n",
      " 'Vernal, UT' 'Ottumwa, IA' 'Brevard, NC' 'Kingsville, TX'\n",
      " 'Mineral Wells, TX' 'Oskaloosa, IA' 'Levelland, TX' 'Borger, TX'\n",
      " 'Pierre, SD' 'Evanston, WY' 'Othello, WA' 'Los Alamos, NM'\n",
      " 'Spirit Lake, IA' 'Snyder, TX' 'Starkville, MS' 'Burley, ID' 'Moscow, ID'\n",
      " 'Williston, ND' 'Bay City, TX' 'Decatur, IN' 'Brenham, TX' 'Wabash, IN'\n",
      " 'Kennett, MO' 'Fredericksburg, TX' 'La Grande, OR' 'Yankton, SD'\n",
      " 'Kalispell, MT' 'Rio Grande City, TX' 'Mount Pleasant, TX' 'El Campo, TX'\n",
      " 'Jackson, WY' 'Port Lavaca, TX' 'Andrews, TX' 'Fairfield, IA'\n",
      " 'Sweetwater, TX' 'Staunton, VA' 'Oxford, MS' 'Hannibal, MO' 'Uvalde, TX'\n",
      " 'Vernon, TX' 'Dover, DE' 'Rexburg, ID' 'Dickinson, ND'\n",
      " 'Middlesborough, KY' 'Wahpeton, ND' 'Pampa, TX' 'Newberry, SC'\n",
      " 'Portales, NM' 'Harrisonburg, VA' 'Zapata, TX' 'Farmington, NM'\n",
      " 'Fort Leonard Wood, MO' 'Riverton, WY' 'Scottsboro, AL' 'Florence, AL'\n",
      " 'Portsmouth, OH' 'Bogalusa, LA' 'Stevens Point, WI' 'Emporia, KS'\n",
      " 'Coffeyville, KS' 'Bedford, IN' 'Connersville, IN' 'Maysville, KY'\n",
      " 'Gulfport, MS' 'Hutchinson, KS' 'Casper, WY' 'Seneca, SC' 'Alma, MI'\n",
      " 'Selinsgrove, PA' 'Iron Mountain, MI' 'Anniston, AL'\n",
      " 'Fort Polk South, LA' 'Marshall, MN' 'Winona, MN' 'Farmington, MO'\n",
      " 'Bucyrus, OH' 'Lamesa, TX' 'Escanaba, MI' 'Athens, TN' 'Hattiesburg, MS'\n",
      " 'Janesville, WI' 'Tupelo, MS' 'Sherman, TX' 'Meridian, MS' 'Laurel, MS'\n",
      " 'Gallup, NM' 'Mount Pleasant, MI' 'Red Bluff, CA' 'Salina, KS'\n",
      " 'Fergus Falls, MN' 'Columbus, MS' 'Picayune, MS' 'Kendallville, IN'\n",
      " 'Vicksburg, MS' 'Lewisburg, PA' 'Rock Springs, WY' 'Espa-¦ola, NM'\n",
      " 'Logansport, IN' 'Vincennes, IN' 'Butte, MT' 'Corinth, MS'\n",
      " 'Big Spring, TX' 'Taos, NM' 'Brookings, SD' 'Washington, IN'\n",
      " 'Madison, IN' 'Las Vegas, NM' 'Beeville, TX' 'Albert Lea, MN'\n",
      " 'Sheridan, WY' 'Kirksville, MO' 'Fort Morgan, CO' 'Greensburg, IN'\n",
      " 'New Ulm, MN' 'Deming, NM' 'Moberly, MO' 'Marshall, MO' 'Maryville, MO'\n",
      " 'Dumas, TX' 'Hereford, TX' 'Atchison, KS' 'DeRidder, LA' 'Greenwood, MS'\n",
      " 'Georgetown, SC' 'Spearfish, SD' 'Enterprise, AL' 'Silver City, NM'\n",
      " 'Raymondville, TX' 'Lewistown, PA' 'Hobbs, NM' 'Grand Forks, ND'\n",
      " 'Helena, AR' 'Brookhaven, MS' 'Blackfoot, ID' 'Worthington, MN'\n",
      " 'McPherson, KS' 'Lincoln, IL' 'Bennettsville, SC' 'Mitchell, SD'\n",
      " 'Natchitoches, LA' 'San Angelo, TX' 'Hilo, HI' 'Winnemucca, NV'\n",
      " 'Morgan City, LA' 'Watertown, SD' 'Marion, NC' 'Jamestown, ND'\n",
      " 'Lake Charles, LA' 'Burlington, NC' 'Lumberton, NC' 'Victoria, TX'\n",
      " 'Key West, FL' 'Alamogordo, NM' 'Albemarle, NC' 'Carlsbad, NM'\n",
      " 'Sonora, CA' 'Ca-¦on City, CO' 'Clovis, NM' 'Rolla, MO' 'Warren, PA'\n",
      " 'Sikeston, MO' 'Centralia, IL' 'Sulphur Springs, TX' 'Dodge City, KS'\n",
      " 'Troy, AL' 'Cleveland, MS' 'Hays, KS' 'Elkins, WV' 'Grants, NM'\n",
      " 'Indianola, MS' 'Great Bend, KS' 'Liberal, KS' 'Clarksdale, MS'\n",
      " 'Grenada, MS' 'Guymon, OK' 'Huron, SD' 'Parsons, KS' 'Price, UT'\n",
      " 'Vermillion, SD' 'Pecos, TX' 'Greenville, MS']\n"
     ]
    }
   ],
   "source": [
    "unique_cities = df_melted['regionname'].unique()\n",
    "print(unique_cities)"
   ]
  },
  {
   "cell_type": "markdown",
   "metadata": {},
   "source": [
    "## Visualization"
   ]
  },
  {
   "cell_type": "code",
   "execution_count": 11,
   "metadata": {},
   "outputs": [],
   "source": [
    "cities_to_plot = ['Portland, OR' , 'Seattle, WA', 'Dallas, TX' ]"
   ]
  },
  {
   "cell_type": "code",
   "execution_count": 12,
   "metadata": {},
   "outputs": [
    {
     "data": {
      "application/vnd.microsoft.datawrangler.viewer.v0+json": {
       "columns": [
        {
         "name": "index",
         "rawType": "int64",
         "type": "integer"
        },
        {
         "name": "regionid",
         "rawType": "int64",
         "type": "integer"
        },
        {
         "name": "sizerank",
         "rawType": "int64",
         "type": "integer"
        },
        {
         "name": "regionname",
         "rawType": "object",
         "type": "string"
        },
        {
         "name": "regiontype",
         "rawType": "object",
         "type": "string"
        },
        {
         "name": "statename",
         "rawType": "object",
         "type": "string"
        },
        {
         "name": "date",
         "rawType": "datetime64[ns]",
         "type": "datetime"
        },
        {
         "name": "zhvi_price",
         "rawType": "float64",
         "type": "float"
        }
       ],
       "conversionMethod": "pd.DataFrame",
       "ref": "d026771f-935d-4aa4-9c64-cff9e679c285",
       "rows": [
        [
         "4",
         "394514",
         "4",
         "Dallas, TX",
         "msa",
         "TX",
         "2000-01-31 00:00:00",
         "126168.3871275248"
        ],
        [
         "15",
         "395078",
         "15",
         "Seattle, WA",
         "msa",
         "WA",
         "2000-01-31 00:00:00",
         "219843.5535943922"
        ],
        [
         "25",
         "394998",
         "25",
         "Portland, OR",
         "msa",
         "OR",
         "2000-01-31 00:00:00",
         "172050.07764353327"
        ],
        [
         "899",
         "394514",
         "4",
         "Dallas, TX",
         "msa",
         "TX",
         "2000-02-29 00:00:00",
         "126224.58296787772"
        ],
        [
         "910",
         "395078",
         "15",
         "Seattle, WA",
         "msa",
         "WA",
         "2000-02-29 00:00:00",
         "220544.27835137455"
        ],
        [
         "920",
         "394998",
         "25",
         "Portland, OR",
         "msa",
         "OR",
         "2000-02-29 00:00:00",
         "172515.07781293226"
        ],
        [
         "1794",
         "394514",
         "4",
         "Dallas, TX",
         "msa",
         "TX",
         "2000-03-31 00:00:00",
         "126289.1858392276"
        ],
        [
         "1805",
         "395078",
         "15",
         "Seattle, WA",
         "msa",
         "WA",
         "2000-03-31 00:00:00",
         "221232.907500045"
        ],
        [
         "1815",
         "394998",
         "25",
         "Portland, OR",
         "msa",
         "OR",
         "2000-03-31 00:00:00",
         "172890.86447702095"
        ],
        [
         "2689",
         "394514",
         "4",
         "Dallas, TX",
         "msa",
         "TX",
         "2000-04-30 00:00:00",
         "126456.95271029008"
        ],
        [
         "2700",
         "395078",
         "15",
         "Seattle, WA",
         "msa",
         "WA",
         "2000-04-30 00:00:00",
         "222627.22550772165"
        ],
        [
         "2710",
         "394998",
         "25",
         "Portland, OR",
         "msa",
         "OR",
         "2000-04-30 00:00:00",
         "173620.01275973147"
        ],
        [
         "3584",
         "394514",
         "4",
         "Dallas, TX",
         "msa",
         "TX",
         "2000-05-31 00:00:00",
         "126678.1487362403"
        ],
        [
         "3595",
         "395078",
         "15",
         "Seattle, WA",
         "msa",
         "WA",
         "2000-05-31 00:00:00",
         "224196.4750084578"
        ],
        [
         "3605",
         "394998",
         "25",
         "Portland, OR",
         "msa",
         "OR",
         "2000-05-31 00:00:00",
         "174132.22704842058"
        ],
        [
         "4479",
         "394514",
         "4",
         "Dallas, TX",
         "msa",
         "TX",
         "2000-06-30 00:00:00",
         "126902.04478639156"
        ],
        [
         "4490",
         "395078",
         "15",
         "Seattle, WA",
         "msa",
         "WA",
         "2000-06-30 00:00:00",
         "225658.873163439"
        ],
        [
         "4500",
         "394998",
         "25",
         "Portland, OR",
         "msa",
         "OR",
         "2000-06-30 00:00:00",
         "174613.6734958929"
        ],
        [
         "5374",
         "394514",
         "4",
         "Dallas, TX",
         "msa",
         "TX",
         "2000-07-31 00:00:00",
         "127136.79673239296"
        ],
        [
         "5385",
         "395078",
         "15",
         "Seattle, WA",
         "msa",
         "WA",
         "2000-07-31 00:00:00",
         "227196.62906077635"
        ],
        [
         "5395",
         "394998",
         "25",
         "Portland, OR",
         "msa",
         "OR",
         "2000-07-31 00:00:00",
         "175098.887333143"
        ],
        [
         "6269",
         "394514",
         "4",
         "Dallas, TX",
         "msa",
         "TX",
         "2000-08-31 00:00:00",
         "127488.45320825271"
        ],
        [
         "6280",
         "395078",
         "15",
         "Seattle, WA",
         "msa",
         "WA",
         "2000-08-31 00:00:00",
         "228435.01752382785"
        ],
        [
         "6290",
         "394998",
         "25",
         "Portland, OR",
         "msa",
         "OR",
         "2000-08-31 00:00:00",
         "175719.81632438686"
        ],
        [
         "7164",
         "394514",
         "4",
         "Dallas, TX",
         "msa",
         "TX",
         "2000-09-30 00:00:00",
         "127929.1518410563"
        ],
        [
         "7175",
         "395078",
         "15",
         "Seattle, WA",
         "msa",
         "WA",
         "2000-09-30 00:00:00",
         "229512.10648968"
        ],
        [
         "7185",
         "394998",
         "25",
         "Portland, OR",
         "msa",
         "OR",
         "2000-09-30 00:00:00",
         "176203.43683708645"
        ],
        [
         "8059",
         "394514",
         "4",
         "Dallas, TX",
         "msa",
         "TX",
         "2000-10-31 00:00:00",
         "128430.53064860062"
        ],
        [
         "8070",
         "395078",
         "15",
         "Seattle, WA",
         "msa",
         "WA",
         "2000-10-31 00:00:00",
         "230405.01954023144"
        ],
        [
         "8080",
         "394998",
         "25",
         "Portland, OR",
         "msa",
         "OR",
         "2000-10-31 00:00:00",
         "176569.6015550487"
        ],
        [
         "8954",
         "394514",
         "4",
         "Dallas, TX",
         "msa",
         "TX",
         "2000-11-30 00:00:00",
         "128902.88277712133"
        ],
        [
         "8965",
         "395078",
         "15",
         "Seattle, WA",
         "msa",
         "WA",
         "2000-11-30 00:00:00",
         "231327.6561319184"
        ],
        [
         "8975",
         "394998",
         "25",
         "Portland, OR",
         "msa",
         "OR",
         "2000-11-30 00:00:00",
         "176810.8851463783"
        ],
        [
         "9849",
         "394514",
         "4",
         "Dallas, TX",
         "msa",
         "TX",
         "2000-12-31 00:00:00",
         "129356.90653272498"
        ],
        [
         "9860",
         "395078",
         "15",
         "Seattle, WA",
         "msa",
         "WA",
         "2000-12-31 00:00:00",
         "232444.05286656905"
        ],
        [
         "9870",
         "394998",
         "25",
         "Portland, OR",
         "msa",
         "OR",
         "2000-12-31 00:00:00",
         "177143.42252029464"
        ],
        [
         "10744",
         "394514",
         "4",
         "Dallas, TX",
         "msa",
         "TX",
         "2001-01-31 00:00:00",
         "129588.23536277632"
        ],
        [
         "10755",
         "395078",
         "15",
         "Seattle, WA",
         "msa",
         "WA",
         "2001-01-31 00:00:00",
         "233704.76508634535"
        ],
        [
         "10765",
         "394998",
         "25",
         "Portland, OR",
         "msa",
         "OR",
         "2001-01-31 00:00:00",
         "177433.01423134797"
        ],
        [
         "11639",
         "394514",
         "4",
         "Dallas, TX",
         "msa",
         "TX",
         "2001-02-28 00:00:00",
         "129398.51243471362"
        ],
        [
         "11650",
         "395078",
         "15",
         "Seattle, WA",
         "msa",
         "WA",
         "2001-02-28 00:00:00",
         "235034.46778108072"
        ],
        [
         "11660",
         "394998",
         "25",
         "Portland, OR",
         "msa",
         "OR",
         "2001-02-28 00:00:00",
         "177682.64745073218"
        ],
        [
         "12534",
         "394514",
         "4",
         "Dallas, TX",
         "msa",
         "TX",
         "2001-03-31 00:00:00",
         "129119.71410906916"
        ],
        [
         "12545",
         "395078",
         "15",
         "Seattle, WA",
         "msa",
         "WA",
         "2001-03-31 00:00:00",
         "236394.1253920392"
        ],
        [
         "12555",
         "394998",
         "25",
         "Portland, OR",
         "msa",
         "OR",
         "2001-03-31 00:00:00",
         "177846.42252979116"
        ],
        [
         "13429",
         "394514",
         "4",
         "Dallas, TX",
         "msa",
         "TX",
         "2001-04-30 00:00:00",
         "128962.73019945926"
        ],
        [
         "13440",
         "395078",
         "15",
         "Seattle, WA",
         "msa",
         "WA",
         "2001-04-30 00:00:00",
         "237637.62947199048"
        ],
        [
         "13450",
         "394998",
         "25",
         "Portland, OR",
         "msa",
         "OR",
         "2001-04-30 00:00:00",
         "178152.87390786034"
        ],
        [
         "14324",
         "394514",
         "4",
         "Dallas, TX",
         "msa",
         "TX",
         "2001-05-31 00:00:00",
         "129075.47447584104"
        ],
        [
         "14335",
         "395078",
         "15",
         "Seattle, WA",
         "msa",
         "WA",
         "2001-05-31 00:00:00",
         "238630.88298539657"
        ]
       ],
       "shape": {
        "columns": 7,
        "rows": 905
       }
      },
      "text/html": [
       "<div>\n",
       "<style scoped>\n",
       "    .dataframe tbody tr th:only-of-type {\n",
       "        vertical-align: middle;\n",
       "    }\n",
       "\n",
       "    .dataframe tbody tr th {\n",
       "        vertical-align: top;\n",
       "    }\n",
       "\n",
       "    .dataframe thead th {\n",
       "        text-align: right;\n",
       "    }\n",
       "</style>\n",
       "<table border=\"1\" class=\"dataframe\">\n",
       "  <thead>\n",
       "    <tr style=\"text-align: right;\">\n",
       "      <th></th>\n",
       "      <th>regionid</th>\n",
       "      <th>sizerank</th>\n",
       "      <th>regionname</th>\n",
       "      <th>regiontype</th>\n",
       "      <th>statename</th>\n",
       "      <th>date</th>\n",
       "      <th>zhvi_price</th>\n",
       "    </tr>\n",
       "  </thead>\n",
       "  <tbody>\n",
       "    <tr>\n",
       "      <th>4</th>\n",
       "      <td>394514</td>\n",
       "      <td>4</td>\n",
       "      <td>Dallas, TX</td>\n",
       "      <td>msa</td>\n",
       "      <td>TX</td>\n",
       "      <td>2000-01-31</td>\n",
       "      <td>126168.387128</td>\n",
       "    </tr>\n",
       "    <tr>\n",
       "      <th>15</th>\n",
       "      <td>395078</td>\n",
       "      <td>15</td>\n",
       "      <td>Seattle, WA</td>\n",
       "      <td>msa</td>\n",
       "      <td>WA</td>\n",
       "      <td>2000-01-31</td>\n",
       "      <td>219843.553594</td>\n",
       "    </tr>\n",
       "    <tr>\n",
       "      <th>25</th>\n",
       "      <td>394998</td>\n",
       "      <td>25</td>\n",
       "      <td>Portland, OR</td>\n",
       "      <td>msa</td>\n",
       "      <td>OR</td>\n",
       "      <td>2000-01-31</td>\n",
       "      <td>172050.077644</td>\n",
       "    </tr>\n",
       "    <tr>\n",
       "      <th>899</th>\n",
       "      <td>394514</td>\n",
       "      <td>4</td>\n",
       "      <td>Dallas, TX</td>\n",
       "      <td>msa</td>\n",
       "      <td>TX</td>\n",
       "      <td>2000-02-29</td>\n",
       "      <td>126224.582968</td>\n",
       "    </tr>\n",
       "    <tr>\n",
       "      <th>910</th>\n",
       "      <td>395078</td>\n",
       "      <td>15</td>\n",
       "      <td>Seattle, WA</td>\n",
       "      <td>msa</td>\n",
       "      <td>WA</td>\n",
       "      <td>2000-02-29</td>\n",
       "      <td>220544.278351</td>\n",
       "    </tr>\n",
       "    <tr>\n",
       "      <th>...</th>\n",
       "      <td>...</td>\n",
       "      <td>...</td>\n",
       "      <td>...</td>\n",
       "      <td>...</td>\n",
       "      <td>...</td>\n",
       "      <td>...</td>\n",
       "      <td>...</td>\n",
       "    </tr>\n",
       "    <tr>\n",
       "      <th>268515</th>\n",
       "      <td>395078</td>\n",
       "      <td>15</td>\n",
       "      <td>Seattle, WA</td>\n",
       "      <td>msa</td>\n",
       "      <td>WA</td>\n",
       "      <td>2025-01-31</td>\n",
       "      <td>750148.870682</td>\n",
       "    </tr>\n",
       "    <tr>\n",
       "      <th>268525</th>\n",
       "      <td>394998</td>\n",
       "      <td>25</td>\n",
       "      <td>Portland, OR</td>\n",
       "      <td>msa</td>\n",
       "      <td>OR</td>\n",
       "      <td>2025-01-31</td>\n",
       "      <td>548618.062109</td>\n",
       "    </tr>\n",
       "    <tr>\n",
       "      <th>269399</th>\n",
       "      <td>394514</td>\n",
       "      <td>4</td>\n",
       "      <td>Dallas, TX</td>\n",
       "      <td>msa</td>\n",
       "      <td>TX</td>\n",
       "      <td>2025-02-28</td>\n",
       "      <td>370383.507210</td>\n",
       "    </tr>\n",
       "    <tr>\n",
       "      <th>269410</th>\n",
       "      <td>395078</td>\n",
       "      <td>15</td>\n",
       "      <td>Seattle, WA</td>\n",
       "      <td>msa</td>\n",
       "      <td>WA</td>\n",
       "      <td>2025-02-28</td>\n",
       "      <td>751241.204396</td>\n",
       "    </tr>\n",
       "    <tr>\n",
       "      <th>269420</th>\n",
       "      <td>394998</td>\n",
       "      <td>25</td>\n",
       "      <td>Portland, OR</td>\n",
       "      <td>msa</td>\n",
       "      <td>OR</td>\n",
       "      <td>2025-02-28</td>\n",
       "      <td>548695.172798</td>\n",
       "    </tr>\n",
       "  </tbody>\n",
       "</table>\n",
       "<p>905 rows × 7 columns</p>\n",
       "</div>"
      ],
      "text/plain": [
       "        regionid  sizerank    regionname regiontype statename       date  \\\n",
       "4         394514         4    Dallas, TX        msa        TX 2000-01-31   \n",
       "15        395078        15   Seattle, WA        msa        WA 2000-01-31   \n",
       "25        394998        25  Portland, OR        msa        OR 2000-01-31   \n",
       "899       394514         4    Dallas, TX        msa        TX 2000-02-29   \n",
       "910       395078        15   Seattle, WA        msa        WA 2000-02-29   \n",
       "...          ...       ...           ...        ...       ...        ...   \n",
       "268515    395078        15   Seattle, WA        msa        WA 2025-01-31   \n",
       "268525    394998        25  Portland, OR        msa        OR 2025-01-31   \n",
       "269399    394514         4    Dallas, TX        msa        TX 2025-02-28   \n",
       "269410    395078        15   Seattle, WA        msa        WA 2025-02-28   \n",
       "269420    394998        25  Portland, OR        msa        OR 2025-02-28   \n",
       "\n",
       "           zhvi_price  \n",
       "4       126168.387128  \n",
       "15      219843.553594  \n",
       "25      172050.077644  \n",
       "899     126224.582968  \n",
       "910     220544.278351  \n",
       "...               ...  \n",
       "268515  750148.870682  \n",
       "268525  548618.062109  \n",
       "269399  370383.507210  \n",
       "269410  751241.204396  \n",
       "269420  548695.172798  \n",
       "\n",
       "[905 rows x 7 columns]"
      ]
     },
     "execution_count": 12,
     "metadata": {},
     "output_type": "execute_result"
    }
   ],
   "source": [
    "filtered = df_melted[df_melted['regionname'].isin(cities_to_plot)]\n",
    "filtered"
   ]
  },
  {
   "cell_type": "code",
   "execution_count": 13,
   "metadata": {},
   "outputs": [
    {
     "data": {
      "image/png": "[encoded data removed]",
      "text/plain": [
       "<Figure size 1400x600 with 1 Axes>"
      ]
     },
     "metadata": {},
     "output_type": "display_data"
    }
   ],
   "source": [
    "plt.figure(figsize=(14, 6))\n",
    "\n",
    "for city in cities_to_plot:\n",
    "    city_data = filtered[filtered['regionname'] == city]\n",
    "    plt.plot(city_data['date'], city_data['zhvi_price'], label=city)\n",
    "\n",
    "plt.title(\"Zillow Home Value Trends by City\")\n",
    "plt.xlabel(\"Date\")\n",
    "plt.ylabel(\"ZHVI Price ($)\")\n",
    "plt.legend()\n",
    "plt.grid(True)\n",
    "plt.tight_layout()\n",
    "plt.show()"
   ]
  },
  {
   "cell_type": "markdown",
   "metadata": {},
   "source": [
    "## Forecasting"
   ]
  },
  {
   "cell_type": "code",
   "execution_count": 14,
   "metadata": {},
   "outputs": [],
   "source": [
    "city = 'Seattle, WA'\n",
    "df_city = df_melted[df_melted['regionname'] == city][['date', 'zhvi_price']]\n",
    "df_city = df_city.rename(columns={'date': 'ds', 'zhvi_price': 'y'})"
   ]
  },
  {
   "cell_type": "code",
   "execution_count": 15,
   "metadata": {},
   "outputs": [
    {
     "name": "stderr",
     "output_type": "stream",
     "text": [
      "/Users/adharshrajendran/projects/real-estate-forecaster/real-estate/lib/python3.12/site-packages/tqdm/auto.py:21: TqdmWarning: IProgress not found. Please update jupyter and ipywidgets. See https://ipywidgets.readthedocs.io/en/stable/user_install.html\n",
      "  from .autonotebook import tqdm as notebook_tqdm\n",
      "12:22:26 - cmdstanpy - INFO - Chain [1] start processing\n",
      "12:22:26 - cmdstanpy - INFO - Chain [1] done processing\n"
     ]
    },
    {
     "data": {
      "text/plain": [
       "<prophet.forecaster.Prophet at 0x122b88080>"
      ]
     },
     "execution_count": 15,
     "metadata": {},
     "output_type": "execute_result"
    }
   ],
   "source": [
    "from prophet import Prophet\n",
    "\n",
    "model = Prophet()\n",
    "model.fit(df_city)"
   ]
  },
  {
   "cell_type": "code",
   "execution_count": 16,
   "metadata": {},
   "outputs": [],
   "source": [
    "future = model.make_future_dataframe(periods=12, freq='ME')  # Forecast next 12 months\n",
    "forecast = model.predict(future)"
   ]
  },
  {
   "cell_type": "code",
   "execution_count": 17,
   "metadata": {},
   "outputs": [
    {
     "data": {
      "application/vnd.plotly.v1+json": {
       "config": {
        "plotlyServerURL": "https://plot.ly"
       },
       "data": [
        {
         "marker": {
          "color": "black",
          "size": 4
         },
         "mode": "markers",
         "name": "Actual",
         "type": "scatter",
         "x": [
          "2000-01-31T00:00:00.000000000",
          "2000-02-29T00:00:00.000000000",
          "2000-03-31T00:00:00.000000000",
          "2000-04-30T00:00:00.000000000",
          "2000-05-31T00:00:00.000000000",
          "2000-06-30T00:00:00.000000000",
          "2000-07-31T00:00:00.000000000",
          "2000-08-31T00:00:00.000000000",
          "2000-09-30T00:00:00.000000000",
          "2000-10-31T00:00:00.000000000",
          "2000-11-30T00:00:00.000000000",
          "2000-12-31T00:00:00.000000000",
          "2001-01-31T00:00:00.000000000",
          "2001-02-28T00:00:00.000000000",
          "2001-03-31T00:00:00.000000000",
          "2001-04-30T00:00:00.000000000",
          "2001-05-31T00:00:00.000000000",
          "2001-06-30T00:00:00.000000000",
          "2001-07-31T00:00:00.000000000",
          "2001-08-31T00:00:00.000000000",
          "2001-09-30T00:00:00.000000000",
          "2001-10-31T00:00:00.000000000",
          "2001-11-30T00:00:00.000000000",
          "2001-12-31T00:00:00.000000000",
          "2002-01-31T00:00:00.000000000",
          "2002-02-28T00:00:00.000000000",
          "2002-03-31T00:00:00.000000000",
          "2002-04-30T00:00:00.000000000",
          "2002-05-31T00:00:00.000000000",
          "2002-06-30T00:00:00.000000000",
          "2002-07-31T00:00:00.000000000",
          "2002-08-31T00:00:00.000000000",
          "2002-09-30T00:00:00.000000000",
          "2002-10-31T00:00:00.000000000",
          "2002-11-30T00:00:00.000000000",
          "2002-12-31T00:00:00.000000000",
          "2003-01-31T00:00:00.000000000",
          "2003-02-28T00:00:00.000000000",
          "2003-03-31T00:00:00.000000000",
          "2003-04-30T00:00:00.000000000",
          "2003-05-31T00:00:00.000000000",
          "2003-06-30T00:00:00.000000000",
          "2003-07-31T00:00:00.000000000",
          "2003-08-31T00:00:00.000000000",
          "2003-09-30T00:00:00.000000000",
          "2003-10-31T00:00:00.000000000",
          "2003-11-30T00:00:00.000000000",
          "2003-12-31T00:00:00.000000000",
          "2004-01-31T00:00:00.000000000",
          "2004-02-29T00:00:00.000000000",
          "2004-03-31T00:00:00.000000000",
          "2004-04-30T00:00:00.000000000",
          "2004-05-31T00:00:00.000000000",
          "2004-06-30T00:00:00.000000000",
          "2004-07-31T00:00:00.000000000",
          "2004-08-31T00:00:00.000000000",
          "2004-09-30T00:00:00.000000000",
          "2004-10-31T00:00:00.000000000",
          "2004-11-30T00:00:00.000000000",
          "2004-12-31T00:00:00.000000000",
          "2005-01-31T00:00:00.000000000",
          "2005-02-28T00:00:00.000000000",
          "2005-03-31T00:00:00.000000000",
          "2005-04-30T00:00:00.000000000",
          "2005-05-31T00:00:00.000000000",
          "2005-06-30T00:00:00.000000000",
          "2005-07-31T00:00:00.000000000",
          "2005-08-31T00:00:00.000000000",
          "2005-09-30T00:00:00.000000000",
          "2005-10-31T00:00:00.000000000",
          "2005-11-30T00:00:00.000000000",
          "2005-12-31T00:00:00.000000000",
          "2006-01-31T00:00:00.000000000",
          "2006-02-28T00:00:00.000000000",
          "2006-03-31T00:00:00.000000000",
          "2006-04-30T00:00:00.000000000",
          "2006-05-31T00:00:00.000000000",
          "2006-06-30T00:00:00.000000000",
          "2006-07-31T00:00:00.000000000",
          "2006-08-31T00:00:00.000000000",
          "2006-09-30T00:00:00.000000000",
          "2006-10-31T00:00:00.000000000",
          "2006-11-30T00:00:00.000000000",
          "2006-12-31T00:00:00.000000000",
          "2007-01-31T00:00:00.000000000",
          "2007-02-28T00:00:00.000000000",
          "2007-03-31T00:00:00.000000000",
          "2007-04-30T00:00:00.000000000",
          "2007-05-31T00:00:00.000000000",
          "2007-06-30T00:00:00.000000000",
          "2007-07-31T00:00:00.000000000",
          "2007-08-31T00:00:00.000000000",
          "2007-09-30T00:00:00.000000000",
          "2007-10-31T00:00:00.000000000",
          "2007-11-30T00:00:00.000000000",
          "2007-12-31T00:00:00.000000000",
          "2008-01-31T00:00:00.000000000",
          "2008-02-29T00:00:00.000000000",
          "2008-03-31T00:00:00.000000000",
          "2008-04-30T00:00:00.000000000",
          "2008-05-31T00:00:00.000000000",
          "2008-06-30T00:00:00.000000000",
          "2008-07-31T00:00:00.000000000",
          "2008-08-31T00:00:00.000000000",
          "2008-09-30T00:00:00.000000000",
          "2008-10-31T00:00:00.000000000",
          "2008-11-30T00:00:00.000000000",
          "2008-12-31T00:00:00.000000000",
          "2009-01-31T00:00:00.000000000",
          "2009-02-28T00:00:00.000000000",
          "2009-03-31T00:00:00.000000000",
          "2009-04-30T00:00:00.000000000",
          "2009-05-31T00:00:00.000000000",
          "2009-06-30T00:00:00.000000000",
          "2009-07-31T00:00:00.000000000",
          "2009-08-31T00:00:00.000000000",
          "2009-09-30T00:00:00.000000000",
          "2009-10-31T00:00:00.000000000",
          "2009-11-30T00:00:00.000000000",
          "2009-12-31T00:00:00.000000000",
          "2010-01-31T00:00:00.000000000",
          "2010-02-28T00:00:00.000000000",
          "2010-03-31T00:00:00.000000000",
          "2010-04-30T00:00:00.000000000",
          "2010-05-31T00:00:00.000000000",
          "2010-06-30T00:00:00.000000000",
          "2010-07-31T00:00:00.000000000",
          "2010-08-31T00:00:00.000000000",
          "2010-09-30T00:00:00.000000000",
          "2010-10-31T00:00:00.000000000",
          "2010-11-30T00:00:00.000000000",
          "2010-12-31T00:00:00.000000000",
          "2011-01-31T00:00:00.000000000",
          "2011-02-28T00:00:00.000000000",
          "2011-03-31T00:00:00.000000000",
          "2011-04-30T00:00:00.000000000",
          "2011-05-31T00:00:00.000000000",
          "2011-06-30T00:00:00.000000000",
          "2011-07-31T00:00:00.000000000",
          "2011-08-31T00:00:00.000000000",
          "2011-09-30T00:00:00.000000000",
          "2011-10-31T00:00:00.000000000",
          "2011-11-30T00:00:00.000000000",
          "2011-12-31T00:00:00.000000000",
          "2012-01-31T00:00:00.000000000",
          "2012-02-29T00:00:00.000000000",
          "2012-03-31T00:00:00.000000000",
          "2012-04-30T00:00:00.000000000",
          "2012-05-31T00:00:00.000000000",
          "2012-06-30T00:00:00.000000000",
          "2012-07-31T00:00:00.000000000",
          "2012-08-31T00:00:00.000000000",
          "2012-09-30T00:00:00.000000000",
          "2012-10-31T00:00:00.000000000",
          "2012-11-30T00:00:00.000000000",
          "2012-12-31T00:00:00.000000000",
          "2013-01-31T00:00:00.000000000",
          "2013-02-28T00:00:00.000000000",
          "2013-03-31T00:00:00.000000000",
          "2013-04-30T00:00:00.000000000",
          "2013-05-31T00:00:00.000000000",
          "2013-06-30T00:00:00.000000000",
          "2013-07-31T00:00:00.000000000",
          "2013-08-31T00:00:00.000000000",
          "2013-09-30T00:00:00.000000000",
          "2013-10-31T00:00:00.000000000",
          "2013-11-30T00:00:00.000000000",
          "2013-12-31T00:00:00.000000000",
          "2014-01-31T00:00:00.000000000",
          "2014-02-28T00:00:00.000000000",
          "2014-03-31T00:00:00.000000000",
          "2014-04-30T00:00:00.000000000",
          "2014-05-31T00:00:00.000000000",
          "2014-06-30T00:00:00.000000000",
          "2014-07-31T00:00:00.000000000",
          "2014-08-31T00:00:00.000000000",
          "2014-09-30T00:00:00.000000000",
          "2014-10-31T00:00:00.000000000",
          "2014-11-30T00:00:00.000000000",
          "2014-12-31T00:00:00.000000000",
          "2015-01-31T00:00:00.000000000",
          "2015-02-28T00:00:00.000000000",
          "2015-03-31T00:00:00.000000000",
          "2015-04-30T00:00:00.000000000",
          "2015-05-31T00:00:00.000000000",
          "2015-06-30T00:00:00.000000000",
          "2015-07-31T00:00:00.000000000",
          "2015-08-31T00:00:00.000000000",
          "2015-09-30T00:00:00.000000000",
          "2015-10-31T00:00:00.000000000",
          "2015-11-30T00:00:00.000000000",
          "2015-12-31T00:00:00.000000000",
          "2016-01-31T00:00:00.000000000",
          "2016-02-29T00:00:00.000000000",
          "2016-03-31T00:00:00.000000000",
          "2016-04-30T00:00:00.000000000",
          "2016-05-31T00:00:00.000000000",
          "2016-06-30T00:00:00.000000000",
          "2016-07-31T00:00:00.000000000",
          "2016-08-31T00:00:00.000000000",
          "2016-09-30T00:00:00.000000000",
          "2016-10-31T00:00:00.000000000",
          "2016-11-30T00:00:00.000000000",
          "2016-12-31T00:00:00.000000000",
          "2017-01-31T00:00:00.000000000",
          "2017-02-28T00:00:00.000000000",
          "2017-03-31T00:00:00.000000000",
          "2017-04-30T00:00:00.000000000",
          "2017-05-31T00:00:00.000000000",
          "2017-06-30T00:00:00.000000000",
          "2017-07-31T00:00:00.000000000",
          "2017-08-31T00:00:00.000000000",
          "2017-09-30T00:00:00.000000000",
          "2017-10-31T00:00:00.000000000",
          "2017-11-30T00:00:00.000000000",
          "2017-12-31T00:00:00.000000000",
          "2018-01-31T00:00:00.000000000",
          "2018-02-28T00:00:00.000000000",
          "2018-03-31T00:00:00.000000000",
          "2018-04-30T00:00:00.000000000",
          "2018-05-31T00:00:00.000000000",
          "2018-06-30T00:00:00.000000000",
          "2018-07-31T00:00:00.000000000",
          "2018-08-31T00:00:00.000000000",
          "2018-09-30T00:00:00.000000000",
          "2018-10-31T00:00:00.000000000",
          "2018-11-30T00:00:00.000000000",
          "2018-12-31T00:00:00.000000000",
          "2019-01-31T00:00:00.000000000",
          "2019-02-28T00:00:00.000000000",
          "2019-03-31T00:00:00.000000000",
          "2019-04-30T00:00:00.000000000",
          "2019-05-31T00:00:00.000000000",
          "2019-06-30T00:00:00.000000000",
          "2019-07-31T00:00:00.000000000",
          "2019-08-31T00:00:00.000000000",
          "2019-09-30T00:00:00.000000000",
          "2019-10-31T00:00:00.000000000",
          "2019-11-30T00:00:00.000000000",
          "2019-12-31T00:00:00.000000000",
          "2020-01-31T00:00:00.000000000",
          "2020-02-29T00:00:00.000000000",
          "2020-03-31T00:00:00.000000000",
          "2020-04-30T00:00:00.000000000",
          "2020-05-31T00:00:00.000000000",
          "2020-06-30T00:00:00.000000000",
          "2020-07-31T00:00:00.000000000",
          "2020-08-31T00:00:00.000000000",
          "2020-09-30T00:00:00.000000000",
          "2020-10-31T00:00:00.000000000",
          "2020-11-30T00:00:00.000000000",
          "2020-12-31T00:00:00.000000000",
          "2021-01-31T00:00:00.000000000",
          "2021-02-28T00:00:00.000000000",
          "2021-03-31T00:00:00.000000000",
          "2021-04-30T00:00:00.000000000",
          "2021-05-31T00:00:00.000000000",
          "2021-06-30T00:00:00.000000000",
          "2021-07-31T00:00:00.000000000",
          "2021-08-31T00:00:00.000000000",
          "2021-09-30T00:00:00.000000000",
          "2021-10-31T00:00:00.000000000",
          "2021-11-30T00:00:00.000000000",
          "2021-12-31T00:00:00.000000000",
          "2022-01-31T00:00:00.000000000",
          "2022-02-28T00:00:00.000000000",
          "2022-03-31T00:00:00.000000000",
          "2022-04-30T00:00:00.000000000",
          "2022-05-31T00:00:00.000000000",
          "2022-06-30T00:00:00.000000000",
          "2022-07-31T00:00:00.000000000",
          "2022-08-31T00:00:00.000000000",
          "2022-09-30T00:00:00.000000000",
          "2022-10-31T00:00:00.000000000",
          "2022-11-30T00:00:00.000000000",
          "2022-12-31T00:00:00.000000000",
          "2023-01-31T00:00:00.000000000",
          "2023-02-28T00:00:00.000000000",
          "2023-03-31T00:00:00.000000000",
          "2023-04-30T00:00:00.000000000",
          "2023-05-31T00:00:00.000000000",
          "2023-06-30T00:00:00.000000000",
          "2023-07-31T00:00:00.000000000",
          "2023-08-31T00:00:00.000000000",
          "2023-09-30T00:00:00.000000000",
          "2023-10-31T00:00:00.000000000",
          "2023-11-30T00:00:00.000000000",
          "2023-12-31T00:00:00.000000000",
          "2024-01-31T00:00:00.000000000",
          "2024-02-29T00:00:00.000000000",
          "2024-03-31T00:00:00.000000000",
          "2024-04-30T00:00:00.000000000",
          "2024-05-31T00:00:00.000000000",
          "2024-06-30T00:00:00.000000000",
          "2024-07-31T00:00:00.000000000",
          "2024-08-31T00:00:00.000000000",
          "2024-09-30T00:00:00.000000000",
          "2024-10-31T00:00:00.000000000",
          "2024-11-30T00:00:00.000000000",
          "2024-12-31T00:00:00.000000000",
          "2025-01-31T00:00:00.000000000",
          "2025-02-28T00:00:00.000000000"
         ],
         "y": {
          "bdata": "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",
          "dtype": "f8"
         }
        },
        {
         "hoverinfo": "skip",
         "line": {
          "width": 0
         },
         "mode": "lines",
         "type": "scatter",
         "x": [
          "2000-01-31T00:00:00.000000000",
          "2000-02-29T00:00:00.000000000",
          "2000-03-31T00:00:00.000000000",
          "2000-04-30T00:00:00.000000000",
          "2000-05-31T00:00:00.000000000",
          "2000-06-30T00:00:00.000000000",
          "2000-07-31T00:00:00.000000000",
          "2000-08-31T00:00:00.000000000",
          "2000-09-30T00:00:00.000000000",
          "2000-10-31T00:00:00.000000000",
          "2000-11-30T00:00:00.000000000",
          "2000-12-31T00:00:00.000000000",
          "2001-01-31T00:00:00.000000000",
          "2001-02-28T00:00:00.000000000",
          "2001-03-31T00:00:00.000000000",
          "2001-04-30T00:00:00.000000000",
          "2001-05-31T00:00:00.000000000",
          "2001-06-30T00:00:00.000000000",
          "2001-07-31T00:00:00.000000000",
          "2001-08-31T00:00:00.000000000",
          "2001-09-30T00:00:00.000000000",
          "2001-10-31T00:00:00.000000000",
          "2001-11-30T00:00:00.000000000",
          "2001-12-31T00:00:00.000000000",
          "2002-01-31T00:00:00.000000000",
          "2002-02-28T00:00:00.000000000",
          "2002-03-31T00:00:00.000000000",
          "2002-04-30T00:00:00.000000000",
          "2002-05-31T00:00:00.000000000",
          "2002-06-30T00:00:00.000000000",
          "2002-07-31T00:00:00.000000000",
          "2002-08-31T00:00:00.000000000",
          "2002-09-30T00:00:00.000000000",
          "2002-10-31T00:00:00.000000000",
          "2002-11-30T00:00:00.000000000",
          "2002-12-31T00:00:00.000000000",
          "2003-01-31T00:00:00.000000000",
          "2003-02-28T00:00:00.000000000",
          "2003-03-31T00:00:00.000000000",
          "2003-04-30T00:00:00.000000000",
          "2003-05-31T00:00:00.000000000",
          "2003-06-30T00:00:00.000000000",
          "2003-07-31T00:00:00.000000000",
          "2003-08-31T00:00:00.000000000",
          "2003-09-30T00:00:00.000000000",
          "2003-10-31T00:00:00.000000000",
          "2003-11-30T00:00:00.000000000",
          "2003-12-31T00:00:00.000000000",
          "2004-01-31T00:00:00.000000000",
          "2004-02-29T00:00:00.000000000",
          "2004-03-31T00:00:00.000000000",
          "2004-04-30T00:00:00.000000000",
          "2004-05-31T00:00:00.000000000",
          "2004-06-30T00:00:00.000000000",
          "2004-07-31T00:00:00.000000000",
          "2004-08-31T00:00:00.000000000",
          "2004-09-30T00:00:00.000000000",
          "2004-10-31T00:00:00.000000000",
          "2004-11-30T00:00:00.000000000",
          "2004-12-31T00:00:00.000000000",
          "2005-01-31T00:00:00.000000000",
          "2005-02-28T00:00:00.000000000",
          "2005-03-31T00:00:00.000000000",
          "2005-04-30T00:00:00.000000000",
          "2005-05-31T00:00:00.000000000",
          "2005-06-30T00:00:00.000000000",
          "2005-07-31T00:00:00.000000000",
          "2005-08-31T00:00:00.000000000",
          "2005-09-30T00:00:00.000000000",
          "2005-10-31T00:00:00.000000000",
          "2005-11-30T00:00:00.000000000",
          "2005-12-31T00:00:00.000000000",
          "2006-01-31T00:00:00.000000000",
          "2006-02-28T00:00:00.000000000",
          "2006-03-31T00:00:00.000000000",
          "2006-04-30T00:00:00.000000000",
          "2006-05-31T00:00:00.000000000",
          "2006-06-30T00:00:00.000000000",
          "2006-07-31T00:00:00.000000000",
          "2006-08-31T00:00:00.000000000",
          "2006-09-30T00:00:00.000000000",
          "2006-10-31T00:00:00.000000000",
          "2006-11-30T00:00:00.000000000",
          "2006-12-31T00:00:00.000000000",
          "2007-01-31T00:00:00.000000000",
          "2007-02-28T00:00:00.000000000",
          "2007-03-31T00:00:00.000000000",
          "2007-04-30T00:00:00.000000000",
          "2007-05-31T00:00:00.000000000",
          "2007-06-30T00:00:00.000000000",
          "2007-07-31T00:00:00.000000000",
          "2007-08-31T00:00:00.000000000",
          "2007-09-30T00:00:00.000000000",
          "2007-10-31T00:00:00.000000000",
          "2007-11-30T00:00:00.000000000",
          "2007-12-31T00:00:00.000000000",
          "2008-01-31T00:00:00.000000000",
          "2008-02-29T00:00:00.000000000",
          "2008-03-31T00:00:00.000000000",
          "2008-04-30T00:00:00.000000000",
          "2008-05-31T00:00:00.000000000",
          "2008-06-30T00:00:00.000000000",
          "2008-07-31T00:00:00.000000000",
          "2008-08-31T00:00:00.000000000",
          "2008-09-30T00:00:00.000000000",
          "2008-10-31T00:00:00.000000000",
          "2008-11-30T00:00:00.000000000",
          "2008-12-31T00:00:00.000000000",
          "2009-01-31T00:00:00.000000000",
          "2009-02-28T00:00:00.000000000",
          "2009-03-31T00:00:00.000000000",
          "2009-04-30T00:00:00.000000000",
          "2009-05-31T00:00:00.000000000",
          "2009-06-30T00:00:00.000000000",
          "2009-07-31T00:00:00.000000000",
          "2009-08-31T00:00:00.000000000",
          "2009-09-30T00:00:00.000000000",
          "2009-10-31T00:00:00.000000000",
          "2009-11-30T00:00:00.000000000",
          "2009-12-31T00:00:00.000000000",
          "2010-01-31T00:00:00.000000000",
          "2010-02-28T00:00:00.000000000",
          "2010-03-31T00:00:00.000000000",
          "2010-04-30T00:00:00.000000000",
          "2010-05-31T00:00:00.000000000",
          "2010-06-30T00:00:00.000000000",
          "2010-07-31T00:00:00.000000000",
          "2010-08-31T00:00:00.000000000",
          "2010-09-30T00:00:00.000000000",
          "2010-10-31T00:00:00.000000000",
          "2010-11-30T00:00:00.000000000",
          "2010-12-31T00:00:00.000000000",
          "2011-01-31T00:00:00.000000000",
          "2011-02-28T00:00:00.000000000",
          "2011-03-31T00:00:00.000000000",
          "2011-04-30T00:00:00.000000000",
          "2011-05-31T00:00:00.000000000",
          "2011-06-30T00:00:00.000000000",
          "2011-07-31T00:00:00.000000000",
          "2011-08-31T00:00:00.000000000",
          "2011-09-30T00:00:00.000000000",
          "2011-10-31T00:00:00.000000000",
          "2011-11-30T00:00:00.000000000",
          "2011-12-31T00:00:00.000000000",
          "2012-01-31T00:00:00.000000000",
          "2012-02-29T00:00:00.000000000",
          "2012-03-31T00:00:00.000000000",
          "2012-04-30T00:00:00.000000000",
          "2012-05-31T00:00:00.000000000",
          "2012-06-30T00:00:00.000000000",
          "2012-07-31T00:00:00.000000000",
          "2012-08-31T00:00:00.000000000",
          "2012-09-30T00:00:00.000000000",
          "2012-10-31T00:00:00.000000000",
          "2012-11-30T00:00:00.000000000",
          "2012-12-31T00:00:00.000000000",
          "2013-01-31T00:00:00.000000000",
          "2013-02-28T00:00:00.000000000",
          "2013-03-31T00:00:00.000000000",
          "2013-04-30T00:00:00.000000000",
          "2013-05-31T00:00:00.000000000",
          "2013-06-30T00:00:00.000000000",
          "2013-07-31T00:00:00.000000000",
          "2013-08-31T00:00:00.000000000",
          "2013-09-30T00:00:00.000000000",
          "2013-10-31T00:00:00.000000000",
          "2013-11-30T00:00:00.000000000",
          "2013-12-31T00:00:00.000000000",
          "2014-01-31T00:00:00.000000000",
          "2014-02-28T00:00:00.000000000",
          "2014-03-31T00:00:00.000000000",
          "2014-04-30T00:00:00.000000000",
          "2014-05-31T00:00:00.000000000",
          "2014-06-30T00:00:00.000000000",
          "2014-07-31T00:00:00.000000000",
          "2014-08-31T00:00:00.000000000",
          "2014-09-30T00:00:00.000000000",
          "2014-10-31T00:00:00.000000000",
          "2014-11-30T00:00:00.000000000",
          "2014-12-31T00:00:00.000000000",
          "2015-01-31T00:00:00.000000000",
          "2015-02-28T00:00:00.000000000",
          "2015-03-31T00:00:00.000000000",
          "2015-04-30T00:00:00.000000000",
          "2015-05-31T00:00:00.000000000",
          "2015-06-30T00:00:00.000000000",
          "2015-07-31T00:00:00.000000000",
          "2015-08-31T00:00:00.000000000",
          "2015-09-30T00:00:00.000000000",
          "2015-10-31T00:00:00.000000000",
          "2015-11-30T00:00:00.000000000",
          "2015-12-31T00:00:00.000000000",
          "2016-01-31T00:00:00.000000000",
          "2016-02-29T00:00:00.000000000",
          "2016-03-31T00:00:00.000000000",
          "2016-04-30T00:00:00.000000000",
          "2016-05-31T00:00:00.000000000",
          "2016-06-30T00:00:00.000000000",
          "2016-07-31T00:00:00.000000000",
          "2016-08-31T00:00:00.000000000",
          "2016-09-30T00:00:00.000000000",
          "2016-10-31T00:00:00.000000000",
          "2016-11-30T00:00:00.000000000",
          "2016-12-31T00:00:00.000000000",
          "2017-01-31T00:00:00.000000000",
          "2017-02-28T00:00:00.000000000",
          "2017-03-31T00:00:00.000000000",
          "2017-04-30T00:00:00.000000000",
          "2017-05-31T00:00:00.000000000",
          "2017-06-30T00:00:00.000000000",
          "2017-07-31T00:00:00.000000000",
          "2017-08-31T00:00:00.000000000",
          "2017-09-30T00:00:00.000000000",
          "2017-10-31T00:00:00.000000000",
          "2017-11-30T00:00:00.000000000",
          "2017-12-31T00:00:00.000000000",
          "2018-01-31T00:00:00.000000000",
          "2018-02-28T00:00:00.000000000",
          "2018-03-31T00:00:00.000000000",
          "2018-04-30T00:00:00.000000000",
          "2018-05-31T00:00:00.000000000",
          "2018-06-30T00:00:00.000000000",
          "2018-07-31T00:00:00.000000000",
          "2018-08-31T00:00:00.000000000",
          "2018-09-30T00:00:00.000000000",
          "2018-10-31T00:00:00.000000000",
          "2018-11-30T00:00:00.000000000",
          "2018-12-31T00:00:00.000000000",
          "2019-01-31T00:00:00.000000000",
          "2019-02-28T00:00:00.000000000",
          "2019-03-31T00:00:00.000000000",
          "2019-04-30T00:00:00.000000000",
          "2019-05-31T00:00:00.000000000",
          "2019-06-30T00:00:00.000000000",
          "2019-07-31T00:00:00.000000000",
          "2019-08-31T00:00:00.000000000",
          "2019-09-30T00:00:00.000000000",
          "2019-10-31T00:00:00.000000000",
          "2019-11-30T00:00:00.000000000",
          "2019-12-31T00:00:00.000000000",
          "2020-01-31T00:00:00.000000000",
          "2020-02-29T00:00:00.000000000",
          "2020-03-31T00:00:00.000000000",
          "2020-04-30T00:00:00.000000000",
          "2020-05-31T00:00:00.000000000",
          "2020-06-30T00:00:00.000000000",
          "2020-07-31T00:00:00.000000000",
          "2020-08-31T00:00:00.000000000",
          "2020-09-30T00:00:00.000000000",
          "2020-10-31T00:00:00.000000000",
          "2020-11-30T00:00:00.000000000",
          "2020-12-31T00:00:00.000000000",
          "2021-01-31T00:00:00.000000000",
          "2021-02-28T00:00:00.000000000",
          "2021-03-31T00:00:00.000000000",
          "2021-04-30T00:00:00.000000000",
          "2021-05-31T00:00:00.000000000",
          "2021-06-30T00:00:00.000000000",
          "2021-07-31T00:00:00.000000000",
          "2021-08-31T00:00:00.000000000",
          "2021-09-30T00:00:00.000000000",
          "2021-10-31T00:00:00.000000000",
          "2021-11-30T00:00:00.000000000",
          "2021-12-31T00:00:00.000000000",
          "2022-01-31T00:00:00.000000000",
          "2022-02-28T00:00:00.000000000",
          "2022-03-31T00:00:00.000000000",
          "2022-04-30T00:00:00.000000000",
          "2022-05-31T00:00:00.000000000",
          "2022-06-30T00:00:00.000000000",
          "2022-07-31T00:00:00.000000000",
          "2022-08-31T00:00:00.000000000",
          "2022-09-30T00:00:00.000000000",
          "2022-10-31T00:00:00.000000000",
          "2022-11-30T00:00:00.000000000",
          "2022-12-31T00:00:00.000000000",
          "2023-01-31T00:00:00.000000000",
          "2023-02-28T00:00:00.000000000",
          "2023-03-31T00:00:00.000000000",
          "2023-04-30T00:00:00.000000000",
          "2023-05-31T00:00:00.000000000",
          "2023-06-30T00:00:00.000000000",
          "2023-07-31T00:00:00.000000000",
          "2023-08-31T00:00:00.000000000",
          "2023-09-30T00:00:00.000000000",
          "2023-10-31T00:00:00.000000000",
          "2023-11-30T00:00:00.000000000",
          "2023-12-31T00:00:00.000000000",
          "2024-01-31T00:00:00.000000000",
          "2024-02-29T00:00:00.000000000",
          "2024-03-31T00:00:00.000000000",
          "2024-04-30T00:00:00.000000000",
          "2024-05-31T00:00:00.000000000",
          "2024-06-30T00:00:00.000000000",
          "2024-07-31T00:00:00.000000000",
          "2024-08-31T00:00:00.000000000",
          "2024-09-30T00:00:00.000000000",
          "2024-10-31T00:00:00.000000000",
          "2024-11-30T00:00:00.000000000",
          "2024-12-31T00:00:00.000000000",
          "2025-01-31T00:00:00.000000000",
          "2025-02-28T00:00:00.000000000",
          "2025-03-31T00:00:00.000000000",
          "2025-04-30T00:00:00.000000000",
          "2025-05-31T00:00:00.000000000",
          "2025-06-30T00:00:00.000000000",
          "2025-07-31T00:00:00.000000000",
          "2025-08-31T00:00:00.000000000",
          "2025-09-30T00:00:00.000000000",
          "2025-10-31T00:00:00.000000000",
          "2025-11-30T00:00:00.000000000",
          "2025-12-31T00:00:00.000000000",
          "2026-01-31T00:00:00.000000000",
          "2026-02-28T00:00:00.000000000"
         ],
         "y": {
          "bdata": "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",
          "dtype": "f8"
         }
        },
        {
         "fill": "tonexty",
         "fillcolor": "rgba(0, 114, 178, 0.2)",
         "line": {
          "color": "#0072B2",
          "width": 2
         },
         "mode": "lines",
         "name": "Predicted",
         "type": "scatter",
         "x": [
          "2000-01-31T00:00:00.000000000",
          "2000-02-29T00:00:00.000000000",
          "2000-03-31T00:00:00.000000000",
          "2000-04-30T00:00:00.000000000",
          "2000-05-31T00:00:00.000000000",
          "2000-06-30T00:00:00.000000000",
          "2000-07-31T00:00:00.000000000",
          "2000-08-31T00:00:00.000000000",
          "2000-09-30T00:00:00.000000000",
          "2000-10-31T00:00:00.000000000",
          "2000-11-30T00:00:00.000000000",
          "2000-12-31T00:00:00.000000000",
          "2001-01-31T00:00:00.000000000",
          "2001-02-28T00:00:00.000000000",
          "2001-03-31T00:00:00.000000000",
          "2001-04-30T00:00:00.000000000",
          "2001-05-31T00:00:00.000000000",
          "2001-06-30T00:00:00.000000000",
          "2001-07-31T00:00:00.000000000",
          "2001-08-31T00:00:00.000000000",
          "2001-09-30T00:00:00.000000000",
          "2001-10-31T00:00:00.000000000",
          "2001-11-30T00:00:00.000000000",
          "2001-12-31T00:00:00.000000000",
          "2002-01-31T00:00:00.000000000",
          "2002-02-28T00:00:00.000000000",
          "2002-03-31T00:00:00.000000000",
          "2002-04-30T00:00:00.000000000",
          "2002-05-31T00:00:00.000000000",
          "2002-06-30T00:00:00.000000000",
          "2002-07-31T00:00:00.000000000",
          "2002-08-31T00:00:00.000000000",
          "2002-09-30T00:00:00.000000000",
          "2002-10-31T00:00:00.000000000",
          "2002-11-30T00:00:00.000000000",
          "2002-12-31T00:00:00.000000000",
          "2003-01-31T00:00:00.000000000",
          "2003-02-28T00:00:00.000000000",
          "2003-03-31T00:00:00.000000000",
          "2003-04-30T00:00:00.000000000",
          "2003-05-31T00:00:00.000000000",
          "2003-06-30T00:00:00.000000000",
          "2003-07-31T00:00:00.000000000",
          "2003-08-31T00:00:00.000000000",
          "2003-09-30T00:00:00.000000000",
          "2003-10-31T00:00:00.000000000",
          "2003-11-30T00:00:00.000000000",
          "2003-12-31T00:00:00.000000000",
          "2004-01-31T00:00:00.000000000",
          "2004-02-29T00:00:00.000000000",
          "2004-03-31T00:00:00.000000000",
          "2004-04-30T00:00:00.000000000",
          "2004-05-31T00:00:00.000000000",
          "2004-06-30T00:00:00.000000000",
          "2004-07-31T00:00:00.000000000",
          "2004-08-31T00:00:00.000000000",
          "2004-09-30T00:00:00.000000000",
          "2004-10-31T00:00:00.000000000",
          "2004-11-30T00:00:00.000000000",
          "2004-12-31T00:00:00.000000000",
          "2005-01-31T00:00:00.000000000",
          "2005-02-28T00:00:00.000000000",
          "2005-03-31T00:00:00.000000000",
          "2005-04-30T00:00:00.000000000",
          "2005-05-31T00:00:00.000000000",
          "2005-06-30T00:00:00.000000000",
          "2005-07-31T00:00:00.000000000",
          "2005-08-31T00:00:00.000000000",
          "2005-09-30T00:00:00.000000000",
          "2005-10-31T00:00:00.000000000",
          "2005-11-30T00:00:00.000000000",
          "2005-12-31T00:00:00.000000000",
          "2006-01-31T00:00:00.000000000",
          "2006-02-28T00:00:00.000000000",
          "2006-03-31T00:00:00.000000000",
          "2006-04-30T00:00:00.000000000",
          "2006-05-31T00:00:00.000000000",
          "2006-06-30T00:00:00.000000000",
          "2006-07-31T00:00:00.000000000",
          "2006-08-31T00:00:00.000000000",
          "2006-09-30T00:00:00.000000000",
          "2006-10-31T00:00:00.000000000",
          "2006-11-30T00:00:00.000000000",
          "2006-12-31T00:00:00.000000000",
          "2007-01-31T00:00:00.000000000",
          "2007-02-28T00:00:00.000000000",
          "2007-03-31T00:00:00.000000000",
          "2007-04-30T00:00:00.000000000",
          "2007-05-31T00:00:00.000000000",
          "2007-06-30T00:00:00.000000000",
          "2007-07-31T00:00:00.000000000",
          "2007-08-31T00:00:00.000000000",
          "2007-09-30T00:00:00.000000000",
          "2007-10-31T00:00:00.000000000",
          "2007-11-30T00:00:00.000000000",
          "2007-12-31T00:00:00.000000000",
          "2008-01-31T00:00:00.000000000",
          "2008-02-29T00:00:00.000000000",
          "2008-03-31T00:00:00.000000000",
          "2008-04-30T00:00:00.000000000",
          "2008-05-31T00:00:00.000000000",
          "2008-06-30T00:00:00.000000000",
          "2008-07-31T00:00:00.000000000",
          "2008-08-31T00:00:00.000000000",
          "2008-09-30T00:00:00.000000000",
          "2008-10-31T00:00:00.000000000",
          "2008-11-30T00:00:00.000000000",
          "2008-12-31T00:00:00.000000000",
          "2009-01-31T00:00:00.000000000",
          "2009-02-28T00:00:00.000000000",
          "2009-03-31T00:00:00.000000000",
          "2009-04-30T00:00:00.000000000",
          "2009-05-31T00:00:00.000000000",
          "2009-06-30T00:00:00.000000000",
          "2009-07-31T00:00:00.000000000",
          "2009-08-31T00:00:00.000000000",
          "2009-09-30T00:00:00.000000000",
          "2009-10-31T00:00:00.000000000",
          "2009-11-30T00:00:00.000000000",
          "2009-12-31T00:00:00.000000000",
          "2010-01-31T00:00:00.000000000",
          "2010-02-28T00:00:00.000000000",
          "2010-03-31T00:00:00.000000000",
          "2010-04-30T00:00:00.000000000",
          "2010-05-31T00:00:00.000000000",
          "2010-06-30T00:00:00.000000000",
          "2010-07-31T00:00:00.000000000",
          "2010-08-31T00:00:00.000000000",
          "2010-09-30T00:00:00.000000000",
          "2010-10-31T00:00:00.000000000",
          "2010-11-30T00:00:00.000000000",
          "2010-12-31T00:00:00.000000000",
          "2011-01-31T00:00:00.000000000",
          "2011-02-28T00:00:00.000000000",
          "2011-03-31T00:00:00.000000000",
          "2011-04-30T00:00:00.000000000",
          "2011-05-31T00:00:00.000000000",
          "2011-06-30T00:00:00.000000000",
          "2011-07-31T00:00:00.000000000",
          "2011-08-31T00:00:00.000000000",
          "2011-09-30T00:00:00.000000000",
          "2011-10-31T00:00:00.000000000",
          "2011-11-30T00:00:00.000000000",
          "2011-12-31T00:00:00.000000000",
          "2012-01-31T00:00:00.000000000",
          "2012-02-29T00:00:00.000000000",
          "2012-03-31T00:00:00.000000000",
          "2012-04-30T00:00:00.000000000",
          "2012-05-31T00:00:00.000000000",
          "2012-06-30T00:00:00.000000000",
          "2012-07-31T00:00:00.000000000",
          "2012-08-31T00:00:00.000000000",
          "2012-09-30T00:00:00.000000000",
          "2012-10-31T00:00:00.000000000",
          "2012-11-30T00:00:00.000000000",
          "2012-12-31T00:00:00.000000000",
          "2013-01-31T00:00:00.000000000",
          "2013-02-28T00:00:00.000000000",
          "2013-03-31T00:00:00.000000000",
          "2013-04-30T00:00:00.000000000",
          "2013-05-31T00:00:00.000000000",
          "2013-06-30T00:00:00.000000000",
          "2013-07-31T00:00:00.000000000",
          "2013-08-31T00:00:00.000000000",
          "2013-09-30T00:00:00.000000000",
          "2013-10-31T00:00:00.000000000",
          "2013-11-30T00:00:00.000000000",
          "2013-12-31T00:00:00.000000000",
          "2014-01-31T00:00:00.000000000",
          "2014-02-28T00:00:00.000000000",
          "2014-03-31T00:00:00.000000000",
          "2014-04-30T00:00:00.000000000",
          "2014-05-31T00:00:00.000000000",
          "2014-06-30T00:00:00.000000000",
          "2014-07-31T00:00:00.000000000",
          "2014-08-31T00:00:00.000000000",
          "2014-09-30T00:00:00.000000000",
          "2014-10-31T00:00:00.000000000",
          "2014-11-30T00:00:00.000000000",
          "2014-12-31T00:00:00.000000000",
          "2015-01-31T00:00:00.000000000",
          "2015-02-28T00:00:00.000000000",
          "2015-03-31T00:00:00.000000000",
          "2015-04-30T00:00:00.000000000",
          "2015-05-31T00:00:00.000000000",
          "2015-06-30T00:00:00.000000000",
          "2015-07-31T00:00:00.000000000",
          "2015-08-31T00:00:00.000000000",
          "2015-09-30T00:00:00.000000000",
          "2015-10-31T00:00:00.000000000",
          "2015-11-30T00:00:00.000000000",
          "2015-12-31T00:00:00.000000000",
          "2016-01-31T00:00:00.000000000",
          "2016-02-29T00:00:00.000000000",
          "2016-03-31T00:00:00.000000000",
          "2016-04-30T00:00:00.000000000",
          "2016-05-31T00:00:00.000000000",
          "2016-06-30T00:00:00.000000000",
          "2016-07-31T00:00:00.000000000",
          "2016-08-31T00:00:00.000000000",
          "2016-09-30T00:00:00.000000000",
          "2016-10-31T00:00:00.000000000",
          "2016-11-30T00:00:00.000000000",
          "2016-12-31T00:00:00.000000000",
          "2017-01-31T00:00:00.000000000",
          "2017-02-28T00:00:00.000000000",
          "2017-03-31T00:00:00.000000000",
          "2017-04-30T00:00:00.000000000",
          "2017-05-31T00:00:00.000000000",
          "2017-06-30T00:00:00.000000000",
          "2017-07-31T00:00:00.000000000",
          "2017-08-31T00:00:00.000000000",
          "2017-09-30T00:00:00.000000000",
          "2017-10-31T00:00:00.000000000",
          "2017-11-30T00:00:00.000000000",
          "2017-12-31T00:00:00.000000000",
          "2018-01-31T00:00:00.000000000",
          "2018-02-28T00:00:00.000000000",
          "2018-03-31T00:00:00.000000000",
          "2018-04-30T00:00:00.000000000",
          "2018-05-31T00:00:00.000000000",
          "2018-06-30T00:00:00.000000000",
          "2018-07-31T00:00:00.000000000",
          "2018-08-31T00:00:00.000000000",
          "2018-09-30T00:00:00.000000000",
          "2018-10-31T00:00:00.000000000",
          "2018-11-30T00:00:00.000000000",
          "2018-12-31T00:00:00.000000000",
          "2019-01-31T00:00:00.000000000",
          "2019-02-28T00:00:00.000000000",
          "2019-03-31T00:00:00.000000000",
          "2019-04-30T00:00:00.000000000",
          "2019-05-31T00:00:00.000000000",
          "2019-06-30T00:00:00.000000000",
          "2019-07-31T00:00:00.000000000",
          "2019-08-31T00:00:00.000000000",
          "2019-09-30T00:00:00.000000000",
          "2019-10-31T00:00:00.000000000",
          "2019-11-30T00:00:00.000000000",
          "2019-12-31T00:00:00.000000000",
          "2020-01-31T00:00:00.000000000",
          "2020-02-29T00:00:00.000000000",
          "2020-03-31T00:00:00.000000000",
          "2020-04-30T00:00:00.000000000",
          "2020-05-31T00:00:00.000000000",
          "2020-06-30T00:00:00.000000000",
          "2020-07-31T00:00:00.000000000",
          "2020-08-31T00:00:00.000000000",
          "2020-09-30T00:00:00.000000000",
          "2020-10-31T00:00:00.000000000",
          "2020-11-30T00:00:00.000000000",
          "2020-12-31T00:00:00.000000000",
          "2021-01-31T00:00:00.000000000",
          "2021-02-28T00:00:00.000000000",
          "2021-03-31T00:00:00.000000000",
          "2021-04-30T00:00:00.000000000",
          "2021-05-31T00:00:00.000000000",
          "2021-06-30T00:00:00.000000000",
          "2021-07-31T00:00:00.000000000",
          "2021-08-31T00:00:00.000000000",
          "2021-09-30T00:00:00.000000000",
          "2021-10-31T00:00:00.000000000",
          "2021-11-30T00:00:00.000000000",
          "2021-12-31T00:00:00.000000000",
          "2022-01-31T00:00:00.000000000",
          "2022-02-28T00:00:00.000000000",
          "2022-03-31T00:00:00.000000000",
          "2022-04-30T00:00:00.000000000",
          "2022-05-31T00:00:00.000000000",
          "2022-06-30T00:00:00.000000000",
          "2022-07-31T00:00:00.000000000",
          "2022-08-31T00:00:00.000000000",
          "2022-09-30T00:00:00.000000000",
          "2022-10-31T00:00:00.000000000",
          "2022-11-30T00:00:00.000000000",
          "2022-12-31T00:00:00.000000000",
          "2023-01-31T00:00:00.000000000",
          "2023-02-28T00:00:00.000000000",
          "2023-03-31T00:00:00.000000000",
          "2023-04-30T00:00:00.000000000",
          "2023-05-31T00:00:00.000000000",
          "2023-06-30T00:00:00.000000000",
          "2023-07-31T00:00:00.000000000",
          "2023-08-31T00:00:00.000000000",
          "2023-09-30T00:00:00.000000000",
          "2023-10-31T00:00:00.000000000",
          "2023-11-30T00:00:00.000000000",
          "2023-12-31T00:00:00.000000000",
          "2024-01-31T00:00:00.000000000",
          "2024-02-29T00:00:00.000000000",
          "2024-03-31T00:00:00.000000000",
          "2024-04-30T00:00:00.000000000",
          "2024-05-31T00:00:00.000000000",
          "2024-06-30T00:00:00.000000000",
          "2024-07-31T00:00:00.000000000",
          "2024-08-31T00:00:00.000000000",
          "2024-09-30T00:00:00.000000000",
          "2024-10-31T00:00:00.000000000",
          "2024-11-30T00:00:00.000000000",
          "2024-12-31T00:00:00.000000000",
          "2025-01-31T00:00:00.000000000",
          "2025-02-28T00:00:00.000000000",
          "2025-03-31T00:00:00.000000000",
          "2025-04-30T00:00:00.000000000",
          "2025-05-31T00:00:00.000000000",
          "2025-06-30T00:00:00.000000000",
          "2025-07-31T00:00:00.000000000",
          "2025-08-31T00:00:00.000000000",
          "2025-09-30T00:00:00.000000000",
          "2025-10-31T00:00:00.000000000",
          "2025-11-30T00:00:00.000000000",
          "2025-12-31T00:00:00.000000000",
          "2026-01-31T00:00:00.000000000",
          "2026-02-28T00:00:00.000000000"
         ],
         "y": {
          "bdata": "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",
          "dtype": "f8"
         }
        },
        {
         "fill": "tonexty",
         "fillcolor": "rgba(0, 114, 178, 0.2)",
         "hoverinfo": "skip",
         "line": {
          "width": 0
         },
         "mode": "lines",
         "type": "scatter",
         "x": [
          "2000-01-31T00:00:00.000000000",
          "2000-02-29T00:00:00.000000000",
          "2000-03-31T00:00:00.000000000",
          "2000-04-30T00:00:00.000000000",
          "2000-05-31T00:00:00.000000000",
          "2000-06-30T00:00:00.000000000",
          "2000-07-31T00:00:00.000000000",
          "2000-08-31T00:00:00.000000000",
          "2000-09-30T00:00:00.000000000",
          "2000-10-31T00:00:00.000000000",
          "2000-11-30T00:00:00.000000000",
          "2000-12-31T00:00:00.000000000",
          "2001-01-31T00:00:00.000000000",
          "2001-02-28T00:00:00.000000000",
          "2001-03-31T00:00:00.000000000",
          "2001-04-30T00:00:00.000000000",
          "2001-05-31T00:00:00.000000000",
          "2001-06-30T00:00:00.000000000",
          "2001-07-31T00:00:00.000000000",
          "2001-08-31T00:00:00.000000000",
          "2001-09-30T00:00:00.000000000",
          "2001-10-31T00:00:00.000000000",
          "2001-11-30T00:00:00.000000000",
          "2001-12-31T00:00:00.000000000",
          "2002-01-31T00:00:00.000000000",
          "2002-02-28T00:00:00.000000000",
          "2002-03-31T00:00:00.000000000",
          "2002-04-30T00:00:00.000000000",
          "2002-05-31T00:00:00.000000000",
          "2002-06-30T00:00:00.000000000",
          "2002-07-31T00:00:00.000000000",
          "2002-08-31T00:00:00.000000000",
          "2002-09-30T00:00:00.000000000",
          "2002-10-31T00:00:00.000000000",
          "2002-11-30T00:00:00.000000000",
          "2002-12-31T00:00:00.000000000",
          "2003-01-31T00:00:00.000000000",
          "2003-02-28T00:00:00.000000000",
          "2003-03-31T00:00:00.000000000",
          "2003-04-30T00:00:00.000000000",
          "2003-05-31T00:00:00.000000000",
          "2003-06-30T00:00:00.000000000",
          "2003-07-31T00:00:00.000000000",
          "2003-08-31T00:00:00.000000000",
          "2003-09-30T00:00:00.000000000",
          "2003-10-31T00:00:00.000000000",
          "2003-11-30T00:00:00.000000000",
          "2003-12-31T00:00:00.000000000",
          "2004-01-31T00:00:00.000000000",
          "2004-02-29T00:00:00.000000000",
          "2004-03-31T00:00:00.000000000",
          "2004-04-30T00:00:00.000000000",
          "2004-05-31T00:00:00.000000000",
          "2004-06-30T00:00:00.000000000",
          "2004-07-31T00:00:00.000000000",
          "2004-08-31T00:00:00.000000000",
          "2004-09-30T00:00:00.000000000",
          "2004-10-31T00:00:00.000000000",
          "2004-11-30T00:00:00.000000000",
          "2004-12-31T00:00:00.000000000",
          "2005-01-31T00:00:00.000000000",
          "2005-02-28T00:00:00.000000000",
          "2005-03-31T00:00:00.000000000",
          "2005-04-30T00:00:00.000000000",
          "2005-05-31T00:00:00.000000000",
          "2005-06-30T00:00:00.000000000",
          "2005-07-31T00:00:00.000000000",
          "2005-08-31T00:00:00.000000000",
          "2005-09-30T00:00:00.000000000",
          "2005-10-31T00:00:00.000000000",
          "2005-11-30T00:00:00.000000000",
          "2005-12-31T00:00:00.000000000",
          "2006-01-31T00:00:00.000000000",
          "2006-02-28T00:00:00.000000000",
          "2006-03-31T00:00:00.000000000",
          "2006-04-30T00:00:00.000000000",
          "2006-05-31T00:00:00.000000000",
          "2006-06-30T00:00:00.000000000",
          "2006-07-31T00:00:00.000000000",
          "2006-08-31T00:00:00.000000000",
          "2006-09-30T00:00:00.000000000",
          "2006-10-31T00:00:00.000000000",
          "2006-11-30T00:00:00.000000000",
          "2006-12-31T00:00:00.000000000",
          "2007-01-31T00:00:00.000000000",
          "2007-02-28T00:00:00.000000000",
          "2007-03-31T00:00:00.000000000",
          "2007-04-30T00:00:00.000000000",
          "2007-05-31T00:00:00.000000000",
          "2007-06-30T00:00:00.000000000",
          "2007-07-31T00:00:00.000000000",
          "2007-08-31T00:00:00.000000000",
          "2007-09-30T00:00:00.000000000",
          "2007-10-31T00:00:00.000000000",
          "2007-11-30T00:00:00.000000000",
          "2007-12-31T00:00:00.000000000",
          "2008-01-31T00:00:00.000000000",
          "2008-02-29T00:00:00.000000000",
          "2008-03-31T00:00:00.000000000",
          "2008-04-30T00:00:00.000000000",
          "2008-05-31T00:00:00.000000000",
          "2008-06-30T00:00:00.000000000",
          "2008-07-31T00:00:00.000000000",
          "2008-08-31T00:00:00.000000000",
          "2008-09-30T00:00:00.000000000",
          "2008-10-31T00:00:00.000000000",
          "2008-11-30T00:00:00.000000000",
          "2008-12-31T00:00:00.000000000",
          "2009-01-31T00:00:00.000000000",
          "2009-02-28T00:00:00.000000000",
          "2009-03-31T00:00:00.000000000",
          "2009-04-30T00:00:00.000000000",
          "2009-05-31T00:00:00.000000000",
          "2009-06-30T00:00:00.000000000",
          "2009-07-31T00:00:00.000000000",
          "2009-08-31T00:00:00.000000000",
          "2009-09-30T00:00:00.000000000",
          "2009-10-31T00:00:00.000000000",
          "2009-11-30T00:00:00.000000000",
          "2009-12-31T00:00:00.000000000",
          "2010-01-31T00:00:00.000000000",
          "2010-02-28T00:00:00.000000000",
          "2010-03-31T00:00:00.000000000",
          "2010-04-30T00:00:00.000000000",
          "2010-05-31T00:00:00.000000000",
          "2010-06-30T00:00:00.000000000",
          "2010-07-31T00:00:00.000000000",
          "2010-08-31T00:00:00.000000000",
          "2010-09-30T00:00:00.000000000",
          "2010-10-31T00:00:00.000000000",
          "2010-11-30T00:00:00.000000000",
          "2010-12-31T00:00:00.000000000",
          "2011-01-31T00:00:00.000000000",
          "2011-02-28T00:00:00.000000000",
          "2011-03-31T00:00:00.000000000",
          "2011-04-30T00:00:00.000000000",
          "2011-05-31T00:00:00.000000000",
          "2011-06-30T00:00:00.000000000",
          "2011-07-31T00:00:00.000000000",
          "2011-08-31T00:00:00.000000000",
          "2011-09-30T00:00:00.000000000",
          "2011-10-31T00:00:00.000000000",
          "2011-11-30T00:00:00.000000000",
          "2011-12-31T00:00:00.000000000",
          "2012-01-31T00:00:00.000000000",
          "2012-02-29T00:00:00.000000000",
          "2012-03-31T00:00:00.000000000",
          "2012-04-30T00:00:00.000000000",
          "2012-05-31T00:00:00.000000000",
          "2012-06-30T00:00:00.000000000",
          "2012-07-31T00:00:00.000000000",
          "2012-08-31T00:00:00.000000000",
          "2012-09-30T00:00:00.000000000",
          "2012-10-31T00:00:00.000000000",
          "2012-11-30T00:00:00.000000000",
          "2012-12-31T00:00:00.000000000",
          "2013-01-31T00:00:00.000000000",
          "2013-02-28T00:00:00.000000000",
          "2013-03-31T00:00:00.000000000",
          "2013-04-30T00:00:00.000000000",
          "2013-05-31T00:00:00.000000000",
          "2013-06-30T00:00:00.000000000",
          "2013-07-31T00:00:00.000000000",
          "2013-08-31T00:00:00.000000000",
          "2013-09-30T00:00:00.000000000",
          "2013-10-31T00:00:00.000000000",
          "2013-11-30T00:00:00.000000000",
          "2013-12-31T00:00:00.000000000",
          "2014-01-31T00:00:00.000000000",
          "2014-02-28T00:00:00.000000000",
          "2014-03-31T00:00:00.000000000",
          "2014-04-30T00:00:00.000000000",
          "2014-05-31T00:00:00.000000000",
          "2014-06-30T00:00:00.000000000",
          "2014-07-31T00:00:00.000000000",
          "2014-08-31T00:00:00.000000000",
          "2014-09-30T00:00:00.000000000",
          "2014-10-31T00:00:00.000000000",
          "2014-11-30T00:00:00.000000000",
          "2014-12-31T00:00:00.000000000",
          "2015-01-31T00:00:00.000000000",
          "2015-02-28T00:00:00.000000000",
          "2015-03-31T00:00:00.000000000",
          "2015-04-30T00:00:00.000000000",
          "2015-05-31T00:00:00.000000000",
          "2015-06-30T00:00:00.000000000",
          "2015-07-31T00:00:00.000000000",
          "2015-08-31T00:00:00.000000000",
          "2015-09-30T00:00:00.000000000",
          "2015-10-31T00:00:00.000000000",
          "2015-11-30T00:00:00.000000000",
          "2015-12-31T00:00:00.000000000",
          "2016-01-31T00:00:00.000000000",
          "2016-02-29T00:00:00.000000000",
          "2016-03-31T00:00:00.000000000",
          "2016-04-30T00:00:00.000000000",
          "2016-05-31T00:00:00.000000000",
          "2016-06-30T00:00:00.000000000",
          "2016-07-31T00:00:00.000000000",
          "2016-08-31T00:00:00.000000000",
          "2016-09-30T00:00:00.000000000",
          "2016-10-31T00:00:00.000000000",
          "2016-11-30T00:00:00.000000000",
          "2016-12-31T00:00:00.000000000",
          "2017-01-31T00:00:00.000000000",
          "2017-02-28T00:00:00.000000000",
          "2017-03-31T00:00:00.000000000",
          "2017-04-30T00:00:00.000000000",
          "2017-05-31T00:00:00.000000000",
          "2017-06-30T00:00:00.000000000",
          "2017-07-31T00:00:00.000000000",
          "2017-08-31T00:00:00.000000000",
          "2017-09-30T00:00:00.000000000",
          "2017-10-31T00:00:00.000000000",
          "2017-11-30T00:00:00.000000000",
          "2017-12-31T00:00:00.000000000",
          "2018-01-31T00:00:00.000000000",
          "2018-02-28T00:00:00.000000000",
          "2018-03-31T00:00:00.000000000",
          "2018-04-30T00:00:00.000000000",
          "2018-05-31T00:00:00.000000000",
          "2018-06-30T00:00:00.000000000",
          "2018-07-31T00:00:00.000000000",
          "2018-08-31T00:00:00.000000000",
          "2018-09-30T00:00:00.000000000",
          "2018-10-31T00:00:00.000000000",
          "2018-11-30T00:00:00.000000000",
          "2018-12-31T00:00:00.000000000",
          "2019-01-31T00:00:00.000000000",
          "2019-02-28T00:00:00.000000000",
          "2019-03-31T00:00:00.000000000",
          "2019-04-30T00:00:00.000000000",
          "2019-05-31T00:00:00.000000000",
          "2019-06-30T00:00:00.000000000",
          "2019-07-31T00:00:00.000000000",
          "2019-08-31T00:00:00.000000000",
          "2019-09-30T00:00:00.000000000",
          "2019-10-31T00:00:00.000000000",
          "2019-11-30T00:00:00.000000000",
          "2019-12-31T00:00:00.000000000",
          "2020-01-31T00:00:00.000000000",
          "2020-02-29T00:00:00.000000000",
          "2020-03-31T00:00:00.000000000",
          "2020-04-30T00:00:00.000000000",
          "2020-05-31T00:00:00.000000000",
          "2020-06-30T00:00:00.000000000",
          "2020-07-31T00:00:00.000000000",
          "2020-08-31T00:00:00.000000000",
          "2020-09-30T00:00:00.000000000",
          "2020-10-31T00:00:00.000000000",
          "2020-11-30T00:00:00.000000000",
          "2020-12-31T00:00:00.000000000",
          "2021-01-31T00:00:00.000000000",
          "2021-02-28T00:00:00.000000000",
          "2021-03-31T00:00:00.000000000",
          "2021-04-30T00:00:00.000000000",
          "2021-05-31T00:00:00.000000000",
          "2021-06-30T00:00:00.000000000",
          "2021-07-31T00:00:00.000000000",
          "2021-08-31T00:00:00.000000000",
          "2021-09-30T00:00:00.000000000",
          "2021-10-31T00:00:00.000000000",
          "2021-11-30T00:00:00.000000000",
          "2021-12-31T00:00:00.000000000",
          "2022-01-31T00:00:00.000000000",
          "2022-02-28T00:00:00.000000000",
          "2022-03-31T00:00:00.000000000",
          "2022-04-30T00:00:00.000000000",
          "2022-05-31T00:00:00.000000000",
          "2022-06-30T00:00:00.000000000",
          "2022-07-31T00:00:00.000000000",
          "2022-08-31T00:00:00.000000000",
          "2022-09-30T00:00:00.000000000",
          "2022-10-31T00:00:00.000000000",
          "2022-11-30T00:00:00.000000000",
          "2022-12-31T00:00:00.000000000",
          "2023-01-31T00:00:00.000000000",
          "2023-02-28T00:00:00.000000000",
          "2023-03-31T00:00:00.000000000",
          "2023-04-30T00:00:00.000000000",
          "2023-05-31T00:00:00.000000000",
          "2023-06-30T00:00:00.000000000",
          "2023-07-31T00:00:00.000000000",
          "2023-08-31T00:00:00.000000000",
          "2023-09-30T00:00:00.000000000",
          "2023-10-31T00:00:00.000000000",
          "2023-11-30T00:00:00.000000000",
          "2023-12-31T00:00:00.000000000",
          "2024-01-31T00:00:00.000000000",
          "2024-02-29T00:00:00.000000000",
          "2024-03-31T00:00:00.000000000",
          "2024-04-30T00:00:00.000000000",
          "2024-05-31T00:00:00.000000000",
          "2024-06-30T00:00:00.000000000",
          "2024-07-31T00:00:00.000000000",
          "2024-08-31T00:00:00.000000000",
          "2024-09-30T00:00:00.000000000",
          "2024-10-31T00:00:00.000000000",
          "2024-11-30T00:00:00.000000000",
          "2024-12-31T00:00:00.000000000",
          "2025-01-31T00:00:00.000000000",
          "2025-02-28T00:00:00.000000000",
          "2025-03-31T00:00:00.000000000",
          "2025-04-30T00:00:00.000000000",
          "2025-05-31T00:00:00.000000000",
          "2025-06-30T00:00:00.000000000",
          "2025-07-31T00:00:00.000000000",
          "2025-08-31T00:00:00.000000000",
          "2025-09-30T00:00:00.000000000",
          "2025-10-31T00:00:00.000000000",
          "2025-11-30T00:00:00.000000000",
          "2025-12-31T00:00:00.000000000",
          "2026-01-31T00:00:00.000000000",
          "2026-02-28T00:00:00.000000000"
         ],
         "y": {
          "bdata": "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",
          "dtype": "f8"
         }
        }
       ],
       "layout": {
        "height": 600,
        "showlegend": false,
        "template": {
         "data": {
          "bar": [
           {
            "error_x": {
             "color": "#2a3f5f"
            },
            "error_y": {
             "color": "#2a3f5f"
            },
            "marker": {
             "line": {
              "color": "#E5ECF6",
              "width": 0.5
             },
             "pattern": {
              "fillmode": "overlay",
              "size": 10,
              "solidity": 0.2
             }
            },
            "type": "bar"
           }
          ],
          "barpolar": [
           {
            "marker": {
             "line": {
              "color": "#E5ECF6",
              "width": 0.5
             },
             "pattern": {
              "fillmode": "overlay",
              "size": 10,
              "solidity": 0.2
             }
            },
            "type": "barpolar"
           }
          ],
          "carpet": [
           {
            "aaxis": {
             "endlinecolor": "#2a3f5f",
             "gridcolor": "white",
             "linecolor": "white",
             "minorgridcolor": "white",
             "startlinecolor": "#2a3f5f"
            },
            "baxis": {
             "endlinecolor": "#2a3f5f",
             "gridcolor": "white",
             "linecolor": "white",
             "minorgridcolor": "white",
             "startlinecolor": "#2a3f5f"
            },
            "type": "carpet"
           }
          ],
          "choropleth": [
           {
            "colorbar": {
             "outlinewidth": 0,
             "ticks": ""
            },
            "type": "choropleth"
           }
          ],
          "contour": [
           {
            "colorbar": {
             "outlinewidth": 0,
             "ticks": ""
            },
            "colorscale": [
             [
              0,
              "#0d0887"
             ],
             [
              0.1111111111111111,
              "#46039f"
             ],
             [
              0.2222222222222222,
              "#7201a8"
             ],
             [
              0.3333333333333333,
              "#9c179e"
             ],
             [
              0.4444444444444444,
              "#bd3786"
             ],
             [
              0.5555555555555556,
              "#d8576b"
             ],
             [
              0.6666666666666666,
              "#ed7953"
             ],
             [
              0.7777777777777778,
              "#fb9f3a"
             ],
             [
              0.8888888888888888,
              "#fdca26"
             ],
             [
              1,
              "#f0f921"
             ]
            ],
            "type": "contour"
           }
          ],
          "contourcarpet": [
           {
            "colorbar": {
             "outlinewidth": 0,
             "ticks": ""
            },
            "type": "contourcarpet"
           }
          ],
          "heatmap": [
           {
            "colorbar": {
             "outlinewidth": 0,
             "ticks": ""
            },
            "colorscale": [
             [
              0,
              "#0d0887"
             ],
             [
              0.1111111111111111,
              "#46039f"
             ],
             [
              0.2222222222222222,
              "#7201a8"
             ],
             [
              0.3333333333333333,
              "#9c179e"
             ],
             [
              0.4444444444444444,
              "#bd3786"
             ],
             [
              0.5555555555555556,
              "#d8576b"
             ],
             [
              0.6666666666666666,
              "#ed7953"
             ],
             [
              0.7777777777777778,
              "#fb9f3a"
             ],
             [
              0.8888888888888888,
              "#fdca26"
             ],
             [
              1,
              "#f0f921"
             ]
            ],
            "type": "heatmap"
           }
          ],
          "histogram": [
           {
            "marker": {
             "pattern": {
              "fillmode": "overlay",
              "size": 10,
              "solidity": 0.2
             }
            },
            "type": "histogram"
           }
          ],
          "histogram2d": [
           {
            "colorbar": {
             "outlinewidth": 0,
             "ticks": ""
            },
            "colorscale": [
             [
              0,
              "#0d0887"
             ],
             [
              0.1111111111111111,
              "#46039f"
             ],
             [
              0.2222222222222222,
              "#7201a8"
             ],
             [
              0.3333333333333333,
              "#9c179e"
             ],
             [
              0.4444444444444444,
              "#bd3786"
             ],
             [
              0.5555555555555556,
              "#d8576b"
             ],
             [
              0.6666666666666666,
              "#ed7953"
             ],
             [
              0.7777777777777778,
              "#fb9f3a"
             ],
             [
              0.8888888888888888,
              "#fdca26"
             ],
             [
              1,
              "#f0f921"
             ]
            ],
            "type": "histogram2d"
           }
          ],
          "histogram2dcontour": [
           {
            "colorbar": {
             "outlinewidth": 0,
             "ticks": ""
            },
            "colorscale": [
             [
              0,
              "#0d0887"
             ],
             [
              0.1111111111111111,
              "#46039f"
             ],
             [
              0.2222222222222222,
              "#7201a8"
             ],
             [
              0.3333333333333333,
              "#9c179e"
             ],
             [
              0.4444444444444444,
              "#bd3786"
             ],
             [
              0.5555555555555556,
              "#d8576b"
             ],
             [
              0.6666666666666666,
              "#ed7953"
             ],
             [
              0.7777777777777778,
              "#fb9f3a"
             ],
             [
              0.8888888888888888,
              "#fdca26"
             ],
             [
              1,
              "#f0f921"
             ]
            ],
            "type": "histogram2dcontour"
           }
          ],
          "mesh3d": [
           {
            "colorbar": {
             "outlinewidth": 0,
             "ticks": ""
            },
            "type": "mesh3d"
           }
          ],
          "parcoords": [
           {
            "line": {
             "colorbar": {
              "outlinewidth": 0,
              "ticks": ""
             }
            },
            "type": "parcoords"
           }
          ],
          "pie": [
           {
            "automargin": true,
            "type": "pie"
           }
          ],
          "scatter": [
           {
            "fillpattern": {
             "fillmode": "overlay",
             "size": 10,
             "solidity": 0.2
            },
            "type": "scatter"
           }
          ],
          "scatter3d": [
           {
            "line": {
             "colorbar": {
              "outlinewidth": 0,
              "ticks": ""
             }
            },
            "marker": {
             "colorbar": {
              "outlinewidth": 0,
              "ticks": ""
             }
            },
            "type": "scatter3d"
           }
          ],
          "scattercarpet": [
           {
            "marker": {
             "colorbar": {
              "outlinewidth": 0,
              "ticks": ""
             }
            },
            "type": "scattercarpet"
           }
          ],
          "scattergeo": [
           {
            "marker": {
             "colorbar": {
              "outlinewidth": 0,
              "ticks": ""
             }
            },
            "type": "scattergeo"
           }
          ],
          "scattergl": [
           {
            "marker": {
             "colorbar": {
              "outlinewidth": 0,
              "ticks": ""
             }
            },
            "type": "scattergl"
           }
          ],
          "scattermap": [
           {
            "marker": {
             "colorbar": {
              "outlinewidth": 0,
              "ticks": ""
             }
            },
            "type": "scattermap"
           }
          ],
          "scattermapbox": [
           {
            "marker": {
             "colorbar": {
              "outlinewidth": 0,
              "ticks": ""
             }
            },
            "type": "scattermapbox"
           }
          ],
          "scatterpolar": [
           {
            "marker": {
             "colorbar": {
              "outlinewidth": 0,
              "ticks": ""
             }
            },
            "type": "scatterpolar"
           }
          ],
          "scatterpolargl": [
           {
            "marker": {
             "colorbar": {
              "outlinewidth": 0,
              "ticks": ""
             }
            },
            "type": "scatterpolargl"
           }
          ],
          "scatterternary": [
           {
            "marker": {
             "colorbar": {
              "outlinewidth": 0,
              "ticks": ""
             }
            },
            "type": "scatterternary"
           }
          ],
          "surface": [
           {
            "colorbar": {
             "outlinewidth": 0,
             "ticks": ""
            },
            "colorscale": [
             [
              0,
              "#0d0887"
             ],
             [
              0.1111111111111111,
              "#46039f"
             ],
             [
              0.2222222222222222,
              "#7201a8"
             ],
             [
              0.3333333333333333,
              "#9c179e"
             ],
             [
              0.4444444444444444,
              "#bd3786"
             ],
             [
              0.5555555555555556,
              "#d8576b"
             ],
             [
              0.6666666666666666,
              "#ed7953"
             ],
             [
              0.7777777777777778,
              "#fb9f3a"
             ],
             [
              0.8888888888888888,
              "#fdca26"
             ],
             [
              1,
              "#f0f921"
             ]
            ],
            "type": "surface"
           }
          ],
          "table": [
           {
            "cells": {
             "fill": {
              "color": "#EBF0F8"
             },
             "line": {
              "color": "white"
             }
            },
            "header": {
             "fill": {
              "color": "#C8D4E3"
             },
             "line": {
              "color": "white"
             }
            },
            "type": "table"
           }
          ]
         },
         "layout": {
          "annotationdefaults": {
           "arrowcolor": "#2a3f5f",
           "arrowhead": 0,
           "arrowwidth": 1
          },
          "autotypenumbers": "strict",
          "coloraxis": {
           "colorbar": {
            "outlinewidth": 0,
            "ticks": ""
           }
          },
          "colorscale": {
           "diverging": [
            [
             0,
             "#8e0152"
            ],
            [
             0.1,
             "#c51b7d"
            ],
            [
             0.2,
             "#de77ae"
            ],
            [
             0.3,
             "#f1b6da"
            ],
            [
             0.4,
             "#fde0ef"
            ],
            [
             0.5,
             "#f7f7f7"
            ],
            [
             0.6,
             "#e6f5d0"
            ],
            [
             0.7,
             "#b8e186"
            ],
            [
             0.8,
             "#7fbc41"
            ],
            [
             0.9,
             "#4d9221"
            ],
            [
             1,
             "#276419"
            ]
           ],
           "sequential": [
            [
             0,
             "#0d0887"
            ],
            [
             0.1111111111111111,
             "#46039f"
            ],
            [
             0.2222222222222222,
             "#7201a8"
            ],
            [
             0.3333333333333333,
             "#9c179e"
            ],
            [
             0.4444444444444444,
             "#bd3786"
            ],
            [
             0.5555555555555556,
             "#d8576b"
            ],
            [
             0.6666666666666666,
             "#ed7953"
            ],
            [
             0.7777777777777778,
             "#fb9f3a"
            ],
            [
             0.8888888888888888,
             "#fdca26"
            ],
            [
             1,
             "#f0f921"
            ]
           ],
           "sequentialminus": [
            [
             0,
             "#0d0887"
            ],
            [
             0.1111111111111111,
             "#46039f"
            ],
            [
             0.2222222222222222,
             "#7201a8"
            ],
            [
             0.3333333333333333,
             "#9c179e"
            ],
            [
             0.4444444444444444,
             "#bd3786"
            ],
            [
             0.5555555555555556,
             "#d8576b"
            ],
            [
             0.6666666666666666,
             "#ed7953"
            ],
            [
             0.7777777777777778,
             "#fb9f3a"
            ],
            [
             0.8888888888888888,
             "#fdca26"
            ],
            [
             1,
             "#f0f921"
            ]
           ]
          },
          "colorway": [
           "#636efa",
           "#EF553B",
           "#00cc96",
           "#ab63fa",
           "#FFA15A",
           "#19d3f3",
           "#FF6692",
           "#B6E880",
           "#FF97FF",
           "#FECB52"
          ],
          "font": {
           "color": "#2a3f5f"
          },
          "geo": {
           "bgcolor": "white",
           "lakecolor": "white",
           "landcolor": "#E5ECF6",
           "showlakes": true,
           "showland": true,
           "subunitcolor": "white"
          },
          "hoverlabel": {
           "align": "left"
          },
          "hovermode": "closest",
          "mapbox": {
           "style": "light"
          },
          "paper_bgcolor": "white",
          "plot_bgcolor": "#E5ECF6",
          "polar": {
           "angularaxis": {
            "gridcolor": "white",
            "linecolor": "white",
            "ticks": ""
           },
           "bgcolor": "#E5ECF6",
           "radialaxis": {
            "gridcolor": "white",
            "linecolor": "white",
            "ticks": ""
           }
          },
          "scene": {
           "xaxis": {
            "backgroundcolor": "#E5ECF6",
            "gridcolor": "white",
            "gridwidth": 2,
            "linecolor": "white",
            "showbackground": true,
            "ticks": "",
            "zerolinecolor": "white"
           },
           "yaxis": {
            "backgroundcolor": "#E5ECF6",
            "gridcolor": "white",
            "gridwidth": 2,
            "linecolor": "white",
            "showbackground": true,
            "ticks": "",
            "zerolinecolor": "white"
           },
           "zaxis": {
            "backgroundcolor": "#E5ECF6",
            "gridcolor": "white",
            "gridwidth": 2,
            "linecolor": "white",
            "showbackground": true,
            "ticks": "",
            "zerolinecolor": "white"
           }
          },
          "shapedefaults": {
           "line": {
            "color": "#2a3f5f"
           }
          },
          "ternary": {
           "aaxis": {
            "gridcolor": "white",
            "linecolor": "white",
            "ticks": ""
           },
           "baxis": {
            "gridcolor": "white",
            "linecolor": "white",
            "ticks": ""
           },
           "bgcolor": "#E5ECF6",
           "caxis": {
            "gridcolor": "white",
            "linecolor": "white",
            "ticks": ""
           }
          },
          "title": {
           "x": 0.05
          },
          "xaxis": {
           "automargin": true,
           "gridcolor": "white",
           "linecolor": "white",
           "ticks": "",
           "title": {
            "standoff": 15
           },
           "zerolinecolor": "white",
           "zerolinewidth": 2
          },
          "yaxis": {
           "automargin": true,
           "gridcolor": "white",
           "linecolor": "white",
           "ticks": "",
           "title": {
            "standoff": 15
           },
           "zerolinecolor": "white",
           "zerolinewidth": 2
          }
         }
        },
        "width": 900,
        "xaxis": {
         "rangeselector": {
          "buttons": [
           {
            "count": 7,
            "label": "1w",
            "step": "day",
            "stepmode": "backward"
           },
           {
            "count": 1,
            "label": "1m",
            "step": "month",
            "stepmode": "backward"
           },
           {
            "count": 6,
            "label": "6m",
            "step": "month",
            "stepmode": "backward"
           },
           {
            "count": 1,
            "label": "1y",
            "step": "year",
            "stepmode": "backward"
           },
           {
            "step": "all"
           }
          ]
         },
         "rangeslider": {
          "visible": true
         },
         "title": {
          "text": "ds"
         },
         "type": "date"
        },
        "yaxis": {
         "title": {
          "text": "y"
         }
        }
       }
      }
     },
     "metadata": {},
     "output_type": "display_data"
    }
   ],
   "source": [
    "from prophet.plot import plot_plotly\n",
    "plot_plotly(model, forecast)"
   ]
  }
 ],
 "metadata": {
  "kernelspec": {
   "display_name": "real-estate",
   "language": "python",
   "name": "python3"
  },
  "language_info": {
   "codemirror_mode": {
    "name": "ipython",
    "version": 3
   },
   "file_extension": ".py",
   "mimetype": "text/x-python",
   "name": "python",
   "nbconvert_exporter": "python",
   "pygments_lexer": "ipython3",
   "version": "3.12.0"
  }
 },
 "nbformat": 4,
 "nbformat_minor": 2
}
